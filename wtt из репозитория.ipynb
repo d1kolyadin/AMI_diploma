{
 "cells": [
  {
   "cell_type": "code",
   "execution_count": 1,
   "id": "93a0a120",
   "metadata": {},
   "outputs": [],
   "source": [
    "import numpy as np"
   ]
  },
  {
   "cell_type": "markdown",
   "id": "e68e4aa0",
   "metadata": {},
   "source": [
    "Здесь я сравниваю свои имплементации алгоритмов вычисления и применения WTT с соответствующими алгоритмами из репозитория.\n",
    "\n",
    "Мой код:"
   ]
  },
  {
   "cell_type": "code",
   "execution_count": 2,
   "id": "f5e6717d",
   "metadata": {},
   "outputs": [],
   "source": [
    "def wtt_filter(input_vector, d, modes, ranks=None, eps=None, check_correctness=False):\n",
    "    assert ranks is not None or eps is not None\n",
    "    \n",
    "    filters = []\n",
    "    prod_modes = input_vector.size\n",
    "    \n",
    "    if check_correctness:\n",
    "        assert len(modes) == d\n",
    "        if ranks is not None:\n",
    "            assert len(ranks) == d - 1\n",
    "        if eps is not None:\n",
    "            assert eps > 0\n",
    "        assert prod_modes == np.prod(modes)\n",
    "        \n",
    "    true_ranks = []\n",
    "    \n",
    "    r_prev = 1\n",
    "    A = input_vector\n",
    "    for k in range(d):\n",
    "        A = A.reshape((r_prev * modes[k], prod_modes // modes[k]), order='F')\n",
    "        if A.shape[0] <= A.shape[1]:\n",
    "            u, sigmas, vt = np.linalg.svd(A, full_matrices=False)\n",
    "        else:\n",
    "            u, sigmas, vt = np.linalg.svd(A, full_matrices=True)\n",
    "            \n",
    "        r_given = None if ranks is None else (1 if k == d - 1 else ranks[k])\n",
    "        r_eps = None if eps is None else max(1, (sigmas >= eps).sum())\n",
    "        if r_given is not None and r_eps is not None:\n",
    "            r_cur = min(r_given, r_eps)\n",
    "        elif r_given is not None:\n",
    "            r_cur = r_given\n",
    "        else:\n",
    "            r_cur = r_eps\n",
    "        \n",
    "        filters.append(u)\n",
    "\n",
    "        if check_correctness:\n",
    "            assert u.shape[0] == u.shape[1] == r_prev * modes[k]\n",
    "            if k < d - 1:\n",
    "                assert r_cur <= r_prev * modes[k]\n",
    "\n",
    "        if k < d - 1:\n",
    "            A = (u.T @ A)[:r_cur,:]\n",
    "            prod_modes //= modes[k]\n",
    "            true_ranks.append(r_cur)\n",
    "            r_prev = r_cur\n",
    "    \n",
    "    return filters, true_ranks"
   ]
  },
  {
   "cell_type": "markdown",
   "id": "e8667c51",
   "metadata": {},
   "source": [
    "```input_vector``` --- нампаевский одномерный массив.\n",
    "\n",
    "```d``` --- целое число.\n",
    "\n",
    "```modes``` --- iterable из $d$ целых чисел.\n",
    "\n",
    "```ranks``` --- iterable из $d - 1$ целого числа (необязательно; если есть, используется округление по рангу).\n",
    "\n",
    "```eps``` --- вещественное число (необязательно; если есть, используется $\\varepsilon$-округление по сингулярным числам)."
   ]
  },
  {
   "cell_type": "code",
   "execution_count": 3,
   "id": "c19b1513",
   "metadata": {},
   "outputs": [],
   "source": [
    "def wtt_apply(input_vector, d, filters, modes, ranks, check_correctness=False):\n",
    "    prod_modes = input_vector.size\n",
    "    \n",
    "    if check_correctness:\n",
    "        assert len(filters) == d\n",
    "        assert len(modes) == d\n",
    "        assert len(ranks) == d - 1\n",
    "        assert prod_modes == np.prod(modes)\n",
    "        \n",
    "    tails = []\n",
    "    A = input_vector\n",
    "    r_prev = 1\n",
    "    for k in range(d):\n",
    "        A = A.reshape((r_prev * modes[k], prod_modes // modes[k]), order='F')\n",
    "        A = filters[k].T @ A\n",
    "\n",
    "        if check_correctness:\n",
    "            assert A.shape[0] == r_prev * modes[k]\n",
    "            if k < d - 1:\n",
    "                assert ranks[k] <= r_prev * modes[k]\n",
    "                \n",
    "        if k < d - 1:\n",
    "            tails.append(A[ranks[k]:,:])\n",
    "            A = A[:ranks[k],:]\n",
    "            prod_modes //= modes[k]\n",
    "            r_prev = ranks[k]\n",
    "        \n",
    "    result = A\n",
    "    for k in range(d - 2, -1, -1):        \n",
    "        result = np.vstack([\n",
    "            result.reshape((ranks[k], prod_modes), order='F'),\n",
    "            tails[k]\n",
    "        ])\n",
    "        prod_modes *= modes[k]\n",
    "    \n",
    "    return result.flatten(order='F')"
   ]
  },
  {
   "cell_type": "code",
   "execution_count": 4,
   "id": "e03a7d6b",
   "metadata": {},
   "outputs": [],
   "source": [
    "def values(func, left, right, n):\n",
    "    return func(np.linspace(left, right, n))"
   ]
  },
  {
   "cell_type": "code",
   "execution_count": 5,
   "id": "f8efa952",
   "metadata": {},
   "outputs": [],
   "source": [
    "d = 10\n",
    "n = 2 ** d\n",
    "left = 0.\n",
    "right = 1.\n",
    "\n",
    "linspace = np.linspace(left, right, n)\n",
    "\n",
    "sqrt_x_values = values(lambda x: np.sqrt(x), left, right, n)\n",
    "\n",
    "modes = [2] * d\n",
    "ranks = [2] * (d - 1)\n",
    "eps = 1e-8\n",
    "\n",
    "filters, ranks = wtt_filter(\n",
    "    sqrt_x_values,\n",
    "    d,\n",
    "    modes,\n",
    "    ranks=ranks,\n",
    "    check_correctness=True\n",
    ")\n",
    "wtt_res = wtt_apply(\n",
    "    sqrt_x_values,\n",
    "    d,\n",
    "    filters,\n",
    "    modes,\n",
    "    ranks,\n",
    "    True\n",
    ")"
   ]
  },
  {
   "cell_type": "markdown",
   "id": "e333fe02",
   "metadata": {},
   "source": [
    "Код из репозитория:"
   ]
  },
  {
   "cell_type": "code",
   "execution_count": 6,
   "id": "5b030732",
   "metadata": {},
   "outputs": [],
   "source": [
    "def reshape(T, shape):\n",
    "    return np.reshape(T, shape, order='F')\n",
    "\n",
    "def computeSVDFilters(\n",
    "    T, rank=1, eps=None, maxLevel=None, docopy=True, use_sv_truncation=False,\n",
    "    return_sv=False, return_transformation=False\n",
    "):\n",
    "    '''\n",
    "    Routine for computing WTT filters as left singular matrices\n",
    "    \n",
    "    T = np.ndarray\n",
    "        Input tensor of shape n.\n",
    "    rank = int / np.ndarray / list / tuple; default: 1.\n",
    "        WTT rank(s); to be corrected while filters are computing\n",
    "    eps = float; default: None.\n",
    "        Truncation constant for singular values\n",
    "    maxLevel = integer; default: None\n",
    "        Maximum level of decomposition, all dimensions after this will\n",
    "        be skipped.\n",
    "    docopy = boolean; default: True\n",
    "        Specifies whether make copy of input tensor or not.\n",
    "    use_sv_truncation = boolean; default: False\n",
    "        Either use truncation condition for singular values or not;\n",
    "        If chosen, |s_i| < eps*|s_max| will be set to zero. It leads\n",
    "        to lower rank estimation.\n",
    "    return_sv = boolean; default: False\n",
    "        Specifies whether return singular values associated with each filter or not.\n",
    "    return_transformation = boolean; default: False\n",
    "        Specifies whether return result of input transformation or not\n",
    "    '''\n",
    "    d = T.ndim\n",
    "    n = T.shape\n",
    "\n",
    "    if eps is not None:\n",
    "        assert isinstance(eps, float), \"Non-float eps parameter\"\n",
    "    else:\n",
    "        eps = np.spacing(1.)\n",
    "    if maxLevel is not None:\n",
    "        assert isinstance(maxLevel, int), \"Non-integer maxLevel parameter\"\n",
    "        assert 0 < maxLevel <= d, \"Invalid maxLevel parameter\"\n",
    "        numberOfFilters = min(maxLevel, d)\n",
    "    else:\n",
    "        numberOfFilters = d\n",
    "    if isinstance(rank, int):\n",
    "        r = np.ones(numberOfFilters, dtype='i')\n",
    "        r[1:] = rank\n",
    "    elif isinstance(rank, (tuple, list)):\n",
    "        r = np.array(rank)\n",
    "    elif isinstance(rank, np.ndarray):\n",
    "        r = rank.flatten()\n",
    "        r = r.astype('i')\n",
    "    assert len(r) == numberOfFilters, \"There should be %d ranks, not %d\" % (\n",
    "        numberOfFilters, len(r)\n",
    "    )\n",
    "    assert r[0] == 1, \"The 1st rank is always 1, not %d\" % (r[0])\n",
    "    \n",
    "    filters = []\n",
    "    if return_sv:\n",
    "        singularValues = []\n",
    "    \n",
    "    if docopy:\n",
    "        tmp = T.copy()\n",
    "    else:\n",
    "        tmp = T\n",
    "        \n",
    "    if return_transformation:\n",
    "        Y = []\n",
    "\n",
    "    \n",
    "    #_relaxCTimeConst = 2.\n",
    "    #_relaxCTimeConstSize = 2.\n",
    "    \n",
    "    for k in range(numberOfFilters):\n",
    "        nRows = int(round(n[k]*r[k]))\n",
    "        tmp = reshape(tmp, [nRows, -1])\n",
    "        nCols = tmp.shape[1]\n",
    "        fullMatricesFlag = nRows > nCols\n",
    "        #if _relaxCTimeConst*nRows < nCols:\n",
    "        \n",
    "        u, s, vt = np.linalg.svd(tmp, full_matrices=fullMatricesFlag)\n",
    "        # u, s, vt = scipy.linalg.svd(tmp, full_matrices=fullMatricesFlag)\n",
    "        filters.append(u.T)\n",
    "        tmp = np.dot(u.T, tmp)\n",
    "        # truncate condition: |s| < eps*|s_max|\n",
    "        nnzSV = np.sum(np.abs(s) >= (eps*np.abs(s).max()))\n",
    "        if return_sv:\n",
    "            singularValues.append(s[:nnzSV])\n",
    "        if k < numberOfFilters-1:\n",
    "            newRank = min(r[k+1], nRows, nCols)\n",
    "            if use_sv_truncation:\n",
    "                newRank = min(newRank, nnzSV)\n",
    "            r[k+1] = int(newRank)\n",
    "            if return_transformation:\n",
    "                Y = [tmp[r[k+1]:, :]] + Y\n",
    "            tmp = tmp[:r[k+1], :]\n",
    "    return_values = [filters, r]\n",
    "    if return_transformation:\n",
    "        return_values.append(Y)\n",
    "    if return_sv:\n",
    "        return_values.append(singularValues)\n",
    "    return tuple(return_values)"
   ]
  },
  {
   "cell_type": "markdown",
   "id": "229b28b4",
   "metadata": {},
   "source": [
    "Ремарка по строчке\n",
    "```nnzSV = np.sum(np.abs(s) >= (eps*np.abs(s).max()))```\n",
    "\n",
    "Почему именно так, если сингулярные числа и так неотрицательные и располагаются в порядке невозрастания?"
   ]
  },
  {
   "cell_type": "code",
   "execution_count": 7,
   "id": "d9d6ee3a",
   "metadata": {},
   "outputs": [],
   "source": [
    "def WTT(T, directFilters, ranks, docopy=True):\n",
    "    '''\n",
    "    Wavelet Tensor Train transform.\n",
    "    \n",
    "    T = np.ndarray\n",
    "        Tensorized signal to be transformed\n",
    "    directFilters = list / tuple (of np.ndarrays)\n",
    "        Filter bank for direct transform\n",
    "    ranks = np.ndarray / list / tuple\n",
    "        Ranks of WTT decomposition\n",
    "    docopy = boolean; default: True\n",
    "        Specifies whether make copy of input tensor or not.\n",
    "    '''\n",
    "    d = T.ndim\n",
    "    n = T.shape\n",
    "    \n",
    "    numberOfFilters = len(directFilters)\n",
    "    \n",
    "    assert 0 < numberOfFilters <= d, \"Invalid number of filters\"\n",
    "    \n",
    "    r = np.array(ranks, dtype='i')\n",
    "    assert len(r) == numberOfFilters, \"There should be %d ranks, not %d\" % (\n",
    "        numberOfFilters, len(r)\n",
    "    )\n",
    "    assert r[0] == 1, \"The 1st rank is always 1, not %d\" % (r[0])\n",
    "    \n",
    "    if docopy:\n",
    "        tmp = T.copy()\n",
    "    else:\n",
    "        tmp = T\n",
    "    \n",
    "    transformedT = []\n",
    "    for k in range(numberOfFilters):\n",
    "        nRows = int(round(n[k]*r[k]))\n",
    "        tmp = reshape(tmp, [nRows, -1])\n",
    "        nCols = tmp.shape[1]\n",
    "        tmp = np.dot(directFilters[k], tmp)\n",
    "        if k < numberOfFilters-1:\n",
    "            transformedT = [tmp[r[k+1]:, :]] + transformedT\n",
    "            tmp = tmp[:r[k+1], :]\n",
    "        else:\n",
    "            transformedT = [tmp] + transformedT\n",
    "    return transformedT\n",
    "\n",
    "def iWTT(transformedT, inverseFilters, ranks, n=None, docopy=True, result_tens=True):\n",
    "    '''\n",
    "    Inverse of Wavelet Tensor Train transform.\n",
    "    \n",
    "    transformedT = list / tuple (of np.ndarrays)\n",
    "        Parts of decomposed signal\n",
    "    inverseFilters = list / tuple (of np.ndarrays)\n",
    "        Filter bank for inverse transform. Order of filters is direct\n",
    "        (i.e., the last is related to the 1st mode).\n",
    "    ranks = np.ndarray / list / tuple\n",
    "        Ranks of WTT decomposition\n",
    "    n = np.ndarray / list / tuple; default: None\n",
    "        Mode sizes of original tensor. If it is not specified, it will be\n",
    "        estimated from available filters.\n",
    "    docopy = boolean; default: True\n",
    "        Specifies whether make copy of input or not.\n",
    "    result_tens = boolean; default: True\n",
    "        Either tensorize output or not.\n",
    "    '''\n",
    "    numberOfFilters = len(inverseFilters)\n",
    "    r = np.array(ranks, dtype='i')\n",
    "    assert len(r) == numberOfFilters, \"There should be %d ranks, not %d\" % (\n",
    "        numberOfFilters, len(r)\n",
    "    )\n",
    "    assert r[0] == 1, \"The 1st rank is always 1, not %d\" % (r[0])\n",
    "    nNoneFlag = n is None\n",
    "    if not nNoneFlag:\n",
    "        d = len(n)\n",
    "    else:\n",
    "        d = numberOfFilters\n",
    "        n = [int(round(inverseFilters[d-i-1].shape[0]/r[i])) for i in range(d)]\n",
    "    assert 0 < numberOfFilters <= d, \"Invalid number of filters\"\n",
    "    \n",
    "\n",
    "    \n",
    "    \n",
    "    if docopy:\n",
    "        T = transformedT[0].copy()\n",
    "    else:\n",
    "        T = transformedT[0]\n",
    "    \n",
    "    for k in range(numberOfFilters):\n",
    "        k_reversed = numberOfFilters-k-1\n",
    "        T = np.dot(inverseFilters[k], T)\n",
    "        T = reshape(T, [r[k_reversed], -1])\n",
    "        if k_reversed > 0:\n",
    "            if r[k_reversed-1]*n[k_reversed-1] > r[k_reversed]:\n",
    "                T = np.vstack([T, transformedT[k+1]])\n",
    "    if result_tens:\n",
    "        if nNoneFlag:\n",
    "            additionalMode = int(round(T.size / np.prod(n)))\n",
    "            n.append(additionalMode)\n",
    "        T = reshape(T, n)\n",
    "    return T"
   ]
  },
  {
   "cell_type": "markdown",
   "id": "b7e130fc",
   "metadata": {},
   "source": [
    "Попробую в свой iWTT."
   ]
  },
  {
   "cell_type": "code",
   "execution_count": 8,
   "id": "002d56e2",
   "metadata": {},
   "outputs": [],
   "source": [
    "def iwtt_apply(input_vector, d, filters, modes, ranks, check_correctness=False):\n",
    "    prod_modes = input_vector.size\n",
    "    \n",
    "    if check_correctness:\n",
    "        assert len(filters) == d\n",
    "        assert len(modes) == d\n",
    "        assert len(ranks) == d - 1\n",
    "        assert prod_modes == np.prod(modes)\n",
    "        \n",
    "    tails = []\n",
    "    A = input_vector\n",
    "    r_prev = 1\n",
    "    for k in range(d):\n",
    "        A = A.reshape((r_prev * modes[k], prod_modes // modes[k]), order='F')\n",
    "\n",
    "        if check_correctness:\n",
    "            assert A.shape[0] == r_prev * modes[k]\n",
    "            if k < d - 1:\n",
    "                assert ranks[k] <= r_prev * modes[k]\n",
    "                \n",
    "        if k < d - 1:\n",
    "            tails.append(A[ranks[k]:,:])\n",
    "            A = A[:ranks[k],:]\n",
    "            prod_modes //= modes[k]\n",
    "            r_prev = ranks[k]\n",
    "        \n",
    "    #prod_modes == modes[-1] в конце\n",
    "    result = A\n",
    "    for k in range(d - 1, -1, -1):\n",
    "        \n",
    "        r_prev = 1 if k == 0 else ranks[k - 1]\n",
    "        if k == d - 1:\n",
    "            result = (filters[k] @ result).reshape((r_prev, prod_modes), order='F')\n",
    "        else:\n",
    "            result = (filters[k] @ np.vstack([\n",
    "                result,\n",
    "                tails[k]\n",
    "            ])).reshape((r_prev, prod_modes), order='F')\n",
    "        prod_modes *= modes[k]\n",
    "    \n",
    "    return result.flatten(order='F')"
   ]
  },
  {
   "cell_type": "code",
   "execution_count": 9,
   "id": "676e1b9f",
   "metadata": {},
   "outputs": [],
   "source": [
    "iwtt_res = iwtt_apply(\n",
    "    wtt_res,\n",
    "    d,\n",
    "    filters,\n",
    "    modes,\n",
    "    ranks,\n",
    "    True\n",
    ")"
   ]
  },
  {
   "cell_type": "code",
   "execution_count": 10,
   "id": "59f2b790",
   "metadata": {},
   "outputs": [
    {
     "data": {
      "text/plain": [
       "1.9577947432628667e-14"
      ]
     },
     "execution_count": 10,
     "metadata": {},
     "output_type": "execute_result"
    }
   ],
   "source": [
    "np.linalg.norm(sqrt_x_values - iwtt_res)"
   ]
  },
  {
   "cell_type": "markdown",
   "id": "231072a1",
   "metadata": {},
   "source": [
    "Сравним, что даёт код из репозитория."
   ]
  },
  {
   "cell_type": "code",
   "execution_count": 11,
   "id": "2cc3dac5",
   "metadata": {},
   "outputs": [],
   "source": [
    "T = reshape(sqrt_x_values, [2] * d)\n",
    "#надо тензор давать в функции\n",
    "\n",
    "filters_r, ranks_r = computeSVDFilters(\n",
    "    T,\n",
    "    rank = 2\n",
    ")"
   ]
  },
  {
   "cell_type": "code",
   "execution_count": 13,
   "id": "b54e502d",
   "metadata": {},
   "outputs": [
    {
     "name": "stdout",
     "output_type": "stream",
     "text": [
      "[2, 2, 2, 2, 2, 2, 2, 2, 2]\n",
      "[1 2 2 2 2 2 2 2 2 2]\n"
     ]
    }
   ],
   "source": [
    "print(ranks)\n",
    "print(ranks_r)\n",
    "#в реализации из репозитория есть r_0, всегда равный 1"
   ]
  },
  {
   "cell_type": "code",
   "execution_count": 15,
   "id": "490fe4ca",
   "metadata": {},
   "outputs": [
    {
     "data": {
      "text/plain": [
       "[(2, 2),\n",
       " (4, 4),\n",
       " (4, 4),\n",
       " (4, 4),\n",
       " (4, 4),\n",
       " (4, 4),\n",
       " (4, 4),\n",
       " (4, 4),\n",
       " (4, 4),\n",
       " (4, 4)]"
      ]
     },
     "execution_count": 15,
     "metadata": {},
     "output_type": "execute_result"
    }
   ],
   "source": [
    "[u.shape for u in filters_r]"
   ]
  },
  {
   "cell_type": "markdown",
   "id": "51931c64",
   "metadata": {},
   "source": [
    "Как у меня. Проверим, что фильтры также совпадают (в реализации из репозитория они даются транспонированными)."
   ]
  },
  {
   "cell_type": "code",
   "execution_count": 17,
   "id": "6cbaf0f3",
   "metadata": {},
   "outputs": [
    {
     "data": {
      "text/plain": [
       "[True, True, True, True, True, True, True, True, True, True]"
      ]
     },
     "execution_count": 17,
     "metadata": {},
     "output_type": "execute_result"
    }
   ],
   "source": [
    "[np.all(u1.T == u2) for u1, u2 in zip(filters, filters_r)]"
   ]
  },
  {
   "cell_type": "code",
   "execution_count": 18,
   "id": "5c86f9b8",
   "metadata": {},
   "outputs": [],
   "source": [
    "wtt_result_r = WTT(T, filters_r, ranks_r)"
   ]
  },
  {
   "cell_type": "markdown",
   "id": "0132826a",
   "metadata": {},
   "source": [
    "Тут, как я понял, возвращается список из результатов на разных уровнях, а не единый итоговый вектор."
   ]
  },
  {
   "cell_type": "code",
   "execution_count": 24,
   "id": "f2035950",
   "metadata": {},
   "outputs": [
    {
     "data": {
      "text/plain": [
       "array([ 2.26271567e+01,  3.69570201e-16,  8.21192713e-16, ...,\n",
       "       -3.71911324e-06, -1.82856285e-04, -3.74363753e-06])"
      ]
     },
     "execution_count": 24,
     "metadata": {},
     "output_type": "execute_result"
    }
   ],
   "source": [
    "#wtt_result_r\n",
    "concatenated = np.concatenate(\n",
    "    [u.flatten(order='F') for u in wtt_result_r]\n",
    ")\n",
    "concatenated"
   ]
  },
  {
   "cell_type": "code",
   "execution_count": 25,
   "id": "86283e03",
   "metadata": {},
   "outputs": [
    {
     "data": {
      "text/plain": [
       "array([ 2.26271567e+01,  3.69570201e-16, -4.29187308e-03, ...,\n",
       "        1.26439345e-05, -1.82856285e-04, -3.74363753e-06])"
      ]
     },
     "execution_count": 25,
     "metadata": {},
     "output_type": "execute_result"
    }
   ],
   "source": [
    "wtt_res"
   ]
  },
  {
   "cell_type": "markdown",
   "id": "e54146e9",
   "metadata": {},
   "source": [
    "Не так..."
   ]
  },
  {
   "cell_type": "code",
   "execution_count": 37,
   "id": "aad28fa9",
   "metadata": {},
   "outputs": [
    {
     "data": {
      "text/plain": [
       "array([ 2.26271567e+01,  3.69570201e-16, -4.29187308e-03, ...,\n",
       "        1.26439345e-05, -1.82856285e-04, -3.74363753e-06])"
      ]
     },
     "execution_count": 37,
     "metadata": {},
     "output_type": "execute_result"
    }
   ],
   "source": [
    "concatenated = wtt_result_r[0].copy()\n",
    "for k in range(1, d):\n",
    "    concatenated = np.vstack([\n",
    "        reshape(concatenated, (ranks_r[-k], -1)),\n",
    "        wtt_result_r[k]\n",
    "    ])\n",
    "concatenated = concatenated.flatten(order='F')\n",
    "concatenated"
   ]
  },
  {
   "cell_type": "code",
   "execution_count": 36,
   "id": "29d9959f",
   "metadata": {},
   "outputs": [
    {
     "data": {
      "text/plain": [
       "True"
      ]
     },
     "execution_count": 36,
     "metadata": {},
     "output_type": "execute_result"
    }
   ],
   "source": [
    "np.allclose(wtt_res, concatenated)"
   ]
  },
  {
   "cell_type": "markdown",
   "id": "a96ced3b",
   "metadata": {},
   "source": [
    "Надо по-честному всё стакать, видимо.\n",
    "\n",
    "Теперь попробуем обратное преобразование:"
   ]
  },
  {
   "cell_type": "code",
   "execution_count": 40,
   "id": "9036badb",
   "metadata": {},
   "outputs": [
    {
     "data": {
      "text/plain": [
       "(2, 2, 2, 2, 2, 2, 2, 2, 2, 2, 1)"
      ]
     },
     "execution_count": 40,
     "metadata": {},
     "output_type": "execute_result"
    }
   ],
   "source": [
    "iwtt_result_r = iWTT(\n",
    "    wtt_result_r,\n",
    "    [u.T for u in filters_r[::-1]],\n",
    "    ranks_r\n",
    ")\n",
    "iwtt_result_r.shape"
   ]
  },
  {
   "cell_type": "code",
   "execution_count": 48,
   "id": "fa412502",
   "metadata": {},
   "outputs": [
    {
     "data": {
      "text/plain": [
       "True"
      ]
     },
     "execution_count": 48,
     "metadata": {},
     "output_type": "execute_result"
    }
   ],
   "source": [
    "np.allclose(iwtt_result_r.flatten(order='F'), iwtt_res)"
   ]
  },
  {
   "cell_type": "markdown",
   "id": "9700a2fb",
   "metadata": {},
   "source": [
    "Вновь сошлось."
   ]
  },
  {
   "cell_type": "code",
   "execution_count": 49,
   "id": "e300f803",
   "metadata": {},
   "outputs": [
    {
     "data": {
      "text/plain": [
       "True"
      ]
     },
     "execution_count": 49,
     "metadata": {},
     "output_type": "execute_result"
    }
   ],
   "source": [
    "iwtt_result_r = iWTT(\n",
    "    wtt_result_r,\n",
    "    [u.T for u in filters_r[::-1]],\n",
    "    ranks_r,\n",
    "    result_tens=False\n",
    ")\n",
    "np.allclose(iwtt_result_r, iwtt_res)"
   ]
  },
  {
   "cell_type": "code",
   "execution_count": null,
   "id": "ee819af8",
   "metadata": {},
   "outputs": [],
   "source": []
  }
 ],
 "metadata": {
  "kernelspec": {
   "display_name": "Python 3 (ipykernel)",
   "language": "python",
   "name": "python3"
  },
  "language_info": {
   "codemirror_mode": {
    "name": "ipython",
    "version": 3
   },
   "file_extension": ".py",
   "mimetype": "text/x-python",
   "name": "python",
   "nbconvert_exporter": "python",
   "pygments_lexer": "ipython3",
   "version": "3.9.7"
  }
 },
 "nbformat": 4,
 "nbformat_minor": 5
}
