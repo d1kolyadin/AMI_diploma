{
 "cells": [
  {
   "cell_type": "code",
   "execution_count": 1,
   "id": "12b4c691",
   "metadata": {},
   "outputs": [],
   "source": [
    "import numpy as np\n",
    "import pywt\n",
    "import matplotlib.pyplot as plt\n",
    "%matplotlib inline"
   ]
  },
  {
   "cell_type": "code",
   "execution_count": 2,
   "id": "8471c23b",
   "metadata": {},
   "outputs": [
    {
     "name": "stdout",
     "output_type": "stream",
     "text": [
      "Wavelet db1\n",
      "  Family name:    Daubechies\n",
      "  Short name:     db\n",
      "  Filters length: 2\n",
      "  Orthogonal:     True\n",
      "  Biorthogonal:   True\n",
      "  Symmetry:       asymmetric\n",
      "  DWT:            True\n",
      "  CWT:            False\n"
     ]
    }
   ],
   "source": [
    "w = pywt.Wavelet('db1') #он же Хаар\n",
    "print(w)"
   ]
  },
  {
   "cell_type": "code",
   "execution_count": 3,
   "id": "ea8a2b0e",
   "metadata": {},
   "outputs": [
    {
     "data": {
      "text/plain": [
       "[0.7071067811865476, 0.7071067811865476]"
      ]
     },
     "execution_count": 3,
     "metadata": {},
     "output_type": "execute_result"
    }
   ],
   "source": [
    "w.dec_lo"
   ]
  },
  {
   "cell_type": "code",
   "execution_count": 4,
   "id": "d9e2a634",
   "metadata": {},
   "outputs": [
    {
     "data": {
      "text/plain": [
       "[-0.7071067811865476, 0.7071067811865476]"
      ]
     },
     "execution_count": 4,
     "metadata": {},
     "output_type": "execute_result"
    }
   ],
   "source": [
    "w.dec_hi"
   ]
  },
  {
   "cell_type": "code",
   "execution_count": 5,
   "id": "a3c3860f",
   "metadata": {},
   "outputs": [
    {
     "data": {
      "text/plain": [
       "2"
      ]
     },
     "execution_count": 5,
     "metadata": {},
     "output_type": "execute_result"
    }
   ],
   "source": [
    "w.dec_len"
   ]
  },
  {
   "cell_type": "code",
   "execution_count": 6,
   "id": "18dab8d1",
   "metadata": {},
   "outputs": [
    {
     "data": {
      "text/plain": [
       "3"
      ]
     },
     "execution_count": 6,
     "metadata": {},
     "output_type": "execute_result"
    }
   ],
   "source": [
    "sample_signal = np.arange(8)\n",
    "pywt.dwt_max_level(sample_signal.size, w.dec_len)"
   ]
  },
  {
   "cell_type": "markdown",
   "id": "7389968b",
   "metadata": {},
   "source": [
    "Попробуем проверить принцип работы."
   ]
  },
  {
   "cell_type": "code",
   "execution_count": 7,
   "id": "a6fd17cf",
   "metadata": {},
   "outputs": [
    {
     "name": "stdout",
     "output_type": "stream",
     "text": [
      "[0.70710678 3.53553391 6.36396103 9.19238816]\n",
      "[-0.70710678 -0.70710678 -0.70710678 -0.70710678]\n"
     ]
    }
   ],
   "source": [
    "ca, cd = pywt.dwt(sample_signal, w)\n",
    "print(ca)\n",
    "print(cd)"
   ]
  },
  {
   "cell_type": "code",
   "execution_count": 8,
   "id": "a15dc4fc",
   "metadata": {},
   "outputs": [
    {
     "name": "stdout",
     "output_type": "stream",
     "text": [
      "0.7071067811865476\n",
      "3.5355339059327378\n",
      "6.363961030678928\n",
      "9.192388155425117\n",
      "\n",
      "-0.7071067811865476\n",
      "-0.7071067811865477\n",
      "-0.7071067811865475\n",
      "-0.707106781186547\n"
     ]
    }
   ],
   "source": [
    "for i in range(4):\n",
    "    print(np.inner(w.dec_lo[::-1], sample_signal[2 * i:2 * i + 2]))\n",
    "print()\n",
    "for i in range(4):\n",
    "    print(np.inner(w.dec_hi[::-1], sample_signal[2 * i:2 * i + 2]))"
   ]
  },
  {
   "cell_type": "markdown",
   "id": "d9fead96",
   "metadata": {},
   "source": [
    "У Хаара --- свёртка пар (нормированные суммы / разности)."
   ]
  },
  {
   "cell_type": "code",
   "execution_count": 9,
   "id": "d7ddfcce",
   "metadata": {},
   "outputs": [
    {
     "data": {
      "text/plain": [
       "4"
      ]
     },
     "execution_count": 9,
     "metadata": {},
     "output_type": "execute_result"
    }
   ],
   "source": [
    "dec = pywt.wavedec(sample_signal, w)\n",
    "len(dec)"
   ]
  },
  {
   "cell_type": "markdown",
   "id": "a8ee6555",
   "metadata": {},
   "source": [
    "Максимально простой код, дабы был понятен принцип."
   ]
  },
  {
   "cell_type": "code",
   "execution_count": 10,
   "id": "34da80fb",
   "metadata": {},
   "outputs": [],
   "source": [
    "dec_manual = []\n",
    "ca_cur = sample_signal\n",
    "for i in range(3): #в общем случае log_2 sample_signal.size, если длина --- степень двойки\n",
    "    new_len = len(ca_cur) // 2\n",
    "    ca_new = np.empty(new_len)\n",
    "    cd_new = np.empty(new_len)\n",
    "    for j in range(new_len):\n",
    "        ca_new[j] = np.inner(w.dec_lo[::-1], ca_cur[2 * j:2 * j + 2])\n",
    "        cd_new[j] = np.inner(w.dec_hi[::-1], ca_cur[2 * j:2 * j + 2])\n",
    "    dec_manual = [cd_new] + dec_manual\n",
    "    ca_cur = ca_new\n",
    "dec_manual = [ca_cur] + dec_manual"
   ]
  },
  {
   "cell_type": "code",
   "execution_count": 11,
   "id": "bc296ae9",
   "metadata": {},
   "outputs": [],
   "source": [
    "assert len(dec) == len(dec_manual)\n",
    "for i in range(len(dec)):\n",
    "    assert dec[i].size == dec_manual[i].size\n",
    "    assert np.allclose(dec[i], dec_manual[i])"
   ]
  },
  {
   "cell_type": "code",
   "execution_count": 29,
   "id": "40fe8927",
   "metadata": {},
   "outputs": [
    {
     "name": "stdout",
     "output_type": "stream",
     "text": [
      "Wavelet db2\n",
      "  Family name:    Daubechies\n",
      "  Short name:     db\n",
      "  Filters length: 4\n",
      "  Orthogonal:     True\n",
      "  Biorthogonal:   True\n",
      "  Symmetry:       asymmetric\n",
      "  DWT:            True\n",
      "  CWT:            False\n"
     ]
    }
   ],
   "source": [
    "w = pywt.Wavelet('db2')\n",
    "print(w)"
   ]
  },
  {
   "cell_type": "code",
   "execution_count": 30,
   "id": "01e68331",
   "metadata": {},
   "outputs": [
    {
     "name": "stdout",
     "output_type": "stream",
     "text": [
      "[-0.12940952255126037, 0.2241438680420134, 0.8365163037378079, 0.48296291314453416]\n",
      "[-0.48296291314453416, 0.8365163037378079, -0.2241438680420134, -0.12940952255126037]\n"
     ]
    }
   ],
   "source": [
    "print(w.dec_lo, w.dec_hi, sep='\\n')"
   ]
  },
  {
   "cell_type": "code",
   "execution_count": 31,
   "id": "2576ad75",
   "metadata": {},
   "outputs": [
    {
     "data": {
      "text/plain": [
       "2"
      ]
     },
     "execution_count": 31,
     "metadata": {},
     "output_type": "execute_result"
    }
   ],
   "source": [
    "sample_signal = np.arange(16)\n",
    "pywt.dwt_max_level(sample_signal.size, w.dec_len)"
   ]
  },
  {
   "cell_type": "code",
   "execution_count": 32,
   "id": "60d99940",
   "metadata": {},
   "outputs": [
    {
     "name": "stdout",
     "output_type": "stream",
     "text": [
      "[ 0.35355339  0.89657547  3.7250026   6.55342972  9.38185685 12.21028397\n",
      " 15.0387111  17.86713822 20.85965005]\n",
      "[-6.12372436e-01 -2.77555756e-17  1.11022302e-16  4.44089210e-16\n",
      "  0.00000000e+00  1.33226763e-15  8.88178420e-16  4.44089210e-16\n",
      "  6.12372436e-01]\n"
     ]
    }
   ],
   "source": [
    "ca, cd = pywt.dwt(sample_signal, w)\n",
    "print(ca)\n",
    "print(cd)"
   ]
  },
  {
   "cell_type": "markdown",
   "id": "884bea0d",
   "metadata": {},
   "source": [
    "16 элементов переходят в 9 элементов... По какому принципу?"
   ]
  },
  {
   "cell_type": "code",
   "execution_count": 33,
   "id": "10cbe366",
   "metadata": {},
   "outputs": [
    {
     "data": {
      "text/plain": [
       "0.8965754721680537"
      ]
     },
     "execution_count": 33,
     "metadata": {},
     "output_type": "execute_result"
    }
   ],
   "source": [
    "np.inner(sample_signal[:4], w.dec_lo[::-1])"
   ]
  },
  {
   "cell_type": "markdown",
   "id": "23c6c1da",
   "metadata": {},
   "source": [
    "Свёртка с первой четвёркой даёт второй элемент выхода.\n",
    "\n",
    "mode в ```pywt.dwt``` по умолчанию symmetric, так что есть предположение о принципе получения первого элемента."
   ]
  },
  {
   "cell_type": "code",
   "execution_count": 34,
   "id": "a62d4c36",
   "metadata": {},
   "outputs": [
    {
     "data": {
      "text/plain": [
       "0.3535533905932738"
      ]
     },
     "execution_count": 34,
     "metadata": {},
     "output_type": "execute_result"
    }
   ],
   "source": [
    "first_frame = np.array([1, 0, 0, 1])\n",
    "#сигнал: 0, 1, ..., 11, а мы взяли и развернули симметричным образом начало\n",
    "np.inner(first_frame, w.dec_lo[::-1])"
   ]
  },
  {
   "cell_type": "markdown",
   "id": "d7ef3be1",
   "metadata": {},
   "source": [
    "Кажется, именно так!"
   ]
  },
  {
   "cell_type": "code",
   "execution_count": 35,
   "id": "09792f72",
   "metadata": {},
   "outputs": [
    {
     "data": {
      "text/plain": [
       "-0.6123724356957945"
      ]
     },
     "execution_count": 35,
     "metadata": {},
     "output_type": "execute_result"
    }
   ],
   "source": [
    "np.inner(first_frame, w.dec_hi[::-1])"
   ]
  },
  {
   "cell_type": "code",
   "execution_count": 36,
   "id": "0cdabd05",
   "metadata": {},
   "outputs": [
    {
     "data": {
      "text/plain": [
       "3.725002596914244"
      ]
     },
     "execution_count": 36,
     "metadata": {},
     "output_type": "execute_result"
    }
   ],
   "source": [
    "np.inner(sample_signal[2:6], w.dec_lo[::-1]) #[2, 3, 4, 5]"
   ]
  },
  {
   "cell_type": "markdown",
   "id": "498b996f",
   "metadata": {},
   "source": [
    "Третий фрагмент!\n",
    "\n",
    "Кажется, стал понятен принцип... Отражаем слева и справа 2 элемента, затем сворачиваем. Новое количество элементов: $len/2 + 1$."
   ]
  },
  {
   "cell_type": "code",
   "execution_count": 37,
   "id": "f350f83d",
   "metadata": {},
   "outputs": [
    {
     "data": {
      "text/plain": [
       "20.85965004500315"
      ]
     },
     "execution_count": 37,
     "metadata": {},
     "output_type": "execute_result"
    }
   ],
   "source": [
    "np.inner([14, 15, 15, 14], w.dec_lo[::-1]) #в конце"
   ]
  },
  {
   "cell_type": "code",
   "execution_count": 38,
   "id": "6eba9d9a",
   "metadata": {},
   "outputs": [
    {
     "data": {
      "text/plain": [
       "(array([19.17981582,  0.89657547,  3.7250026 ,  6.55342972,  9.38185685,\n",
       "        12.21028397, 15.0387111 , 17.86713822, 19.17981582]),\n",
       " array([-5.65685425e+00, -2.77555756e-17,  1.11022302e-16,  4.44089210e-16,\n",
       "         0.00000000e+00,  1.33226763e-15,  8.88178420e-16,  4.44089210e-16,\n",
       "        -5.65685425e+00]))"
      ]
     },
     "execution_count": 38,
     "metadata": {},
     "output_type": "execute_result"
    }
   ],
   "source": [
    "pywt.dwt(sample_signal, w, mode='periodic')"
   ]
  },
  {
   "cell_type": "code",
   "execution_count": 39,
   "id": "5d515f0d",
   "metadata": {},
   "outputs": [
    {
     "data": {
      "text/plain": [
       "19.179815817539335"
      ]
     },
     "execution_count": 39,
     "metadata": {},
     "output_type": "execute_result"
    }
   ],
   "source": [
    "np.inner([14, 15, 0, 1], w.dec_lo[::-1]) #в режиме periodic именно это идёт в начало"
   ]
  },
  {
   "cell_type": "code",
   "execution_count": 40,
   "id": "402f9012",
   "metadata": {},
   "outputs": [
    {
     "data": {
      "text/plain": [
       "(array([-0.12940952,  0.89657547,  3.7250026 ,  6.55342972,  9.38185685,\n",
       "        12.21028397, 15.0387111 , 17.86713822, 19.30922534]),\n",
       " array([-4.82962913e-01, -2.77555756e-17,  1.11022302e-16,  4.44089210e-16,\n",
       "         0.00000000e+00,  1.33226763e-15,  8.88178420e-16,  4.44089210e-16,\n",
       "        -5.17389134e+00]))"
      ]
     },
     "execution_count": 40,
     "metadata": {},
     "output_type": "execute_result"
    }
   ],
   "source": [
    "pywt.dwt(sample_signal, w, mode='zero')"
   ]
  },
  {
   "cell_type": "code",
   "execution_count": 41,
   "id": "33e59743",
   "metadata": {},
   "outputs": [
    {
     "data": {
      "text/plain": [
       "-0.12940952255126037"
      ]
     },
     "execution_count": 41,
     "metadata": {},
     "output_type": "execute_result"
    }
   ],
   "source": [
    "np.inner([0, 0, 0, 1], w.dec_lo[::-1]) #в режиме zero именно это идёт в начало"
   ]
  },
  {
   "cell_type": "code",
   "execution_count": 21,
   "id": "c26a7c02",
   "metadata": {},
   "outputs": [
    {
     "data": {
      "text/plain": [
       "(array([1.76776695, 2.31078903, 5.13921616, 8.09705281, 9.93417011]),\n",
       " array([-6.12372436e-01,  1.66533454e-16,  3.33066907e-16,  4.82962913e-01,\n",
       "         1.29409523e-01]))"
      ]
     },
     "execution_count": 21,
     "metadata": {},
     "output_type": "execute_result"
    }
   ],
   "source": [
    "pywt.dwt([1,2,3,4,5,6,7], w)"
   ]
  },
  {
   "cell_type": "markdown",
   "id": "895c5d09",
   "metadata": {},
   "source": [
    "Если нечётное число элементов --- видимо, дописываем последний в конец ещё раз (добиваем до чётного)."
   ]
  },
  {
   "cell_type": "code",
   "execution_count": 22,
   "id": "4fb66555",
   "metadata": {},
   "outputs": [
    {
     "name": "stdout",
     "output_type": "stream",
     "text": [
      "8.09705280658479\n",
      "9.934170113672174\n"
     ]
    }
   ],
   "source": [
    "print(np.inner([5,6,7,7], w.dec_lo[::-1]))\n",
    "print(np.inner([7,7,6,5], w.dec_lo[::-1]))"
   ]
  },
  {
   "cell_type": "markdown",
   "id": "fff6c4cb",
   "metadata": {},
   "source": [
    "Хотя нет, чётный 1 2 3 4 5 6 7 7 мы бы в конце разворачивали как 7 7 7 7, а не 7 7 6 5."
   ]
  },
  {
   "cell_type": "code",
   "execution_count": 23,
   "id": "91a745ed",
   "metadata": {},
   "outputs": [],
   "source": [
    "sample_signal = np.random.rand(101)\n",
    "doubled_even_signal = np.concatenate([sample_signal, sample_signal[-1:]])\n",
    "assert np.all(sample_signal == doubled_even_signal[:-1])\n",
    "assert doubled_even_signal[-2] == doubled_even_signal[-1]"
   ]
  },
  {
   "cell_type": "code",
   "execution_count": 24,
   "id": "be7cee0c",
   "metadata": {},
   "outputs": [
    {
     "name": "stdout",
     "output_type": "stream",
     "text": [
      "0.8282774510992557\n",
      "0.9788458078088262\n",
      "0.8282774510992557\n",
      "0.9788458078088262\n"
     ]
    }
   ],
   "source": [
    "dec_1 = pywt.dwt(sample_signal, w)\n",
    "dec_2 = pywt.dwt(doubled_even_signal, w)\n",
    "print(dec_1[0][-1])\n",
    "print(dec_2[0][-1])\n",
    "\n",
    "last_frame = [sample_signal[-1]] * 2 + [sample_signal[-2]] + [sample_signal[-3]] \n",
    "print(np.inner(last_frame, w.dec_lo[::-1])) #как у sample_signal\n",
    "last_frame = [sample_signal[-1]] * 4\n",
    "print(np.inner(last_frame, w.dec_lo[::-1])) #как у doubled_even_signal"
   ]
  },
  {
   "cell_type": "code",
   "execution_count": 25,
   "id": "173f3b1a",
   "metadata": {},
   "outputs": [
    {
     "data": {
      "text/plain": [
       "<matplotlib.legend.Legend at 0x1d622a40610>"
      ]
     },
     "execution_count": 25,
     "metadata": {},
     "output_type": "execute_result"
    },
    {
     "data": {
      "image/png": "[encoded data removed]",
      "text/plain": [
       "<Figure size 432x288 with 1 Axes>"
      ]
     },
     "metadata": {
      "needs_background": "light"
     },
     "output_type": "display_data"
    }
   ],
   "source": [
    "phi, psi, x = w.wavefun()\n",
    "plt.plot(x, phi, label='phi')\n",
    "plt.plot(x, psi, label='psi')\n",
    "plt.legend()"
   ]
  },
  {
   "cell_type": "code",
   "execution_count": 44,
   "id": "41d09b6d",
   "metadata": {},
   "outputs": [
    {
     "name": "stdout",
     "output_type": "stream",
     "text": [
      "Wavelet db4\n",
      "  Family name:    Daubechies\n",
      "  Short name:     db\n",
      "  Filters length: 8\n",
      "  Orthogonal:     True\n",
      "  Biorthogonal:   True\n",
      "  Symmetry:       asymmetric\n",
      "  DWT:            True\n",
      "  CWT:            False\n"
     ]
    }
   ],
   "source": [
    "w = pywt.Wavelet('db4')\n",
    "print(w)"
   ]
  },
  {
   "cell_type": "code",
   "execution_count": 54,
   "id": "a7fdd678",
   "metadata": {},
   "outputs": [
    {
     "data": {
      "text/plain": [
       "1"
      ]
     },
     "execution_count": 54,
     "metadata": {},
     "output_type": "execute_result"
    }
   ],
   "source": [
    "sample_signal = np.arange(24)\n",
    "pywt.dwt_max_level(sample_signal.size, w.dec_len)"
   ]
  },
  {
   "cell_type": "code",
   "execution_count": 55,
   "id": "916ef2cf",
   "metadata": {},
   "outputs": [
    {
     "data": {
      "text/plain": [
       "15"
      ]
     },
     "execution_count": 55,
     "metadata": {},
     "output_type": "execute_result"
    }
   ],
   "source": [
    "ca, cd = pywt.dwt(sample_signal, w)\n",
    "ca.size"
   ]
  },
  {
   "cell_type": "markdown",
   "id": "50c120b4",
   "metadata": {},
   "source": [
    "Предположительно мы каждый раз сдвигаем фильтр на 2 и изначально прикладываем его так, что в крайнем положении 2 исходных элемента цепляются."
   ]
  },
  {
   "cell_type": "code",
   "execution_count": 60,
   "id": "9243c069",
   "metadata": {},
   "outputs": [
    {
     "name": "stdout",
     "output_type": "stream",
     "text": [
      "5.65031790020784\n",
      "5.65031790020784\n"
     ]
    }
   ],
   "source": [
    "first_frame = np.concatenate([\n",
    "    sample_signal[5::-1], sample_signal[:2]\n",
    "])\n",
    "print(np.inner(first_frame, w.dec_lo[::-1]))\n",
    "print(ca[0])"
   ]
  },
  {
   "cell_type": "code",
   "execution_count": 61,
   "id": "db822389",
   "metadata": {},
   "outputs": [
    {
     "name": "stdout",
     "output_type": "stream",
     "text": [
      "2.8165225487765038\n",
      "2.8165225487765038\n"
     ]
    }
   ],
   "source": [
    "first_frame = np.concatenate([\n",
    "    sample_signal[3::-1], sample_signal[:4]\n",
    "])\n",
    "print(np.inner(first_frame, w.dec_lo[::-1]))\n",
    "print(ca[1])"
   ]
  },
  {
   "cell_type": "code",
   "execution_count": 67,
   "id": "a0ad8ebb",
   "metadata": {},
   "outputs": [
    {
     "name": "stdout",
     "output_type": "stream",
     "text": [
      "32.52751833087846\n",
      "32.527518330878465\n"
     ]
    }
   ],
   "source": [
    "first_frame = np.concatenate([\n",
    "    sample_signal[-2:], sample_signal[:-7:-1]\n",
    "])\n",
    "print(np.inner(first_frame, w.dec_lo[::-1]))\n",
    "print(ca[-1])"
   ]
  },
  {
   "cell_type": "markdown",
   "id": "ebe8ae2f",
   "metadata": {},
   "source": [
    "Длина фильтра 8, длина сигнала 24, так что приложить целиком внутри (со сдвигами на 2) получается 9 раз (стартовые позиции: $0, 2, \\ldots, 16$ соответственно).\n",
    "\n",
    "И ещё по 3 раза в каждую из сторон посдвигать, чтобы выйти за границы переданного сигнала, дополняя его в соответствии с параметром ```mode``` из ```pywt.dwt```. Как раз $9 + 2\\cdot 3 = 15$."
   ]
  },
  {
   "cell_type": "markdown",
   "id": "0ae0416e",
   "metadata": {},
   "source": [
    "В общем случае, надо думать, схема такая же. В вейвлетах Добеши каждый раз сдвигаем фильтр на 2 позиции для свёртки. В результате чего вектор коэффициентов будет примерно в 2 раза меньше."
   ]
  },
  {
   "cell_type": "code",
   "execution_count": null,
   "id": "4ab0bc3e",
   "metadata": {},
   "outputs": [],
   "source": []
  }
 ],
 "metadata": {
  "kernelspec": {
   "display_name": "Python 3 (ipykernel)",
   "language": "python",
   "name": "python3"
  },
  "language_info": {
   "codemirror_mode": {
    "name": "ipython",
    "version": 3
   },
   "file_extension": ".py",
   "mimetype": "text/x-python",
   "name": "python",
   "nbconvert_exporter": "python",
   "pygments_lexer": "ipython3",
   "version": "3.9.7"
  }
 },
 "nbformat": 4,
 "nbformat_minor": 5
}
