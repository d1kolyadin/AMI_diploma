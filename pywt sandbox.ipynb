{
 "cells": [
  {
   "cell_type": "code",
   "execution_count": 1,
   "id": "12b4c691",
   "metadata": {},
   "outputs": [],
   "source": [
    "import numpy as np\n",
    "import pywt\n",
    "import matplotlib.pyplot as plt\n",
    "%matplotlib inline"
   ]
  },
  {
   "cell_type": "code",
   "execution_count": 2,
   "id": "8471c23b",
   "metadata": {},
   "outputs": [
    {
     "name": "stdout",
     "output_type": "stream",
     "text": [
      "Wavelet db1\n",
      "  Family name:    Daubechies\n",
      "  Short name:     db\n",
      "  Filters length: 2\n",
      "  Orthogonal:     True\n",
      "  Biorthogonal:   True\n",
      "  Symmetry:       asymmetric\n",
      "  DWT:            True\n",
      "  CWT:            False\n"
     ]
    }
   ],
   "source": [
    "w = pywt.Wavelet('db1') #он же Хаар\n",
    "print(w)"
   ]
  },
  {
   "cell_type": "code",
   "execution_count": 3,
   "id": "ea8a2b0e",
   "metadata": {},
   "outputs": [
    {
     "data": {
      "text/plain": [
       "[0.7071067811865476, 0.7071067811865476]"
      ]
     },
     "execution_count": 3,
     "metadata": {},
     "output_type": "execute_result"
    }
   ],
   "source": [
    "w.dec_lo"
   ]
  },
  {
   "cell_type": "code",
   "execution_count": 4,
   "id": "d9e2a634",
   "metadata": {},
   "outputs": [
    {
     "data": {
      "text/plain": [
       "[-0.7071067811865476, 0.7071067811865476]"
      ]
     },
     "execution_count": 4,
     "metadata": {},
     "output_type": "execute_result"
    }
   ],
   "source": [
    "w.dec_hi"
   ]
  },
  {
   "cell_type": "code",
   "execution_count": 5,
   "id": "a3c3860f",
   "metadata": {},
   "outputs": [
    {
     "data": {
      "text/plain": [
       "2"
      ]
     },
     "execution_count": 5,
     "metadata": {},
     "output_type": "execute_result"
    }
   ],
   "source": [
    "w.dec_len"
   ]
  },
  {
   "cell_type": "code",
   "execution_count": 6,
   "id": "18dab8d1",
   "metadata": {},
   "outputs": [
    {
     "data": {
      "text/plain": [
       "3"
      ]
     },
     "execution_count": 6,
     "metadata": {},
     "output_type": "execute_result"
    }
   ],
   "source": [
    "sample_signal = np.arange(8)\n",
    "pywt.dwt_max_level(sample_signal.size, w.dec_len)"
   ]
  },
  {
   "cell_type": "markdown",
   "id": "7389968b",
   "metadata": {},
   "source": [
    "Попробуем проверить принцип работы."
   ]
  },
  {
   "cell_type": "code",
   "execution_count": 7,
   "id": "a6fd17cf",
   "metadata": {},
   "outputs": [
    {
     "name": "stdout",
     "output_type": "stream",
     "text": [
      "[0.70710678 3.53553391 6.36396103 9.19238816]\n",
      "[-0.70710678 -0.70710678 -0.70710678 -0.70710678]\n"
     ]
    }
   ],
   "source": [
    "ca, cd = pywt.dwt(sample_signal, w)\n",
    "print(ca)\n",
    "print(cd)"
   ]
  },
  {
   "cell_type": "code",
   "execution_count": 8,
   "id": "a15dc4fc",
   "metadata": {},
   "outputs": [
    {
     "name": "stdout",
     "output_type": "stream",
     "text": [
      "0.7071067811865476\n",
      "3.5355339059327378\n",
      "6.363961030678928\n",
      "9.192388155425117\n",
      "\n",
      "-0.7071067811865476\n",
      "-0.7071067811865477\n",
      "-0.7071067811865475\n",
      "-0.707106781186547\n"
     ]
    }
   ],
   "source": [
    "for i in range(4):\n",
    "    print(np.inner(w.dec_lo[::-1], sample_signal[2 * i:2 * i + 2]))\n",
    "print()\n",
    "for i in range(4):\n",
    "    print(np.inner(w.dec_hi[::-1], sample_signal[2 * i:2 * i + 2]))"
   ]
  },
  {
   "cell_type": "markdown",
   "id": "d9fead96",
   "metadata": {},
   "source": [
    "У Хаара --- свёртка пар (нормированные суммы / разности)."
   ]
  },
  {
   "cell_type": "code",
   "execution_count": 9,
   "id": "d7ddfcce",
   "metadata": {},
   "outputs": [
    {
     "data": {
      "text/plain": [
       "4"
      ]
     },
     "execution_count": 9,
     "metadata": {},
     "output_type": "execute_result"
    }
   ],
   "source": [
    "dec = pywt.wavedec(sample_signal, w)\n",
    "len(dec)"
   ]
  },
  {
   "cell_type": "markdown",
   "id": "a8ee6555",
   "metadata": {},
   "source": [
    "Максимально простой код, дабы был понятен принцип."
   ]
  },
  {
   "cell_type": "code",
   "execution_count": 10,
   "id": "34da80fb",
   "metadata": {},
   "outputs": [],
   "source": [
    "dec_manual = []\n",
    "ca_cur = sample_signal\n",
    "for i in range(3): #в общем случае log_2 sample_signal.size, если длина --- степень двойки\n",
    "    new_len = len(ca_cur) // 2\n",
    "    ca_new = np.empty(new_len)\n",
    "    cd_new = np.empty(new_len)\n",
    "    for j in range(new_len):\n",
    "        ca_new[j] = np.inner(w.dec_lo[::-1], ca_cur[2 * j:2 * j + 2])\n",
    "        cd_new[j] = np.inner(w.dec_hi[::-1], ca_cur[2 * j:2 * j + 2])\n",
    "    dec_manual = [cd_new] + dec_manual\n",
    "    ca_cur = ca_new\n",
    "dec_manual = [ca_cur] + dec_manual"
   ]
  },
  {
   "cell_type": "code",
   "execution_count": 11,
   "id": "bc296ae9",
   "metadata": {},
   "outputs": [],
   "source": [
    "assert len(dec) == len(dec_manual)\n",
    "for i in range(len(dec)):\n",
    "    assert dec[i].size == dec_manual[i].size\n",
    "    assert np.allclose(dec[i], dec_manual[i])"
   ]
  },
  {
   "cell_type": "code",
   "execution_count": 12,
   "id": "40fe8927",
   "metadata": {},
   "outputs": [
    {
     "name": "stdout",
     "output_type": "stream",
     "text": [
      "Wavelet db2\n",
      "  Family name:    Daubechies\n",
      "  Short name:     db\n",
      "  Filters length: 4\n",
      "  Orthogonal:     True\n",
      "  Biorthogonal:   True\n",
      "  Symmetry:       asymmetric\n",
      "  DWT:            True\n",
      "  CWT:            False\n"
     ]
    }
   ],
   "source": [
    "w = pywt.Wavelet('db2')\n",
    "print(w)"
   ]
  },
  {
   "cell_type": "code",
   "execution_count": 13,
   "id": "01e68331",
   "metadata": {},
   "outputs": [
    {
     "name": "stdout",
     "output_type": "stream",
     "text": [
      "[-0.12940952255126037, 0.2241438680420134, 0.8365163037378079, 0.48296291314453416]\n",
      "[-0.48296291314453416, 0.8365163037378079, -0.2241438680420134, -0.12940952255126037]\n"
     ]
    }
   ],
   "source": [
    "print(w.dec_lo, w.dec_hi, sep='\\n')"
   ]
  },
  {
   "cell_type": "code",
   "execution_count": 14,
   "id": "2576ad75",
   "metadata": {},
   "outputs": [
    {
     "data": {
      "text/plain": [
       "2"
      ]
     },
     "execution_count": 14,
     "metadata": {},
     "output_type": "execute_result"
    }
   ],
   "source": [
    "sample_signal = np.arange(16)\n",
    "pywt.dwt_max_level(sample_signal.size, w.dec_len)"
   ]
  },
  {
   "cell_type": "code",
   "execution_count": 15,
   "id": "60d99940",
   "metadata": {},
   "outputs": [
    {
     "name": "stdout",
     "output_type": "stream",
     "text": [
      "[ 0.35355339  0.89657547  3.7250026   6.55342972  9.38185685 12.21028397\n",
      " 15.0387111  17.86713822 20.85965005]\n",
      "[-6.12372436e-01 -2.77555756e-17  1.11022302e-16  4.44089210e-16\n",
      "  0.00000000e+00  1.33226763e-15  8.88178420e-16  4.44089210e-16\n",
      "  6.12372436e-01]\n"
     ]
    }
   ],
   "source": [
    "ca, cd = pywt.dwt(sample_signal, w)\n",
    "print(ca)\n",
    "print(cd)"
   ]
  },
  {
   "cell_type": "markdown",
   "id": "884bea0d",
   "metadata": {},
   "source": [
    "16 элементов переходят в 9 элементов... По какому принципу?"
   ]
  },
  {
   "cell_type": "code",
   "execution_count": 16,
   "id": "10cbe366",
   "metadata": {},
   "outputs": [
    {
     "data": {
      "text/plain": [
       "0.8965754721680537"
      ]
     },
     "execution_count": 16,
     "metadata": {},
     "output_type": "execute_result"
    }
   ],
   "source": [
    "np.inner(sample_signal[:4], w.dec_lo[::-1])"
   ]
  },
  {
   "cell_type": "markdown",
   "id": "23c6c1da",
   "metadata": {},
   "source": [
    "Свёртка с первой четвёркой даёт второй элемент выхода.\n",
    "\n",
    "mode в ```pywt.dwt``` по умолчанию symmetric, так что есть предположение о принципе получения первого элемента."
   ]
  },
  {
   "cell_type": "code",
   "execution_count": 17,
   "id": "a62d4c36",
   "metadata": {},
   "outputs": [
    {
     "data": {
      "text/plain": [
       "0.3535533905932738"
      ]
     },
     "execution_count": 17,
     "metadata": {},
     "output_type": "execute_result"
    }
   ],
   "source": [
    "first_frame = np.array([1, 0, 0, 1])\n",
    "#сигнал: 0, 1, ..., 11, а мы взяли и развернули симметричным образом начало\n",
    "np.inner(first_frame, w.dec_lo[::-1])"
   ]
  },
  {
   "cell_type": "markdown",
   "id": "d7ef3be1",
   "metadata": {},
   "source": [
    "Кажется, именно так!"
   ]
  },
  {
   "cell_type": "code",
   "execution_count": 18,
   "id": "09792f72",
   "metadata": {},
   "outputs": [
    {
     "data": {
      "text/plain": [
       "-0.6123724356957945"
      ]
     },
     "execution_count": 18,
     "metadata": {},
     "output_type": "execute_result"
    }
   ],
   "source": [
    "np.inner(first_frame, w.dec_hi[::-1])"
   ]
  },
  {
   "cell_type": "code",
   "execution_count": 19,
   "id": "0cdabd05",
   "metadata": {},
   "outputs": [
    {
     "data": {
      "text/plain": [
       "3.725002596914244"
      ]
     },
     "execution_count": 19,
     "metadata": {},
     "output_type": "execute_result"
    }
   ],
   "source": [
    "np.inner(sample_signal[2:6], w.dec_lo[::-1]) #[2, 3, 4, 5]"
   ]
  },
  {
   "cell_type": "markdown",
   "id": "498b996f",
   "metadata": {},
   "source": [
    "Третий фрагмент!\n",
    "\n",
    "Кажется, стал понятен принцип... Отражаем слева и справа 2 элемента, затем сворачиваем. Новое количество элементов: $len/2 + 1$."
   ]
  },
  {
   "cell_type": "code",
   "execution_count": 20,
   "id": "f350f83d",
   "metadata": {},
   "outputs": [
    {
     "data": {
      "text/plain": [
       "20.85965004500315"
      ]
     },
     "execution_count": 20,
     "metadata": {},
     "output_type": "execute_result"
    }
   ],
   "source": [
    "np.inner([14, 15, 15, 14], w.dec_lo[::-1]) #в конце"
   ]
  },
  {
   "cell_type": "code",
   "execution_count": 21,
   "id": "6eba9d9a",
   "metadata": {},
   "outputs": [
    {
     "data": {
      "text/plain": [
       "(array([19.17981582,  0.89657547,  3.7250026 ,  6.55342972,  9.38185685,\n",
       "        12.21028397, 15.0387111 , 17.86713822, 19.17981582]),\n",
       " array([-5.65685425e+00, -2.77555756e-17,  1.11022302e-16,  4.44089210e-16,\n",
       "         0.00000000e+00,  1.33226763e-15,  8.88178420e-16,  4.44089210e-16,\n",
       "        -5.65685425e+00]))"
      ]
     },
     "execution_count": 21,
     "metadata": {},
     "output_type": "execute_result"
    }
   ],
   "source": [
    "pywt.dwt(sample_signal, w, mode='periodic')"
   ]
  },
  {
   "cell_type": "code",
   "execution_count": 22,
   "id": "5d515f0d",
   "metadata": {},
   "outputs": [
    {
     "data": {
      "text/plain": [
       "19.179815817539335"
      ]
     },
     "execution_count": 22,
     "metadata": {},
     "output_type": "execute_result"
    }
   ],
   "source": [
    "np.inner([14, 15, 0, 1], w.dec_lo[::-1]) #в режиме periodic именно это идёт в начало"
   ]
  },
  {
   "cell_type": "code",
   "execution_count": 23,
   "id": "402f9012",
   "metadata": {},
   "outputs": [
    {
     "data": {
      "text/plain": [
       "(array([-0.12940952,  0.89657547,  3.7250026 ,  6.55342972,  9.38185685,\n",
       "        12.21028397, 15.0387111 , 17.86713822, 19.30922534]),\n",
       " array([-4.82962913e-01, -2.77555756e-17,  1.11022302e-16,  4.44089210e-16,\n",
       "         0.00000000e+00,  1.33226763e-15,  8.88178420e-16,  4.44089210e-16,\n",
       "        -5.17389134e+00]))"
      ]
     },
     "execution_count": 23,
     "metadata": {},
     "output_type": "execute_result"
    }
   ],
   "source": [
    "pywt.dwt(sample_signal, w, mode='zero')"
   ]
  },
  {
   "cell_type": "code",
   "execution_count": 24,
   "id": "33e59743",
   "metadata": {},
   "outputs": [
    {
     "data": {
      "text/plain": [
       "-0.12940952255126037"
      ]
     },
     "execution_count": 24,
     "metadata": {},
     "output_type": "execute_result"
    }
   ],
   "source": [
    "np.inner([0, 0, 0, 1], w.dec_lo[::-1]) #в режиме zero именно это идёт в начало"
   ]
  },
  {
   "cell_type": "code",
   "execution_count": 25,
   "id": "c26a7c02",
   "metadata": {},
   "outputs": [
    {
     "data": {
      "text/plain": [
       "(array([1.76776695, 2.31078903, 5.13921616, 8.09705281, 9.93417011]),\n",
       " array([-6.12372436e-01,  1.66533454e-16,  3.33066907e-16,  4.82962913e-01,\n",
       "         1.29409523e-01]))"
      ]
     },
     "execution_count": 25,
     "metadata": {},
     "output_type": "execute_result"
    }
   ],
   "source": [
    "pywt.dwt([1,2,3,4,5,6,7], w)"
   ]
  },
  {
   "cell_type": "markdown",
   "id": "895c5d09",
   "metadata": {},
   "source": [
    "Если нечётное число элементов --- видимо, дописываем последний в конец ещё раз (добиваем до чётного)."
   ]
  },
  {
   "cell_type": "code",
   "execution_count": 26,
   "id": "4fb66555",
   "metadata": {},
   "outputs": [
    {
     "name": "stdout",
     "output_type": "stream",
     "text": [
      "8.09705280658479\n",
      "9.934170113672174\n"
     ]
    }
   ],
   "source": [
    "print(np.inner([5,6,7,7], w.dec_lo[::-1]))\n",
    "print(np.inner([7,7,6,5], w.dec_lo[::-1]))"
   ]
  },
  {
   "cell_type": "markdown",
   "id": "fff6c4cb",
   "metadata": {},
   "source": [
    "Хотя нет, чётный 1 2 3 4 5 6 7 7 мы бы в конце разворачивали как 7 7 7 7, а не 7 7 6 5."
   ]
  },
  {
   "cell_type": "code",
   "execution_count": 27,
   "id": "91a745ed",
   "metadata": {},
   "outputs": [],
   "source": [
    "sample_signal = np.random.rand(101)\n",
    "doubled_even_signal = np.concatenate([sample_signal, sample_signal[-1:]])\n",
    "assert np.all(sample_signal == doubled_even_signal[:-1])\n",
    "assert doubled_even_signal[-2] == doubled_even_signal[-1]"
   ]
  },
  {
   "cell_type": "code",
   "execution_count": 28,
   "id": "be7cee0c",
   "metadata": {},
   "outputs": [
    {
     "name": "stdout",
     "output_type": "stream",
     "text": [
      "0.683377965730269\n",
      "0.7362579392718154\n",
      "0.683377965730269\n",
      "0.7362579392718154\n"
     ]
    }
   ],
   "source": [
    "dec_1 = pywt.dwt(sample_signal, w)\n",
    "dec_2 = pywt.dwt(doubled_even_signal, w)\n",
    "print(dec_1[0][-1])\n",
    "print(dec_2[0][-1])\n",
    "\n",
    "last_frame = [sample_signal[-1]] * 2 + [sample_signal[-2]] + [sample_signal[-3]] \n",
    "print(np.inner(last_frame, w.dec_lo[::-1])) #как у sample_signal\n",
    "last_frame = [sample_signal[-1]] * 4\n",
    "print(np.inner(last_frame, w.dec_lo[::-1])) #как у doubled_even_signal"
   ]
  },
  {
   "cell_type": "code",
   "execution_count": 29,
   "id": "173f3b1a",
   "metadata": {},
   "outputs": [
    {
     "data": {
      "text/plain": [
       "<matplotlib.legend.Legend at 0x1c5b91e2610>"
      ]
     },
     "execution_count": 29,
     "metadata": {},
     "output_type": "execute_result"
    },
    {
     "data": {
      "image/png": "[encoded data removed]",
      "text/plain": [
       "<Figure size 432x288 with 1 Axes>"
      ]
     },
     "metadata": {
      "needs_background": "light"
     },
     "output_type": "display_data"
    }
   ],
   "source": [
    "phi, psi, x = w.wavefun()\n",
    "plt.plot(x, phi, label='phi')\n",
    "plt.plot(x, psi, label='psi')\n",
    "plt.legend()"
   ]
  },
  {
   "cell_type": "code",
   "execution_count": 30,
   "id": "41d09b6d",
   "metadata": {},
   "outputs": [
    {
     "name": "stdout",
     "output_type": "stream",
     "text": [
      "Wavelet db4\n",
      "  Family name:    Daubechies\n",
      "  Short name:     db\n",
      "  Filters length: 8\n",
      "  Orthogonal:     True\n",
      "  Biorthogonal:   True\n",
      "  Symmetry:       asymmetric\n",
      "  DWT:            True\n",
      "  CWT:            False\n"
     ]
    }
   ],
   "source": [
    "w = pywt.Wavelet('db4')\n",
    "print(w)"
   ]
  },
  {
   "cell_type": "code",
   "execution_count": 31,
   "id": "a7fdd678",
   "metadata": {},
   "outputs": [
    {
     "data": {
      "text/plain": [
       "1"
      ]
     },
     "execution_count": 31,
     "metadata": {},
     "output_type": "execute_result"
    }
   ],
   "source": [
    "sample_signal = np.arange(24)\n",
    "pywt.dwt_max_level(sample_signal.size, w.dec_len)"
   ]
  },
  {
   "cell_type": "code",
   "execution_count": 32,
   "id": "916ef2cf",
   "metadata": {},
   "outputs": [
    {
     "data": {
      "text/plain": [
       "15"
      ]
     },
     "execution_count": 32,
     "metadata": {},
     "output_type": "execute_result"
    }
   ],
   "source": [
    "ca, cd = pywt.dwt(sample_signal, w)\n",
    "ca.size"
   ]
  },
  {
   "cell_type": "markdown",
   "id": "50c120b4",
   "metadata": {},
   "source": [
    "Предположительно мы каждый раз сдвигаем фильтр на 2 и изначально прикладываем его так, что в крайнем положении 2 исходных элемента цепляются."
   ]
  },
  {
   "cell_type": "code",
   "execution_count": 33,
   "id": "9243c069",
   "metadata": {},
   "outputs": [
    {
     "name": "stdout",
     "output_type": "stream",
     "text": [
      "5.65031790020784\n",
      "5.65031790020784\n"
     ]
    }
   ],
   "source": [
    "first_frame = np.concatenate([\n",
    "    sample_signal[5::-1], sample_signal[:2]\n",
    "])\n",
    "print(np.inner(first_frame, w.dec_lo[::-1]))\n",
    "print(ca[0])"
   ]
  },
  {
   "cell_type": "code",
   "execution_count": 34,
   "id": "db822389",
   "metadata": {},
   "outputs": [
    {
     "name": "stdout",
     "output_type": "stream",
     "text": [
      "2.8165225487765038\n",
      "2.8165225487765038\n"
     ]
    }
   ],
   "source": [
    "first_frame = np.concatenate([\n",
    "    sample_signal[3::-1], sample_signal[:4]\n",
    "])\n",
    "print(np.inner(first_frame, w.dec_lo[::-1]))\n",
    "print(ca[1])"
   ]
  },
  {
   "cell_type": "code",
   "execution_count": 35,
   "id": "a0ad8ebb",
   "metadata": {},
   "outputs": [
    {
     "name": "stdout",
     "output_type": "stream",
     "text": [
      "32.52751833087846\n",
      "32.527518330878465\n"
     ]
    }
   ],
   "source": [
    "first_frame = np.concatenate([\n",
    "    sample_signal[-2:], sample_signal[:-7:-1]\n",
    "])\n",
    "print(np.inner(first_frame, w.dec_lo[::-1]))\n",
    "print(ca[-1])"
   ]
  },
  {
   "cell_type": "markdown",
   "id": "ebe8ae2f",
   "metadata": {},
   "source": [
    "Длина фильтра 8, длина сигнала 24, так что приложить целиком внутри (со сдвигами на 2) получается 9 раз (стартовые позиции: $0, 2, \\ldots, 16$ соответственно).\n",
    "\n",
    "И ещё по 3 раза в каждую из сторон посдвигать, чтобы выйти за границы переданного сигнала, дополняя его в соответствии с параметром ```mode``` из ```pywt.dwt```. Как раз $9 + 2\\cdot 3 = 15$."
   ]
  },
  {
   "cell_type": "markdown",
   "id": "0ae0416e",
   "metadata": {},
   "source": [
    "В общем случае, надо думать, схема такая же. В вейвлетах Добеши каждый раз сдвигаем фильтр на 2 позиции для свёртки. В результате чего вектор коэффициентов будет примерно в 2 раза меньше."
   ]
  },
  {
   "cell_type": "code",
   "execution_count": 38,
   "id": "d4733123",
   "metadata": {},
   "outputs": [],
   "source": [
    "db = pywt.Wavelet('db4') #4 нулевых момента, то есть для полинома степени < 4 высокочастотные коэффициенты будут 0"
   ]
  },
  {
   "cell_type": "code",
   "execution_count": 44,
   "id": "0997a6a3",
   "metadata": {},
   "outputs": [
    {
     "data": {
      "text/plain": [
       "[<matplotlib.lines.Line2D at 0x1c5b94aa910>]"
      ]
     },
     "execution_count": 44,
     "metadata": {},
     "output_type": "execute_result"
    },
    {
     "data": {
      "image/png": "[encoded data removed]",
      "text/plain": [
       "<Figure size 432x288 with 1 Axes>"
      ]
     },
     "metadata": {
      "needs_background": "light"
     },
     "output_type": "display_data"
    }
   ],
   "source": [
    "def poly(x):\n",
    "    return 1.5 * x ** 3 - 6 * x ** 2 + 6.5 * x + 16\n",
    "\n",
    "sample_signal = poly(np.linspace(0, 1, 256))\n",
    "plt.plot(np.linspace(0, 1, 256), sample_signal)"
   ]
  },
  {
   "cell_type": "code",
   "execution_count": 49,
   "id": "1a2fe89d",
   "metadata": {},
   "outputs": [],
   "source": [
    "coeffs = pywt.wavedec(sample_signal, db)"
   ]
  },
  {
   "cell_type": "code",
   "execution_count": 50,
   "id": "c0c4c2af",
   "metadata": {},
   "outputs": [
    {
     "data": {
      "text/plain": [
       "[array([ 90.84865506,  90.81561216,  90.83360775,  90.8716061 ,\n",
       "         90.61003622,  91.58380374,  95.17236363,  98.15353407,\n",
       "        100.283178  , 101.6618352 , 102.38908345, 102.57803523,\n",
       "        102.2695286 , 101.80679774]),\n",
       " array([-3.45800768e-03, -1.95165619e-02, -1.68893706e-01,  3.37210367e-01,\n",
       "        -1.10843882e-01, -1.58584607e-02, -2.44249065e-15,  1.99840144e-15,\n",
       "         7.34849871e-07, -1.54896222e-03, -3.58937108e-02,  2.17345986e-02,\n",
       "         4.20822547e-02, -2.12152295e-02]),\n",
       " array([-1.86994320e-03, -1.43847598e-02, -1.14545021e-01,  1.20737227e-01,\n",
       "        -4.05304146e-02, -3.23439261e-03,  5.55111512e-17, -9.88098492e-15,\n",
       "         5.10702591e-15, -6.32827124e-15, -7.32747196e-15,  2.22044605e-15,\n",
       "        -6.43929354e-15,  1.97619698e-14, -1.66533454e-15,  5.77315973e-15,\n",
       "        -1.29149897e-05, -1.82370193e-04, -1.62478405e-02,  8.43666797e-03,\n",
       "         1.55593374e-02, -6.37540251e-03]),\n",
       " array([ 4.15616731e-02,  1.31207322e-01, -6.27391707e-02,  2.98955105e-02,\n",
       "        -1.32709935e-02, -8.78141876e-05, -3.88578059e-15, -4.66293670e-15,\n",
       "        -2.49800181e-15, -9.10382880e-15,  6.21724894e-15, -4.49640325e-15,\n",
       "         2.38697950e-15,  6.05071548e-15, -1.66533454e-15, -6.55031585e-15,\n",
       "         6.66133815e-16, -2.10942375e-15,  5.55111512e-16,  3.44169138e-15,\n",
       "        -7.77156117e-16,  3.94129174e-15, -1.11022302e-15,  5.60662627e-15,\n",
       "        -1.11022302e-15, -5.49560397e-15,  3.16413562e-15, -9.99200722e-16,\n",
       "        -1.66533454e-16,  6.66133815e-15, -1.11022302e-16, -9.99200722e-16,\n",
       "         2.77900064e-05,  1.46190296e-03,  3.54529206e-03, -3.57830632e-03,\n",
       "        -3.26765858e-04, -1.09863215e-03]),\n",
       " array([-1.07861744e-02, -2.89020535e-02,  2.52916115e-02, -8.26983843e-03,\n",
       "        -3.81174673e-04,  1.05471187e-15,  5.63438185e-15,  1.72084569e-15,\n",
       "        -3.05311332e-16,  3.13638004e-15,  2.80331314e-15,  6.52256027e-15,\n",
       "        -2.05391260e-15, -4.44089210e-16, -7.21644966e-16,  1.88737914e-15,\n",
       "        -1.38777878e-15,  1.49880108e-15, -1.27675648e-15,  7.77156117e-16,\n",
       "         1.27675648e-15, -5.93969318e-15, -2.05391260e-15, -5.55111512e-16,\n",
       "        -8.32667268e-16,  1.66533454e-15, -1.44328993e-15,  8.21565038e-15,\n",
       "         3.49720253e-15,  7.21644966e-16,  2.49800181e-15,  1.33226763e-15,\n",
       "         3.38618023e-15,  3.55271368e-15, -1.55431223e-15,  2.10942375e-15,\n",
       "         1.88737914e-15, -2.27595720e-15, -4.99600361e-16, -2.22044605e-16,\n",
       "         2.77555756e-15, -3.99680289e-15, -1.55431223e-15,  1.60982339e-15,\n",
       "         4.82947016e-15,  1.38777878e-15, -4.27435864e-15,  1.94289029e-15,\n",
       "         5.21804822e-15, -6.66133815e-16, -1.44328993e-15,  2.55351296e-15,\n",
       "         3.88578059e-16,  5.66213743e-15,  3.44169138e-15,  4.05231404e-15,\n",
       "        -5.60662627e-15,  5.55111512e-16,  1.60982339e-15, -2.88657986e-15,\n",
       "        -4.55191440e-15, -1.11022302e-15,  7.21644966e-16,  2.16493490e-15,\n",
       "         6.97281708e-06, -2.56131770e-03,  4.02808655e-03, -1.35072107e-03,\n",
       "        -1.19846888e-04]),\n",
       " array([ 6.06517513e-04,  1.04776195e-03, -1.65456329e-03,  6.38378239e-16,\n",
       "        -2.63677968e-15,  2.35922393e-15,  5.55111512e-16,  1.19348975e-15,\n",
       "        -4.71844785e-16,  1.16573418e-15,  3.33066907e-16, -3.05311332e-16,\n",
       "         1.94289029e-16, -5.27355937e-16, -1.77635684e-15,  1.30451205e-15,\n",
       "         4.71844785e-16,  2.02615702e-15,  1.22124533e-15, -1.60982339e-15,\n",
       "         1.85962357e-15,  1.11022302e-15,  1.19348975e-15, -2.94209102e-15,\n",
       "        -2.27595720e-15,  4.44089210e-16,  9.99200722e-16, -1.11022302e-15,\n",
       "        -4.71844785e-16, -4.16333634e-16,  1.94289029e-16,  1.72084569e-15,\n",
       "         8.32667268e-16, -1.99840144e-15, -1.36002321e-15,  1.02695630e-15,\n",
       "         1.60982339e-15,  2.27595720e-15,  2.60902411e-15,  2.38697950e-15,\n",
       "         2.08166817e-15,  1.99840144e-15,  1.30451205e-15, -2.47024623e-15,\n",
       "         1.91513472e-15,  1.66533454e-15,  6.10622664e-16, -1.94289029e-16,\n",
       "         2.22044605e-16,  3.33066907e-15,  2.55351296e-15,  1.36002321e-15,\n",
       "        -2.77555756e-16,  2.38697950e-15, -2.35922393e-15,  2.27595720e-15,\n",
       "        -1.38777878e-15,  8.32667268e-16, -6.66133815e-16,  2.41473508e-15,\n",
       "        -1.94289029e-16, -7.49400542e-16,  2.13717932e-15, -1.36002321e-15,\n",
       "        -6.66133815e-16, -8.60422844e-16,  7.49400542e-16, -1.38777878e-16,\n",
       "        -1.11022302e-15,  1.16573418e-15,  4.16333634e-16,  3.24740235e-15,\n",
       "        -8.32667268e-17, -2.22044605e-16,  1.47104551e-15,  1.47104551e-15,\n",
       "         1.55431223e-15,  8.32667268e-16,  1.94289029e-16,  2.22044605e-15,\n",
       "        -1.74860126e-15, -6.66133815e-16, -1.27675648e-15, -5.82867088e-16,\n",
       "         1.41553436e-15, -1.94289029e-16,  9.99200722e-16,  3.71924713e-15,\n",
       "         1.30451205e-15,  9.15933995e-16,  3.85802501e-15,  1.13797860e-15,\n",
       "        -7.49400542e-16, -2.08166817e-15,  5.82867088e-16,  1.11022302e-15,\n",
       "         4.44089210e-16, -1.24900090e-15,  2.41473508e-15,  2.22044605e-16,\n",
       "        -3.88578059e-16, -2.94209102e-15,  1.66533454e-16,  9.71445147e-16,\n",
       "         2.60902411e-15, -2.94209102e-15,  1.77635684e-15, -1.66533454e-16,\n",
       "         1.83186799e-15, -6.10622664e-16,  9.15933995e-16,  1.30451205e-15,\n",
       "         1.47104551e-15,  8.04911693e-16,  2.24820162e-15,  4.44089210e-16,\n",
       "         2.35922393e-15,  2.24820162e-15, -7.49400542e-16, -1.38777878e-16,\n",
       "        -2.49800181e-16, -1.19348975e-15, -3.16413562e-15, -1.85962357e-15,\n",
       "        -3.05311332e-15, -3.69149156e-15,  2.77555756e-17,  8.60422844e-16,\n",
       "         9.36625836e-05,  1.61729872e-04, -2.55108630e-04])]"
      ]
     },
     "execution_count": 50,
     "metadata": {},
     "output_type": "execute_result"
    }
   ],
   "source": [
    "coeffs #не 0 по краям, потому что там pywt паддит (не понимаю, зачем, если честно...)"
   ]
  },
  {
   "cell_type": "code",
   "execution_count": null,
   "id": "b75f4b2c",
   "metadata": {},
   "outputs": [],
   "source": []
  }
 ],
 "metadata": {
  "kernelspec": {
   "display_name": "Python 3 (ipykernel)",
   "language": "python",
   "name": "python3"
  },
  "language_info": {
   "codemirror_mode": {
    "name": "ipython",
    "version": 3
   },
   "file_extension": ".py",
   "mimetype": "text/x-python",
   "name": "python",
   "nbconvert_exporter": "python",
   "pygments_lexer": "ipython3",
   "version": "3.9.7"
  }
 },
 "nbformat": 4,
 "nbformat_minor": 5
}
