{
 "cells": [
  {
   "cell_type": "code",
   "execution_count": 5,
   "id": "681b2975",
   "metadata": {},
   "outputs": [],
   "source": [
    "import numpy as np\n",
    "import matplotlib.pyplot as plt\n",
    "%matplotlib inline\n",
    "\n",
    "def values(func, left, right, n):\n",
    "    return func(np.linspace(left, right, n))"
   ]
  },
  {
   "cell_type": "markdown",
   "id": "158a510c",
   "metadata": {},
   "source": [
    "Функции, которые работают:"
   ]
  },
  {
   "cell_type": "code",
   "execution_count": 6,
   "id": "1130df10",
   "metadata": {},
   "outputs": [],
   "source": [
    "def wtt_filter(input_vector, d, modes, ranks, check_correctness=False):\n",
    "    \n",
    "    filters = []\n",
    "    prod_modes = input_vector.size\n",
    "    \n",
    "    if check_correctness:\n",
    "        assert len(modes) == d\n",
    "        assert len(ranks) == d - 1\n",
    "        prod_modes_manual = 1\n",
    "        for mode in modes:\n",
    "            prod_modes_manual *= mode\n",
    "        assert prod_modes == prod_modes_manual\n",
    "    \n",
    "    r_prev = 1\n",
    "    A = input_vector\n",
    "    for k in range(d):\n",
    "        A = A.reshape((r_prev * modes[k], prod_modes // modes[k]), order='F')\n",
    "        if A.shape[0] <= A.shape[1]:\n",
    "            u, sigmas, vt = np.linalg.svd(A, full_matrices=False)\n",
    "        else:\n",
    "            u, sigmas, vt = np.linalg.svd(A, full_matrices=True)\n",
    "        filters.append(u)\n",
    "\n",
    "        if check_correctness:\n",
    "            assert u.shape[0] == u.shape[1] == r_prev * modes[k]\n",
    "            if k < d - 1:\n",
    "                assert ranks[k] <= r_prev * modes[k]\n",
    "\n",
    "        if k < d - 1:\n",
    "            A = (u.T @ A)[:ranks[k],:]\n",
    "            prod_modes //= modes[k]\n",
    "            r_prev = ranks[k]\n",
    "    \n",
    "    return filters"
   ]
  },
  {
   "cell_type": "markdown",
   "id": "25f27525",
   "metadata": {},
   "source": [
    "TODO: $\\varepsilon$-стратегия выбора рангов, WTT для больших размерностей (для анализа картинок, например)."
   ]
  },
  {
   "cell_type": "code",
   "execution_count": 47,
   "id": "2de25ca9",
   "metadata": {},
   "outputs": [],
   "source": [
    "def wtt_apply(input_vector, d, filters, modes, ranks, check_correctness=False):\n",
    "    prod_modes = input_vector.size\n",
    "    \n",
    "    if check_correctness:\n",
    "        assert len(filters) == d\n",
    "        assert len(modes) == d\n",
    "        assert len(ranks) == d - 1\n",
    "        prod_modes_manual = 1\n",
    "        for mode in modes:\n",
    "            prod_modes_manual *= mode\n",
    "        assert prod_modes == prod_modes_manual\n",
    "        \n",
    "    tails = []\n",
    "    A = input_vector\n",
    "    r_prev = 1\n",
    "    for k in range(d):\n",
    "        A = A.reshape((r_prev * modes[k], prod_modes // modes[k]), order='F')\n",
    "        A = filters[k].T @ A\n",
    "\n",
    "        if check_correctness:\n",
    "            assert A.shape[0] == r_prev * modes[k]\n",
    "            if k < d - 1:\n",
    "                assert ranks[k] <= r_prev * modes[k]\n",
    "                \n",
    "        if k < d - 1:\n",
    "            tails.append(A[ranks[k]:,:])\n",
    "            A = A[:ranks[k],:]\n",
    "            prod_modes //= modes[k]\n",
    "            r_prev = ranks[k]\n",
    "        \n",
    "    result = A\n",
    "    for k in range(d - 2, -1, -1):        \n",
    "        result = np.vstack([\n",
    "            result.reshape((ranks[k], prod_modes), order='F'),\n",
    "            tails[k]\n",
    "        ])\n",
    "        prod_modes *= modes[k]\n",
    "    \n",
    "    return result.flatten(order='F')"
   ]
  },
  {
   "cell_type": "code",
   "execution_count": 48,
   "id": "3ee281fe",
   "metadata": {},
   "outputs": [],
   "source": [
    "d = 10\n",
    "n = 2 ** d\n",
    "left = 0.\n",
    "right = 1.\n",
    "\n",
    "linspace = np.linspace(left, right, n)\n",
    "\n",
    "sqrt_x_values = values(lambda x: np.sqrt(x), left, right, n)"
   ]
  },
  {
   "cell_type": "code",
   "execution_count": 49,
   "id": "d07f3958",
   "metadata": {},
   "outputs": [],
   "source": [
    "modes = [2] * d\n",
    "ranks = [2] * (d - 1)\n",
    "\n",
    "filters = wtt_filter(\n",
    "    sqrt_x_values,\n",
    "    d,\n",
    "    modes,\n",
    "    ranks,\n",
    "    True\n",
    ")\n",
    "wtt_res = wtt_apply(\n",
    "    sqrt_x_values,\n",
    "    d,\n",
    "    filters,\n",
    "    modes,\n",
    "    ranks,\n",
    "    True\n",
    ")"
   ]
  },
  {
   "cell_type": "code",
   "execution_count": 50,
   "id": "c78240fb",
   "metadata": {},
   "outputs": [
    {
     "name": "stdout",
     "output_type": "stream",
     "text": [
      "[[0 0 3]\n",
      " [0 0 6]\n",
      " [0 0 9]]\n",
      "[[0 0 0]\n",
      " [0 0 0]\n",
      " [7 8 9]]\n"
     ]
    }
   ],
   "source": [
    "test = np.array([\n",
    "    [1,2,3],\n",
    "    [4,5,6],\n",
    "    [7,8,9]\n",
    "])\n",
    "print(test * np.array([0,0,1]))\n",
    "print(test * np.array([[0],[0],[1]]))"
   ]
  },
  {
   "cell_type": "markdown",
   "id": "b9d34f49",
   "metadata": {},
   "source": [
    "Пайплайн для счёта общей матрицы преобразования $W$:"
   ]
  },
  {
   "cell_type": "code",
   "execution_count": 57,
   "id": "9c1ce1a8",
   "metadata": {},
   "outputs": [],
   "source": [
    "W = filters[-1].T\n",
    "I = np.eye(modes[-1])\n",
    "for k in range(d - 2, -1, -1):\n",
    "    r = ranks[k]\n",
    "    r_prev = 1 if k == 0 else ranks[k - 1]\n",
    "    m = modes[k]\n",
    "\n",
    "    assert I.shape[0] == I.shape[1] == np.prod(modes[k + 1:])\n",
    "    \n",
    "    E = np.eye(r_prev * m, r) \n",
    "\n",
    "    R = filters[k][:,:r]\n",
    "    assert np.allclose(R, filters[k] @ E)\n",
    "\n",
    "    P = filters[k] * np.array(\n",
    "        [0.] * r + [1.] * (m * r_prev - r)\n",
    "    )\n",
    "    assert np.allclose(P, filters[k] @ (np.eye(r_prev * m) - E @ E.T))\n",
    "    \n",
    "    W = np.kron(I, E) @ W @ np.kron(I, R.T) + np.kron(I, P.T)\n",
    "    I = np.kron(np.eye(m), I)"
   ]
  },
  {
   "cell_type": "markdown",
   "id": "bd6862ae",
   "metadata": {},
   "source": [
    "TODO: возможно, крону с единичной матрицей можно ускорить.\n",
    "\n",
    "В отличие от статьи, надо поменять порядок в кронах. Стандартная крона:\n",
    "$$\n",
    "A \\otimes B =\n",
    "\\begin{pmatrix}\n",
    "a_{11} B & \\ldots & a_{1n}B \\\\\n",
    "\\vdots & \\ddots & \\vdots \\\\\n",
    "a_{m1} B & \\ldots & a_{mn}B \\\\\n",
    "\\end{pmatrix}\n",
    "$$\n",
    "\n",
    "Индексы бегают быстрее из $B$, потом --- из $A$. Но раз в той же статье мы хотим $$W_{i_1,...,i_k; j_1,...,j_k} = V^{(1)}_{i_1,j_1} \\ldots V^{(k)}_{i_k,k_k} \\Rightarrow W = V_1 \\otimes \\ldots \\otimes V_k$$, а запись $W_{i_1,...,i_k; j_1,...,j_k}$ подразумевает, что левые индексы меняются быстро, правые --- медленно (Fortran порядок), то крона должна действовать не как обычно. В общем, при кроне у левой матрицы индексы должны меняться быстро, у правой --- медленно."
   ]
  },
  {
   "cell_type": "code",
   "execution_count": 58,
   "id": "64e76756",
   "metadata": {},
   "outputs": [
    {
     "data": {
      "text/plain": [
       "(1024, 1024)"
      ]
     },
     "execution_count": 58,
     "metadata": {},
     "output_type": "execute_result"
    }
   ],
   "source": [
    "W.shape"
   ]
  },
  {
   "cell_type": "code",
   "execution_count": 77,
   "id": "6cb583bc",
   "metadata": {},
   "outputs": [],
   "source": [
    "assert np.allclose(W @ sqrt_x_values, wtt_res)"
   ]
  },
  {
   "cell_type": "markdown",
   "id": "9b6cf720",
   "metadata": {},
   "source": [
    "Как я понимаю, базисные функции --- строки итоговой матрицы (м.б. с нормированием):"
   ]
  },
  {
   "cell_type": "code",
   "execution_count": 78,
   "id": "9e24cbbb",
   "metadata": {},
   "outputs": [
    {
     "data": {
      "text/plain": [
       "[<matplotlib.lines.Line2D at 0x27c00510dc0>]"
      ]
     },
     "execution_count": 78,
     "metadata": {},
     "output_type": "execute_result"
    },
    {
     "data": {
      "image/png": "[encoded data removed]",
      "text/plain": [
       "<Figure size 432x288 with 1 Axes>"
      ]
     },
     "metadata": {
      "needs_background": "light"
     },
     "output_type": "display_data"
    }
   ],
   "source": [
    "plt.plot(linspace, W[0,:])"
   ]
  },
  {
   "cell_type": "markdown",
   "id": "e255b37b",
   "metadata": {},
   "source": [
    "Ага, форма такая, но граничные значения разнятся."
   ]
  },
  {
   "cell_type": "code",
   "execution_count": 82,
   "id": "2234d94d",
   "metadata": {},
   "outputs": [
    {
     "data": {
      "text/plain": [
       "[<matplotlib.lines.Line2D at 0x27c007e53a0>]"
      ]
     },
     "execution_count": 82,
     "metadata": {},
     "output_type": "execute_result"
    },
    {
     "data": {
      "image/png": "[encoded data removed]",
      "text/plain": [
       "<Figure size 432x288 with 1 Axes>"
      ]
     },
     "metadata": {
      "needs_background": "light"
     },
     "output_type": "display_data"
    }
   ],
   "source": [
    "plt.plot(linspace, W[1,:])"
   ]
  },
  {
   "cell_type": "code",
   "execution_count": 89,
   "id": "b8ba6538",
   "metadata": {},
   "outputs": [
    {
     "data": {
      "text/plain": [
       "[<matplotlib.lines.Line2D at 0x27c00adc190>]"
      ]
     },
     "execution_count": 89,
     "metadata": {},
     "output_type": "execute_result"
    },
    {
     "data": {
      "image/png": "[encoded data removed]",
      "text/plain": [
       "<Figure size 432x288 with 1 Axes>"
      ]
     },
     "metadata": {
      "needs_background": "light"
     },
     "output_type": "display_data"
    }
   ],
   "source": [
    "plt.plot(linspace, W[2,:])"
   ]
  },
  {
   "cell_type": "code",
   "execution_count": 95,
   "id": "5ab76f29",
   "metadata": {},
   "outputs": [],
   "source": [
    "d = 10\n",
    "n = 2 ** d\n",
    "left = 0.\n",
    "right = 1.\n",
    "\n",
    "linspace = np.linspace(left, right, n)\n",
    "\n",
    "sin_sq_values = values(lambda x: np.sin(500 * x ** 2), left, right, n)"
   ]
  },
  {
   "cell_type": "code",
   "execution_count": 96,
   "id": "f5e396a6",
   "metadata": {},
   "outputs": [],
   "source": [
    "modes = [2] * d\n",
    "ranks = [2] * (d - 1)\n",
    "\n",
    "filters = wtt_filter(\n",
    "    sin_sq_values,\n",
    "    d,\n",
    "    modes,\n",
    "    ranks,\n",
    "    True\n",
    ")\n",
    "wtt_res = wtt_apply(\n",
    "    sqrt_x_values,\n",
    "    d,\n",
    "    filters,\n",
    "    modes,\n",
    "    ranks,\n",
    "    True\n",
    ")"
   ]
  },
  {
   "cell_type": "code",
   "execution_count": 97,
   "id": "f04fbca7",
   "metadata": {},
   "outputs": [],
   "source": [
    "W = filters[-1].T\n",
    "I = np.eye(modes[-1])\n",
    "for k in range(d - 2, -1, -1):\n",
    "    r = ranks[k]\n",
    "    r_prev = 1 if k == 0 else ranks[k - 1]\n",
    "    m = modes[k]\n",
    "\n",
    "    assert I.shape[0] == I.shape[1] == np.prod(modes[k + 1:])\n",
    "    \n",
    "    E = np.eye(r_prev * m, r) \n",
    "\n",
    "    R = filters[k][:,:r]\n",
    "    assert np.allclose(R, filters[k] @ E)\n",
    "\n",
    "    P = filters[k] * np.array(\n",
    "        [0.] * r + [1.] * (m * r_prev - r)\n",
    "    )\n",
    "    assert np.allclose(P, filters[k] @ (np.eye(r_prev * m) - E @ E.T))\n",
    "    \n",
    "    W = np.kron(I, E) @ W @ np.kron(I, R.T) + np.kron(I, P.T)\n",
    "    I = np.kron(np.eye(m), I)"
   ]
  },
  {
   "cell_type": "code",
   "execution_count": 98,
   "id": "78dc5f98",
   "metadata": {},
   "outputs": [
    {
     "data": {
      "text/plain": [
       "[<matplotlib.lines.Line2D at 0x27c00b98fa0>]"
      ]
     },
     "execution_count": 98,
     "metadata": {},
     "output_type": "execute_result"
    },
    {
     "data": {
      "image/png": "[encoded data removed]",
      "text/plain": [
       "<Figure size 432x288 with 1 Axes>"
      ]
     },
     "metadata": {
      "needs_background": "light"
     },
     "output_type": "display_data"
    }
   ],
   "source": [
    "plt.plot(linspace, W[0,:])"
   ]
  },
  {
   "cell_type": "code",
   "execution_count": 99,
   "id": "da9a5eac",
   "metadata": {},
   "outputs": [
    {
     "data": {
      "text/plain": [
       "[<matplotlib.lines.Line2D at 0x27c00c036a0>]"
      ]
     },
     "execution_count": 99,
     "metadata": {},
     "output_type": "execute_result"
    },
    {
     "data": {
      "image/png": "[encoded data removed]",
      "text/plain": [
       "<Figure size 432x288 with 1 Axes>"
      ]
     },
     "metadata": {
      "needs_background": "light"
     },
     "output_type": "display_data"
    }
   ],
   "source": [
    "plt.plot(linspace, W[1,:])"
   ]
  },
  {
   "cell_type": "code",
   "execution_count": 100,
   "id": "ce37ac30",
   "metadata": {},
   "outputs": [
    {
     "data": {
      "text/plain": [
       "[<matplotlib.lines.Line2D at 0x27c00c58f40>]"
      ]
     },
     "execution_count": 100,
     "metadata": {},
     "output_type": "execute_result"
    },
    {
     "data": {
      "image/png": "[encoded data removed]",
      "text/plain": [
       "<Figure size 432x288 with 1 Axes>"
      ]
     },
     "metadata": {
      "needs_background": "light"
     },
     "output_type": "display_data"
    }
   ],
   "source": [
    "plt.plot(linspace, W[2,:])"
   ]
  },
  {
   "cell_type": "code",
   "execution_count": null,
   "id": "a90d04b0",
   "metadata": {},
   "outputs": [],
   "source": []
  }
 ],
 "metadata": {
  "kernelspec": {
   "display_name": "Python 3 (ipykernel)",
   "language": "python",
   "name": "python3"
  },
  "language_info": {
   "codemirror_mode": {
    "name": "ipython",
    "version": 3
   },
   "file_extension": ".py",
   "mimetype": "text/x-python",
   "name": "python",
   "nbconvert_exporter": "python",
   "pygments_lexer": "ipython3",
   "version": "3.9.7"
  }
 },
 "nbformat": 4,
 "nbformat_minor": 5
}
