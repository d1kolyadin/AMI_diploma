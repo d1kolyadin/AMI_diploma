{
 "cells": [
  {
   "cell_type": "code",
   "execution_count": 1,
   "id": "681b2975",
   "metadata": {},
   "outputs": [],
   "source": [
    "import numpy as np\n",
    "import matplotlib.pyplot as plt\n",
    "%matplotlib inline\n",
    "\n",
    "def values(func, left, right, n):\n",
    "    return func(np.linspace(left, right, n))"
   ]
  },
  {
   "cell_type": "markdown",
   "id": "158a510c",
   "metadata": {},
   "source": [
    "Функции, которые работают:"
   ]
  },
  {
   "cell_type": "code",
   "execution_count": 2,
   "id": "1130df10",
   "metadata": {},
   "outputs": [],
   "source": [
    "def wtt_filter(input_vector, d, modes, ranks=None, eps=None, check_correctness=False):\n",
    "    assert ranks is not None or eps is not None\n",
    "    \n",
    "    filters = []\n",
    "    prod_modes = input_vector.size\n",
    "    \n",
    "    if check_correctness:\n",
    "        assert len(modes) == d\n",
    "        if ranks is not None:\n",
    "            assert len(ranks) == d - 1\n",
    "        if eps is not None:\n",
    "            assert eps > 0\n",
    "        assert prod_modes == np.prod(modes)\n",
    "        \n",
    "    true_ranks = []\n",
    "    \n",
    "    r_prev = 1\n",
    "    A = input_vector\n",
    "    for k in range(d):\n",
    "        A = A.reshape((r_prev * modes[k], prod_modes // modes[k]), order='F')\n",
    "        if A.shape[0] <= A.shape[1]:\n",
    "            u, sigmas, vt = np.linalg.svd(A, full_matrices=False)\n",
    "        else:\n",
    "            u, sigmas, vt = np.linalg.svd(A, full_matrices=True)\n",
    "            \n",
    "        r_given = None if ranks is None else (1 if k == d - 1 else ranks[k])\n",
    "        r_eps = None if eps is None else max(1, (sigmas >= eps * sigmas[0]).sum())\n",
    "        #поменял eps-стратегию в соответствие с кодом из репозитория\n",
    "        if r_given is not None and r_eps is not None:\n",
    "            r_cur = min(r_given, r_eps)\n",
    "        elif r_given is not None:\n",
    "            r_cur = r_given\n",
    "        else:\n",
    "            r_cur = r_eps\n",
    "        \n",
    "        filters.append(u)\n",
    "\n",
    "        if check_correctness:\n",
    "            assert u.shape[0] == u.shape[1] == r_prev * modes[k]\n",
    "            if k < d - 1:\n",
    "                assert r_cur <= r_prev * modes[k]\n",
    "\n",
    "        if k < d - 1:\n",
    "            A = (u.T @ A)[:r_cur,:]\n",
    "            prod_modes //= modes[k]\n",
    "            true_ranks.append(r_cur)\n",
    "            r_prev = r_cur\n",
    "    \n",
    "    return filters, true_ranks"
   ]
  },
  {
   "cell_type": "code",
   "execution_count": 3,
   "id": "2de25ca9",
   "metadata": {},
   "outputs": [],
   "source": [
    "def wtt_apply(input_vector, d, filters, modes, ranks, check_correctness=False):\n",
    "    prod_modes = input_vector.size\n",
    "    \n",
    "    if check_correctness:\n",
    "        assert len(filters) == d\n",
    "        assert len(modes) == d\n",
    "        assert len(ranks) == d - 1\n",
    "        assert prod_modes == np.prod(modes)\n",
    "        \n",
    "    tails = []\n",
    "    A = input_vector\n",
    "    r_prev = 1\n",
    "    for k in range(d):\n",
    "        A = A.reshape((r_prev * modes[k], prod_modes // modes[k]), order='F')\n",
    "        A = filters[k].T @ A\n",
    "\n",
    "        if check_correctness:\n",
    "            assert A.shape[0] == r_prev * modes[k]\n",
    "            if k < d - 1:\n",
    "                assert ranks[k] <= r_prev * modes[k]\n",
    "                \n",
    "        if k < d - 1:\n",
    "            tails.append(A[ranks[k]:,:])\n",
    "            A = A[:ranks[k],:]\n",
    "            prod_modes //= modes[k]\n",
    "            r_prev = ranks[k]\n",
    "        \n",
    "    result = A\n",
    "    for k in range(d - 2, -1, -1):        \n",
    "        result = np.vstack([\n",
    "            result.reshape((ranks[k], prod_modes), order='F'),\n",
    "            tails[k]\n",
    "        ])\n",
    "        prod_modes *= modes[k]\n",
    "    \n",
    "    return result.flatten(order='F')"
   ]
  },
  {
   "cell_type": "code",
   "execution_count": 4,
   "id": "3ee281fe",
   "metadata": {},
   "outputs": [],
   "source": [
    "d = 10\n",
    "n = 2 ** d\n",
    "left = 0.\n",
    "right = 1.\n",
    "\n",
    "linspace = np.linspace(left, right, n)\n",
    "\n",
    "sqrt_x_values = values(lambda x: np.sqrt(x), left, right, n)"
   ]
  },
  {
   "cell_type": "code",
   "execution_count": 5,
   "id": "d07f3958",
   "metadata": {},
   "outputs": [],
   "source": [
    "modes = [2] * d\n",
    "ranks = [2] * (d - 1)\n",
    "\n",
    "filters, _ = wtt_filter(\n",
    "    sqrt_x_values,\n",
    "    d,\n",
    "    modes,\n",
    "    ranks=ranks,\n",
    "    check_correctness=True\n",
    ")\n",
    "wtt_res = wtt_apply(\n",
    "    sqrt_x_values,\n",
    "    d,\n",
    "    filters,\n",
    "    modes,\n",
    "    ranks,\n",
    "    True\n",
    ")"
   ]
  },
  {
   "cell_type": "markdown",
   "id": "b9d34f49",
   "metadata": {},
   "source": [
    "Пайплайн для счёта общей матрицы преобразования $W$:"
   ]
  },
  {
   "cell_type": "code",
   "execution_count": 6,
   "id": "9c1ce1a8",
   "metadata": {},
   "outputs": [],
   "source": [
    "W = filters[-1].T\n",
    "I = np.eye(modes[-1])\n",
    "for k in range(d - 2, -1, -1):\n",
    "    r = ranks[k]\n",
    "    r_prev = 1 if k == 0 else ranks[k - 1]\n",
    "    m = modes[k]\n",
    "\n",
    "    assert I.shape[0] == I.shape[1] == np.prod(modes[k + 1:])\n",
    "    \n",
    "    E = np.eye(r_prev * m, r) \n",
    "\n",
    "    R = filters[k][:,:r]\n",
    "    assert np.allclose(R, filters[k] @ E)\n",
    "\n",
    "    P = filters[k] * np.array(\n",
    "        [0.] * r + [1.] * (m * r_prev - r)\n",
    "    )\n",
    "    assert np.allclose(P, filters[k] @ (np.eye(r_prev * m) - E @ E.T))\n",
    "    \n",
    "    W = np.kron(I, E) @ W @ np.kron(I, R.T) + np.kron(I, P.T)\n",
    "    I = np.kron(np.eye(m), I)"
   ]
  },
  {
   "cell_type": "markdown",
   "id": "bd6862ae",
   "metadata": {},
   "source": [
    "TODO: возможно, крону с единичной матрицей можно ускорить.\n",
    "\n",
    "В отличие от статьи, надо поменять порядок в кронах. Стандартная крона:\n",
    "$$\n",
    "A \\otimes B =\n",
    "\\begin{pmatrix}\n",
    "a_{11} B & \\ldots & a_{1n}B \\\\\n",
    "\\vdots & \\ddots & \\vdots \\\\\n",
    "a_{m1} B & \\ldots & a_{mn}B \\\\\n",
    "\\end{pmatrix}\n",
    "$$\n",
    "\n",
    "Индексы бегают быстрее из $B$, потом --- из $A$. Но раз в той же статье мы хотим $$W_{i_1,...,i_k; j_1,...,j_k} = V^{(1)}_{i_1,j_1} \\ldots V^{(k)}_{i_k,k_k} \\Rightarrow W = V_1 \\otimes \\ldots \\otimes V_k$$, а запись $W_{i_1,...,i_k; j_1,...,j_k}$ подразумевает, что левые индексы меняются быстро, правые --- медленно (Fortran порядок), то крона должна действовать не как обычно. В общем, при кроне у левой матрицы индексы должны меняться быстро, у правой --- медленно."
   ]
  },
  {
   "cell_type": "code",
   "execution_count": 7,
   "id": "64e76756",
   "metadata": {},
   "outputs": [
    {
     "data": {
      "text/plain": [
       "(1024, 1024)"
      ]
     },
     "execution_count": 7,
     "metadata": {},
     "output_type": "execute_result"
    }
   ],
   "source": [
    "W.shape"
   ]
  },
  {
   "cell_type": "code",
   "execution_count": 8,
   "id": "6cb583bc",
   "metadata": {},
   "outputs": [],
   "source": [
    "assert np.allclose(W @ sqrt_x_values, wtt_res)"
   ]
  },
  {
   "cell_type": "markdown",
   "id": "9b6cf720",
   "metadata": {},
   "source": [
    "Как я понимаю, базисные функции --- строки итоговой матрицы (м.б. с нормированием):"
   ]
  },
  {
   "cell_type": "code",
   "execution_count": 9,
   "id": "9e24cbbb",
   "metadata": {},
   "outputs": [
    {
     "data": {
      "text/plain": [
       "[<matplotlib.lines.Line2D at 0x19e912a04c0>]"
      ]
     },
     "execution_count": 9,
     "metadata": {},
     "output_type": "execute_result"
    },
    {
     "data": {
      "image/png": "[encoded data removed]",
      "text/plain": [
       "<Figure size 432x288 with 1 Axes>"
      ]
     },
     "metadata": {
      "needs_background": "light"
     },
     "output_type": "display_data"
    }
   ],
   "source": [
    "plt.plot(linspace, W[0,:])"
   ]
  },
  {
   "cell_type": "markdown",
   "id": "e255b37b",
   "metadata": {},
   "source": [
    "Ага, форма такая, но граничные значения разнятся."
   ]
  },
  {
   "cell_type": "code",
   "execution_count": 10,
   "id": "2234d94d",
   "metadata": {},
   "outputs": [
    {
     "data": {
      "text/plain": [
       "[<matplotlib.lines.Line2D at 0x19e9138bd30>]"
      ]
     },
     "execution_count": 10,
     "metadata": {},
     "output_type": "execute_result"
    },
    {
     "data": {
      "image/png": "[encoded data removed]",
      "text/plain": [
       "<Figure size 432x288 with 1 Axes>"
      ]
     },
     "metadata": {
      "needs_background": "light"
     },
     "output_type": "display_data"
    }
   ],
   "source": [
    "plt.plot(linspace, W[1,:])"
   ]
  },
  {
   "cell_type": "code",
   "execution_count": 11,
   "id": "b8ba6538",
   "metadata": {},
   "outputs": [
    {
     "data": {
      "text/plain": [
       "[<matplotlib.lines.Line2D at 0x19e91404130>]"
      ]
     },
     "execution_count": 11,
     "metadata": {},
     "output_type": "execute_result"
    },
    {
     "data": {
      "image/png": "[encoded data removed]",
      "text/plain": [
       "<Figure size 432x288 with 1 Axes>"
      ]
     },
     "metadata": {
      "needs_background": "light"
     },
     "output_type": "display_data"
    }
   ],
   "source": [
    "plt.plot(linspace, W[2,:])"
   ]
  },
  {
   "cell_type": "markdown",
   "id": "9bd0be14",
   "metadata": {},
   "source": [
    "Коэффициенты для корня:"
   ]
  },
  {
   "cell_type": "code",
   "execution_count": 12,
   "id": "a47d9a81",
   "metadata": {},
   "outputs": [
    {
     "data": {
      "text/plain": [
       "<matplotlib.legend.Legend at 0x19e914374f0>"
      ]
     },
     "execution_count": 12,
     "metadata": {},
     "output_type": "execute_result"
    },
    {
     "data": {
      "image/png": "[encoded data removed]",
      "text/plain": [
       "<Figure size 576x576 with 1 Axes>"
      ]
     },
     "metadata": {
      "needs_background": "light"
     },
     "output_type": "display_data"
    }
   ],
   "source": [
    "d = 10\n",
    "n = 2 ** d\n",
    "left = 0.\n",
    "right = 1.\n",
    "\n",
    "linspace = np.linspace(left, right, n)\n",
    "sqrt_x_values = values(lambda x: np.sqrt(x), left, right, n)\n",
    "\n",
    "wtt_coefs_sqrt = []\n",
    "for r in [2, 3, 4]:\n",
    "    modes = [2] * d\n",
    "    ranks = [2] + [r] * (d - 2)\n",
    "\n",
    "    filters, _ = wtt_filter(\n",
    "        sqrt_x_values,\n",
    "        d,\n",
    "        modes,\n",
    "        ranks=ranks,\n",
    "        check_correctness=True\n",
    "    )\n",
    "    wtt_res = wtt_apply(\n",
    "        sqrt_x_values,\n",
    "        d,\n",
    "        filters,\n",
    "        modes,\n",
    "        ranks,\n",
    "        True\n",
    "    )\n",
    "    wtt_coefs_sqrt.append(np.flip(np.sort(np.abs(wtt_res))))\n",
    "    \n",
    "plt.figure(figsize=(8,8))\n",
    "for i, r in enumerate([2, 3, 4]):\n",
    "    plt.plot(np.arange(2 ** d), wtt_coefs_sqrt[i], label=str(r))\n",
    "plt.xscale('log')\n",
    "plt.yscale('log')\n",
    "plt.legend()"
   ]
  },
  {
   "cell_type": "code",
   "execution_count": 13,
   "id": "4636c18f",
   "metadata": {},
   "outputs": [
    {
     "data": {
      "text/plain": [
       "<matplotlib.legend.Legend at 0x19e91c30c10>"
      ]
     },
     "execution_count": 13,
     "metadata": {},
     "output_type": "execute_result"
    },
    {
     "data": {
      "image/png": "[encoded data removed]",
      "text/plain": [
       "<Figure size 576x576 with 1 Axes>"
      ]
     },
     "metadata": {
      "needs_background": "light"
     },
     "output_type": "display_data"
    }
   ],
   "source": [
    "plt.figure(figsize=(8,8))\n",
    "for i, r in enumerate([2, 3, 4]):\n",
    "    if r == 2:\n",
    "        plt.plot(np.arange(2 ** d), wtt_coefs_sqrt[i], label=str(r))\n",
    "    else:\n",
    "        plt.plot(np.arange(2 ** d)[:975], wtt_coefs_sqrt[i][:975], label=str(r))\n",
    "plt.xscale('log')\n",
    "plt.yscale('log')\n",
    "plt.legend()"
   ]
  },
  {
   "cell_type": "markdown",
   "id": "bbcac4ca",
   "metadata": {},
   "source": [
    "Базисные функции для синуса:"
   ]
  },
  {
   "cell_type": "code",
   "execution_count": 14,
   "id": "5ab76f29",
   "metadata": {},
   "outputs": [],
   "source": [
    "d = 10\n",
    "n = 2 ** d\n",
    "left = 0.\n",
    "right = 1.\n",
    "\n",
    "linspace = np.linspace(left, right, n)\n",
    "\n",
    "sin_sq_values = values(lambda x: np.sin(500 * x ** 2), left, right, n)"
   ]
  },
  {
   "cell_type": "code",
   "execution_count": 15,
   "id": "f5e396a6",
   "metadata": {},
   "outputs": [],
   "source": [
    "modes = [2] * d\n",
    "ranks = [2] * (d - 1)\n",
    "\n",
    "filters, _ = wtt_filter(\n",
    "    sin_sq_values,\n",
    "    d,\n",
    "    modes,\n",
    "    ranks=ranks,\n",
    "    check_correctness=True\n",
    ")\n",
    "wtt_res = wtt_apply(\n",
    "    sqrt_x_values,\n",
    "    d,\n",
    "    filters,\n",
    "    modes,\n",
    "    ranks,\n",
    "    True\n",
    ")"
   ]
  },
  {
   "cell_type": "code",
   "execution_count": 16,
   "id": "f04fbca7",
   "metadata": {},
   "outputs": [],
   "source": [
    "W = filters[-1].T\n",
    "I = np.eye(modes[-1])\n",
    "for k in range(d - 2, -1, -1):\n",
    "    r = ranks[k]\n",
    "    r_prev = 1 if k == 0 else ranks[k - 1]\n",
    "    m = modes[k]\n",
    "\n",
    "    assert I.shape[0] == I.shape[1] == np.prod(modes[k + 1:])\n",
    "    \n",
    "    E = np.eye(r_prev * m, r) \n",
    "\n",
    "    R = filters[k][:,:r]\n",
    "    assert np.allclose(R, filters[k] @ E)\n",
    "\n",
    "    P = filters[k] * np.array(\n",
    "        [0.] * r + [1.] * (m * r_prev - r)\n",
    "    )\n",
    "    assert np.allclose(P, filters[k] @ (np.eye(r_prev * m) - E @ E.T))\n",
    "    \n",
    "    W = np.kron(I, E) @ W @ np.kron(I, R.T) + np.kron(I, P.T)\n",
    "    I = np.kron(np.eye(m), I)"
   ]
  },
  {
   "cell_type": "code",
   "execution_count": 17,
   "id": "78dc5f98",
   "metadata": {},
   "outputs": [
    {
     "data": {
      "text/plain": [
       "[<matplotlib.lines.Line2D at 0x19e91c5f100>]"
      ]
     },
     "execution_count": 17,
     "metadata": {},
     "output_type": "execute_result"
    },
    {
     "data": {
      "image/png": "[encoded data removed]",
      "text/plain": [
       "<Figure size 432x288 with 1 Axes>"
      ]
     },
     "metadata": {
      "needs_background": "light"
     },
     "output_type": "display_data"
    }
   ],
   "source": [
    "plt.plot(linspace, W[0,:])"
   ]
  },
  {
   "cell_type": "code",
   "execution_count": 18,
   "id": "da9a5eac",
   "metadata": {},
   "outputs": [
    {
     "data": {
      "text/plain": [
       "[<matplotlib.lines.Line2D at 0x19e914dd490>]"
      ]
     },
     "execution_count": 18,
     "metadata": {},
     "output_type": "execute_result"
    },
    {
     "data": {
      "image/png": "[encoded data removed]",
      "text/plain": [
       "<Figure size 432x288 with 1 Axes>"
      ]
     },
     "metadata": {
      "needs_background": "light"
     },
     "output_type": "display_data"
    }
   ],
   "source": [
    "plt.plot(linspace, W[1,:])"
   ]
  },
  {
   "cell_type": "code",
   "execution_count": 19,
   "id": "ce37ac30",
   "metadata": {},
   "outputs": [
    {
     "data": {
      "text/plain": [
       "[<matplotlib.lines.Line2D at 0x19e91526f10>]"
      ]
     },
     "execution_count": 19,
     "metadata": {},
     "output_type": "execute_result"
    },
    {
     "data": {
      "image/png": "[encoded data removed]",
      "text/plain": [
       "<Figure size 432x288 with 1 Axes>"
      ]
     },
     "metadata": {
      "needs_background": "light"
     },
     "output_type": "display_data"
    }
   ],
   "source": [
    "plt.plot(linspace, W[2,:])"
   ]
  },
  {
   "cell_type": "markdown",
   "id": "a8abc268",
   "metadata": {},
   "source": [
    "Коэффициенты для синуса:"
   ]
  },
  {
   "cell_type": "code",
   "execution_count": 20,
   "id": "6cb3c820",
   "metadata": {},
   "outputs": [
    {
     "data": {
      "text/plain": [
       "<matplotlib.legend.Legend at 0x19e9156f1c0>"
      ]
     },
     "execution_count": 20,
     "metadata": {},
     "output_type": "execute_result"
    },
    {
     "data": {
      "image/png": "[encoded data removed]",
      "text/plain": [
       "<Figure size 576x576 with 1 Axes>"
      ]
     },
     "metadata": {
      "needs_background": "light"
     },
     "output_type": "display_data"
    }
   ],
   "source": [
    "d = 10\n",
    "n = 2 ** d\n",
    "left = 0.\n",
    "right = 1.\n",
    "\n",
    "linspace = np.linspace(left, right, n)\n",
    "sin_sq_values = values(lambda x: np.sin(500 * x ** 2), left, right, n)\n",
    "\n",
    "wtt_coefs_sin_sq = []\n",
    "for r in [2, 3, 4]:\n",
    "    modes = [2] * d\n",
    "    ranks = [2] + [r] * (d - 2)\n",
    "\n",
    "    filters, _ = wtt_filter(\n",
    "        sin_sq_values,\n",
    "        d,\n",
    "        modes,\n",
    "        ranks=ranks,\n",
    "        check_correctness=True\n",
    "    )\n",
    "    wtt_res = wtt_apply(\n",
    "        sin_sq_values,\n",
    "        d,\n",
    "        filters,\n",
    "        modes,\n",
    "        ranks,\n",
    "        True\n",
    "    )\n",
    "    wtt_coefs_sin_sq.append(np.flip(np.sort(np.abs(wtt_res))))\n",
    "    \n",
    "plt.figure(figsize=(8,8))\n",
    "for i, r in enumerate([2, 3, 4]):\n",
    "    plt.plot(np.arange(2 ** d), wtt_coefs_sin_sq[i], label=str(r))\n",
    "plt.xscale('log')\n",
    "plt.yscale('log')\n",
    "plt.legend()"
   ]
  },
  {
   "cell_type": "code",
   "execution_count": 21,
   "id": "016b759c",
   "metadata": {},
   "outputs": [
    {
     "data": {
      "text/plain": [
       "<matplotlib.legend.Legend at 0x19e93028f70>"
      ]
     },
     "execution_count": 21,
     "metadata": {},
     "output_type": "execute_result"
    },
    {
     "data": {
      "image/png": "[encoded data removed]",
      "text/plain": [
       "<Figure size 576x576 with 1 Axes>"
      ]
     },
     "metadata": {
      "needs_background": "light"
     },
     "output_type": "display_data"
    }
   ],
   "source": [
    "plt.figure(figsize=(8,8))\n",
    "for i, r in enumerate([2, 3, 4]):\n",
    "    plt.plot(np.arange(2 ** d)[:1000], wtt_coefs_sin_sq[i][:1000], label=str(r))\n",
    "plt.xscale('log')\n",
    "plt.yscale('log')\n",
    "plt.legend()"
   ]
  },
  {
   "cell_type": "code",
   "execution_count": 22,
   "id": "b89334a3",
   "metadata": {},
   "outputs": [
    {
     "data": {
      "text/plain": [
       "<matplotlib.legend.Legend at 0x19e971b8ac0>"
      ]
     },
     "execution_count": 22,
     "metadata": {},
     "output_type": "execute_result"
    },
    {
     "data": {
      "image/png": "[encoded data removed]",
      "text/plain": [
       "<Figure size 576x576 with 1 Axes>"
      ]
     },
     "metadata": {
      "needs_background": "light"
     },
     "output_type": "display_data"
    }
   ],
   "source": [
    "plt.figure(figsize=(8,8))\n",
    "for i, r in enumerate([2, 3, 4]):\n",
    "    plt.plot(np.arange(2 ** d)[:980], wtt_coefs_sin_sq[i][:980], label=str(r))\n",
    "plt.xscale('log')\n",
    "plt.yscale('log')\n",
    "plt.legend()"
   ]
  },
  {
   "cell_type": "markdown",
   "id": "17aba11c",
   "metadata": {},
   "source": [
    "Тесты $\\varepsilon$-стратегии:"
   ]
  },
  {
   "cell_type": "code",
   "execution_count": 23,
   "id": "cb3b9dcb",
   "metadata": {},
   "outputs": [
    {
     "name": "stdout",
     "output_type": "stream",
     "text": [
      "[2, 3, 3, 3, 3, 3, 3, 3, 2]\n"
     ]
    }
   ],
   "source": [
    "d = 10\n",
    "n = 2 ** d\n",
    "left = 0.\n",
    "right = 1.\n",
    "\n",
    "linspace = np.linspace(left, right, n)\n",
    "\n",
    "sqrt_x_values = values(lambda x: np.sqrt(x), left, right, n)\n",
    "\n",
    "modes = [2] * d\n",
    "eps = 1e-4\n",
    "filters, true_ranks = wtt_filter(sqrt_x_values, d, modes, eps=eps, check_correctness=True)\n",
    "print(true_ranks)"
   ]
  },
  {
   "cell_type": "code",
   "execution_count": 24,
   "id": "46447783",
   "metadata": {},
   "outputs": [
    {
     "name": "stdout",
     "output_type": "stream",
     "text": [
      "[2, 4, 4, 4, 5, 5, 5, 4, 2]\n"
     ]
    }
   ],
   "source": [
    "eps = 1e-6\n",
    "filters, true_ranks = wtt_filter(sqrt_x_values, d, modes, eps=eps, check_correctness=True)\n",
    "print(true_ranks)"
   ]
  },
  {
   "cell_type": "code",
   "execution_count": 25,
   "id": "00ca8bde",
   "metadata": {},
   "outputs": [
    {
     "name": "stdout",
     "output_type": "stream",
     "text": [
      "[2, 4, 5, 6, 6, 6, 6, 4, 2]\n"
     ]
    }
   ],
   "source": [
    "eps = 1e-8\n",
    "filters, true_ranks = wtt_filter(sqrt_x_values, d, modes, eps=eps, check_correctness=True)\n",
    "print(true_ranks)"
   ]
  },
  {
   "cell_type": "markdown",
   "id": "fabbdd70",
   "metadata": {},
   "source": [
    "Сверим также, как себя ведёт $\\varepsilon$-стратегия в плане памяти. Сверимся со статьёй 2011 года."
   ]
  },
  {
   "cell_type": "code",
   "execution_count": 26,
   "id": "45b4b51d",
   "metadata": {},
   "outputs": [],
   "source": [
    "d = 20\n",
    "n = 2 ** d\n",
    "left = 0.\n",
    "right = 1.\n",
    "\n",
    "linspace = np.linspace(left, right, n)\n",
    "\n",
    "sin_x_values = values(lambda x: np.sin(100 * x), left, right, n)\n",
    "\n",
    "modes = [2] * d"
   ]
  },
  {
   "cell_type": "code",
   "execution_count": 27,
   "id": "9b787a7e",
   "metadata": {},
   "outputs": [
    {
     "name": "stdout",
     "output_type": "stream",
     "text": [
      "[0.0001, 1e-06, 1e-08, 1e-10, 1e-12]\n",
      "eps= 0.0001\n",
      "First two elems: 725.656197207254 6.743501361855546e-05\n",
      "Max among last: 0.0001907356659131475\n",
      "[1, 1, 2, 2, 2, 2, 2, 2, 2, 2, 2, 2, 2, 2, 2, 2, 2, 2, 2]\n",
      "284\n",
      "eps= 1e-06\n",
      "First two elems: 725.6562012962519 -7.300180924450032e-15\n",
      "Max among last: 9.013884240848282e-14\n",
      "[2, 2, 2, 2, 2, 2, 2, 2, 2, 2, 2, 2, 2, 2, 2, 2, 2, 2, 2]\n",
      "308\n",
      "eps= 1e-08\n",
      "First two elems: 725.6562012962519 -7.300180924450032e-15\n",
      "Max among last: 9.013884240848282e-14\n",
      "[2, 2, 2, 2, 2, 2, 2, 2, 2, 2, 2, 2, 2, 2, 2, 2, 2, 2, 2]\n",
      "308\n",
      "eps= 1e-10\n",
      "First two elems: 725.6562012962519 -7.300180924450032e-15\n",
      "Max among last: 9.013884240848282e-14\n",
      "[2, 2, 2, 2, 2, 2, 2, 2, 2, 2, 2, 2, 2, 2, 2, 2, 2, 2, 2]\n",
      "308\n",
      "eps= 1e-12\n",
      "First two elems: 725.6562012962519 -7.300180924450032e-15\n",
      "Max among last: 9.013884240848282e-14\n",
      "[2, 2, 2, 2, 2, 2, 2, 2, 2, 2, 2, 2, 2, 2, 2, 2, 2, 2, 2]\n",
      "308\n"
     ]
    }
   ],
   "source": [
    "epsilons = [10 ** (-4 - 2 * i) for i in range(5)]\n",
    "print(epsilons)\n",
    "\n",
    "for eps in epsilons:\n",
    "    print(\"eps=\", eps)\n",
    "    filters, true_ranks = wtt_filter(sin_x_values, d, modes, eps=eps, check_correctness=True)\n",
    "    wtt_result = wtt_apply(sin_x_values, d, filters, modes, true_ranks, True)\n",
    "    #NNZ\n",
    "    print(\"First two elems:\", wtt_result[0], wtt_result[1])\n",
    "    print(\"Max among last:\", np.max(wtt_result[2:]))\n",
    "    #ранги = 2\n",
    "    print(true_ranks)\n",
    "    \n",
    "    memory_for_filters = 0\n",
    "    for u in filters:\n",
    "        memory_for_filters += u.size\n",
    "    print(memory_for_filters)"
   ]
  },
  {
   "cell_type": "markdown",
   "id": "7f0eee1d",
   "metadata": {},
   "source": [
    "Не совсем так, как в статье...\n",
    "\n",
    "Во-первых, memory не 152: по идее, у нас одна матрица 2 на 2 и 19 матриц 4 на 4 с рангом 2, поэтому нам надо 308 ячеек памяти для хранения..."
   ]
  },
  {
   "cell_type": "code",
   "execution_count": 28,
   "id": "781719b3",
   "metadata": {},
   "outputs": [
    {
     "name": "stdout",
     "output_type": "stream",
     "text": [
      "308\n"
     ]
    }
   ],
   "source": [
    "print(2 * 2 + 19 * 4 * 4)"
   ]
  },
  {
   "cell_type": "markdown",
   "id": "d2aabd2a",
   "metadata": {},
   "source": [
    "Подобралось, что 152 получается так: 2 матрицы 2 на 2 (видимо, по краям) и 18 матриц 4 на 2. Но куски фильтров (матрицы $U_k$) квадратные, судя по алгоритму..."
   ]
  },
  {
   "cell_type": "code",
   "execution_count": 29,
   "id": "9a237d1b",
   "metadata": {},
   "outputs": [
    {
     "name": "stdout",
     "output_type": "stream",
     "text": [
      "152\n"
     ]
    }
   ],
   "source": [
    "print(2 * 2 * 2 + 18 * 2 * 4)"
   ]
  },
  {
   "cell_type": "markdown",
   "id": "79c6ab23",
   "metadata": {},
   "source": [
    "Во-вторых, при $\\varepsilon = 10^{-4}$ мы слабо округляем (мб это из-за того, что я округление поправил).\n",
    "\n",
    "В-третьих, NNZ у нас 1, не 2."
   ]
  },
  {
   "cell_type": "markdown",
   "id": "579ffacd",
   "metadata": {},
   "source": [
    "Имплементация обратного преобразования.\n",
    "\n",
    "Здесь ```filters``` --- фильтры, которые получены при помощи ```wtt_transform``` (фильтры для прямого преобразования; менять их не надо)."
   ]
  },
  {
   "cell_type": "code",
   "execution_count": 30,
   "id": "2e7cf700",
   "metadata": {},
   "outputs": [],
   "source": [
    "def iwtt_apply(input_vector, d, filters, modes, ranks, check_correctness=False):\n",
    "    prod_modes = input_vector.size\n",
    "    \n",
    "    if check_correctness:\n",
    "        assert len(filters) == d\n",
    "        assert len(modes) == d\n",
    "        assert len(ranks) == d - 1\n",
    "        assert prod_modes == np.prod(modes)\n",
    "        \n",
    "    tails = []\n",
    "    A = input_vector\n",
    "    r_prev = 1\n",
    "    for k in range(d):\n",
    "        A = A.reshape((r_prev * modes[k], prod_modes // modes[k]), order='F')\n",
    "\n",
    "        if check_correctness:\n",
    "            assert A.shape[0] == r_prev * modes[k]\n",
    "            if k < d - 1:\n",
    "                assert ranks[k] <= r_prev * modes[k]\n",
    "                \n",
    "        if k < d - 1:\n",
    "            tails.append(A[ranks[k]:,:])\n",
    "            A = A[:ranks[k],:]\n",
    "            prod_modes //= modes[k]\n",
    "            r_prev = ranks[k]\n",
    "        \n",
    "    #prod_modes == modes[-1] в конце\n",
    "    result = A\n",
    "    for k in range(d - 1, -1, -1):\n",
    "        \n",
    "        r_prev = 1 if k == 0 else ranks[k - 1]\n",
    "        if k == d - 1:\n",
    "            result = (filters[k] @ result).reshape((r_prev, prod_modes), order='F')\n",
    "        else:\n",
    "            result = (filters[k] @ np.vstack([\n",
    "                result,\n",
    "                tails[k]\n",
    "            ])).reshape((r_prev, prod_modes), order='F')\n",
    "        prod_modes *= modes[k]\n",
    "    \n",
    "    return result.flatten(order='F')"
   ]
  },
  {
   "cell_type": "code",
   "execution_count": 31,
   "id": "2f53e709",
   "metadata": {},
   "outputs": [],
   "source": [
    "d = 10\n",
    "n = 2 ** d\n",
    "left = 0.\n",
    "right = 1.\n",
    "\n",
    "linspace = np.linspace(left, right, n)\n",
    "\n",
    "sin_sq_values = values(lambda x: np.sin(500 * x ** 2), left, right, n)\n",
    "modes = [2] * d\n",
    "ranks = [2] * (d - 1)\n",
    "\n",
    "filters, true_ranks = wtt_filter(\n",
    "    sin_sq_values,\n",
    "    d,\n",
    "    modes,\n",
    "    ranks=ranks,\n",
    "    check_correctness=True\n",
    ")"
   ]
  },
  {
   "cell_type": "code",
   "execution_count": 32,
   "id": "235fe0d9",
   "metadata": {},
   "outputs": [
    {
     "data": {
      "text/plain": [
       "1.8933495201809243e-14"
      ]
     },
     "execution_count": 32,
     "metadata": {},
     "output_type": "execute_result"
    }
   ],
   "source": [
    "input_vector = np.random.rand(*sin_sq_values.shape)\n",
    "wtt_result = wtt_apply(input_vector, d, filters, modes, true_ranks, True)\n",
    "invwtt_result = iwtt_apply(wtt_result, d, filters, modes, true_ranks, True)\n",
    "np.linalg.norm(input_vector - invwtt_result)"
   ]
  },
  {
   "cell_type": "code",
   "execution_count": 33,
   "id": "81e93b61",
   "metadata": {},
   "outputs": [
    {
     "data": {
      "text/plain": [
       "2.6073096691598496e-14"
      ]
     },
     "execution_count": 33,
     "metadata": {},
     "output_type": "execute_result"
    }
   ],
   "source": [
    "wtt_result = wtt_apply(sin_sq_values, d, filters, modes, true_ranks, True)\n",
    "invwtt_result = iwtt_apply(wtt_result, d, filters, modes, true_ranks, True)\n",
    "np.linalg.norm(sin_sq_values - invwtt_result)"
   ]
  },
  {
   "cell_type": "markdown",
   "id": "50bfa835",
   "metadata": {},
   "source": [
    "Получается!"
   ]
  },
  {
   "cell_type": "markdown",
   "id": "18f46937",
   "metadata": {},
   "source": [
    "Применение вейвлетов в 2d: как я понимаю, надо решейпнуть матрицу $2^d \\times 2^d$ в $2 \\times \\ldots \\times 2$, затем попереставлять индексы и снова решейпнуть."
   ]
  },
  {
   "cell_type": "code",
   "execution_count": 34,
   "id": "9696772d",
   "metadata": {},
   "outputs": [],
   "source": [
    "def matrix_to_vector(A, d, modes, check_correctness=False):\n",
    "    if check_correctness is True:\n",
    "        assert A.shape[0] == A.shape[1] == np.prod(modes)\n",
    "        assert len(modes) == d\n",
    "    result = np.reshape(A, modes + modes, order='F')\n",
    "    axes_transpose = []\n",
    "    for i in range(d):\n",
    "        axes_transpose.append(i)\n",
    "        axes_transpose.append(d + i)\n",
    "    result = np.transpose(result, axes_transpose)\n",
    "    new_modes = [m ** 2 for m in modes]\n",
    "    result = np.reshape(result, new_modes, order='F')\n",
    "    return result.flatten(order='F'), new_modes"
   ]
  },
  {
   "cell_type": "code",
   "execution_count": 35,
   "id": "0a04e3d5",
   "metadata": {},
   "outputs": [],
   "source": [
    "def vector_to_matrix(v, d, modes, check_correctness=False):\n",
    "    if check_correctness is True:\n",
    "        assert v.size == np.prod(modes)\n",
    "        assert len(modes) == d\n",
    "    new_modes = [int(np.sqrt(m)) for m in modes]\n",
    "    if check_correctness is True:\n",
    "        assert np.all(modes == np.square(new_modes))\n",
    "    result = np.reshape(v, new_modes + new_modes, order='F')\n",
    "    axes_transpose = []\n",
    "    for i in range(d):\n",
    "        axes_transpose.append(2 * i)\n",
    "    for i in range(d):\n",
    "        axes_transpose.append(2 * i + 1)\n",
    "    result = np.transpose(result, axes_transpose)\n",
    "    result = np.reshape(result, (np.prod(new_modes), np.prod(new_modes)), order='F')\n",
    "    return result, new_modes"
   ]
  },
  {
   "cell_type": "code",
   "execution_count": 36,
   "id": "9c87a565",
   "metadata": {},
   "outputs": [],
   "source": [
    "d = 5\n",
    "n = 2 ** d\n",
    "A = np.random.rand(n, n)\n",
    "modes = [2] * d\n",
    "\n",
    "v, new_modes = matrix_to_vector(A, d, modes, True)\n",
    "assert new_modes == [4] * d\n",
    "\n",
    "A_changed, modes_changed = vector_to_matrix(v, d, new_modes, True)\n",
    "assert np.all(A_changed == A)\n",
    "assert modes_changed == modes"
   ]
  },
  {
   "cell_type": "markdown",
   "id": "70a20962",
   "metadata": {},
   "source": [
    "Применение WTT к матрице: переход к вектору, обычное WTT, переход обратно к матрице.\n",
    "\n",
    "Диск:"
   ]
  },
  {
   "cell_type": "code",
   "execution_count": 37,
   "id": "0f8bdc99",
   "metadata": {},
   "outputs": [],
   "source": [
    "d = 10\n",
    "n = 2 ** d\n",
    "distances = np.fromfunction(\n",
    "    lambda i, j: (i - n / 2) ** 2 + (j - n / 2) ** 2,\n",
    "    (n, n)\n",
    ")\n",
    "A = np.ones((n, n))\n",
    "A[distances <= (n ** 2) / 4] = 2\n",
    "matrix_modes = [2] * d\n",
    "\n",
    "r_max = 2\n",
    "ranks = [r_max] * (d - 1)"
   ]
  },
  {
   "cell_type": "code",
   "execution_count": 38,
   "id": "9358b519",
   "metadata": {},
   "outputs": [
    {
     "name": "stdout",
     "output_type": "stream",
     "text": [
      "346845\n",
      "[3, 3, 3, 5, 8, 11, 15, 13, 4]\n",
      "1875.896852174886\n"
     ]
    }
   ],
   "source": [
    "eps = 1e-2\n",
    "v, vector_modes = matrix_to_vector(A, d, matrix_modes)\n",
    "    \n",
    "filters, true_ranks = wtt_filter(v, d, vector_modes, eps=eps)\n",
    "wtt_res = wtt_apply(v, d, filters, vector_modes, true_ranks)\n",
    "wtt_A, _ = vector_to_matrix(wtt_res, d, vector_modes)\n",
    "\n",
    "print(np.sum(np.isclose(wtt_A, 0)))\n",
    "print(true_ranks)\n",
    "print(np.linalg.norm(wtt_A))"
   ]
  },
  {
   "cell_type": "code",
   "execution_count": 39,
   "id": "e844ac43",
   "metadata": {},
   "outputs": [
    {
     "data": {
      "text/plain": [
       "701731"
      ]
     },
     "execution_count": 39,
     "metadata": {},
     "output_type": "execute_result"
    }
   ],
   "source": [
    "np.sum(np.abs(wtt_A) > 1e-8)"
   ]
  },
  {
   "cell_type": "code",
   "execution_count": 40,
   "id": "064250e4",
   "metadata": {},
   "outputs": [
    {
     "name": "stdout",
     "output_type": "stream",
     "text": [
      "257714\n",
      "[2, 2, 2, 2, 2, 2, 2, 2, 2]\n",
      "1875.8968521747681\n"
     ]
    }
   ],
   "source": [
    "eps = 1e-4\n",
    "v, vector_modes = matrix_to_vector(A, d, matrix_modes)\n",
    "    \n",
    "filters, true_ranks = wtt_filter(v, d, vector_modes, eps=eps, ranks=ranks)\n",
    "wtt_res = wtt_apply(v, d, filters, vector_modes, true_ranks)\n",
    "wtt_A, _ = vector_to_matrix(wtt_res, d, vector_modes)\n",
    "\n",
    "print(np.sum(np.isclose(wtt_A, 0)))\n",
    "print(true_ranks)\n",
    "print(np.linalg.norm(wtt_A))"
   ]
  },
  {
   "cell_type": "code",
   "execution_count": 41,
   "id": "40a4cc3f",
   "metadata": {},
   "outputs": [
    {
     "data": {
      "text/plain": [
       "790862"
      ]
     },
     "execution_count": 41,
     "metadata": {},
     "output_type": "execute_result"
    }
   ],
   "source": [
    "np.sum(np.abs(wtt_A) > 1e-8)"
   ]
  },
  {
   "cell_type": "code",
   "execution_count": 42,
   "id": "07d930bb",
   "metadata": {},
   "outputs": [
    {
     "name": "stdout",
     "output_type": "stream",
     "text": [
      "257714\n",
      "[2, 2, 2, 2, 2, 2, 2, 2, 2]\n",
      "1875.8968521747681\n"
     ]
    }
   ],
   "source": [
    "eps = 1e-8\n",
    "v, vector_modes = matrix_to_vector(A, d, matrix_modes)\n",
    "    \n",
    "filters, true_ranks = wtt_filter(v, d, vector_modes, eps=eps, ranks=ranks)\n",
    "wtt_res = wtt_apply(v, d, filters, vector_modes, true_ranks)\n",
    "wtt_A, _ = vector_to_matrix(wtt_res, d, vector_modes)\n",
    "\n",
    "print(np.sum(np.isclose(wtt_A, 0)))\n",
    "print(true_ranks)\n",
    "print(np.linalg.norm(wtt_A))"
   ]
  },
  {
   "cell_type": "code",
   "execution_count": 43,
   "id": "eef9e1cc",
   "metadata": {},
   "outputs": [
    {
     "data": {
      "text/plain": [
       "790862"
      ]
     },
     "execution_count": 43,
     "metadata": {},
     "output_type": "execute_result"
    }
   ],
   "source": [
    "np.sum(np.abs(wtt_A) > 1e-8)"
   ]
  },
  {
   "cell_type": "markdown",
   "id": "28fdc129",
   "metadata": {},
   "source": [
    "Фиксированные ранги:"
   ]
  },
  {
   "cell_type": "code",
   "execution_count": 44,
   "id": "e55b6e8e",
   "metadata": {},
   "outputs": [
    {
     "name": "stdout",
     "output_type": "stream",
     "text": [
      "464161\n",
      "[4, 16, 30, 30, 30, 30, 30, 16, 4]\n",
      "1875.896852174894\n"
     ]
    }
   ],
   "source": [
    "ranks = [30] * d\n",
    "filters, true_ranks = wtt_filter(v, d, vector_modes, ranks=ranks, eps=0)\n",
    "wtt_res = wtt_apply(v, d, filters, vector_modes, true_ranks)\n",
    "wtt_A, _ = vector_to_matrix(wtt_res, d, vector_modes)\n",
    "\n",
    "print(np.sum(np.isclose(wtt_A, 0)))\n",
    "print(true_ranks)\n",
    "print(np.linalg.norm(wtt_A))"
   ]
  },
  {
   "cell_type": "code",
   "execution_count": 45,
   "id": "61a99499",
   "metadata": {},
   "outputs": [
    {
     "name": "stdout",
     "output_type": "stream",
     "text": [
      "454307\n",
      "[4, 16, 16, 16, 16, 16, 16, 16, 4]\n",
      "1875.8968521749207\n"
     ]
    }
   ],
   "source": [
    "ranks = [16] * d\n",
    "filters, true_ranks = wtt_filter(v, d, vector_modes, ranks=ranks, eps=0)\n",
    "wtt_res = wtt_apply(v, d, filters, vector_modes, true_ranks)\n",
    "wtt_A, _ = vector_to_matrix(wtt_res, d, vector_modes)\n",
    "\n",
    "print(np.sum(np.isclose(wtt_A, 0)))\n",
    "print(true_ranks)\n",
    "print(np.linalg.norm(wtt_A))"
   ]
  },
  {
   "cell_type": "code",
   "execution_count": 46,
   "id": "27b6d09c",
   "metadata": {},
   "outputs": [
    {
     "name": "stdout",
     "output_type": "stream",
     "text": [
      "464161\n",
      "[4, 16, 30, 30, 30, 30, 29, 13, 4]\n",
      "1875.8968521748936\n"
     ]
    }
   ],
   "source": [
    "ranks = [30] * d\n",
    "eps = 10**(-4)\n",
    "filters, true_ranks = wtt_filter(v, d, vector_modes, ranks=ranks, eps=eps)\n",
    "wtt_res = wtt_apply(v, d, filters, vector_modes, true_ranks)\n",
    "wtt_A, _ = vector_to_matrix(wtt_res, d, vector_modes)\n",
    "\n",
    "print(np.sum(np.isclose(wtt_A, 0)))\n",
    "print(true_ranks)\n",
    "print(np.linalg.norm(wtt_A))"
   ]
  },
  {
   "cell_type": "code",
   "execution_count": 47,
   "id": "c91d0a80",
   "metadata": {},
   "outputs": [
    {
     "name": "stdout",
     "output_type": "stream",
     "text": [
      "454307\n",
      "[4, 16, 16, 16, 16, 16, 16, 13, 4]\n",
      "1875.8968521749207\n"
     ]
    }
   ],
   "source": [
    "ranks = [16] * d\n",
    "eps = 10**(-4)\n",
    "filters, true_ranks = wtt_filter(v, d, vector_modes, ranks=ranks, eps=eps)\n",
    "wtt_res = wtt_apply(v, d, filters, vector_modes, true_ranks)\n",
    "wtt_A, _ = vector_to_matrix(wtt_res, d, vector_modes)\n",
    "\n",
    "print(np.sum(np.isclose(wtt_A, 0)))\n",
    "print(true_ranks)\n",
    "print(np.linalg.norm(wtt_A))"
   ]
  },
  {
   "cell_type": "markdown",
   "id": "4797a2b3",
   "metadata": {},
   "source": [
    "Тесты шума: обучение на незашумлённых данных, применение к зашумлённым."
   ]
  },
  {
   "cell_type": "code",
   "execution_count": 48,
   "id": "e6a38a1f",
   "metadata": {},
   "outputs": [],
   "source": [
    "d = 15\n",
    "n = 2 ** d\n",
    "left = 0.\n",
    "right = 1.\n",
    "\n",
    "linspace = np.linspace(left, right, n)\n",
    "\n",
    "f_values = values(lambda x: np.sin(30 * x) + np.exp(-x) - 0.1 * np.exp(np.sqrt(x)), left, right, n)\n",
    "\n",
    "modes = [2] * d\n",
    "\n",
    "ranks = [8] * (d - 1)\n",
    "\n",
    "eps = 1e-8"
   ]
  },
  {
   "cell_type": "code",
   "execution_count": 49,
   "id": "501748cb",
   "metadata": {},
   "outputs": [
    {
     "data": {
      "text/plain": [
       "[2, 4, 4, 5, 5, 5, 5, 6, 6, 6, 6, 7, 4, 2]"
      ]
     },
     "execution_count": 49,
     "metadata": {},
     "output_type": "execute_result"
    }
   ],
   "source": [
    "filters, true_ranks = wtt_filter(f_values, d, modes, ranks=ranks, eps=eps)\n",
    "true_ranks"
   ]
  },
  {
   "cell_type": "code",
   "execution_count": 50,
   "id": "bc86969e",
   "metadata": {},
   "outputs": [
    {
     "name": "stdout",
     "output_type": "stream",
     "text": [
      "32495 273\n"
     ]
    }
   ],
   "source": [
    "wtt_result = wtt_apply(f_values, d, filters, modes, true_ranks)\n",
    "zeroed = np.sum(np.isclose(wtt_result, 0))\n",
    "print(zeroed, wtt_result.size - zeroed)"
   ]
  },
  {
   "cell_type": "markdown",
   "id": "1e870927",
   "metadata": {},
   "source": [
    "Также посмотрим на качество восстановления:"
   ]
  },
  {
   "cell_type": "code",
   "execution_count": 51,
   "id": "0cc8de69",
   "metadata": {},
   "outputs": [
    {
     "name": "stdout",
     "output_type": "stream",
     "text": [
      "1.4236586719941903e-13\n"
     ]
    }
   ],
   "source": [
    "iwtt_result = iwtt_apply(wtt_result, d, filters, modes, true_ranks)\n",
    "print(np.linalg.norm(iwtt_result - f_values))"
   ]
  },
  {
   "cell_type": "code",
   "execution_count": 52,
   "id": "c5bc682e",
   "metadata": {},
   "outputs": [
    {
     "name": "stdout",
     "output_type": "stream",
     "text": [
      "0 32768\n"
     ]
    }
   ],
   "source": [
    "f_values_noisy = f_values + np.random.normal(scale=1e-3, size=f_values.size)\n",
    "wtt_result_noisy = wtt_apply(f_values_noisy, d, filters, modes, true_ranks)\n",
    "zeroed = np.sum(np.isclose(wtt_result_noisy, 0))\n",
    "print(zeroed, wtt_result_noisy.size - zeroed)"
   ]
  },
  {
   "cell_type": "code",
   "execution_count": 53,
   "id": "c516ae7a",
   "metadata": {},
   "outputs": [
    {
     "name": "stdout",
     "output_type": "stream",
     "text": [
      "1.9552445409906298e-13\n"
     ]
    }
   ],
   "source": [
    "iwtt_result = iwtt_apply(wtt_result_noisy, d, filters, modes, true_ranks)\n",
    "print(np.linalg.norm(iwtt_result - f_values_noisy))"
   ]
  },
  {
   "cell_type": "code",
   "execution_count": 54,
   "id": "b012717c",
   "metadata": {},
   "outputs": [
    {
     "name": "stdout",
     "output_type": "stream",
     "text": [
      "2538 30230\n"
     ]
    }
   ],
   "source": [
    "f_values_noisy_2 = f_values + np.random.normal(scale=1e-7, size=f_values.size)\n",
    "wtt_result_noisy_2 = wtt_apply(f_values_noisy_2, d, filters, modes, true_ranks)\n",
    "zeroed = np.sum(np.isclose(wtt_result_noisy_2, 0))\n",
    "print(zeroed, wtt_result_noisy_2.size - zeroed)"
   ]
  },
  {
   "cell_type": "code",
   "execution_count": 55,
   "id": "d559b31a",
   "metadata": {},
   "outputs": [
    {
     "name": "stdout",
     "output_type": "stream",
     "text": [
      "1.5564235394009226e-13\n"
     ]
    }
   ],
   "source": [
    "iwtt_result = iwtt_apply(wtt_result_noisy_2, d, filters, modes, true_ranks)\n",
    "print(np.linalg.norm(iwtt_result - f_values_noisy_2))"
   ]
  },
  {
   "cell_type": "code",
   "execution_count": 56,
   "id": "49265145",
   "metadata": {},
   "outputs": [
    {
     "data": {
      "text/plain": [
       "<matplotlib.legend.Legend at 0x19e92edcf10>"
      ]
     },
     "execution_count": 56,
     "metadata": {},
     "output_type": "execute_result"
    },
    {
     "data": {
      "image/png": "[encoded data removed]",
      "text/plain": [
       "<Figure size 576x576 with 1 Axes>"
      ]
     },
     "metadata": {
      "needs_background": "light"
     },
     "output_type": "display_data"
    }
   ],
   "source": [
    "plt.figure(figsize=(8,8))\n",
    "plt.plot(np.arange(n), np.flip(np.sort(np.abs(wtt_result))), label='no noise')\n",
    "plt.plot(np.arange(n), np.flip(np.sort(np.abs(wtt_result_noisy))), label='noise')\n",
    "plt.plot(np.arange(n), np.flip(np.sort(np.abs(wtt_result_noisy_2))), label='small noise')\n",
    "plt.xscale('log')\n",
    "plt.yscale('log')\n",
    "plt.legend()"
   ]
  },
  {
   "cell_type": "markdown",
   "id": "27c7f266",
   "metadata": {},
   "source": [
    "Устойчивость фильтров при обучении на зашумлённых данных:"
   ]
  },
  {
   "cell_type": "code",
   "execution_count": 57,
   "id": "27f54ecb",
   "metadata": {},
   "outputs": [
    {
     "name": "stdout",
     "output_type": "stream",
     "text": [
      "0\n",
      "(2, 2)\n",
      "2.9053643710552124e-06\n",
      "1\n",
      "(4, 4)\n",
      "0.9032029653268794\n",
      "2\n",
      "(8, 8)\n",
      "1.3698610095675363\n",
      "3\n",
      "(8, 8)\n",
      "1.1338405917814167\n",
      "4\n",
      "(10, 10)\n",
      "1.2803013965535432\n",
      "5\n",
      "(10, 10)\n",
      "1.3196472322365977\n",
      "6\n",
      "(10, 10)\n",
      "1.2028033293267388\n",
      "7\n",
      "(10, 10)\n",
      "1.1596450804368965\n",
      "8\n",
      "(12, 12)\n",
      "1.4229824805057953\n",
      "9\n",
      "(12, 12)\n",
      "1.2731672386108392\n",
      "10\n",
      "(12, 12)\n",
      "1.1991213622605157\n",
      "11\n",
      "(12, 12)\n",
      "0.9628188712920435\n",
      "12\n",
      "(14, 14)\n",
      "0.00721465785456697\n",
      "13\n",
      "(8, 8)\n",
      "1.235321542929929e-05\n",
      "14\n",
      "(4, 4)\n",
      "9.784567439278087e-06\n"
     ]
    }
   ],
   "source": [
    "filters_noisy, _ = wtt_filter(f_values_noisy, d, modes, ranks=true_ranks)\n",
    "for i in range(len(filters_noisy)):\n",
    "    print(i)\n",
    "    print(filters[i].shape)\n",
    "    print(np.linalg.norm(filters_noisy[i] - filters[i]) / np.linalg.norm(filters[i]))"
   ]
  },
  {
   "cell_type": "code",
   "execution_count": 58,
   "id": "9ac77940",
   "metadata": {},
   "outputs": [
    {
     "name": "stdout",
     "output_type": "stream",
     "text": [
      "0\n",
      "(2, 2)\n",
      "3.3512057363389364e-10\n",
      "1\n",
      "(4, 4)\n",
      "2.732029973543086e-05\n",
      "2\n",
      "(8, 8)\n",
      "1.0284318566618038\n",
      "3\n",
      "(8, 8)\n",
      "0.4843360980222096\n",
      "4\n",
      "(10, 10)\n",
      "1.0405833450985114\n",
      "5\n",
      "(10, 10)\n",
      "1.070212013740169\n",
      "6\n",
      "(10, 10)\n",
      "1.0863994844631597\n",
      "7\n",
      "(10, 10)\n",
      "0.9696793909781872\n",
      "8\n",
      "(12, 12)\n",
      "1.1297900175713118\n",
      "9\n",
      "(12, 12)\n",
      "1.0347874179542635\n",
      "10\n",
      "(12, 12)\n",
      "0.9987557223494091\n",
      "11\n",
      "(12, 12)\n",
      "0.6937440461195595\n",
      "12\n",
      "(14, 14)\n",
      "4.1970841338867277e-07\n",
      "13\n",
      "(8, 8)\n",
      "1.495120869591674e-09\n",
      "14\n",
      "(4, 4)\n",
      "9.596344112568272e-10\n"
     ]
    }
   ],
   "source": [
    "filters_noisy_2, _ = wtt_filter(f_values_noisy_2, d, modes, ranks=true_ranks)\n",
    "for i in range(len(filters_noisy_2)):\n",
    "    print(i)\n",
    "    print(filters[i].shape)\n",
    "    print(np.linalg.norm(filters_noisy_2[i] - filters[i]) / np.linalg.norm(filters[i]))"
   ]
  },
  {
   "cell_type": "markdown",
   "id": "85b6eaa1",
   "metadata": {},
   "source": [
    "Обучение на зашумлённых фильтрах:"
   ]
  },
  {
   "cell_type": "code",
   "execution_count": 59,
   "id": "253d23b5",
   "metadata": {},
   "outputs": [
    {
     "data": {
      "text/plain": [
       "0.020726109074055074"
      ]
     },
     "execution_count": 59,
     "metadata": {},
     "output_type": "execute_result"
    }
   ],
   "source": [
    "np.linalg.norm(wtt_result - wtt_apply(f_values, d, filters_noisy, modes, true_ranks))"
   ]
  },
  {
   "cell_type": "code",
   "execution_count": 60,
   "id": "05f588e9",
   "metadata": {},
   "outputs": [
    {
     "data": {
      "text/plain": [
       "2.811758840161236e-06"
      ]
     },
     "execution_count": 60,
     "metadata": {},
     "output_type": "execute_result"
    }
   ],
   "source": [
    "np.linalg.norm(wtt_result - wtt_apply(f_values, d, filters_noisy_2, modes, true_ranks))"
   ]
  },
  {
   "cell_type": "markdown",
   "id": "dbfc08e4",
   "metadata": {},
   "source": [
    "Попытка восстановления истинного результата зашумлёнными фильтрами:"
   ]
  },
  {
   "cell_type": "code",
   "execution_count": 61,
   "id": "86191446",
   "metadata": {},
   "outputs": [
    {
     "data": {
      "text/plain": [
       "0.020726109074044183"
      ]
     },
     "execution_count": 61,
     "metadata": {},
     "output_type": "execute_result"
    }
   ],
   "source": [
    "np.linalg.norm(f_values - iwtt_apply(wtt_result, d, filters_noisy, modes, true_ranks))"
   ]
  },
  {
   "cell_type": "code",
   "execution_count": 62,
   "id": "fe8255bd",
   "metadata": {},
   "outputs": [
    {
     "data": {
      "text/plain": [
       "2.8117588352632517e-06"
      ]
     },
     "execution_count": 62,
     "metadata": {},
     "output_type": "execute_result"
    }
   ],
   "source": [
    "np.linalg.norm(f_values - iwtt_apply(wtt_result, d, filters_noisy_2, modes, true_ranks))"
   ]
  },
  {
   "cell_type": "markdown",
   "id": "c3b415c4",
   "metadata": {},
   "source": [
    "Хм, нормы получились такие же, как выше (различия в сильно младших разрядах идут). Навскидку это из-за того, что одна разность из другой получается домножением на ортогональную матрицу."
   ]
  },
  {
   "cell_type": "code",
   "execution_count": null,
   "id": "6d751120",
   "metadata": {},
   "outputs": [],
   "source": []
  }
 ],
 "metadata": {
  "kernelspec": {
   "display_name": "Python 3 (ipykernel)",
   "language": "python",
   "name": "python3"
  },
  "language_info": {
   "codemirror_mode": {
    "name": "ipython",
    "version": 3
   },
   "file_extension": ".py",
   "mimetype": "text/x-python",
   "name": "python",
   "nbconvert_exporter": "python",
   "pygments_lexer": "ipython3",
   "version": "3.9.7"
  }
 },
 "nbformat": 4,
 "nbformat_minor": 5
}
