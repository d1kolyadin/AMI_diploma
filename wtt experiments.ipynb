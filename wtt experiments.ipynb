{
 "cells": [
  {
   "cell_type": "code",
   "execution_count": 44,
   "id": "681b2975",
   "metadata": {},
   "outputs": [],
   "source": [
    "import numpy as np\n",
    "import matplotlib.pyplot as plt\n",
    "%matplotlib inline\n",
    "\n",
    "def values(func, left, right, n):\n",
    "    return func(np.linspace(left, right, n))"
   ]
  },
  {
   "cell_type": "markdown",
   "id": "158a510c",
   "metadata": {},
   "source": [
    "Функции, которые работают:"
   ]
  },
  {
   "cell_type": "code",
   "execution_count": 79,
   "id": "1130df10",
   "metadata": {},
   "outputs": [],
   "source": [
    "def wtt_filter(input_vector, d, modes, ranks, check_correctness=False):\n",
    "    \n",
    "    filters = []\n",
    "    prod_modes = input_vector.size\n",
    "    \n",
    "    if check_correctness:\n",
    "        assert len(modes) == d\n",
    "        assert len(ranks) == d - 1\n",
    "        assert prod_modes == np.prod(modes)\n",
    "    \n",
    "    r_prev = 1\n",
    "    A = input_vector\n",
    "    for k in range(d):\n",
    "        A = A.reshape((r_prev * modes[k], prod_modes // modes[k]), order='F')\n",
    "        if A.shape[0] <= A.shape[1]:\n",
    "            u, sigmas, vt = np.linalg.svd(A, full_matrices=False)\n",
    "        else:\n",
    "            u, sigmas, vt = np.linalg.svd(A, full_matrices=True)\n",
    "        filters.append(u)\n",
    "\n",
    "        if check_correctness:\n",
    "            assert u.shape[0] == u.shape[1] == r_prev * modes[k]\n",
    "            if k < d - 1:\n",
    "                assert ranks[k] <= r_prev * modes[k]\n",
    "\n",
    "        if k < d - 1:\n",
    "            A = (u.T @ A)[:ranks[k],:]\n",
    "            prod_modes //= modes[k]\n",
    "            r_prev = ranks[k]\n",
    "    \n",
    "    return filters"
   ]
  },
  {
   "cell_type": "code",
   "execution_count": 80,
   "id": "2de25ca9",
   "metadata": {},
   "outputs": [],
   "source": [
    "def wtt_apply(input_vector, d, filters, modes, ranks, check_correctness=False):\n",
    "    prod_modes = input_vector.size\n",
    "    \n",
    "    if check_correctness:\n",
    "        assert len(filters) == d\n",
    "        assert len(modes) == d\n",
    "        assert len(ranks) == d - 1\n",
    "        assert prod_modes == np.prod(modes)\n",
    "        \n",
    "    tails = []\n",
    "    A = input_vector\n",
    "    r_prev = 1\n",
    "    for k in range(d):\n",
    "        A = A.reshape((r_prev * modes[k], prod_modes // modes[k]), order='F')\n",
    "        A = filters[k].T @ A\n",
    "\n",
    "        if check_correctness:\n",
    "            assert A.shape[0] == r_prev * modes[k]\n",
    "            if k < d - 1:\n",
    "                assert ranks[k] <= r_prev * modes[k]\n",
    "                \n",
    "        if k < d - 1:\n",
    "            tails.append(A[ranks[k]:,:])\n",
    "            A = A[:ranks[k],:]\n",
    "            prod_modes //= modes[k]\n",
    "            r_prev = ranks[k]\n",
    "        \n",
    "    result = A\n",
    "    for k in range(d - 2, -1, -1):        \n",
    "        result = np.vstack([\n",
    "            result.reshape((ranks[k], prod_modes), order='F'),\n",
    "            tails[k]\n",
    "        ])\n",
    "        prod_modes *= modes[k]\n",
    "    \n",
    "    return result.flatten(order='F')"
   ]
  },
  {
   "cell_type": "code",
   "execution_count": 81,
   "id": "3ee281fe",
   "metadata": {},
   "outputs": [],
   "source": [
    "d = 10\n",
    "n = 2 ** d\n",
    "left = 0.\n",
    "right = 1.\n",
    "\n",
    "linspace = np.linspace(left, right, n)\n",
    "\n",
    "sqrt_x_values = values(lambda x: np.sqrt(x), left, right, n)"
   ]
  },
  {
   "cell_type": "code",
   "execution_count": 82,
   "id": "d07f3958",
   "metadata": {},
   "outputs": [],
   "source": [
    "modes = [2] * d\n",
    "ranks = [2] * (d - 1)\n",
    "\n",
    "filters = wtt_filter(\n",
    "    sqrt_x_values,\n",
    "    d,\n",
    "    modes,\n",
    "    ranks,\n",
    "    True\n",
    ")\n",
    "wtt_res = wtt_apply(\n",
    "    sqrt_x_values,\n",
    "    d,\n",
    "    filters,\n",
    "    modes,\n",
    "    ranks,\n",
    "    True\n",
    ")"
   ]
  },
  {
   "cell_type": "markdown",
   "id": "b9d34f49",
   "metadata": {},
   "source": [
    "Пайплайн для счёта общей матрицы преобразования $W$:"
   ]
  },
  {
   "cell_type": "code",
   "execution_count": 83,
   "id": "9c1ce1a8",
   "metadata": {},
   "outputs": [],
   "source": [
    "W = filters[-1].T\n",
    "I = np.eye(modes[-1])\n",
    "for k in range(d - 2, -1, -1):\n",
    "    r = ranks[k]\n",
    "    r_prev = 1 if k == 0 else ranks[k - 1]\n",
    "    m = modes[k]\n",
    "\n",
    "    assert I.shape[0] == I.shape[1] == np.prod(modes[k + 1:])\n",
    "    \n",
    "    E = np.eye(r_prev * m, r) \n",
    "\n",
    "    R = filters[k][:,:r]\n",
    "    assert np.allclose(R, filters[k] @ E)\n",
    "\n",
    "    P = filters[k] * np.array(\n",
    "        [0.] * r + [1.] * (m * r_prev - r)\n",
    "    )\n",
    "    assert np.allclose(P, filters[k] @ (np.eye(r_prev * m) - E @ E.T))\n",
    "    \n",
    "    W = np.kron(I, E) @ W @ np.kron(I, R.T) + np.kron(I, P.T)\n",
    "    I = np.kron(np.eye(m), I)"
   ]
  },
  {
   "cell_type": "markdown",
   "id": "bd6862ae",
   "metadata": {},
   "source": [
    "TODO: возможно, крону с единичной матрицей можно ускорить.\n",
    "\n",
    "В отличие от статьи, надо поменять порядок в кронах. Стандартная крона:\n",
    "$$\n",
    "A \\otimes B =\n",
    "\\begin{pmatrix}\n",
    "a_{11} B & \\ldots & a_{1n}B \\\\\n",
    "\\vdots & \\ddots & \\vdots \\\\\n",
    "a_{m1} B & \\ldots & a_{mn}B \\\\\n",
    "\\end{pmatrix}\n",
    "$$\n",
    "\n",
    "Индексы бегают быстрее из $B$, потом --- из $A$. Но раз в той же статье мы хотим $$W_{i_1,...,i_k; j_1,...,j_k} = V^{(1)}_{i_1,j_1} \\ldots V^{(k)}_{i_k,k_k} \\Rightarrow W = V_1 \\otimes \\ldots \\otimes V_k$$, а запись $W_{i_1,...,i_k; j_1,...,j_k}$ подразумевает, что левые индексы меняются быстро, правые --- медленно (Fortran порядок), то крона должна действовать не как обычно. В общем, при кроне у левой матрицы индексы должны меняться быстро, у правой --- медленно."
   ]
  },
  {
   "cell_type": "code",
   "execution_count": 84,
   "id": "64e76756",
   "metadata": {},
   "outputs": [
    {
     "data": {
      "text/plain": [
       "(1024, 1024)"
      ]
     },
     "execution_count": 84,
     "metadata": {},
     "output_type": "execute_result"
    }
   ],
   "source": [
    "W.shape"
   ]
  },
  {
   "cell_type": "code",
   "execution_count": 85,
   "id": "6cb583bc",
   "metadata": {},
   "outputs": [],
   "source": [
    "assert np.allclose(W @ sqrt_x_values, wtt_res)"
   ]
  },
  {
   "cell_type": "markdown",
   "id": "9b6cf720",
   "metadata": {},
   "source": [
    "Как я понимаю, базисные функции --- строки итоговой матрицы (м.б. с нормированием):"
   ]
  },
  {
   "cell_type": "code",
   "execution_count": 86,
   "id": "9e24cbbb",
   "metadata": {},
   "outputs": [
    {
     "data": {
      "text/plain": [
       "[<matplotlib.lines.Line2D at 0x1f04aa9b0a0>]"
      ]
     },
     "execution_count": 86,
     "metadata": {},
     "output_type": "execute_result"
    },
    {
     "data": {
      "image/png": "[encoded data removed]",
      "text/plain": [
       "<Figure size 432x288 with 1 Axes>"
      ]
     },
     "metadata": {
      "needs_background": "light"
     },
     "output_type": "display_data"
    }
   ],
   "source": [
    "plt.plot(linspace, W[0,:])"
   ]
  },
  {
   "cell_type": "markdown",
   "id": "e255b37b",
   "metadata": {},
   "source": [
    "Ага, форма такая, но граничные значения разнятся."
   ]
  },
  {
   "cell_type": "code",
   "execution_count": 87,
   "id": "2234d94d",
   "metadata": {},
   "outputs": [
    {
     "data": {
      "text/plain": [
       "[<matplotlib.lines.Line2D at 0x1f04aadf160>]"
      ]
     },
     "execution_count": 87,
     "metadata": {},
     "output_type": "execute_result"
    },
    {
     "data": {
      "image/png": "[encoded data removed]",
      "text/plain": [
       "<Figure size 432x288 with 1 Axes>"
      ]
     },
     "metadata": {
      "needs_background": "light"
     },
     "output_type": "display_data"
    }
   ],
   "source": [
    "plt.plot(linspace, W[1,:])"
   ]
  },
  {
   "cell_type": "code",
   "execution_count": 88,
   "id": "b8ba6538",
   "metadata": {},
   "outputs": [
    {
     "data": {
      "text/plain": [
       "[<matplotlib.lines.Line2D at 0x1f04b9cd8b0>]"
      ]
     },
     "execution_count": 88,
     "metadata": {},
     "output_type": "execute_result"
    },
    {
     "data": {
      "image/png": "[encoded data removed]",
      "text/plain": [
       "<Figure size 432x288 with 1 Axes>"
      ]
     },
     "metadata": {
      "needs_background": "light"
     },
     "output_type": "display_data"
    }
   ],
   "source": [
    "plt.plot(linspace, W[2,:])"
   ]
  },
  {
   "cell_type": "markdown",
   "id": "9bd0be14",
   "metadata": {},
   "source": [
    "Коэффициенты для корня:"
   ]
  },
  {
   "cell_type": "code",
   "execution_count": 89,
   "id": "a47d9a81",
   "metadata": {},
   "outputs": [
    {
     "data": {
      "text/plain": [
       "<matplotlib.legend.Legend at 0x1f04aaf6970>"
      ]
     },
     "execution_count": 89,
     "metadata": {},
     "output_type": "execute_result"
    },
    {
     "data": {
      "image/png": "[encoded data removed]",
      "text/plain": [
       "<Figure size 576x576 with 1 Axes>"
      ]
     },
     "metadata": {
      "needs_background": "light"
     },
     "output_type": "display_data"
    }
   ],
   "source": [
    "d = 10\n",
    "n = 2 ** d\n",
    "left = 0.\n",
    "right = 1.\n",
    "\n",
    "linspace = np.linspace(left, right, n)\n",
    "sqrt_x_values = values(lambda x: np.sqrt(x), left, right, n)\n",
    "\n",
    "wtt_coefs_sqrt = []\n",
    "for r in [2, 3, 4]:\n",
    "    modes = [2] * d\n",
    "    ranks = [2] + [r] * (d - 2)\n",
    "\n",
    "    filters = wtt_filter(\n",
    "        sqrt_x_values,\n",
    "        d,\n",
    "        modes,\n",
    "        ranks,\n",
    "        True\n",
    "    )\n",
    "    wtt_res = wtt_apply(\n",
    "        sqrt_x_values,\n",
    "        d,\n",
    "        filters,\n",
    "        modes,\n",
    "        ranks,\n",
    "        True\n",
    "    )\n",
    "    wtt_coefs_sqrt.append(np.flip(np.sort(np.abs(wtt_res))))\n",
    "    \n",
    "plt.figure(figsize=(8,8))\n",
    "for i, r in enumerate([2, 3, 4]):\n",
    "    plt.plot(np.arange(2 ** d), wtt_coefs_sqrt[i], label=str(r))\n",
    "plt.yscale('log')\n",
    "plt.legend()"
   ]
  },
  {
   "cell_type": "code",
   "execution_count": 90,
   "id": "4636c18f",
   "metadata": {},
   "outputs": [
    {
     "data": {
      "text/plain": [
       "<matplotlib.legend.Legend at 0x1f04bac9880>"
      ]
     },
     "execution_count": 90,
     "metadata": {},
     "output_type": "execute_result"
    },
    {
     "data": {
      "image/png": "[encoded data removed]",
      "text/plain": [
       "<Figure size 576x576 with 1 Axes>"
      ]
     },
     "metadata": {
      "needs_background": "light"
     },
     "output_type": "display_data"
    }
   ],
   "source": [
    "plt.figure(figsize=(8,8))\n",
    "for i, r in enumerate([2, 3, 4]):\n",
    "    if r == 2:\n",
    "        plt.plot(np.arange(2 ** d), wtt_coefs_sqrt[i], label=str(r))\n",
    "    else:\n",
    "        plt.plot(np.arange(2 ** d)[:975], wtt_coefs_sqrt[i][:975], label=str(r))\n",
    "plt.yscale('log')\n",
    "plt.legend()"
   ]
  },
  {
   "cell_type": "markdown",
   "id": "bbcac4ca",
   "metadata": {},
   "source": [
    "Базисные функции для синуса:"
   ]
  },
  {
   "cell_type": "code",
   "execution_count": 91,
   "id": "5ab76f29",
   "metadata": {},
   "outputs": [],
   "source": [
    "d = 10\n",
    "n = 2 ** d\n",
    "left = 0.\n",
    "right = 1.\n",
    "\n",
    "linspace = np.linspace(left, right, n)\n",
    "\n",
    "sin_sq_values = values(lambda x: np.sin(500 * x ** 2), left, right, n)"
   ]
  },
  {
   "cell_type": "code",
   "execution_count": 92,
   "id": "f5e396a6",
   "metadata": {},
   "outputs": [],
   "source": [
    "modes = [2] * d\n",
    "ranks = [2] * (d - 1)\n",
    "\n",
    "filters = wtt_filter(\n",
    "    sin_sq_values,\n",
    "    d,\n",
    "    modes,\n",
    "    ranks,\n",
    "    True\n",
    ")\n",
    "wtt_res = wtt_apply(\n",
    "    sqrt_x_values,\n",
    "    d,\n",
    "    filters,\n",
    "    modes,\n",
    "    ranks,\n",
    "    True\n",
    ")"
   ]
  },
  {
   "cell_type": "code",
   "execution_count": 93,
   "id": "f04fbca7",
   "metadata": {},
   "outputs": [],
   "source": [
    "W = filters[-1].T\n",
    "I = np.eye(modes[-1])\n",
    "for k in range(d - 2, -1, -1):\n",
    "    r = ranks[k]\n",
    "    r_prev = 1 if k == 0 else ranks[k - 1]\n",
    "    m = modes[k]\n",
    "\n",
    "    assert I.shape[0] == I.shape[1] == np.prod(modes[k + 1:])\n",
    "    \n",
    "    E = np.eye(r_prev * m, r) \n",
    "\n",
    "    R = filters[k][:,:r]\n",
    "    assert np.allclose(R, filters[k] @ E)\n",
    "\n",
    "    P = filters[k] * np.array(\n",
    "        [0.] * r + [1.] * (m * r_prev - r)\n",
    "    )\n",
    "    assert np.allclose(P, filters[k] @ (np.eye(r_prev * m) - E @ E.T))\n",
    "    \n",
    "    W = np.kron(I, E) @ W @ np.kron(I, R.T) + np.kron(I, P.T)\n",
    "    I = np.kron(np.eye(m), I)"
   ]
  },
  {
   "cell_type": "code",
   "execution_count": 94,
   "id": "78dc5f98",
   "metadata": {},
   "outputs": [
    {
     "data": {
      "text/plain": [
       "[<matplotlib.lines.Line2D at 0x1f048670cd0>]"
      ]
     },
     "execution_count": 94,
     "metadata": {},
     "output_type": "execute_result"
    },
    {
     "data": {
      "image/png": "[encoded data removed]",
      "text/plain": [
       "<Figure size 432x288 with 1 Axes>"
      ]
     },
     "metadata": {
      "needs_background": "light"
     },
     "output_type": "display_data"
    }
   ],
   "source": [
    "plt.plot(linspace, W[0,:])"
   ]
  },
  {
   "cell_type": "code",
   "execution_count": 95,
   "id": "da9a5eac",
   "metadata": {},
   "outputs": [
    {
     "data": {
      "text/plain": [
       "[<matplotlib.lines.Line2D at 0x1f047003c70>]"
      ]
     },
     "execution_count": 95,
     "metadata": {},
     "output_type": "execute_result"
    },
    {
     "data": {
      "image/png": "[encoded data removed]",
      "text/plain": [
       "<Figure size 432x288 with 1 Axes>"
      ]
     },
     "metadata": {
      "needs_background": "light"
     },
     "output_type": "display_data"
    }
   ],
   "source": [
    "plt.plot(linspace, W[1,:])"
   ]
  },
  {
   "cell_type": "code",
   "execution_count": 96,
   "id": "ce37ac30",
   "metadata": {},
   "outputs": [
    {
     "data": {
      "text/plain": [
       "[<matplotlib.lines.Line2D at 0x1f04aa51370>]"
      ]
     },
     "execution_count": 96,
     "metadata": {},
     "output_type": "execute_result"
    },
    {
     "data": {
      "image/png": "[encoded data removed]",
      "text/plain": [
       "<Figure size 432x288 with 1 Axes>"
      ]
     },
     "metadata": {
      "needs_background": "light"
     },
     "output_type": "display_data"
    }
   ],
   "source": [
    "plt.plot(linspace, W[2,:])"
   ]
  },
  {
   "cell_type": "markdown",
   "id": "a8abc268",
   "metadata": {},
   "source": [
    "Коэффициенты для синуса:"
   ]
  },
  {
   "cell_type": "code",
   "execution_count": 97,
   "id": "6cb3c820",
   "metadata": {},
   "outputs": [
    {
     "data": {
      "text/plain": [
       "<matplotlib.legend.Legend at 0x1f04bbb1430>"
      ]
     },
     "execution_count": 97,
     "metadata": {},
     "output_type": "execute_result"
    },
    {
     "data": {
      "image/png": "[encoded data removed]",
      "text/plain": [
       "<Figure size 576x576 with 1 Axes>"
      ]
     },
     "metadata": {
      "needs_background": "light"
     },
     "output_type": "display_data"
    }
   ],
   "source": [
    "d = 10\n",
    "n = 2 ** d\n",
    "left = 0.\n",
    "right = 1.\n",
    "\n",
    "linspace = np.linspace(left, right, n)\n",
    "sin_sq_values = values(lambda x: np.sin(500 * x ** 2), left, right, n)\n",
    "\n",
    "wtt_coefs_sin_sq = []\n",
    "for r in [2, 3, 4]:\n",
    "    modes = [2] * d\n",
    "    ranks = [2] + [r] * (d - 2)\n",
    "\n",
    "    filters = wtt_filter(\n",
    "        sin_sq_values,\n",
    "        d,\n",
    "        modes,\n",
    "        ranks,\n",
    "        True\n",
    "    )\n",
    "    wtt_res = wtt_apply(\n",
    "        sin_sq_values,\n",
    "        d,\n",
    "        filters,\n",
    "        modes,\n",
    "        ranks,\n",
    "        True\n",
    "    )\n",
    "    wtt_coefs_sin_sq.append(np.flip(np.sort(np.abs(wtt_res))))\n",
    "    \n",
    "plt.figure(figsize=(8,8))\n",
    "for i, r in enumerate([2, 3, 4]):\n",
    "    plt.plot(np.arange(2 ** d), wtt_coefs_sin_sq[i], label=str(r))\n",
    "plt.yscale('log')\n",
    "plt.legend()"
   ]
  },
  {
   "cell_type": "code",
   "execution_count": 98,
   "id": "016b759c",
   "metadata": {},
   "outputs": [
    {
     "data": {
      "text/plain": [
       "<matplotlib.legend.Legend at 0x1f048962700>"
      ]
     },
     "execution_count": 98,
     "metadata": {},
     "output_type": "execute_result"
    },
    {
     "data": {
      "image/png": "[encoded data removed]",
      "text/plain": [
       "<Figure size 576x576 with 1 Axes>"
      ]
     },
     "metadata": {
      "needs_background": "light"
     },
     "output_type": "display_data"
    }
   ],
   "source": [
    "plt.figure(figsize=(8,8))\n",
    "for i, r in enumerate([2, 3, 4]):\n",
    "    plt.plot(np.arange(2 ** d)[:1000], wtt_coefs_sin_sq[i][:1000], label=str(r))\n",
    "plt.yscale('log')\n",
    "plt.legend()"
   ]
  },
  {
   "cell_type": "markdown",
   "id": "876e2759",
   "metadata": {},
   "source": [
    "$\\varepsilon$-стратегия:\n",
    "\n",
    "Обрезаем сингулярные числа, которые меньше $\\varepsilon$. То есть ошибка в 2-норме $< \\varepsilon$. Возможно, они обрезают так, чтобы сумма квадратов оставшихся была меньше $\\varepsilon^2$ (и, соответственно, ошибка в норме Фробениуса $< \\varepsilon$).\n",
    "\n",
    "Сделаю общий вариант (можно задавать ранги приближения и/или $\\varepsilon$: если задано и то, и другое, то итоговым рангом берётся минимум из двух получающихся рангов)."
   ]
  },
  {
   "cell_type": "code",
   "execution_count": 104,
   "id": "deeec638",
   "metadata": {},
   "outputs": [],
   "source": [
    "def wtt_filter(input_vector, d, modes, ranks=None, eps=None, check_correctness=False):\n",
    "    assert ranks is not None or eps is not None\n",
    "    \n",
    "    filters = []\n",
    "    prod_modes = input_vector.size\n",
    "    \n",
    "    if check_correctness:\n",
    "        assert len(modes) == d\n",
    "        if ranks is not None:\n",
    "            assert len(ranks) == d - 1\n",
    "        if eps is not None:\n",
    "            assert eps > 0\n",
    "        assert prod_modes == np.prod(modes)\n",
    "        \n",
    "    true_ranks = []\n",
    "    \n",
    "    r_prev = 1\n",
    "    A = input_vector\n",
    "    for k in range(d):\n",
    "        A = A.reshape((r_prev * modes[k], prod_modes // modes[k]), order='F')\n",
    "        if A.shape[0] <= A.shape[1]:\n",
    "            u, sigmas, vt = np.linalg.svd(A, full_matrices=False)\n",
    "        else:\n",
    "            u, sigmas, vt = np.linalg.svd(A, full_matrices=True)\n",
    "            \n",
    "        r_given = None if ranks is None else ranks[k]\n",
    "        r_eps = None if eps is None else max(1, np.where(sigmas >= eps)[0].size)\n",
    "        if r_given is not None and r_eps is not None:\n",
    "            r_cur = min(r_given, r_eps)\n",
    "        elif r_given is not None:\n",
    "            r_cur = r_given\n",
    "        else:\n",
    "            r_cur = r_eps\n",
    "        \n",
    "        filters.append(u)\n",
    "\n",
    "        if check_correctness:\n",
    "            assert u.shape[0] == u.shape[1] == r_prev * modes[k]\n",
    "            if k < d - 1:\n",
    "                assert r_cur <= r_prev * modes[k]\n",
    "\n",
    "        if k < d - 1:\n",
    "            A = (u.T @ A)[:r_cur,:]\n",
    "            prod_modes //= modes[k]\n",
    "            true_ranks.append(r_cur)\n",
    "            r_prev = r_cur\n",
    "    \n",
    "    return filters, true_ranks"
   ]
  },
  {
   "cell_type": "code",
   "execution_count": 107,
   "id": "cb3b9dcb",
   "metadata": {},
   "outputs": [
    {
     "name": "stdout",
     "output_type": "stream",
     "text": [
      "[2, 4, 4, 4, 4, 4, 4, 4, 2]\n"
     ]
    }
   ],
   "source": [
    "d = 10\n",
    "n = 2 ** d\n",
    "left = 0.\n",
    "right = 1.\n",
    "\n",
    "linspace = np.linspace(left, right, n)\n",
    "\n",
    "sqrt_x_values = values(lambda x: np.sqrt(x), left, right, n)\n",
    "\n",
    "modes = [2] * d\n",
    "eps = 1e-4\n",
    "filters, true_ranks = wtt_filter(sqrt_x_values, d, modes, eps=eps, check_correctness=True)\n",
    "print(true_ranks)"
   ]
  },
  {
   "cell_type": "markdown",
   "id": "8e82921b",
   "metadata": {},
   "source": [
    "Посмотрим, есть ли отличие из-за избыточных рангов в конце ($\\varepsilon$-стратегия говорит, что в конце можно взять ранг 2, а не 4)."
   ]
  },
  {
   "cell_type": "code",
   "execution_count": 113,
   "id": "fef663b5",
   "metadata": {},
   "outputs": [
    {
     "data": {
      "text/plain": [
       "<matplotlib.legend.Legend at 0x1f048962b80>"
      ]
     },
     "execution_count": 113,
     "metadata": {},
     "output_type": "execute_result"
    },
    {
     "data": {
      "image/png": "[encoded data removed]",
      "text/plain": [
       "<Figure size 432x288 with 1 Axes>"
      ]
     },
     "metadata": {
      "needs_background": "light"
     },
     "output_type": "display_data"
    }
   ],
   "source": [
    "wtt_res = wtt_apply(\n",
    "    sqrt_x_values,\n",
    "    d,\n",
    "    filters,\n",
    "    modes,\n",
    "    true_ranks,\n",
    "    True\n",
    ")\n",
    "plt.plot(np.arange(2 ** d), np.flip(np.sort(np.abs(wtt_res))), label='last rank 2')\n",
    "#[2,4,...,4,2]\n",
    "plt.plot(np.arange(2 ** d), wtt_coefs_sqrt[-1], label='last rank 4')\n",
    "#[2,4,...,4]\n",
    "plt.yscale('log')\n",
    "plt.legend()"
   ]
  },
  {
   "cell_type": "code",
   "execution_count": 115,
   "id": "06a91cbd",
   "metadata": {},
   "outputs": [
    {
     "data": {
      "text/plain": [
       "<matplotlib.legend.Legend at 0x1f04d744430>"
      ]
     },
     "execution_count": 115,
     "metadata": {},
     "output_type": "execute_result"
    },
    {
     "data": {
      "image/png": "[encoded data removed]",
      "text/plain": [
       "<Figure size 432x288 with 1 Axes>"
      ]
     },
     "metadata": {
      "needs_background": "light"
     },
     "output_type": "display_data"
    }
   ],
   "source": [
    "plt.plot(np.arange(2 ** d)[1000:], np.flip(np.sort(np.abs(wtt_res)))[1000:], label='last rank 2')\n",
    "#[2,4,...,4,2]\n",
    "plt.plot(np.arange(2 ** d)[1000:], wtt_coefs_sqrt[-1][1000:], label='last rank 4')\n",
    "#[2,4,...,4]\n",
    "plt.yscale('log')\n",
    "plt.legend()"
   ]
  },
  {
   "cell_type": "code",
   "execution_count": 114,
   "id": "31fd8d60",
   "metadata": {},
   "outputs": [
    {
     "data": {
      "text/plain": [
       "8.374873881648556e-18"
      ]
     },
     "execution_count": 114,
     "metadata": {},
     "output_type": "execute_result"
    }
   ],
   "source": [
    "np.linalg.norm(np.flip(np.sort(np.abs(wtt_res))) - wtt_coefs_sqrt[-1])"
   ]
  },
  {
   "cell_type": "markdown",
   "id": "03d6e915",
   "metadata": {},
   "source": [
    "Только в самых-самых маленьких есть разница (по абсолютной величине совсем незначительная)."
   ]
  },
  {
   "cell_type": "markdown",
   "id": "fabbdd70",
   "metadata": {},
   "source": [
    "Сверим также, как себя ведёт $\\varepsilon$-стратегия в плане памяти. Сверимся со статьёй 2011 года."
   ]
  },
  {
   "cell_type": "code",
   "execution_count": 130,
   "id": "45b4b51d",
   "metadata": {},
   "outputs": [],
   "source": [
    "d = 20\n",
    "n = 2 ** d\n",
    "left = 0.\n",
    "right = 1.\n",
    "\n",
    "linspace = np.linspace(left, right, n)\n",
    "\n",
    "sin_x_values = values(lambda x: np.sin(100 * x), left, right, n)\n",
    "\n",
    "modes = [2] * d"
   ]
  },
  {
   "cell_type": "code",
   "execution_count": 132,
   "id": "9b787a7e",
   "metadata": {},
   "outputs": [
    {
     "name": "stdout",
     "output_type": "stream",
     "text": [
      "[0.0001, 1e-06, 1e-08, 1e-10, 1e-12]\n",
      "eps= 0.0001\n",
      "725.6562012962519\n",
      "True\n",
      "[2, 2, 2, 2, 2, 2, 2, 2, 2, 2, 2, 2, 2, 2, 2, 2, 2, 2, 2]\n",
      "308\n",
      "eps= 1e-06\n",
      "725.6562012962519\n",
      "True\n",
      "[2, 2, 2, 2, 2, 2, 2, 2, 2, 2, 2, 2, 2, 2, 2, 2, 2, 2, 2]\n",
      "308\n",
      "eps= 1e-08\n",
      "725.6562012962519\n",
      "True\n",
      "[2, 2, 2, 2, 2, 2, 2, 2, 2, 2, 2, 2, 2, 2, 2, 2, 2, 2, 2]\n",
      "308\n",
      "eps= 1e-10\n",
      "725.6562012962519\n",
      "True\n",
      "[2, 2, 2, 2, 2, 2, 2, 2, 2, 2, 2, 2, 2, 2, 2, 2, 2, 2, 2]\n",
      "308\n",
      "eps= 1e-12\n",
      "725.6562012962527\n",
      "True\n",
      "[2, 3, 2, 2, 2, 2, 3, 4, 4, 4, 4, 3, 3, 3, 2, 2, 2, 2, 2]\n",
      "600\n"
     ]
    }
   ],
   "source": [
    "epsilons = [10 ** (-4 - 2 * i) for i in range(5)]\n",
    "print(epsilons)\n",
    "\n",
    "for eps in epsilons:\n",
    "    print(\"eps=\", eps)\n",
    "    filters, true_ranks = wtt_filter(sin_x_values, d, modes, eps=eps, check_correctness=True)\n",
    "    wtt_result = wtt_apply(sin_x_values, d, filters, modes, true_ranks, True)\n",
    "    #NNZ\n",
    "    print(wtt_result[0]) \n",
    "    print(np.allclose(wtt_result[1:], np.zeros(wtt_result.size - 1)))\n",
    "    #ранги = 2\n",
    "    print(true_ranks)\n",
    "    \n",
    "    memory_for_filters = 0\n",
    "    for u in filters:\n",
    "        memory_for_filters += u.size\n",
    "    print(memory_for_filters)"
   ]
  },
  {
   "cell_type": "markdown",
   "id": "7f0eee1d",
   "metadata": {},
   "source": [
    "Не совсем так, как в статье...\n",
    "\n",
    "Во-первых, memory не 152: по идее, у нас одна матрица 2 на 2 и 19 матриц 4 на 4 с рангом 2, поэтому нам надо 308 ячеек памяти для хранения..."
   ]
  },
  {
   "cell_type": "code",
   "execution_count": 133,
   "id": "781719b3",
   "metadata": {},
   "outputs": [
    {
     "name": "stdout",
     "output_type": "stream",
     "text": [
      "308\n"
     ]
    }
   ],
   "source": [
    "print(2 * 2 + 19 * 4 * 4)"
   ]
  },
  {
   "cell_type": "markdown",
   "id": "79c6ab23",
   "metadata": {},
   "source": [
    "Во-вторых, при $\\varepsilon = 10^{-12}$ уже начинаются всякие численные странности (округление проваливается)."
   ]
  },
  {
   "cell_type": "markdown",
   "id": "18f46937",
   "metadata": {},
   "source": [
    "Применение вейвлетов в 2d: как я понимаю, надо решейпнуть матрицу $2^d \\times 2^d$ в $2 \\times \\ldots \\times 2$, затем попереставлять индексы и снова решейпнуть."
   ]
  },
  {
   "cell_type": "code",
   "execution_count": 168,
   "id": "9696772d",
   "metadata": {},
   "outputs": [],
   "source": [
    "def matrix_to_vector(A, d, modes, check_correctness=False):\n",
    "    if check_correctness is True:\n",
    "        assert A.shape[0] == A.shape[1] == np.prod(modes)\n",
    "        assert len(modes) == d\n",
    "    result = np.reshape(A, modes + modes, order='F')\n",
    "    axes_transpose = []\n",
    "    for i in range(d):\n",
    "        axes_transpose.append(i)\n",
    "        axes_transpose.append(d + i)\n",
    "    result = np.transpose(result, axes_transpose)\n",
    "    new_modes = [m ** 2 for m in modes]\n",
    "    result = np.reshape(result, new_modes, order='F')\n",
    "    return result.flatten(order='F'), new_modes"
   ]
  },
  {
   "cell_type": "code",
   "execution_count": 169,
   "id": "0a04e3d5",
   "metadata": {},
   "outputs": [],
   "source": [
    "def vector_to_matrix(v, d, modes, check_correctness=False):\n",
    "    if check_correctness is True:\n",
    "        assert v.size == np.prod(modes)\n",
    "        assert len(modes) == d\n",
    "    new_modes = [int(np.sqrt(m)) for m in modes]\n",
    "    if check_correctness is True:\n",
    "        assert np.all(modes == np.square(new_modes))\n",
    "    result = np.reshape(v, new_modes + new_modes, order='F')\n",
    "    axes_transpose = []\n",
    "    for i in range(d):\n",
    "        axes_transpose.append(2 * i)\n",
    "    for i in range(d):\n",
    "        axes_transpose.append(2 * i + 1)\n",
    "    result = np.transpose(result, axes_transpose)\n",
    "    result = np.reshape(result, (np.prod(new_modes), np.prod(new_modes)), order='F')\n",
    "    return result, new_modes"
   ]
  },
  {
   "cell_type": "code",
   "execution_count": 170,
   "id": "9c87a565",
   "metadata": {},
   "outputs": [],
   "source": [
    "d = 5\n",
    "n = 2 ** d\n",
    "A = np.random.rand(n, n)\n",
    "modes = [2] * d\n",
    "\n",
    "v, new_modes = matrix_to_vector(A, d, modes, True)\n",
    "assert new_modes == [4] * d\n",
    "\n",
    "A_changed, modes_changed = vector_to_matrix(v, d, new_modes, True)\n",
    "assert np.all(A_changed == A)\n",
    "assert modes_changed == modes"
   ]
  },
  {
   "cell_type": "markdown",
   "id": "70a20962",
   "metadata": {},
   "source": [
    "Применение WTT к матрице: переход к вектору, обычное WTT, переход обратно к матрице."
   ]
  },
  {
   "cell_type": "code",
   "execution_count": 175,
   "id": "8059ff68",
   "metadata": {},
   "outputs": [
    {
     "name": "stdout",
     "output_type": "stream",
     "text": [
      "d = 5\n",
      "1023\n",
      "1872\n",
      "d = 6\n",
      "4095\n",
      "3808\n",
      "d = 7\n",
      "16383\n",
      "5744\n",
      "d = 8\n",
      "65535\n",
      "8048\n",
      "d = 9\n",
      "262143\n",
      "10720\n",
      "d = 10\n"
     ]
    },
    {
     "name": "stderr",
     "output_type": "stream",
     "text": [
      "C:\\Users\\kdi20\\AppData\\Local\\Temp/ipykernel_3304/1674531096.py:8: RuntimeWarning: divide by zero encountered in true_divide\n",
      "  lambda i, j: 1./(i - j),\n"
     ]
    },
    {
     "name": "stdout",
     "output_type": "stream",
     "text": [
      "1048575\n",
      "13024\n",
      "d = 11\n",
      "4194303\n",
      "15328\n"
     ]
    }
   ],
   "source": [
    "d_range = np.arange(5, 12)\n",
    "eps = 10 ** (-8)\n",
    "\n",
    "for d in d_range:\n",
    "    print(\"d =\", d)\n",
    "    n = 2 ** d\n",
    "    A = np.fromfunction(\n",
    "        lambda i, j: 1./(i - j),\n",
    "        (n, n)\n",
    "    )\n",
    "    A[np.arange(n), np.arange(n)] = 0\n",
    "    \n",
    "    matrix_modes = [2] * d\n",
    "    v, vector_modes = matrix_to_vector(A, d, matrix_modes)\n",
    "    \n",
    "    filters, true_ranks = wtt_filter(v, d, vector_modes, eps=eps)\n",
    "    wtt_res = wtt_apply(v, d, filters, vector_modes, true_ranks)\n",
    "    wtt_A, _ = vector_to_matrix(wtt_res, d, vector_modes)\n",
    "    \n",
    "    print(np.sum(np.isclose(wtt_A, 0)))\n",
    "    memory_for_filters = 0\n",
    "    for u in filters:\n",
    "        memory_for_filters += u.size\n",
    "    print(memory_for_filters)"
   ]
  },
  {
   "cell_type": "markdown",
   "id": "ae50e6f1",
   "metadata": {},
   "source": [
    "Диск:"
   ]
  },
  {
   "cell_type": "code",
   "execution_count": 196,
   "id": "0f8bdc99",
   "metadata": {},
   "outputs": [],
   "source": [
    "d = 9\n",
    "n = 2 ** d\n",
    "distances = np.fromfunction(\n",
    "    lambda i, j: (i - n / 2) ** 2 + (j - n / 2) ** 2,\n",
    "    (n, n)\n",
    ")\n",
    "A = np.ones((n, n))\n",
    "A[distances <= n ** 2 / 4] = 2\n",
    "matrix_modes = [2] * d"
   ]
  },
  {
   "cell_type": "code",
   "execution_count": 202,
   "id": "9358b519",
   "metadata": {},
   "outputs": [
    {
     "name": "stdout",
     "output_type": "stream",
     "text": [
      "262143\n",
      "[4, 16, 64, 116, 61, 29, 13, 4]\n",
      "937.9344326763988\n"
     ]
    }
   ],
   "source": [
    "eps = 10**(-2)\n",
    "v, vector_modes = matrix_to_vector(A, d, matrix_modes)\n",
    "    \n",
    "filters, true_ranks = wtt_filter(v, d, vector_modes, eps=eps)\n",
    "wtt_res = wtt_apply(v, d, filters, vector_modes, true_ranks)\n",
    "wtt_A, _ = vector_to_matrix(wtt_res, d, vector_modes)\n",
    "\n",
    "print(np.sum(np.isclose(wtt_A, 0)))\n",
    "print(true_ranks)\n",
    "print(np.linalg.norm(wtt_A))"
   ]
  },
  {
   "cell_type": "code",
   "execution_count": 203,
   "id": "064250e4",
   "metadata": {},
   "outputs": [
    {
     "name": "stdout",
     "output_type": "stream",
     "text": [
      "262143\n",
      "[4, 16, 64, 116, 61, 29, 13, 4]\n",
      "937.9344326763988\n"
     ]
    }
   ],
   "source": [
    "eps = 10**(-4)\n",
    "v, vector_modes = matrix_to_vector(A, d, matrix_modes)\n",
    "    \n",
    "filters, true_ranks = wtt_filter(v, d, vector_modes, eps=eps)\n",
    "wtt_res = wtt_apply(v, d, filters, vector_modes, true_ranks)\n",
    "wtt_A, _ = vector_to_matrix(wtt_res, d, vector_modes)\n",
    "\n",
    "print(np.sum(np.isclose(wtt_A, 0)))\n",
    "print(true_ranks)\n",
    "print(np.linalg.norm(wtt_A))"
   ]
  },
  {
   "cell_type": "code",
   "execution_count": null,
   "id": "e55b6e8e",
   "metadata": {},
   "outputs": [],
   "source": []
  }
 ],
 "metadata": {
  "kernelspec": {
   "display_name": "Python 3 (ipykernel)",
   "language": "python",
   "name": "python3"
  },
  "language_info": {
   "codemirror_mode": {
    "name": "ipython",
    "version": 3
   },
   "file_extension": ".py",
   "mimetype": "text/x-python",
   "name": "python",
   "nbconvert_exporter": "python",
   "pygments_lexer": "ipython3",
   "version": "3.9.7"
  }
 },
 "nbformat": 4,
 "nbformat_minor": 5
}
