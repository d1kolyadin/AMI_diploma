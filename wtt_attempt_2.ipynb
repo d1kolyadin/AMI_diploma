{
 "cells": [
  {
   "cell_type": "code",
   "execution_count": 71,
   "id": "15c72d41",
   "metadata": {},
   "outputs": [],
   "source": [
    "import numpy as np\n",
    "import matplotlib.pyplot as plt\n",
    "%matplotlib inline"
   ]
  },
  {
   "cell_type": "code",
   "execution_count": 205,
   "id": "bbe90135",
   "metadata": {},
   "outputs": [],
   "source": [
    "def plot_values(func_values, left, right, n, logscale=False, func_name=None):\n",
    "    plt.plot(np.linspace(left, right, n), func_values)\n",
    "    if logscale is True:\n",
    "        plt.xscale(\"log\")\n",
    "        plt.yscale(\"log\")\n",
    "    if func_name:\n",
    "        plt.title(func_name)"
   ]
  },
  {
   "cell_type": "code",
   "execution_count": 206,
   "id": "b139c48e",
   "metadata": {},
   "outputs": [],
   "source": [
    "def values(func, left, right, n):\n",
    "    return func(np.linspace(left, right, n))"
   ]
  },
  {
   "cell_type": "markdown",
   "id": "468caae6",
   "metadata": {},
   "source": [
    "Функция для TT-SVD (копирую из домашки):"
   ]
  },
  {
   "cell_type": "code",
   "execution_count": 207,
   "id": "c0c5e27e",
   "metadata": {},
   "outputs": [],
   "source": [
    "def tt_svd(tensor, eps, max_rank):\n",
    "    \"\"\"\n",
    "    Input\n",
    "        tensor: np array\n",
    "        eps: desired difference in frobenius norm between tensor and TT approximation\n",
    "        max_rank: upper hard limit on each TT rank (it has priority over eps)\n",
    "\n",
    "    Output\n",
    "        carriages: list of cores that give TT decomposition of tensor\n",
    "    \"\"\"\n",
    "\n",
    "    remaining = tensor\n",
    "    d = len(tensor.shape)\n",
    "    N = tensor.size\n",
    "    r = 1\n",
    "\n",
    "    eps = eps / np.sqrt(d - 1) #потому что ошибка в tt_svd составляет\n",
    "    #sqrt(sum_{k <= d - 1} квадрат ошибки в svd для A_k) = sqrt(d - 1) * ошибка в каждом svd\n",
    "\n",
    "    carriages = []\n",
    "\n",
    "    for k in range(d - 1):\n",
    "        matrix_to_svd = remaining.reshape((r * tensor.shape[k], N // tensor.shape[k]), order='F')\n",
    "        u, sigmas, vt = np.linalg.svd(matrix_to_svd, full_matrices=False)\n",
    "\n",
    "        curr_r = min(sigmas.size, max_rank)\n",
    "        error_squared = np.sum(np.square(sigmas[curr_r:]))\n",
    "        while curr_r >= 1 and error_squared + np.square(sigmas[curr_r - 1]) < np.square(eps):\n",
    "            error_squared = error_squared + np.square(sigmas[curr_r - 1])\n",
    "            curr_r -= 1\n",
    "\n",
    "        carriages.append(u[:,:curr_r].reshape((r, tensor.shape[k], curr_r), order='F'))\n",
    "        remaining = np.diag(sigmas[:curr_r]) @ vt[:curr_r,:]\n",
    "        N = N // tensor.shape[k]\n",
    "        r = curr_r\n",
    "\n",
    "    carriages.append(remaining.reshape((r, tensor.shape[-1], 1), order='F'))\n",
    "\n",
    "    return carriages"
   ]
  },
  {
   "cell_type": "code",
   "execution_count": 208,
   "id": "91fd87c4",
   "metadata": {},
   "outputs": [],
   "source": [
    "def wtt_filter(input_vector, d, modes, ranks, check_correctness=False):\n",
    "    \n",
    "    filters = []\n",
    "    prod_modes = input_vector.size\n",
    "    \n",
    "    if check_correctness:\n",
    "        assert len(modes) == d\n",
    "        assert len(ranks) == d - 1\n",
    "        prod_modes_manual = 1\n",
    "        for mode in modes:\n",
    "            prod_modes_manual *= mode\n",
    "        assert prod_modes == prod_modes_manual\n",
    "    \n",
    "    r_prev = 1\n",
    "    A = input_vector\n",
    "    for k in range(d):\n",
    "        A = A.reshape((r_prev * modes[k], prod_modes // modes[k]), order='F')\n",
    "        if A.shape[0] <= A.shape[1]:\n",
    "            u, sigmas, vt = np.linalg.svd(A, full_matrices=False)\n",
    "        else:\n",
    "            u, sigmas, vt = np.linalg.svd(A, full_matrices=True)\n",
    "        filters.append(u)\n",
    "\n",
    "        if check_correctness:\n",
    "            assert u.shape[0] == u.shape[1] == r_prev * modes[k]\n",
    "            if k < d - 1:\n",
    "                assert ranks[k] <= r_prev * modes[k]\n",
    "\n",
    "        if k < d - 1:\n",
    "            A = (u.T @ A)[:ranks[k],:]\n",
    "            prod_modes //= modes[k]\n",
    "            r_prev = ranks[k]\n",
    "    \n",
    "    return filters"
   ]
  },
  {
   "cell_type": "markdown",
   "id": "b090a099",
   "metadata": {},
   "source": [
    "Вектор из всех единиц:"
   ]
  },
  {
   "cell_type": "code",
   "execution_count": 209,
   "id": "7a4f2aba",
   "metadata": {},
   "outputs": [],
   "source": [
    "d = 4\n",
    "ones_vector = np.ones(2 ** d)\n",
    "modes = [2] * d\n",
    "ranks = [1] * (d - 1)\n",
    "filters = wtt_filter(ones_vector, d, modes, ranks, True)"
   ]
  },
  {
   "cell_type": "code",
   "execution_count": 210,
   "id": "2e97ae37",
   "metadata": {},
   "outputs": [
    {
     "data": {
      "text/plain": [
       "[array([[-0.70710678,  0.70710678],\n",
       "        [-0.70710678, -0.70710678]]),\n",
       " array([[ 0.70710678, -0.70710678],\n",
       "        [ 0.70710678,  0.70710678]]),\n",
       " array([[-0.70710678, -0.70710678],\n",
       "        [-0.70710678,  0.70710678]]),\n",
       " array([[ 0.70710678, -0.70710678],\n",
       "        [ 0.70710678,  0.70710678]])]"
      ]
     },
     "execution_count": 210,
     "metadata": {},
     "output_type": "execute_result"
    }
   ],
   "source": [
    "filters"
   ]
  },
  {
   "cell_type": "code",
   "execution_count": 211,
   "id": "3aa850df",
   "metadata": {},
   "outputs": [
    {
     "data": {
      "text/plain": [
       "[array([[-1.,  1.],\n",
       "        [-1., -1.]]),\n",
       " array([[ 1., -1.],\n",
       "        [ 1.,  1.]]),\n",
       " array([[-1., -1.],\n",
       "        [-1.,  1.]]),\n",
       " array([[ 1., -1.],\n",
       "        [ 1.,  1.]])]"
      ]
     },
     "execution_count": 211,
     "metadata": {},
     "output_type": "execute_result"
    }
   ],
   "source": [
    "[np.sqrt(2) * f for f in filters]"
   ]
  },
  {
   "cell_type": "markdown",
   "id": "e89b5b05",
   "metadata": {},
   "source": [
    "Не все матрицы равны\n",
    "$$\n",
    "\\frac{1}{\\sqrt{2}}\n",
    "\\begin{pmatrix}\n",
    "1 & 1 \\\\ 1 & -1\n",
    "\\end{pmatrix}\n",
    "$$\n",
    "как сказано в статье."
   ]
  },
  {
   "cell_type": "code",
   "execution_count": 212,
   "id": "76437440",
   "metadata": {},
   "outputs": [],
   "source": [
    "ones_2x8 = np.ones((2,8))\n",
    "u, s, vt = np.linalg.svd(ones_2x8, full_matrices=False)"
   ]
  },
  {
   "cell_type": "code",
   "execution_count": 213,
   "id": "eb4dd546",
   "metadata": {},
   "outputs": [
    {
     "data": {
      "text/plain": [
       "array([[-0.70710678,  0.70710678],\n",
       "       [-0.70710678, -0.70710678]])"
      ]
     },
     "execution_count": 213,
     "metadata": {},
     "output_type": "execute_result"
    }
   ],
   "source": [
    "u"
   ]
  },
  {
   "cell_type": "markdown",
   "id": "aeb7277c",
   "metadata": {},
   "source": [
    "Видимо, дело в относительной свободе выбора собственных векторов и значений (с точностью до знака можно векторы выбирать, например)."
   ]
  },
  {
   "cell_type": "code",
   "execution_count": 214,
   "id": "88b0838b",
   "metadata": {},
   "outputs": [
    {
     "data": {
      "text/plain": [
       "array([[ 1,  2,  3],\n",
       "       [ 4,  5,  6],\n",
       "       [ 7,  8,  9],\n",
       "       [10, 11, 12]])"
      ]
     },
     "execution_count": 214,
     "metadata": {},
     "output_type": "execute_result"
    }
   ],
   "source": [
    "test_1 = np.array([\n",
    "    [1,2,3],\n",
    "    [4,5,6]\n",
    "])\n",
    "test_2 = np.array([\n",
    "    [7,8,9],\n",
    "    [10,11,12]\n",
    "])\n",
    "np.vstack([test_1, test_2])"
   ]
  },
  {
   "cell_type": "code",
   "execution_count": 215,
   "id": "e8382102",
   "metadata": {},
   "outputs": [],
   "source": [
    "def wtt_apply(input_vector, d, filters, modes, ranks, check_correctness=False):\n",
    "    prod_modes = input_vector.size\n",
    "    \n",
    "    if check_correctness:\n",
    "        assert len(filters) == d\n",
    "        assert len(modes) == d\n",
    "        assert len(ranks) == d - 1\n",
    "        prod_modes_manual = 1\n",
    "        for mode in modes:\n",
    "            prod_modes_manual *= mode\n",
    "        assert prod_modes == prod_modes_manual\n",
    "        \n",
    "    tails = []\n",
    "    A = input_vector\n",
    "    r_prev = 1\n",
    "    for k in range(d):\n",
    "        A = A.reshape((r_prev * modes[k], prod_modes // modes[k]), order='F')\n",
    "        A = filters[k].T @ A\n",
    "\n",
    "        if check_correctness:\n",
    "            assert A.shape[0] == r_prev * modes[k]\n",
    "            if k < d - 1:\n",
    "                assert ranks[k] <= r_prev * modes[k]\n",
    "                \n",
    "        if k < d - 1:\n",
    "            tails.append(A[ranks[k]:,:])\n",
    "            A = A[:ranks[k],:]\n",
    "            prod_modes //= modes[k]\n",
    "            r_prev = ranks[k]\n",
    "        \n",
    "    result = A\n",
    "    for k in range(d - 2, -1, -1):        \n",
    "        result = np.vstack([\n",
    "            result.reshape((ranks[k], prod_modes), order='F'),\n",
    "            tails[k]\n",
    "        ])\n",
    "        prod_modes *= modes[k]\n",
    "    \n",
    "    return result.flatten(order='F')"
   ]
  },
  {
   "cell_type": "code",
   "execution_count": 216,
   "id": "1555969a",
   "metadata": {},
   "outputs": [
    {
     "data": {
      "text/plain": [
       "3.999999999999999"
      ]
     },
     "execution_count": 216,
     "metadata": {},
     "output_type": "execute_result"
    }
   ],
   "source": [
    "wtt_ones = wtt_apply(ones_vector, d, filters, modes, ranks, True)\n",
    "wtt_ones[0]"
   ]
  },
  {
   "cell_type": "code",
   "execution_count": 217,
   "id": "cd0c597b",
   "metadata": {},
   "outputs": [
    {
     "data": {
      "text/plain": [
       "4.976250668031886e-16"
      ]
     },
     "execution_count": 217,
     "metadata": {},
     "output_type": "execute_result"
    }
   ],
   "source": [
    "np.linalg.norm(wtt_ones[1:])"
   ]
  },
  {
   "cell_type": "markdown",
   "id": "96f08d9c",
   "metadata": {},
   "source": [
    "Один ненулевой элемент, всё остальное --- нули."
   ]
  },
  {
   "cell_type": "code",
   "execution_count": 218,
   "id": "3c8a143e",
   "metadata": {},
   "outputs": [],
   "source": [
    "d = 20\n",
    "n = 2 ** d\n",
    "\n",
    "left = 0.\n",
    "right = 1.\n",
    "\n",
    "v = values(lambda x: np.sin(100 * x), left, right, n)"
   ]
  },
  {
   "cell_type": "code",
   "execution_count": 219,
   "id": "f7d8aa5a",
   "metadata": {},
   "outputs": [
    {
     "data": {
      "text/plain": [
       "1048576"
      ]
     },
     "execution_count": 219,
     "metadata": {},
     "output_type": "execute_result"
    }
   ],
   "source": [
    "v.size"
   ]
  },
  {
   "cell_type": "code",
   "execution_count": 220,
   "id": "4c403075",
   "metadata": {},
   "outputs": [],
   "source": [
    "filters = wtt_filter(\n",
    "    v,\n",
    "    d,\n",
    "    [2] * d,\n",
    "    [2] * (d - 1),\n",
    "    True\n",
    ")"
   ]
  },
  {
   "cell_type": "code",
   "execution_count": 221,
   "id": "1f4a7b2c",
   "metadata": {},
   "outputs": [
    {
     "data": {
      "text/plain": [
       "[(2, 2),\n",
       " (4, 4),\n",
       " (4, 4),\n",
       " (4, 4),\n",
       " (4, 4),\n",
       " (4, 4),\n",
       " (4, 4),\n",
       " (4, 4),\n",
       " (4, 4),\n",
       " (4, 4),\n",
       " (4, 4),\n",
       " (4, 4),\n",
       " (4, 4),\n",
       " (4, 4),\n",
       " (4, 4),\n",
       " (4, 4),\n",
       " (4, 4),\n",
       " (4, 4),\n",
       " (4, 4),\n",
       " (4, 4)]"
      ]
     },
     "execution_count": 221,
     "metadata": {},
     "output_type": "execute_result"
    }
   ],
   "source": [
    "[u.shape for u in filters]"
   ]
  },
  {
   "cell_type": "code",
   "execution_count": 222,
   "id": "5b2b05d0",
   "metadata": {},
   "outputs": [],
   "source": [
    "res = wtt_apply(\n",
    "    v,\n",
    "    d,\n",
    "    filters,\n",
    "    [2] * d,\n",
    "    [2] * (d - 1),\n",
    "    True\n",
    ")"
   ]
  },
  {
   "cell_type": "code",
   "execution_count": 223,
   "id": "ff1d37a5",
   "metadata": {},
   "outputs": [
    {
     "name": "stdout",
     "output_type": "stream",
     "text": [
      "725.6562012962519\n",
      "4.141384974355612e-12\n"
     ]
    }
   ],
   "source": [
    "print(res[0])\n",
    "print(np.linalg.norm(res[1:]))"
   ]
  },
  {
   "cell_type": "markdown",
   "id": "558935a0",
   "metadata": {},
   "source": [
    "Модельный пример с $\\sqrt{x}$."
   ]
  },
  {
   "cell_type": "code",
   "execution_count": 224,
   "id": "88871fa2",
   "metadata": {},
   "outputs": [],
   "source": [
    "d = 10\n",
    "n = 2 ** d\n",
    "left = 0.\n",
    "right = 1.\n",
    "\n",
    "linspace = np.linspace(left, right, n)\n",
    "\n",
    "sqrt_x_values = values(lambda x: np.sqrt(x), left, right, n)"
   ]
  },
  {
   "cell_type": "code",
   "execution_count": 225,
   "id": "2a7e9f99",
   "metadata": {},
   "outputs": [],
   "source": [
    "filters = wtt_filter(\n",
    "    sqrt_x_values,\n",
    "    d,\n",
    "    [2] * d,\n",
    "    [2] * (d - 1),\n",
    "    True\n",
    ")\n",
    "wtt_res = wtt_apply(\n",
    "    sqrt_x_values,\n",
    "    d,\n",
    "    filters,\n",
    "    [2] * d,\n",
    "    [2] * (d - 1),\n",
    "    True\n",
    ")"
   ]
  },
  {
   "cell_type": "code",
   "execution_count": 226,
   "id": "5debd888",
   "metadata": {},
   "outputs": [
    {
     "data": {
      "text/plain": [
       "array([ 2.26271567e+01,  3.69570201e-16, -4.29187308e-03, ...,\n",
       "        1.26439345e-05, -1.82856285e-04, -3.74363753e-06])"
      ]
     },
     "execution_count": 226,
     "metadata": {},
     "output_type": "execute_result"
    }
   ],
   "source": [
    "wtt_res"
   ]
  },
  {
   "cell_type": "code",
   "execution_count": 227,
   "id": "dba6271c",
   "metadata": {},
   "outputs": [],
   "source": [
    "filters = wtt_filter(\n",
    "    sqrt_x_values,\n",
    "    d,\n",
    "    [2] * d,\n",
    "    [2] + [3] * (d - 2),\n",
    "    True\n",
    ")\n",
    "wtt_res = wtt_apply(\n",
    "    sqrt_x_values,\n",
    "    d,\n",
    "    filters,\n",
    "    [2] * d,\n",
    "    [2] + [3] * (d - 2),\n",
    "    True\n",
    ")"
   ]
  },
  {
   "cell_type": "code",
   "execution_count": 228,
   "id": "9aada973",
   "metadata": {},
   "outputs": [
    {
     "data": {
      "text/plain": [
       "array([ 2.26274167e+01, -6.54458816e-16, -5.17412355e-34, ...,\n",
       "       -4.43130911e-07, -4.83150669e-09, -3.74363753e-06])"
      ]
     },
     "execution_count": 228,
     "metadata": {},
     "output_type": "execute_result"
    }
   ],
   "source": [
    "wtt_res"
   ]
  },
  {
   "cell_type": "code",
   "execution_count": 229,
   "id": "d7be3d9b",
   "metadata": {},
   "outputs": [],
   "source": [
    "filters = wtt_filter(\n",
    "    sqrt_x_values,\n",
    "    d,\n",
    "    [2] * d,\n",
    "    [2] + [4] * (d - 2),\n",
    "    True\n",
    ")\n",
    "wtt_res = wtt_apply(\n",
    "    sqrt_x_values,\n",
    "    d,\n",
    "    filters,\n",
    "    [2] * d,\n",
    "    [2] + [4] * (d - 2),\n",
    "    True\n",
    ")"
   ]
  },
  {
   "cell_type": "code",
   "execution_count": 230,
   "id": "6c22869e",
   "metadata": {},
   "outputs": [
    {
     "data": {
      "text/plain": [
       "array([ 2.26274170e+01, -2.86652590e-16,  1.03607012e-33, ...,\n",
       "       -8.61662304e-09, -1.05267213e-10, -8.09322564e-13])"
      ]
     },
     "execution_count": 230,
     "metadata": {},
     "output_type": "execute_result"
    }
   ],
   "source": [
    "wtt_res"
   ]
  },
  {
   "cell_type": "code",
   "execution_count": 256,
   "id": "f94766d5",
   "metadata": {},
   "outputs": [],
   "source": [
    "d = 10\n",
    "n = 2 ** d\n",
    "\n",
    "left = -1.\n",
    "right = 1.\n",
    "\n",
    "exp_comb_values = values(\n",
    "    lambda x: np.exp(x) + np.exp(1.5 * x) - 2 * np.exp(-2 * x) + 7 * np.exp(3 * x),\n",
    "    left,\n",
    "    right,\n",
    "    n\n",
    ")"
   ]
  },
  {
   "cell_type": "code",
   "execution_count": 275,
   "id": "a49464cb",
   "metadata": {},
   "outputs": [],
   "source": [
    "filters = wtt_filter(\n",
    "    exp_comb_values,\n",
    "    d,\n",
    "    [2] * d,\n",
    "    [2] + [4] * (d - 2),\n",
    "    True\n",
    ")\n",
    "wtt_res = wtt_apply(\n",
    "    exp_comb_values,\n",
    "    d,\n",
    "    filters,\n",
    "    [2] * d,\n",
    "    [2] + [4] * (d - 2),\n",
    "    True\n",
    ")"
   ]
  },
  {
   "cell_type": "code",
   "execution_count": 276,
   "id": "bd0f9ab2",
   "metadata": {},
   "outputs": [
    {
     "data": {
      "text/plain": [
       "array([ 1.39016434e+03, -4.39670029e-14, -2.32907645e-32, ...,\n",
       "        2.68361266e-14, -2.36288676e-15,  2.48153651e-14])"
      ]
     },
     "execution_count": 276,
     "metadata": {},
     "output_type": "execute_result"
    }
   ],
   "source": [
    "wtt_res"
   ]
  },
  {
   "cell_type": "code",
   "execution_count": 278,
   "id": "2be1a140",
   "metadata": {},
   "outputs": [
    {
     "data": {
      "text/plain": [
       "5.467260800634424e-13"
      ]
     },
     "execution_count": 278,
     "metadata": {},
     "output_type": "execute_result"
    }
   ],
   "source": [
    "np.linalg.norm(wtt_res[1:])"
   ]
  },
  {
   "cell_type": "code",
   "execution_count": 279,
   "id": "c6291098",
   "metadata": {},
   "outputs": [
    {
     "data": {
      "text/plain": [
       "1390.1643414965263"
      ]
     },
     "execution_count": 279,
     "metadata": {},
     "output_type": "execute_result"
    }
   ],
   "source": [
    "wtt_res[0]"
   ]
  },
  {
   "cell_type": "code",
   "execution_count": null,
   "id": "65bcc666",
   "metadata": {},
   "outputs": [],
   "source": []
  }
 ],
 "metadata": {
  "kernelspec": {
   "display_name": "Python 3 (ipykernel)",
   "language": "python",
   "name": "python3"
  },
  "language_info": {
   "codemirror_mode": {
    "name": "ipython",
    "version": 3
   },
   "file_extension": ".py",
   "mimetype": "text/x-python",
   "name": "python",
   "nbconvert_exporter": "python",
   "pygments_lexer": "ipython3",
   "version": "3.9.7"
  }
 },
 "nbformat": 4,
 "nbformat_minor": 5
}
