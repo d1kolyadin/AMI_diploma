{
 "cells": [
  {
   "cell_type": "code",
   "execution_count": 1,
   "id": "d5139eea",
   "metadata": {},
   "outputs": [],
   "source": [
    "import numpy as np"
   ]
  },
  {
   "cell_type": "code",
   "execution_count": 90,
   "id": "45c91847",
   "metadata": {},
   "outputs": [],
   "source": [
    "class R_pca_nonconv:\n",
    "    def __init__(self, D, beta=None):\n",
    "        self.D = D.copy()\n",
    "        self.L = np.zeros(self.D.shape)\n",
    "\n",
    "        if beta:\n",
    "            self.beta = beta\n",
    "        else:\n",
    "            self.beta = 1. / np.sqrt(np.max(self.D.shape))\n",
    "            \n",
    "        self.thr = self.beta * self.kth_singular_value(self.D, 0)\n",
    "        self.S = self.hard_threshold(self.D, self.thr)\n",
    "\n",
    "    @staticmethod\n",
    "    def frobenius_norm(M):\n",
    "        return np.linalg.norm(M, ord='fro')\n",
    "    \n",
    "    @staticmethod\n",
    "    def kth_elem_safe(data, k):\n",
    "        return 0.0 if k > data.size else data[k]\n",
    "    \n",
    "    def kth_singular_value(self, M, k):\n",
    "        return self.kth_elem_safe(\n",
    "            np.linalg.svd(M, full_matrices=False, compute_uv=False),\n",
    "            k\n",
    "        )\n",
    "    \n",
    "    @staticmethod\n",
    "    def low_rank_approx(M, k):\n",
    "        u, sigmas, vt = np.linalg.svd(M, full_matrices=False)\n",
    "        k = min(k, sigmas.size)\n",
    "        return u[:, :k] @ np.diag(sigmas[:k]) @ vt[:k, :]\n",
    "\n",
    "    @staticmethod\n",
    "    def hard_threshold(M, tau):\n",
    "        return M * (np.abs(M) >= tau)\n",
    "\n",
    "    def fit(self, rank=None, tol=None, verbose=True):\n",
    "        Lk = self.L\n",
    "        Sk = self.S\n",
    "        \n",
    "        m, n = np.min(self.D.shape), np.max(self.D.shape)\n",
    "\n",
    "        if rank is None:\n",
    "            rank = m\n",
    "        \n",
    "        if tol is None:\n",
    "            tol = 1e-2\n",
    "\n",
    "        \n",
    "        #https://arxiv.org/pdf/1410.7660.pdf\n",
    "        for k in range(rank):\n",
    "            T = n * self.beta * self.kth_singular_value(self.D - Sk, 0) / tol            \n",
    "            if T <= 1.0:\n",
    "                T = 0\n",
    "            else:\n",
    "                T = 10 * int(np.log2(T))\n",
    "                \n",
    "            for t in range(T + 1):\n",
    "                sigmas = np.linalg.svd(self.D - Sk, full_matrices=False, compute_uv=False)\n",
    "                self.thr = self.beta * (\n",
    "                    self.kth_elem_safe(sigmas, k + 1) + \\\n",
    "                    0.5 ** t * self.kth_elem_safe(sigmas, k)\n",
    "                )\n",
    "                Lk = self.low_rank_approx(self.D - Sk, k + 2)\n",
    "                Sk = self.hard_threshold(self.D - Lk, self.thr)\n",
    "\n",
    "            if verbose:\n",
    "                err = self.frobenius_norm(self.D - Lk - Sk)\n",
    "                print('stage: {0}, error: {1}'.format(k, err))\n",
    "\n",
    "            if self.beta * self.kth_singular_value(Lk, k + 1) < tol / (2 * n):\n",
    "                self.L = Lk\n",
    "                self.S = Sk\n",
    "                return Lk, Sk\n",
    "        self.L = Lk\n",
    "        self.S = Sk\n",
    "        return Lk, Sk"
   ]
  },
  {
   "cell_type": "code",
   "execution_count": 103,
   "id": "a754ee01",
   "metadata": {},
   "outputs": [],
   "source": [
    "test_arr = np.random.rand(20, 200)\n",
    "test_rpca = R_pca_nonconv(test_arr)"
   ]
  },
  {
   "cell_type": "code",
   "execution_count": 104,
   "id": "44e8eed8",
   "metadata": {},
   "outputs": [
    {
     "name": "stdout",
     "output_type": "stream",
     "text": [
      "stage: 0, error: 14.745463078710278\n",
      "stage: 1, error: 13.305664828330377\n",
      "stage: 2, error: 11.882896776469845\n",
      "stage: 3, error: 10.55842858187305\n",
      "stage: 4, error: 9.648239733189738\n",
      "stage: 5, error: 7.823570561174775\n",
      "stage: 6, error: 6.84504553472256\n",
      "stage: 7, error: 5.732362753180521\n"
     ]
    }
   ],
   "source": [
    "test_l, test_s = test_rpca.fit(rank=8)"
   ]
  },
  {
   "cell_type": "code",
   "execution_count": 105,
   "id": "66261d0e",
   "metadata": {},
   "outputs": [
    {
     "data": {
      "text/plain": [
       "array([3.19518455e+01, 7.52727730e+00, 7.45770977e+00, 6.68630270e+00,\n",
       "       6.42696999e+00, 6.17296067e+00, 5.29075143e+00, 4.41315175e+00,\n",
       "       3.70141569e+00, 7.53023739e-15, 2.85302367e-15, 2.31670799e-15,\n",
       "       1.79324141e-15, 1.74172272e-15, 1.59355057e-15, 1.40592743e-15,\n",
       "       1.30525951e-15, 1.22350055e-15, 1.13896649e-15, 1.03120690e-15])"
      ]
     },
     "execution_count": 105,
     "metadata": {},
     "output_type": "execute_result"
    }
   ],
   "source": [
    "np.linalg.svd(test_l, compute_uv=False)"
   ]
  },
  {
   "cell_type": "code",
   "execution_count": 106,
   "id": "74a3c6ac",
   "metadata": {},
   "outputs": [
    {
     "data": {
      "text/plain": [
       "481"
      ]
     },
     "execution_count": 106,
     "metadata": {},
     "output_type": "execute_result"
    }
   ],
   "source": [
    "np.count_nonzero(test_s)"
   ]
  },
  {
   "cell_type": "code",
   "execution_count": 107,
   "id": "9f908dcf",
   "metadata": {},
   "outputs": [
    {
     "data": {
      "text/plain": [
       "481"
      ]
     },
     "execution_count": 107,
     "metadata": {},
     "output_type": "execute_result"
    }
   ],
   "source": [
    "(np.abs(test_s) > 1e-6).sum()"
   ]
  },
  {
   "cell_type": "code",
   "execution_count": 110,
   "id": "f0a9d425",
   "metadata": {},
   "outputs": [
    {
     "data": {
      "text/plain": [
       "array([[0.38219612, 0.21190067, 0.16481207, ..., 0.28736162, 0.47721196,\n",
       "        0.37625956],\n",
       "       [0.71076312, 0.57779748, 0.72635395, ..., 0.10628599, 0.41621997,\n",
       "        0.29159198],\n",
       "       [0.73711974, 0.53975325, 0.56489078, ..., 0.32547696, 0.74252961,\n",
       "        0.72076683],\n",
       "       ...,\n",
       "       [0.41604765, 0.7096939 , 0.19265961, ..., 0.28951164, 0.72446488,\n",
       "        0.71270645],\n",
       "       [0.47872903, 0.63035299, 0.17164483, ..., 0.71186584, 1.13077862,\n",
       "        0.68364561],\n",
       "       [0.71021475, 0.65678981, 0.74708592, ..., 0.05166416, 0.80797025,\n",
       "        0.35303444]])"
      ]
     },
     "execution_count": 110,
     "metadata": {},
     "output_type": "execute_result"
    }
   ],
   "source": [
    "test_l"
   ]
  },
  {
   "cell_type": "code",
   "execution_count": 111,
   "id": "d8b39151",
   "metadata": {},
   "outputs": [
    {
     "data": {
      "text/plain": [
       "array([[-0.        , -0.        , -0.        , ..., -0.        ,\n",
       "        -0.        ,  0.        ],\n",
       "       [ 0.        , -0.        ,  0.        , ...,  0.        ,\n",
       "        -0.        , -0.        ],\n",
       "       [ 0.        ,  0.        ,  0.36150735, ...,  0.        ,\n",
       "         0.        , -0.        ],\n",
       "       ...,\n",
       "       [-0.        , -0.60946045,  0.        , ..., -0.        ,\n",
       "         0.        ,  0.        ],\n",
       "       [-0.        , -0.        ,  0.        , ...,  0.        ,\n",
       "        -0.9430526 , -0.        ],\n",
       "       [-0.        , -0.        , -0.        , ...,  0.86789919,\n",
       "         0.        ,  0.        ]])"
      ]
     },
     "execution_count": 111,
     "metadata": {},
     "output_type": "execute_result"
    }
   ],
   "source": [
    "test_s"
   ]
  },
  {
   "cell_type": "code",
   "execution_count": null,
   "id": "48cc204e",
   "metadata": {},
   "outputs": [],
   "source": []
  }
 ],
 "metadata": {
  "kernelspec": {
   "display_name": "Python 3 (ipykernel)",
   "language": "python",
   "name": "python3"
  },
  "language_info": {
   "codemirror_mode": {
    "name": "ipython",
    "version": 3
   },
   "file_extension": ".py",
   "mimetype": "text/x-python",
   "name": "python",
   "nbconvert_exporter": "python",
   "pygments_lexer": "ipython3",
   "version": "3.9.7"
  }
 },
 "nbformat": 4,
 "nbformat_minor": 5
}
