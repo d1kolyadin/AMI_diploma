{
 "cells": [
  {
   "cell_type": "code",
   "execution_count": 1,
   "id": "cbf2a410",
   "metadata": {},
   "outputs": [],
   "source": [
    "import utils\n",
    "import r_pca\n",
    "import numpy as np\n",
    "from pylab import plt\n",
    "\n",
    "%load_ext autoreload\n",
    "%autoreload 2"
   ]
  },
  {
   "cell_type": "code",
   "execution_count": 2,
   "id": "49e55d80",
   "metadata": {},
   "outputs": [],
   "source": [
    "d = 10\n",
    "n = 2 ** d\n",
    "left = 0\n",
    "right = 1\n",
    "signal = utils.values(np.sqrt, left, right, n)\n",
    "modes = [2] * d"
   ]
  },
  {
   "cell_type": "code",
   "execution_count": 3,
   "id": "74c31e9f",
   "metadata": {},
   "outputs": [],
   "source": [
    "filters, sparse_parts, ranks = utils.wtt_rpca_v3(\n",
    "    signal,\n",
    "    d,\n",
    "    modes,\n",
    "    ranks=None,\n",
    "    eps=1e-6,\n",
    "    lambda_scale=2.5,\n",
    "    verbose=False\n",
    ")"
   ]
  },
  {
   "cell_type": "code",
   "execution_count": 4,
   "id": "8d9b706f",
   "metadata": {},
   "outputs": [
    {
     "data": {
      "text/plain": [
       "[(2, 2),\n",
       " (4, 4),\n",
       " (8, 8),\n",
       " (14, 14),\n",
       " (14, 14),\n",
       " (14, 14),\n",
       " (12, 12),\n",
       " (10, 10),\n",
       " (8, 8),\n",
       " (4, 4)]"
      ]
     },
     "execution_count": 4,
     "metadata": {},
     "output_type": "execute_result"
    }
   ],
   "source": [
    "[u.shape for u in filters]"
   ]
  },
  {
   "cell_type": "code",
   "execution_count": 5,
   "id": "328a67ec",
   "metadata": {},
   "outputs": [
    {
     "data": {
      "text/plain": [
       "[(2, 512),\n",
       " (4, 256),\n",
       " (8, 128),\n",
       " (16, 64),\n",
       " (32, 32),\n",
       " (64, 16),\n",
       " (128, 8),\n",
       " (256, 4),\n",
       " (512, 2),\n",
       " (1024, 1)]"
      ]
     },
     "execution_count": 5,
     "metadata": {},
     "output_type": "execute_result"
    }
   ],
   "source": [
    "[u.shape for u in sparse_parts]"
   ]
  },
  {
   "cell_type": "code",
   "execution_count": 6,
   "id": "9f69fcc2",
   "metadata": {},
   "outputs": [
    {
     "data": {
      "text/plain": [
       "[22, 43, 42, 17, 1, 8, 12, 21, 0, 0]"
      ]
     },
     "execution_count": 6,
     "metadata": {},
     "output_type": "execute_result"
    }
   ],
   "source": [
    "[u.data.size for u in sparse_parts]"
   ]
  },
  {
   "cell_type": "code",
   "execution_count": 7,
   "id": "9cd63363",
   "metadata": {},
   "outputs": [],
   "source": [
    "wtt_result = utils.wtt_apply_rpca_v3(\n",
    "    signal,\n",
    "    d,\n",
    "    filters,\n",
    "    sparse_parts,\n",
    "    modes,\n",
    "    ranks\n",
    ")"
   ]
  },
  {
   "cell_type": "code",
   "execution_count": 8,
   "id": "47163536",
   "metadata": {},
   "outputs": [
    {
     "data": {
      "image/png": "[encoded data removed]",
      "text/plain": [
       "<Figure size 432x288 with 1 Axes>"
      ]
     },
     "metadata": {
      "needs_background": "light"
     },
     "output_type": "display_data"
    }
   ],
   "source": [
    "plt.plot(np.arange(wtt_result.size), np.flip(np.sort(np.abs(wtt_result))))\n",
    "plt.yscale('log')\n",
    "plt.show()"
   ]
  },
  {
   "cell_type": "code",
   "execution_count": 9,
   "id": "98310232",
   "metadata": {},
   "outputs": [],
   "source": [
    "iwtt_result = utils.iwtt_apply_rpca_v3(\n",
    "    wtt_result,\n",
    "    d,\n",
    "    filters,\n",
    "    sparse_parts,\n",
    "    modes,\n",
    "    ranks\n",
    ")"
   ]
  },
  {
   "cell_type": "code",
   "execution_count": 10,
   "id": "22cbb2e1",
   "metadata": {},
   "outputs": [
    {
     "data": {
      "text/plain": [
       "1.754480842543126e-14"
      ]
     },
     "execution_count": 10,
     "metadata": {},
     "output_type": "execute_result"
    }
   ],
   "source": [
    "np.linalg.norm(signal - iwtt_result)"
   ]
  },
  {
   "cell_type": "markdown",
   "id": "c0efa60e",
   "metadata": {},
   "source": [
    "Восстановим:"
   ]
  },
  {
   "cell_type": "code",
   "execution_count": 11,
   "id": "0379ecdb",
   "metadata": {},
   "outputs": [
    {
     "data": {
      "text/plain": [
       "809"
      ]
     },
     "execution_count": 11,
     "metadata": {},
     "output_type": "execute_result"
    }
   ],
   "source": [
    "(np.abs(wtt_result) <= 1e-6).sum()"
   ]
  },
  {
   "cell_type": "code",
   "execution_count": 12,
   "id": "17a2628a",
   "metadata": {},
   "outputs": [
    {
     "name": "stdout",
     "output_type": "stream",
     "text": [
      "8.890309034564021e-06\n"
     ]
    }
   ],
   "source": [
    "wtt_result[np.abs(wtt_result) <= 1e-6] = 0\n",
    "iwtt_result = utils.iwtt_apply_rpca_v3(\n",
    "    wtt_result,\n",
    "    d,\n",
    "    filters,\n",
    "    sparse_parts,\n",
    "    modes,\n",
    "    ranks\n",
    ")\n",
    "print(np.linalg.norm(signal - iwtt_result))"
   ]
  },
  {
   "cell_type": "code",
   "execution_count": 13,
   "id": "c4791190",
   "metadata": {},
   "outputs": [
    {
     "data": {
      "text/plain": [
       "[<matplotlib.lines.Line2D at 0x23eb59d7df0>]"
      ]
     },
     "execution_count": 13,
     "metadata": {},
     "output_type": "execute_result"
    },
    {
     "data": {
      "image/png": "[encoded data removed]",
      "text/plain": [
       "<Figure size 432x288 with 1 Axes>"
      ]
     },
     "metadata": {
      "needs_background": "light"
     },
     "output_type": "display_data"
    }
   ],
   "source": [
    "#plt.plot(np.linspace(left, right, n), signal)\n",
    "plt.plot(np.linspace(left, right, n), iwtt_result)"
   ]
  },
  {
   "cell_type": "markdown",
   "id": "655c2d07",
   "metadata": {},
   "source": [
    "Тестируем тензоризованный препроцессинг."
   ]
  },
  {
   "cell_type": "code",
   "execution_count": 34,
   "id": "bc6cf403",
   "metadata": {},
   "outputs": [
    {
     "name": "stdout",
     "output_type": "stream",
     "text": [
      "Current step 0\n",
      "Current step 1\n",
      "Current step 2\n",
      "Current step 3\n",
      "Current step 4\n",
      "Current step 5\n",
      "Current step 6\n",
      "Current step 7\n",
      "Current step 8\n",
      "Current step 9\n"
     ]
    }
   ],
   "source": [
    "low_rank_part, sparse_parts, ranks = r_pca.wtt_rpca_preprocessing(\n",
    "    signal,\n",
    "    d,\n",
    "    modes,\n",
    "    lambda_scale=1.25\n",
    ")"
   ]
  },
  {
   "cell_type": "code",
   "execution_count": 37,
   "id": "b1b5cb26",
   "metadata": {},
   "outputs": [
    {
     "data": {
      "text/plain": [
       "array([0.2186115 , 0.21891975, 0.22316386, ..., 0.8872652 , 0.87098545,\n",
       "       0.87184591])"
      ]
     },
     "execution_count": 37,
     "metadata": {},
     "output_type": "execute_result"
    }
   ],
   "source": [
    "low_rank_part"
   ]
  },
  {
   "cell_type": "code",
   "execution_count": 38,
   "id": "a4759ae6",
   "metadata": {},
   "outputs": [
    {
     "data": {
      "text/plain": [
       "[<matplotlib.lines.Line2D at 0x23eb60125e0>]"
      ]
     },
     "execution_count": 38,
     "metadata": {},
     "output_type": "execute_result"
    },
    {
     "data": {
      "image/png": "[encoded data removed]",
      "text/plain": [
       "<Figure size 432x288 with 1 Axes>"
      ]
     },
     "metadata": {
      "needs_background": "light"
     },
     "output_type": "display_data"
    }
   ],
   "source": [
    "plt.plot(np.linspace(left, right, n), low_rank_part)"
   ]
  },
  {
   "cell_type": "code",
   "execution_count": 39,
   "id": "50153a6e",
   "metadata": {},
   "outputs": [
    {
     "data": {
      "text/plain": [
       "[233, 360, 346, 116, 72, 158, 652, 132, 736, 922]"
      ]
     },
     "execution_count": 39,
     "metadata": {},
     "output_type": "execute_result"
    }
   ],
   "source": [
    "[s.data.size for s in sparse_parts]"
   ]
  },
  {
   "cell_type": "code",
   "execution_count": 40,
   "id": "ff4e2a45",
   "metadata": {},
   "outputs": [
    {
     "data": {
      "text/plain": [
       "[2, 3, 4, 3, 2, 2, 2, 1, 1, 1]"
      ]
     },
     "execution_count": 40,
     "metadata": {},
     "output_type": "execute_result"
    }
   ],
   "source": [
    "ranks"
   ]
  },
  {
   "cell_type": "code",
   "execution_count": 58,
   "id": "fa0a834a",
   "metadata": {},
   "outputs": [
    {
     "data": {
      "text/plain": [
       "<matplotlib.image.AxesImage at 0x23eb7181b20>"
      ]
     },
     "execution_count": 58,
     "metadata": {},
     "output_type": "execute_result"
    },
    {
     "data": {
      "image/png": "[encoded data removed]",
      "text/plain": [
       "<Figure size 432x288 with 1 Axes>"
      ]
     },
     "metadata": {
      "needs_background": "light"
     },
     "output_type": "display_data"
    }
   ],
   "source": [
    "cross = np.zeros((32, 32))\n",
    "for i in range(8, 24):\n",
    "    cross[i, i] = 1.\n",
    "    cross[i, 31 - i] = 1.\n",
    "plt.imshow(cross, cmap='gray')"
   ]
  },
  {
   "cell_type": "code",
   "execution_count": 59,
   "id": "2615db1f",
   "metadata": {},
   "outputs": [],
   "source": [
    "d = 5\n",
    "modes = [2] * d\n",
    "\n",
    "vector, vector_modes = utils.matrix_to_vector(cross, d, modes)"
   ]
  },
  {
   "cell_type": "code",
   "execution_count": 60,
   "id": "f4cd98cd",
   "metadata": {},
   "outputs": [
    {
     "name": "stdout",
     "output_type": "stream",
     "text": [
      "Current step 0\n",
      "Current step 1\n",
      "Current step 2\n",
      "Current step 3\n",
      "Current step 4\n"
     ]
    }
   ],
   "source": [
    "low_rank_part, sparse_parts, ranks = r_pca.wtt_rpca_preprocessing(\n",
    "    vector,\n",
    "    d,\n",
    "    vector_modes,\n",
    "    lambda_scale=1\n",
    ")"
   ]
  },
  {
   "cell_type": "code",
   "execution_count": 61,
   "id": "53e4a7f2",
   "metadata": {},
   "outputs": [],
   "source": [
    "matrix, _ = utils.vector_to_matrix(low_rank_part, d, vector_modes)"
   ]
  },
  {
   "cell_type": "code",
   "execution_count": 62,
   "id": "7e4b97f0",
   "metadata": {},
   "outputs": [
    {
     "data": {
      "text/plain": [
       "<matplotlib.image.AxesImage at 0x23eb5833730>"
      ]
     },
     "execution_count": 62,
     "metadata": {},
     "output_type": "execute_result"
    },
    {
     "data": {
      "image/png": "[encoded data removed]",
      "text/plain": [
       "<Figure size 432x288 with 1 Axes>"
      ]
     },
     "metadata": {
      "needs_background": "light"
     },
     "output_type": "display_data"
    }
   ],
   "source": [
    "plt.imshow(matrix, cmap='gray')"
   ]
  },
  {
   "cell_type": "code",
   "execution_count": 66,
   "id": "34de228c",
   "metadata": {},
   "outputs": [
    {
     "data": {
      "image/png": "[encoded data removed]",
      "text/plain": [
       "<Figure size 1080x216 with 5 Axes>"
      ]
     },
     "metadata": {},
     "output_type": "display_data"
    }
   ],
   "source": [
    "fig = plt.figure(figsize=(15, 3))\n",
    "for i in range(5):\n",
    "    ax = fig.add_subplot(1, 5, i + 1)\n",
    "    ax.imshow(\n",
    "        sparse_parts[i].toarray().reshape((32, 32), order='F'),\n",
    "        #sparse_parts[i].toarray(),\n",
    "        interpolation=\"nearest\",\n",
    "        cmap=plt.cm.gray\n",
    "    )\n",
    "    ax.set_xticks([])\n",
    "    ax.set_yticks([])"
   ]
  },
  {
   "cell_type": "code",
   "execution_count": null,
   "id": "bc985911",
   "metadata": {},
   "outputs": [],
   "source": []
  }
 ],
 "metadata": {
  "kernelspec": {
   "display_name": "Python 3 (ipykernel)",
   "language": "python",
   "name": "python3"
  },
  "language_info": {
   "codemirror_mode": {
    "name": "ipython",
    "version": 3
   },
   "file_extension": ".py",
   "mimetype": "text/x-python",
   "name": "python",
   "nbconvert_exporter": "python",
   "pygments_lexer": "ipython3",
   "version": "3.9.7"
  }
 },
 "nbformat": 4,
 "nbformat_minor": 5
}
