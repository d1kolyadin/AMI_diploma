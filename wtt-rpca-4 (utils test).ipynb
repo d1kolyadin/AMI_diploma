{
 "cells": [
  {
   "cell_type": "code",
   "execution_count": 1,
   "id": "b75a5df8",
   "metadata": {},
   "outputs": [],
   "source": [
    "import utils\n",
    "import r_pca\n",
    "import numpy as np\n",
    "from pylab import plt\n",
    "\n",
    "%load_ext autoreload\n",
    "%autoreload 2"
   ]
  },
  {
   "cell_type": "code",
   "execution_count": 50,
   "id": "43c6d72d",
   "metadata": {},
   "outputs": [],
   "source": [
    "d = 10\n",
    "n = 2 ** d\n",
    "left = 0\n",
    "right = 1\n",
    "signal = utils.values(np.sqrt, left, right, n)\n",
    "modes = [2] * d"
   ]
  },
  {
   "cell_type": "code",
   "execution_count": 51,
   "id": "52069cca",
   "metadata": {},
   "outputs": [],
   "source": [
    "filters, sparse_parts, ranks = utils.wtt_rpca_v3(\n",
    "    signal,\n",
    "    d,\n",
    "    modes,\n",
    "    ranks=None,\n",
    "    eps=1e-6,\n",
    "    lambda_scale=2.5,\n",
    "    verbose=False\n",
    ")"
   ]
  },
  {
   "cell_type": "code",
   "execution_count": 52,
   "id": "7fc6aced",
   "metadata": {},
   "outputs": [
    {
     "data": {
      "text/plain": [
       "[(2, 2),\n",
       " (4, 4),\n",
       " (8, 8),\n",
       " (14, 14),\n",
       " (14, 14),\n",
       " (14, 14),\n",
       " (12, 12),\n",
       " (10, 10),\n",
       " (8, 8),\n",
       " (4, 4)]"
      ]
     },
     "execution_count": 52,
     "metadata": {},
     "output_type": "execute_result"
    }
   ],
   "source": [
    "[u.shape for u in filters]"
   ]
  },
  {
   "cell_type": "code",
   "execution_count": 53,
   "id": "6e40f5cf",
   "metadata": {},
   "outputs": [
    {
     "data": {
      "text/plain": [
       "[(2, 512),\n",
       " (4, 256),\n",
       " (8, 128),\n",
       " (16, 64),\n",
       " (32, 32),\n",
       " (64, 16),\n",
       " (128, 8),\n",
       " (256, 4),\n",
       " (512, 2),\n",
       " (1024, 1)]"
      ]
     },
     "execution_count": 53,
     "metadata": {},
     "output_type": "execute_result"
    }
   ],
   "source": [
    "[u.shape for u in sparse_parts]"
   ]
  },
  {
   "cell_type": "code",
   "execution_count": 54,
   "id": "97c5ad5d",
   "metadata": {},
   "outputs": [
    {
     "data": {
      "text/plain": [
       "[22, 43, 42, 17, 1, 8, 12, 21, 0, 0]"
      ]
     },
     "execution_count": 54,
     "metadata": {},
     "output_type": "execute_result"
    }
   ],
   "source": [
    "[u.data.size for u in sparse_parts]"
   ]
  },
  {
   "cell_type": "code",
   "execution_count": 55,
   "id": "9d296d45",
   "metadata": {},
   "outputs": [],
   "source": [
    "wtt_result = utils.wtt_apply_rpca_v3(\n",
    "    signal,\n",
    "    d,\n",
    "    filters,\n",
    "    sparse_parts,\n",
    "    modes,\n",
    "    ranks\n",
    ")"
   ]
  },
  {
   "cell_type": "code",
   "execution_count": 56,
   "id": "8274bfa6",
   "metadata": {},
   "outputs": [
    {
     "data": {
      "image/png": "[encoded data removed]",
      "text/plain": [
       "<Figure size 432x288 with 1 Axes>"
      ]
     },
     "metadata": {
      "needs_background": "light"
     },
     "output_type": "display_data"
    }
   ],
   "source": [
    "plt.plot(np.arange(wtt_result.size), np.flip(np.sort(np.abs(wtt_result))))\n",
    "plt.yscale('log')\n",
    "plt.show()"
   ]
  },
  {
   "cell_type": "code",
   "execution_count": 57,
   "id": "d52410be",
   "metadata": {},
   "outputs": [],
   "source": [
    "iwtt_result = utils.iwtt_apply_rpca_v3(\n",
    "    wtt_result,\n",
    "    d,\n",
    "    filters,\n",
    "    sparse_parts,\n",
    "    modes,\n",
    "    ranks\n",
    ")"
   ]
  },
  {
   "cell_type": "code",
   "execution_count": 58,
   "id": "d32ffaf2",
   "metadata": {},
   "outputs": [
    {
     "data": {
      "text/plain": [
       "1.754480842543126e-14"
      ]
     },
     "execution_count": 58,
     "metadata": {},
     "output_type": "execute_result"
    }
   ],
   "source": [
    "np.linalg.norm(signal - iwtt_result)"
   ]
  },
  {
   "cell_type": "markdown",
   "id": "6209e2b7",
   "metadata": {},
   "source": [
    "Восстановим:"
   ]
  },
  {
   "cell_type": "code",
   "execution_count": 59,
   "id": "078b5fc3",
   "metadata": {},
   "outputs": [
    {
     "data": {
      "text/plain": [
       "809"
      ]
     },
     "execution_count": 59,
     "metadata": {},
     "output_type": "execute_result"
    }
   ],
   "source": [
    "(np.abs(wtt_result) <= 1e-6).sum()"
   ]
  },
  {
   "cell_type": "code",
   "execution_count": 60,
   "id": "4f442f88",
   "metadata": {},
   "outputs": [
    {
     "name": "stdout",
     "output_type": "stream",
     "text": [
      "8.890309034564021e-06\n"
     ]
    }
   ],
   "source": [
    "wtt_result[np.abs(wtt_result) <= 1e-6] = 0\n",
    "iwtt_result = utils.iwtt_apply_rpca_v3(\n",
    "    wtt_result,\n",
    "    d,\n",
    "    filters,\n",
    "    sparse_parts,\n",
    "    modes,\n",
    "    ranks\n",
    ")\n",
    "print(np.linalg.norm(signal - iwtt_result))"
   ]
  },
  {
   "cell_type": "code",
   "execution_count": 61,
   "id": "38729cf6",
   "metadata": {},
   "outputs": [
    {
     "data": {
      "text/plain": [
       "[<matplotlib.lines.Line2D at 0x1e48a7d7cd0>]"
      ]
     },
     "execution_count": 61,
     "metadata": {},
     "output_type": "execute_result"
    },
    {
     "data": {
      "image/png": "[encoded data removed]",
      "text/plain": [
       "<Figure size 432x288 with 1 Axes>"
      ]
     },
     "metadata": {
      "needs_background": "light"
     },
     "output_type": "display_data"
    }
   ],
   "source": [
    "#plt.plot(np.linspace(left, right, n), signal)\n",
    "plt.plot(np.linspace(left, right, n), iwtt_result)"
   ]
  },
  {
   "cell_type": "markdown",
   "id": "19e653b7",
   "metadata": {},
   "source": [
    "Тестируем тензоризованный препроцессинг."
   ]
  },
  {
   "cell_type": "code",
   "execution_count": 62,
   "id": "f343030c",
   "metadata": {},
   "outputs": [
    {
     "name": "stdout",
     "output_type": "stream",
     "text": [
      "Current step 0\n",
      "Current step 1\n",
      "Current step 2\n",
      "Current step 3\n",
      "Current step 4\n",
      "Current step 5\n",
      "Current step 6\n",
      "Current step 7\n",
      "Current step 8\n",
      "Current step 9\n"
     ]
    }
   ],
   "source": [
    "low_rank_part, sparse_parts, ranks = r_pca.wtt_rpca_preprocessing(\n",
    "    signal,\n",
    "    d,\n",
    "    modes,\n",
    "    lambda_scale=2.5 #как выше, ведь идея такая же\n",
    ")"
   ]
  },
  {
   "cell_type": "code",
   "execution_count": 63,
   "id": "736201e9",
   "metadata": {},
   "outputs": [
    {
     "data": {
      "text/plain": [
       "array([0.08130122, 0.08255045, 0.08375563, ..., 0.99898575, 0.99945595,\n",
       "       0.99991889])"
      ]
     },
     "execution_count": 63,
     "metadata": {},
     "output_type": "execute_result"
    }
   ],
   "source": [
    "low_rank_part"
   ]
  },
  {
   "cell_type": "code",
   "execution_count": 64,
   "id": "d8405f08",
   "metadata": {},
   "outputs": [
    {
     "data": {
      "image/png": "[encoded data removed]",
      "text/plain": [
       "<Figure size 432x288 with 1 Axes>"
      ]
     },
     "metadata": {
      "needs_background": "light"
     },
     "output_type": "display_data"
    }
   ],
   "source": [
    "plt.plot(np.linspace(left, right, n), low_rank_part)\n",
    "plt.show()"
   ]
  },
  {
   "cell_type": "markdown",
   "id": "1ef29b9e",
   "metadata": {},
   "source": [
    "Что-то очень похожее на оригинальный корень, между прочим!"
   ]
  },
  {
   "cell_type": "code",
   "execution_count": 65,
   "id": "8b698f4b",
   "metadata": {},
   "outputs": [
    {
     "data": {
      "text/plain": [
       "0.11485710327180632"
      ]
     },
     "execution_count": 65,
     "metadata": {},
     "output_type": "execute_result"
    }
   ],
   "source": [
    "np.linalg.norm(low_rank_part - signal)"
   ]
  },
  {
   "cell_type": "markdown",
   "id": "2c6f5fe0",
   "metadata": {},
   "source": [
    "Посмотрим на характеристики разложения:"
   ]
  },
  {
   "cell_type": "code",
   "execution_count": 66,
   "id": "0fa636da",
   "metadata": {},
   "outputs": [
    {
     "data": {
      "text/plain": [
       "[22, 38, 29, 11, 0, 6, 11, 26, 0, 0]"
      ]
     },
     "execution_count": 66,
     "metadata": {},
     "output_type": "execute_result"
    }
   ],
   "source": [
    "[s.data.size for s in sparse_parts]"
   ]
  },
  {
   "cell_type": "code",
   "execution_count": 67,
   "id": "5ef9776e",
   "metadata": {},
   "outputs": [
    {
     "data": {
      "text/plain": [
       "[2, 3, 4, 5, 4, 4, 4, 3, 2]"
      ]
     },
     "execution_count": 67,
     "metadata": {},
     "output_type": "execute_result"
    }
   ],
   "source": [
    "ranks"
   ]
  },
  {
   "cell_type": "markdown",
   "id": "19a114aa",
   "metadata": {},
   "source": [
    "Попробуем теперь разложить малоранговую часть, что ли..."
   ]
  },
  {
   "cell_type": "code",
   "execution_count": 68,
   "id": "5e9e99a9",
   "metadata": {},
   "outputs": [],
   "source": [
    "filters, true_ranks = utils.wtt_filter(\n",
    "    low_rank_part,\n",
    "    d,\n",
    "    modes,\n",
    "    ranks=ranks\n",
    ")"
   ]
  },
  {
   "cell_type": "code",
   "execution_count": 69,
   "id": "3df43aa7",
   "metadata": {},
   "outputs": [
    {
     "data": {
      "text/plain": [
       "[2, 3, 4, 5, 4, 4, 4, 3, 2]"
      ]
     },
     "execution_count": 69,
     "metadata": {},
     "output_type": "execute_result"
    }
   ],
   "source": [
    "true_ranks"
   ]
  },
  {
   "cell_type": "code",
   "execution_count": 70,
   "id": "3c27f497",
   "metadata": {},
   "outputs": [],
   "source": [
    "wtt_res = utils.wtt_apply(\n",
    "    low_rank_part,\n",
    "    d,\n",
    "    filters,\n",
    "    modes,\n",
    "    true_ranks\n",
    ")"
   ]
  },
  {
   "cell_type": "markdown",
   "id": "24110660",
   "metadata": {},
   "source": [
    "Что получилось:"
   ]
  },
  {
   "cell_type": "code",
   "execution_count": 71,
   "id": "57256c3f",
   "metadata": {},
   "outputs": [
    {
     "data": {
      "text/plain": [
       "2.4909398560856058e-15"
      ]
     },
     "execution_count": 71,
     "metadata": {},
     "output_type": "execute_result"
    }
   ],
   "source": [
    "np.max(wtt_res[1:])"
   ]
  },
  {
   "cell_type": "markdown",
   "id": "017be889",
   "metadata": {},
   "source": [
    "Все коэффициенты, кроме первого --- нули! А ранги при этом крошечные."
   ]
  },
  {
   "cell_type": "code",
   "execution_count": 72,
   "id": "323e6e05",
   "metadata": {},
   "outputs": [
    {
     "data": {
      "image/png": "[encoded data removed]",
      "text/plain": [
       "<Figure size 432x288 with 1 Axes>"
      ]
     },
     "metadata": {
      "needs_background": "light"
     },
     "output_type": "display_data"
    }
   ],
   "source": [
    "plt.plot(np.arange(wtt_res.size), np.flip(np.sort(np.abs(wtt_res))))\n",
    "plt.yscale('log')\n",
    "plt.show()"
   ]
  },
  {
   "cell_type": "code",
   "execution_count": 73,
   "id": "aace114c",
   "metadata": {},
   "outputs": [
    {
     "name": "stdout",
     "output_type": "stream",
     "text": [
      "2.3192420139693152e-14\n"
     ]
    }
   ],
   "source": [
    "zeroed_coeffs = np.zeros_like(wtt_res)\n",
    "zeroed_coeffs[0] = wtt_res[0]\n",
    "\n",
    "iwtt_res = utils.iwtt_apply(\n",
    "    zeroed_coeffs,\n",
    "    d,\n",
    "    filters,\n",
    "    modes,\n",
    "    true_ranks\n",
    ")\n",
    "\n",
    "print(np.linalg.norm(iwtt_res - low_rank_part))"
   ]
  },
  {
   "cell_type": "markdown",
   "id": "070843f5",
   "metadata": {},
   "source": [
    "Восстановим корень:"
   ]
  },
  {
   "cell_type": "code",
   "execution_count": 74,
   "id": "dc7fa343",
   "metadata": {},
   "outputs": [
    {
     "data": {
      "text/plain": [
       "array([-0.08135713, -0.05120038, -0.03957119, ...,  0.        ,\n",
       "        0.        ,  0.        ])"
      ]
     },
     "execution_count": 74,
     "metadata": {},
     "output_type": "execute_result"
    }
   ],
   "source": [
    "signal - utils.subtract_sparse_parts(signal, d, modes, sparse_parts)"
   ]
  },
  {
   "cell_type": "markdown",
   "id": "ff4566ef",
   "metadata": {},
   "source": [
    "Всё же у нас приближённое разложение $A = L + S_1 + \\ldots + S_d$ (параметр ```tol``` в алгоритме)."
   ]
  },
  {
   "cell_type": "code",
   "execution_count": 75,
   "id": "1edc8bb2",
   "metadata": {},
   "outputs": [
    {
     "data": {
      "text/plain": [
       "0.004540052091185303"
      ]
     },
     "execution_count": 75,
     "metadata": {},
     "output_type": "execute_result"
    }
   ],
   "source": [
    "signal_restored = utils.add_sparse_parts(iwtt_res, d, modes, sparse_parts)\n",
    "np.linalg.norm(signal - signal_restored)"
   ]
  },
  {
   "cell_type": "code",
   "execution_count": 76,
   "id": "e70acd81",
   "metadata": {},
   "outputs": [
    {
     "data": {
      "image/png": "[encoded data removed]",
      "text/plain": [
       "<Figure size 432x288 with 1 Axes>"
      ]
     },
     "metadata": {
      "needs_background": "light"
     },
     "output_type": "display_data"
    }
   ],
   "source": [
    "plt.plot(np.linspace(left, right, n), signal_restored)\n",
    "plt.show()"
   ]
  },
  {
   "cell_type": "markdown",
   "id": "543c45a7",
   "metadata": {},
   "source": [
    "Теперь посмотрим на простое 2D:"
   ]
  },
  {
   "cell_type": "code",
   "execution_count": 77,
   "id": "6f27353a",
   "metadata": {},
   "outputs": [
    {
     "data": {
      "text/plain": [
       "<matplotlib.image.AxesImage at 0x1e48bc940d0>"
      ]
     },
     "execution_count": 77,
     "metadata": {},
     "output_type": "execute_result"
    },
    {
     "data": {
      "image/png": "[encoded data removed]",
      "text/plain": [
       "<Figure size 432x288 with 1 Axes>"
      ]
     },
     "metadata": {
      "needs_background": "light"
     },
     "output_type": "display_data"
    }
   ],
   "source": [
    "cross = np.full((32, 32), 1.)\n",
    "for i in range(8, 24):\n",
    "    cross[i, i] = 0.\n",
    "    cross[i, 31 - i] = 0.\n",
    "plt.imshow(cross, cmap='gray')"
   ]
  },
  {
   "cell_type": "code",
   "execution_count": 78,
   "id": "046a39f5",
   "metadata": {},
   "outputs": [],
   "source": [
    "d = 5\n",
    "modes = [2] * d\n",
    "\n",
    "vector, vector_modes = utils.matrix_to_vector(cross, d, modes)"
   ]
  },
  {
   "cell_type": "code",
   "execution_count": 79,
   "id": "6123cf14",
   "metadata": {},
   "outputs": [
    {
     "name": "stdout",
     "output_type": "stream",
     "text": [
      "Current step 0\n",
      "Current step 1\n",
      "Current step 2\n",
      "Current step 3\n",
      "Current step 4\n"
     ]
    }
   ],
   "source": [
    "low_rank_part, sparse_parts, ranks = r_pca.wtt_rpca_preprocessing(\n",
    "    vector,\n",
    "    d,\n",
    "    vector_modes,\n",
    "    lambda_scale=2\n",
    ")"
   ]
  },
  {
   "cell_type": "code",
   "execution_count": 80,
   "id": "86b347c9",
   "metadata": {},
   "outputs": [],
   "source": [
    "matrix, _ = utils.vector_to_matrix(low_rank_part, d, vector_modes)"
   ]
  },
  {
   "cell_type": "code",
   "execution_count": 81,
   "id": "d97c10cc",
   "metadata": {},
   "outputs": [
    {
     "data": {
      "text/plain": [
       "<matplotlib.image.AxesImage at 0x1e48bcf4a00>"
      ]
     },
     "execution_count": 81,
     "metadata": {},
     "output_type": "execute_result"
    },
    {
     "data": {
      "image/png": "[encoded data removed]",
      "text/plain": [
       "<Figure size 432x288 with 1 Axes>"
      ]
     },
     "metadata": {
      "needs_background": "light"
     },
     "output_type": "display_data"
    }
   ],
   "source": [
    "plt.imshow(matrix, cmap='gray')"
   ]
  },
  {
   "cell_type": "code",
   "execution_count": 82,
   "id": "e809351f",
   "metadata": {},
   "outputs": [
    {
     "data": {
      "image/png": "[encoded data removed]",
      "text/plain": [
       "<Figure size 1080x216 with 5 Axes>"
      ]
     },
     "metadata": {},
     "output_type": "display_data"
    }
   ],
   "source": [
    "fig = plt.figure(figsize=(15, 3))\n",
    "for i in range(5):\n",
    "    ax = fig.add_subplot(1, 5, i + 1)\n",
    "    ax.imshow(\n",
    "        sparse_parts[i].toarray().reshape((32, 32), order='F'),\n",
    "        #sparse_parts[i].toarray(),\n",
    "        interpolation=\"nearest\",\n",
    "        cmap=plt.cm.gray\n",
    "    )\n",
    "    ax.set_xticks([])\n",
    "    ax.set_yticks([])"
   ]
  },
  {
   "cell_type": "code",
   "execution_count": 83,
   "id": "9b0ec59c",
   "metadata": {},
   "outputs": [
    {
     "data": {
      "text/plain": [
       "[32, 0, 0, 64, 0]"
      ]
     },
     "execution_count": 83,
     "metadata": {},
     "output_type": "execute_result"
    }
   ],
   "source": [
    "[s.data.size for s in sparse_parts]"
   ]
  },
  {
   "cell_type": "code",
   "execution_count": 84,
   "id": "cdbb32ef",
   "metadata": {},
   "outputs": [
    {
     "data": {
      "text/plain": [
       "[2, 3, 3, 1]"
      ]
     },
     "execution_count": 84,
     "metadata": {},
     "output_type": "execute_result"
    }
   ],
   "source": [
    "ranks"
   ]
  },
  {
   "cell_type": "code",
   "execution_count": 85,
   "id": "c66584fe",
   "metadata": {},
   "outputs": [
    {
     "data": {
      "text/plain": [
       "array([[0.99999993, 0.99999994, 1.        , ..., 0.99999999, 0.9999999 ,\n",
       "        0.99999988],\n",
       "       [0.99999994, 0.99999993, 1.        , ..., 0.99999999, 0.99999988,\n",
       "        0.9999999 ],\n",
       "       [1.        , 1.        , 0.99999993, ..., 0.99999988, 0.99999999,\n",
       "        0.99999999],\n",
       "       ...,\n",
       "       [0.99999999, 0.99999999, 0.99999988, ..., 0.99999993, 1.        ,\n",
       "        1.        ],\n",
       "       [0.9999999 , 0.99999988, 0.99999999, ..., 1.        , 0.99999993,\n",
       "        0.99999994],\n",
       "       [0.99999988, 0.9999999 , 0.99999999, ..., 1.        , 0.99999994,\n",
       "        0.99999993]])"
      ]
     },
     "execution_count": 85,
     "metadata": {},
     "output_type": "execute_result"
    }
   ],
   "source": [
    "matrix"
   ]
  },
  {
   "cell_type": "code",
   "execution_count": 86,
   "id": "2a764958",
   "metadata": {},
   "outputs": [
    {
     "data": {
      "text/plain": [
       "1.37506863673309e-08"
      ]
     },
     "execution_count": 86,
     "metadata": {},
     "output_type": "execute_result"
    }
   ],
   "source": [
    "np.max(matrix - np.ones_like(matrix))"
   ]
  },
  {
   "cell_type": "code",
   "execution_count": 87,
   "id": "e79a6a21",
   "metadata": {},
   "outputs": [
    {
     "data": {
      "text/plain": [
       "array([[-7.26261529e-08, -6.21613622e-08,  4.27539337e-10, ...,\n",
       "        -1.10559626e-08, -9.68405208e-08, -1.20088094e-07],\n",
       "       [-6.21613622e-08, -7.26261529e-08, -7.12143011e-10, ...,\n",
       "        -8.63219152e-09, -1.20088094e-07, -9.68405207e-08],\n",
       "       [ 4.27539115e-10, -7.12142789e-10, -7.26261538e-08, ...,\n",
       "        -1.20088094e-07, -8.63219307e-09, -1.10559633e-08],\n",
       "       ...,\n",
       "       [-1.10559615e-08, -8.63219018e-09, -1.20088092e-07, ...,\n",
       "        -7.26261518e-08, -7.12141457e-10,  4.27540892e-10],\n",
       "       [-9.68405195e-08, -1.20088092e-07, -8.63219174e-09, ...,\n",
       "        -7.12141235e-10, -7.26261526e-08, -6.21613608e-08],\n",
       "       [-1.20088092e-07, -9.68405195e-08, -1.10559621e-08, ...,\n",
       "         4.27540670e-10, -6.21613608e-08, -7.26261526e-08]])"
      ]
     },
     "execution_count": 87,
     "metadata": {},
     "output_type": "execute_result"
    }
   ],
   "source": [
    "(np.sum([s.toarray().reshape((32, 32), order='F') for s in sparse_parts], axis=0) + matrix - cross)"
   ]
  },
  {
   "cell_type": "code",
   "execution_count": 88,
   "id": "61fa774e",
   "metadata": {},
   "outputs": [
    {
     "data": {
      "text/plain": [
       "7.999998735544775"
      ]
     },
     "execution_count": 88,
     "metadata": {},
     "output_type": "execute_result"
    }
   ],
   "source": [
    "np.linalg.norm(np.sum([s.toarray().reshape((32, 32), order='F') for s in sparse_parts], axis=0) + matrix - cross)"
   ]
  },
  {
   "cell_type": "code",
   "execution_count": null,
   "id": "b46b1528",
   "metadata": {},
   "outputs": [],
   "source": []
  }
 ],
 "metadata": {
  "kernelspec": {
   "display_name": "Python 3 (ipykernel)",
   "language": "python",
   "name": "python3"
  },
  "language_info": {
   "codemirror_mode": {
    "name": "ipython",
    "version": 3
   },
   "file_extension": ".py",
   "mimetype": "text/x-python",
   "name": "python",
   "nbconvert_exporter": "python",
   "pygments_lexer": "ipython3",
   "version": "3.9.7"
  }
 },
 "nbformat": 4,
 "nbformat_minor": 5
}
