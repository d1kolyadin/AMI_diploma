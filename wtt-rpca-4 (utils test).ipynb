{
 "cells": [
  {
   "cell_type": "code",
   "execution_count": 3,
   "id": "b75a5df8",
   "metadata": {},
   "outputs": [
    {
     "name": "stdout",
     "output_type": "stream",
     "text": [
      "The autoreload extension is already loaded. To reload it, use:\n",
      "  %reload_ext autoreload\n"
     ]
    }
   ],
   "source": [
    "import utils\n",
    "import r_pca\n",
    "import wtt\n",
    "import wrappers\n",
    "import numpy as np\n",
    "from pylab import plt\n",
    "\n",
    "%load_ext autoreload\n",
    "%autoreload 2"
   ]
  },
  {
   "cell_type": "code",
   "execution_count": 4,
   "id": "43c6d72d",
   "metadata": {},
   "outputs": [],
   "source": [
    "d = 10\n",
    "n = 2 ** d\n",
    "left = 0\n",
    "right = 1\n",
    "signal = utils.values(np.sqrt, left, right, n)\n",
    "modes = [2] * d"
   ]
  },
  {
   "cell_type": "code",
   "execution_count": 7,
   "id": "52069cca",
   "metadata": {},
   "outputs": [],
   "source": [
    "preproc_1 = wrappers.RPCA_preprocessing_wrapper(1)\n",
    "\n",
    "low_rank, sparse_parts, _ = preproc_1.adjust(signal, d, modes, lambda_scale=2.5)"
   ]
  },
  {
   "cell_type": "code",
   "execution_count": 54,
   "id": "97c5ad5d",
   "metadata": {},
   "outputs": [
    {
     "data": {
      "text/plain": [
       "[22, 43, 42, 17, 1, 8, 12, 21, 0, 0]"
      ]
     },
     "execution_count": 54,
     "metadata": {},
     "output_type": "execute_result"
    }
   ],
   "source": [
    "#то, что было раньше\n",
    "[u.data.size for u in sparse_parts]"
   ]
  },
  {
   "cell_type": "code",
   "execution_count": 10,
   "id": "6a83878a",
   "metadata": {},
   "outputs": [
    {
     "data": {
      "image/png": "[encoded data removed]",
      "text/plain": [
       "<Figure size 432x288 with 1 Axes>"
      ]
     },
     "metadata": {
      "needs_background": "light"
     },
     "output_type": "display_data"
    }
   ],
   "source": [
    "plt.plot(np.linspace(left, right, n), low_rank)\n",
    "plt.show()"
   ]
  },
  {
   "cell_type": "code",
   "execution_count": 13,
   "id": "9d296d45",
   "metadata": {},
   "outputs": [
    {
     "data": {
      "text/plain": [
       "3.426079035737869e-05"
      ]
     },
     "execution_count": 13,
     "metadata": {},
     "output_type": "execute_result"
    }
   ],
   "source": [
    "np.linalg.norm(preproc_1.add_sparse_parts(low_rank) - signal) / np.linalg.norm(signal)"
   ]
  },
  {
   "cell_type": "code",
   "execution_count": 19,
   "id": "8274bfa6",
   "metadata": {},
   "outputs": [
    {
     "data": {
      "text/plain": [
       "[2, 4, 7, 7, 7, 6, 5, 3, 2]"
      ]
     },
     "execution_count": 19,
     "metadata": {},
     "output_type": "execute_result"
    }
   ],
   "source": [
    "wtt_1 = wrappers.WTTwrapper(1)\n",
    "wtt_1.adjust(low_rank, d, modes, eps=1e-6)\n",
    "wtt_1.ranks #сравнительно малоранговое"
   ]
  },
  {
   "cell_type": "code",
   "execution_count": 23,
   "id": "d52410be",
   "metadata": {},
   "outputs": [
    {
     "data": {
      "text/plain": [
       "1.449336132766061e-05"
      ]
     },
     "execution_count": 23,
     "metadata": {},
     "output_type": "execute_result"
    }
   ],
   "source": [
    "wtt_result = wtt_1.apply(low_rank)\n",
    "np.max(wtt_result[1:])"
   ]
  },
  {
   "cell_type": "code",
   "execution_count": 26,
   "id": "d32ffaf2",
   "metadata": {},
   "outputs": [
    {
     "data": {
      "text/plain": [
       "[<matplotlib.lines.Line2D at 0x219a8f83df0>]"
      ]
     },
     "execution_count": 26,
     "metadata": {},
     "output_type": "execute_result"
    },
    {
     "data": {
      "image/png": "[encoded data removed]",
      "text/plain": [
       "<Figure size 432x288 with 1 Axes>"
      ]
     },
     "metadata": {
      "needs_background": "light"
     },
     "output_type": "display_data"
    }
   ],
   "source": [
    "wtt_result[1:] = 0\n",
    "iwtt_result = wtt_1.apply_inverse(wtt_result)\n",
    "iwtt_result = preproc_1.add_sparse_parts(iwtt_result)\n",
    "\n",
    "plt.plot(np.linspace(left, right, n), iwtt_result)"
   ]
  },
  {
   "cell_type": "code",
   "execution_count": 27,
   "id": "4e81b811",
   "metadata": {},
   "outputs": [
    {
     "data": {
      "text/plain": [
       "3.427438076682936e-05"
      ]
     },
     "execution_count": 27,
     "metadata": {},
     "output_type": "execute_result"
    }
   ],
   "source": [
    "np.linalg.norm(iwtt_result - signal) / np.linalg.norm(signal)"
   ]
  },
  {
   "cell_type": "markdown",
   "id": "19e653b7",
   "metadata": {},
   "source": [
    "Тестируем тензоризованный препроцессинг."
   ]
  },
  {
   "cell_type": "code",
   "execution_count": 29,
   "id": "257e5a29",
   "metadata": {},
   "outputs": [],
   "source": [
    "preproc_2 = wrappers.RPCA_preprocessing_wrapper(2)\n",
    "\n",
    "low_rank_part, sparse_parts, ranks = preproc_2.adjust(signal, d, modes, lambda_scale=2.5)"
   ]
  },
  {
   "cell_type": "code",
   "execution_count": 30,
   "id": "f343030c",
   "metadata": {},
   "outputs": [
    {
     "data": {
      "text/plain": [
       "array([0.08130122, 0.08255045, 0.08375563, ..., 0.99898575, 0.99945595,\n",
       "       0.99991889])"
      ]
     },
     "execution_count": 30,
     "metadata": {},
     "output_type": "execute_result"
    }
   ],
   "source": [
    "low_rank_part"
   ]
  },
  {
   "cell_type": "code",
   "execution_count": 31,
   "id": "d8405f08",
   "metadata": {},
   "outputs": [
    {
     "data": {
      "image/png": "[encoded data removed]",
      "text/plain": [
       "<Figure size 432x288 with 1 Axes>"
      ]
     },
     "metadata": {
      "needs_background": "light"
     },
     "output_type": "display_data"
    }
   ],
   "source": [
    "plt.plot(np.linspace(left, right, n), low_rank_part)\n",
    "plt.show()"
   ]
  },
  {
   "cell_type": "markdown",
   "id": "1ef29b9e",
   "metadata": {},
   "source": [
    "Что-то очень похожее на оригинальный корень, между прочим!"
   ]
  },
  {
   "cell_type": "code",
   "execution_count": 32,
   "id": "8b698f4b",
   "metadata": {},
   "outputs": [
    {
     "data": {
      "text/plain": [
       "0.005076014786933616"
      ]
     },
     "execution_count": 32,
     "metadata": {},
     "output_type": "execute_result"
    }
   ],
   "source": [
    "np.linalg.norm(low_rank_part - signal) / np.linalg.norm(signal)"
   ]
  },
  {
   "cell_type": "markdown",
   "id": "2c6f5fe0",
   "metadata": {},
   "source": [
    "Посмотрим на характеристики разложения:"
   ]
  },
  {
   "cell_type": "code",
   "execution_count": 33,
   "id": "3f961c86",
   "metadata": {},
   "outputs": [
    {
     "data": {
      "text/plain": [
       "[22, 38, 29, 11, 0, 6, 11, 26, 0, 0]"
      ]
     },
     "execution_count": 33,
     "metadata": {},
     "output_type": "execute_result"
    }
   ],
   "source": [
    "[s.data.size for s in sparse_parts]"
   ]
  },
  {
   "cell_type": "code",
   "execution_count": 34,
   "id": "5ef9776e",
   "metadata": {},
   "outputs": [
    {
     "data": {
      "text/plain": [
       "[2, 3, 4, 5, 4, 4, 4, 3, 2]"
      ]
     },
     "execution_count": 34,
     "metadata": {},
     "output_type": "execute_result"
    }
   ],
   "source": [
    "ranks"
   ]
  },
  {
   "cell_type": "markdown",
   "id": "19a114aa",
   "metadata": {},
   "source": [
    "Попробуем теперь разложить малоранговую часть, что ли..."
   ]
  },
  {
   "cell_type": "code",
   "execution_count": 36,
   "id": "5e9e99a9",
   "metadata": {},
   "outputs": [],
   "source": [
    "filters, true_ranks = wtt.wtt_filter(\n",
    "    low_rank_part,\n",
    "    d,\n",
    "    modes,\n",
    "    ranks=ranks\n",
    ")"
   ]
  },
  {
   "cell_type": "code",
   "execution_count": 37,
   "id": "3df43aa7",
   "metadata": {},
   "outputs": [
    {
     "data": {
      "text/plain": [
       "[2, 3, 4, 5, 4, 4, 4, 3, 2]"
      ]
     },
     "execution_count": 37,
     "metadata": {},
     "output_type": "execute_result"
    }
   ],
   "source": [
    "true_ranks"
   ]
  },
  {
   "cell_type": "code",
   "execution_count": 38,
   "id": "3c27f497",
   "metadata": {},
   "outputs": [],
   "source": [
    "wtt_res = wtt.wtt_apply(\n",
    "    low_rank_part,\n",
    "    d,\n",
    "    filters,\n",
    "    modes,\n",
    "    true_ranks\n",
    ")"
   ]
  },
  {
   "cell_type": "markdown",
   "id": "24110660",
   "metadata": {},
   "source": [
    "Что получилось:"
   ]
  },
  {
   "cell_type": "code",
   "execution_count": 39,
   "id": "57256c3f",
   "metadata": {},
   "outputs": [
    {
     "data": {
      "text/plain": [
       "2.4909398560856058e-15"
      ]
     },
     "execution_count": 39,
     "metadata": {},
     "output_type": "execute_result"
    }
   ],
   "source": [
    "np.max(wtt_res[1:])"
   ]
  },
  {
   "cell_type": "markdown",
   "id": "017be889",
   "metadata": {},
   "source": [
    "Все коэффициенты, кроме первого --- нули! А ранги при этом крошечные."
   ]
  },
  {
   "cell_type": "code",
   "execution_count": 41,
   "id": "aace114c",
   "metadata": {},
   "outputs": [
    {
     "name": "stdout",
     "output_type": "stream",
     "text": [
      "2.3192420139693152e-14\n"
     ]
    }
   ],
   "source": [
    "zeroed_coeffs = np.zeros_like(wtt_res)\n",
    "zeroed_coeffs[0] = wtt_res[0]\n",
    "\n",
    "iwtt_res = wtt.iwtt_apply(\n",
    "    zeroed_coeffs,\n",
    "    d,\n",
    "    filters,\n",
    "    modes,\n",
    "    true_ranks\n",
    ")\n",
    "\n",
    "print(np.linalg.norm(iwtt_res - low_rank_part))"
   ]
  },
  {
   "cell_type": "markdown",
   "id": "070843f5",
   "metadata": {},
   "source": [
    "Восстановим корень:"
   ]
  },
  {
   "cell_type": "code",
   "execution_count": 43,
   "id": "dc7fa343",
   "metadata": {},
   "outputs": [],
   "source": [
    "signal_restored = preproc_2.add_sparse_parts(iwtt_res)"
   ]
  },
  {
   "cell_type": "markdown",
   "id": "ff4566ef",
   "metadata": {},
   "source": [
    "Всё же у нас приближённое разложение $A = L + S_1 + \\ldots + S_d$ (параметр ```tol``` в алгоритме)."
   ]
  },
  {
   "cell_type": "code",
   "execution_count": 44,
   "id": "1edc8bb2",
   "metadata": {},
   "outputs": [
    {
     "data": {
      "text/plain": [
       "0.00020064385128858088"
      ]
     },
     "execution_count": 44,
     "metadata": {},
     "output_type": "execute_result"
    }
   ],
   "source": [
    "np.linalg.norm(signal - signal_restored) / np.linalg.norm(signal)"
   ]
  },
  {
   "cell_type": "code",
   "execution_count": 45,
   "id": "e70acd81",
   "metadata": {},
   "outputs": [
    {
     "data": {
      "image/png": "[encoded data removed]",
      "text/plain": [
       "<Figure size 432x288 with 1 Axes>"
      ]
     },
     "metadata": {
      "needs_background": "light"
     },
     "output_type": "display_data"
    }
   ],
   "source": [
    "plt.plot(np.linspace(left, right, n), signal_restored)\n",
    "plt.show()"
   ]
  },
  {
   "cell_type": "markdown",
   "id": "543c45a7",
   "metadata": {},
   "source": [
    "Теперь посмотрим на простое 2D:"
   ]
  },
  {
   "cell_type": "code",
   "execution_count": 46,
   "id": "6f27353a",
   "metadata": {},
   "outputs": [
    {
     "data": {
      "text/plain": [
       "<matplotlib.image.AxesImage at 0x219a94b8ac0>"
      ]
     },
     "execution_count": 46,
     "metadata": {},
     "output_type": "execute_result"
    },
    {
     "data": {
      "image/png": "[encoded data removed]",
      "text/plain": [
       "<Figure size 432x288 with 1 Axes>"
      ]
     },
     "metadata": {
      "needs_background": "light"
     },
     "output_type": "display_data"
    }
   ],
   "source": [
    "cross = np.full((32, 32), 255)\n",
    "for i in range(8, 24):\n",
    "    cross[i, i] = 0.\n",
    "    cross[i, 31 - i] = 0.\n",
    "plt.imshow(cross, cmap='gray')"
   ]
  },
  {
   "cell_type": "code",
   "execution_count": 47,
   "id": "046a39f5",
   "metadata": {},
   "outputs": [],
   "source": [
    "d = 5\n",
    "modes = [2] * d\n",
    "\n",
    "vector, vector_modes = utils.matrix_to_vector(cross, d, modes)"
   ]
  },
  {
   "cell_type": "code",
   "execution_count": 48,
   "id": "6123cf14",
   "metadata": {},
   "outputs": [],
   "source": [
    "low_rank_part, sparse_parts, ranks = preproc_2.adjust(\n",
    "    vector,\n",
    "    d,\n",
    "    vector_modes,\n",
    "    lambda_scale=2.\n",
    ")"
   ]
  },
  {
   "cell_type": "code",
   "execution_count": 51,
   "id": "86b347c9",
   "metadata": {},
   "outputs": [
    {
     "data": {
      "text/plain": [
       "<matplotlib.image.AxesImage at 0x219a959b700>"
      ]
     },
     "execution_count": 51,
     "metadata": {},
     "output_type": "execute_result"
    },
    {
     "data": {
      "image/png": "[encoded data removed]",
      "text/plain": [
       "<Figure size 432x288 with 1 Axes>"
      ]
     },
     "metadata": {
      "needs_background": "light"
     },
     "output_type": "display_data"
    }
   ],
   "source": [
    "matrix, _ = utils.vector_to_matrix(low_rank_part, d, vector_modes)\n",
    "\n",
    "plt.imshow(matrix, interpolation='nearest', cmap='gray')"
   ]
  },
  {
   "cell_type": "code",
   "execution_count": 53,
   "id": "d97c10cc",
   "metadata": {},
   "outputs": [
    {
     "name": "stdout",
     "output_type": "stream",
     "text": [
      "3.0210984476752856e-05\n"
     ]
    }
   ],
   "source": [
    "print(np.max(matrix - np.full(matrix.shape, 255)))\n",
    "#почти всегда 255"
   ]
  },
  {
   "cell_type": "code",
   "execution_count": 54,
   "id": "e809351f",
   "metadata": {},
   "outputs": [
    {
     "data": {
      "image/png": "[encoded data removed]",
      "text/plain": [
       "<Figure size 1080x216 with 5 Axes>"
      ]
     },
     "metadata": {},
     "output_type": "display_data"
    }
   ],
   "source": [
    "fig = plt.figure(figsize=(15, 3))\n",
    "sparse_to_show = []\n",
    "for s in preproc_2.sparse_parts:\n",
    "    sparse_to_show.append(utils.vector_to_matrix(s.toarray().flatten(order='F'), d, vector_modes)[0])\n",
    "\n",
    "for i in range(5):\n",
    "    ax = fig.add_subplot(1, 5, i + 1)\n",
    "    ax.imshow(\n",
    "        sparse_to_show[i],\n",
    "        interpolation=\"nearest\",\n",
    "        cmap=plt.cm.gray\n",
    "    )\n",
    "    ax.set_xticks([])\n",
    "    ax.set_yticks([])"
   ]
  },
  {
   "cell_type": "code",
   "execution_count": 55,
   "id": "9b0ec59c",
   "metadata": {},
   "outputs": [
    {
     "data": {
      "text/plain": [
       "[32, 0, 0, 64, 0]"
      ]
     },
     "execution_count": 55,
     "metadata": {},
     "output_type": "execute_result"
    }
   ],
   "source": [
    "[s.data.size for s in sparse_parts]"
   ]
  },
  {
   "cell_type": "code",
   "execution_count": 56,
   "id": "cdbb32ef",
   "metadata": {},
   "outputs": [
    {
     "data": {
      "text/plain": [
       "[2, 3, 3, 1]"
      ]
     },
     "execution_count": 56,
     "metadata": {},
     "output_type": "execute_result"
    }
   ],
   "source": [
    "ranks"
   ]
  },
  {
   "cell_type": "code",
   "execution_count": null,
   "id": "b46b1528",
   "metadata": {},
   "outputs": [],
   "source": []
  }
 ],
 "metadata": {
  "kernelspec": {
   "display_name": "Python 3 (ipykernel)",
   "language": "python",
   "name": "python3"
  },
  "language_info": {
   "codemirror_mode": {
    "name": "ipython",
    "version": 3
   },
   "file_extension": ".py",
   "mimetype": "text/x-python",
   "name": "python",
   "nbconvert_exporter": "python",
   "pygments_lexer": "ipython3",
   "version": "3.9.7"
  }
 },
 "nbformat": 4,
 "nbformat_minor": 5
}
