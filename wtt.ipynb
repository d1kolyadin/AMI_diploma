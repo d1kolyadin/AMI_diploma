{
 "cells": [
  {
   "cell_type": "code",
   "execution_count": 1,
   "id": "110105ad",
   "metadata": {},
   "outputs": [],
   "source": [
    "import numpy as np"
   ]
  },
  {
   "cell_type": "markdown",
   "id": "7e4d247e",
   "metadata": {},
   "source": [
    "Функция для TT-SVD (копирую из домашки):"
   ]
  },
  {
   "cell_type": "code",
   "execution_count": 2,
   "id": "ec073105",
   "metadata": {},
   "outputs": [],
   "source": [
    "def tt_svd(tensor, eps, max_rank):\n",
    "    \"\"\"\n",
    "    Input\n",
    "        tensor: np array\n",
    "        eps: desired difference in frobenius norm between tensor and TT approximation\n",
    "        max_rank: upper hard limit on each TT rank (it has priority over eps)\n",
    "\n",
    "    Output\n",
    "        carriages: list of cores that give TT decomposition of tensor\n",
    "    \"\"\"\n",
    "\n",
    "    remaining = tensor\n",
    "    d = len(tensor.shape)\n",
    "    N = tensor.size\n",
    "    r = 1\n",
    "\n",
    "    eps = eps / np.sqrt(d - 1) #потому что ошибка в tt_svd составляет\n",
    "    #sqrt(sum_{k <= d - 1} квадрат ошибки в svd для A_k) = sqrt(d - 1) * ошибка в каждом svd\n",
    "\n",
    "    carriages = []\n",
    "\n",
    "    for k in range(d - 1):\n",
    "        matrix_to_svd = remaining.reshape((r * tensor.shape[k], N // tensor.shape[k]), order='F')\n",
    "        u, sigmas, vt = np.linalg.svd(matrix_to_svd, full_matrices=False)\n",
    "\n",
    "        curr_r = min(sigmas.size, max_rank)\n",
    "        error_squared = np.sum(np.square(sigmas[curr_r:]))\n",
    "        while curr_r >= 1 and error_squared + np.square(sigmas[curr_r - 1]) < np.square(eps):\n",
    "            error_squared = error_squared + np.square(sigmas[curr_r - 1])\n",
    "            curr_r -= 1\n",
    "\n",
    "        carriages.append(u[:,:curr_r].reshape((r, tensor.shape[k], curr_r), order='F'))\n",
    "        remaining = np.diag(sigmas[:curr_r]) @ vt[:curr_r,:]\n",
    "        N = N // tensor.shape[k]\n",
    "        r = curr_r\n",
    "\n",
    "    carriages.append(remaining.reshape((r, tensor.shape[-1], 1), order='F'))\n",
    "\n",
    "    return carriages"
   ]
  },
  {
   "cell_type": "markdown",
   "id": "fd369db7",
   "metadata": {},
   "source": [
    "WTT Filter algorithm из статьи:"
   ]
  },
  {
   "cell_type": "code",
   "execution_count": 75,
   "id": "6b37a851",
   "metadata": {},
   "outputs": [],
   "source": [
    "def wtt_filter(tensor, ranks):\n",
    "    \"\"\"\n",
    "    Input\n",
    "        tensor: np array\n",
    "        ranks: list of rank parameters\n",
    "\n",
    "    Output\n",
    "        filters: list of linear filters U_1, ..., U_{d - 1} defining the WTT transform\n",
    "        final ranks: list of final ranks of an approximation\n",
    "    \"\"\"\n",
    "\n",
    "    d = len(tensor.shape)\n",
    "    N = tensor.size\n",
    "    r_prev = 1\n",
    "    A = tensor.reshape((tensor.shape[0], N // tensor.shape[0]), order='F')\n",
    "\n",
    "    filters = []\n",
    "    final_ranks = []\n",
    "\n",
    "    for k in range(d - 1):\n",
    "        s1, s2 = A.shape\n",
    "        r = min(ranks[k], s1, s2)\n",
    "        u, sigmas, vt = np.linalg.svd(A, full_matrices=False)\n",
    "        filters.append(u)\n",
    "\n",
    "        A = (u.T @ A)[:r,:]\n",
    "        N = N * r // (tensor.shape[k] * r_prev)\n",
    "        A = A.reshape((tensor.shape[k + 1] * r, N // (tensor.shape[k + 1] * r)), order='F')\n",
    "        final_ranks.append(r)\n",
    "        r_prev = r\n",
    "\n",
    "    return filters, final_ranks"
   ]
  },
  {
   "cell_type": "markdown",
   "id": "7ba622ba",
   "metadata": {},
   "source": [
    "WTT Application algorithm из статьи:"
   ]
  },
  {
   "cell_type": "code",
   "execution_count": 169,
   "id": "6f091437",
   "metadata": {},
   "outputs": [],
   "source": [
    "def wtt_application(v, filters, shapes, ranks):\n",
    "    \"\"\"\n",
    "    Input\n",
    "        v: a vector of size n = n_1...n_d\n",
    "        filters: list of linear filters U_1, ..., U_{d - 1} defining the WTT transform\n",
    "        shapes: a list of numbers n_1, ..., n_d\n",
    "        ranks: list of ranks of the transform\n",
    "\n",
    "    Output\n",
    "        w: transformed vector\n",
    "    \"\"\"\n",
    "    \n",
    "    d = len(filters) + 1\n",
    "    N = v.size\n",
    "    r_prev = 1\n",
    "    w = v.reshape((shapes[0], N // shapes[0]), order='F')\n",
    "    tails = []\n",
    "    \n",
    "    for k in range(d - 1):\n",
    "        \n",
    "        print(\"k =\", k)\n",
    "        \n",
    "        r = ranks[k]\n",
    "        w = filters[k].T @ w\n",
    "        \n",
    "        print(\"w.shape=\", w.shape)\n",
    "        \n",
    "        tails.append(w[r:,:])\n",
    "        \n",
    "        print(\"tails[k].shape=\", tails[k].shape)\n",
    "        print(\"Current N:\", N)\n",
    "\n",
    "        N = N * r // (shapes[k] * r_prev)\n",
    "        \n",
    "        print(\"New N:\", N)\n",
    "        \n",
    "        if k < d - 2:\n",
    "            w = w[:r,:].reshape((shapes[k + 1] * r, N // (shapes[k + 1] * r)), order='F')\n",
    "            r_prev = r\n",
    "        else:\n",
    "            w = w[:r,:]\n",
    "        \n",
    "    for k in range(d - 2, -1, -1):\n",
    "        \n",
    "        print(\"k =\", k)\n",
    "        print(\"w.shape=\", w.shape)\n",
    "        print(\"tails[k].shape=\", tails[k].shape)\n",
    "        \n",
    "        print(\"Current N:\", N)\n",
    "        \n",
    "        r_prev = 1 if k == 0 else ranks[k - 1]\n",
    "        r = ranks[k]\n",
    "        N = N * r_prev * shapes[k] // r\n",
    "        \n",
    "        print(\"New N:\", N)\n",
    "        \n",
    "        w = np.vstack([w, tails[k]]).reshape((r_prev, N // r_prev), order='F')\n",
    "    \n",
    "    return w.flatten(order='F')"
   ]
  },
  {
   "cell_type": "code",
   "execution_count": 170,
   "id": "2fec8f87",
   "metadata": {},
   "outputs": [],
   "source": [
    "def func(x):\n",
    "    return np.exp(x) + np.exp(1.5 * x) - 2 * np.exp(-2 * x) + 7 * np.exp(3 * x)"
   ]
  },
  {
   "cell_type": "code",
   "execution_count": 171,
   "id": "1cc19b2f",
   "metadata": {},
   "outputs": [],
   "source": [
    "def values(func, left, right, n):\n",
    "    return func(np.linspace(left, right, n))"
   ]
  },
  {
   "cell_type": "code",
   "execution_count": 179,
   "id": "41cc84a8",
   "metadata": {},
   "outputs": [],
   "source": [
    "left = -1\n",
    "right = 1\n",
    "\n",
    "d = 5\n",
    "n = 2 ** d"
   ]
  },
  {
   "cell_type": "code",
   "execution_count": 180,
   "id": "330760c8",
   "metadata": {},
   "outputs": [],
   "source": [
    "v = values(func, left, right, n)"
   ]
  },
  {
   "cell_type": "code",
   "execution_count": 181,
   "id": "bea42aee",
   "metadata": {},
   "outputs": [],
   "source": [
    "v_tensor = v.reshape([2] * d, order='F')"
   ]
  },
  {
   "cell_type": "code",
   "execution_count": 182,
   "id": "cb1af246",
   "metadata": {},
   "outputs": [],
   "source": [
    "filters, ranks = wtt_filter(v_tensor, [2] * d)"
   ]
  },
  {
   "cell_type": "code",
   "execution_count": 183,
   "id": "924f3b86",
   "metadata": {},
   "outputs": [
    {
     "data": {
      "text/plain": [
       "[2, 2, 2, 2]"
      ]
     },
     "execution_count": 183,
     "metadata": {},
     "output_type": "execute_result"
    }
   ],
   "source": [
    "ranks"
   ]
  },
  {
   "cell_type": "code",
   "execution_count": 186,
   "id": "336a1cb1",
   "metadata": {},
   "outputs": [
    {
     "data": {
      "text/plain": [
       "[(2, 2), (4, 4), (4, 4), (4, 2)]"
      ]
     },
     "execution_count": 186,
     "metadata": {},
     "output_type": "execute_result"
    }
   ],
   "source": [
    "[U.shape for U in filters]"
   ]
  },
  {
   "cell_type": "code",
   "execution_count": 184,
   "id": "a5e1ae95",
   "metadata": {},
   "outputs": [
    {
     "name": "stdout",
     "output_type": "stream",
     "text": [
      "k = 0\n",
      "w.shape= (2, 16)\n",
      "tails[k].shape= (0, 16)\n",
      "Current N: 32\n",
      "New N: 32\n",
      "k = 1\n",
      "w.shape= (4, 8)\n",
      "tails[k].shape= (2, 8)\n",
      "Current N: 32\n",
      "New N: 16\n",
      "k = 2\n",
      "w.shape= (4, 4)\n",
      "tails[k].shape= (2, 4)\n",
      "Current N: 16\n",
      "New N: 8\n",
      "k = 3\n",
      "w.shape= (2, 2)\n",
      "tails[k].shape= (0, 2)\n",
      "Current N: 8\n",
      "New N: 4\n",
      "k = 3\n",
      "w.shape= (2, 2)\n",
      "tails[k].shape= (0, 2)\n",
      "Current N: 4\n",
      "New N: 8\n"
     ]
    },
    {
     "ename": "ValueError",
     "evalue": "cannot reshape array of size 4 into shape (2,4)",
     "output_type": "error",
     "traceback": [
      "\u001b[1;31m---------------------------------------------------------------------------\u001b[0m",
      "\u001b[1;31mValueError\u001b[0m                                Traceback (most recent call last)",
      "\u001b[1;32m~\\AppData\\Local\\Temp/ipykernel_2076/4217983786.py\u001b[0m in \u001b[0;36m<module>\u001b[1;34m\u001b[0m\n\u001b[1;32m----> 1\u001b[1;33m \u001b[0mw\u001b[0m \u001b[1;33m=\u001b[0m \u001b[0mwtt_application\u001b[0m\u001b[1;33m(\u001b[0m\u001b[0mv\u001b[0m\u001b[1;33m,\u001b[0m \u001b[0mfilters\u001b[0m\u001b[1;33m,\u001b[0m \u001b[1;33m[\u001b[0m\u001b[1;36m2\u001b[0m\u001b[1;33m]\u001b[0m \u001b[1;33m*\u001b[0m \u001b[0md\u001b[0m\u001b[1;33m,\u001b[0m \u001b[0mranks\u001b[0m\u001b[1;33m)\u001b[0m\u001b[1;33m\u001b[0m\u001b[1;33m\u001b[0m\u001b[0m\n\u001b[0m",
      "\u001b[1;32m~\\AppData\\Local\\Temp/ipykernel_2076/3516694023.py\u001b[0m in \u001b[0;36mwtt_application\u001b[1;34m(v, filters, shapes, ranks)\u001b[0m\n\u001b[0;32m     55\u001b[0m         \u001b[0mprint\u001b[0m\u001b[1;33m(\u001b[0m\u001b[1;34m\"New N:\"\u001b[0m\u001b[1;33m,\u001b[0m \u001b[0mN\u001b[0m\u001b[1;33m)\u001b[0m\u001b[1;33m\u001b[0m\u001b[1;33m\u001b[0m\u001b[0m\n\u001b[0;32m     56\u001b[0m \u001b[1;33m\u001b[0m\u001b[0m\n\u001b[1;32m---> 57\u001b[1;33m         \u001b[0mw\u001b[0m \u001b[1;33m=\u001b[0m \u001b[0mnp\u001b[0m\u001b[1;33m.\u001b[0m\u001b[0mvstack\u001b[0m\u001b[1;33m(\u001b[0m\u001b[1;33m[\u001b[0m\u001b[0mw\u001b[0m\u001b[1;33m,\u001b[0m \u001b[0mtails\u001b[0m\u001b[1;33m[\u001b[0m\u001b[0mk\u001b[0m\u001b[1;33m]\u001b[0m\u001b[1;33m]\u001b[0m\u001b[1;33m)\u001b[0m\u001b[1;33m.\u001b[0m\u001b[0mreshape\u001b[0m\u001b[1;33m(\u001b[0m\u001b[1;33m(\u001b[0m\u001b[0mr_prev\u001b[0m\u001b[1;33m,\u001b[0m \u001b[0mN\u001b[0m \u001b[1;33m//\u001b[0m \u001b[0mr_prev\u001b[0m\u001b[1;33m)\u001b[0m\u001b[1;33m,\u001b[0m \u001b[0morder\u001b[0m\u001b[1;33m=\u001b[0m\u001b[1;34m'F'\u001b[0m\u001b[1;33m)\u001b[0m\u001b[1;33m\u001b[0m\u001b[1;33m\u001b[0m\u001b[0m\n\u001b[0m\u001b[0;32m     58\u001b[0m \u001b[1;33m\u001b[0m\u001b[0m\n\u001b[0;32m     59\u001b[0m     \u001b[1;32mreturn\u001b[0m \u001b[0mw\u001b[0m\u001b[1;33m.\u001b[0m\u001b[0mflatten\u001b[0m\u001b[1;33m(\u001b[0m\u001b[0morder\u001b[0m\u001b[1;33m=\u001b[0m\u001b[1;34m'F'\u001b[0m\u001b[1;33m)\u001b[0m\u001b[1;33m\u001b[0m\u001b[1;33m\u001b[0m\u001b[0m\n",
      "\u001b[1;31mValueError\u001b[0m: cannot reshape array of size 4 into shape (2,4)"
     ]
    }
   ],
   "source": [
    "w = wtt_application(v, filters, [2] * d, ranks)"
   ]
  },
  {
   "cell_type": "code",
   "execution_count": 135,
   "id": "2d058ecf",
   "metadata": {},
   "outputs": [
    {
     "data": {
      "text/plain": [
       "[array([[ 0.63902701, -0.76918429],\n",
       "        [ 0.76918429,  0.63902701]]),\n",
       " array([[ 5.67927720e-01, -7.30419940e-01, -4.81611321e-02,\n",
       "          3.76331398e-01],\n",
       "        [-2.86275249e-04,  3.65981793e-01, -6.92043693e-01,\n",
       "          6.22199945e-01],\n",
       "        [ 8.23078274e-01,  5.03976456e-01,  3.26213099e-02,\n",
       "         -2.59780171e-01],\n",
       "        [ 4.22560260e-04,  2.80270886e-01,  7.19508084e-01,\n",
       "          6.35418106e-01]]),\n",
       " array([[-4.29000441e-01, -7.57212035e-01, -1.19251865e-01,\n",
       "         -3.41142297e-01],\n",
       "        [ 4.66611066e-04,  4.71487291e-01, -6.48329317e-01,\n",
       "         -4.35946607e-01],\n",
       "        [ 1.22911071e-04,  2.75419469e-04,  1.31578842e-01,\n",
       "          4.54896800e-01],\n",
       "        [ 2.12181293e-08, -1.43509592e-07, -2.69774339e-05,\n",
       "         -4.72445414e-02],\n",
       "        [-9.03302667e-01,  3.59365463e-01,  5.50133349e-02,\n",
       "          1.62627193e-01],\n",
       "        [-1.63599134e-03,  2.74200053e-01,  7.13681864e-01,\n",
       "         -4.07276978e-01],\n",
       "        [-6.07434014e-05, -6.22091508e-04,  1.89121196e-01,\n",
       "         -5.36455050e-01],\n",
       "        [-9.05702666e-09,  2.14494857e-07,  5.18880898e-06,\n",
       "         -6.55986459e-02]]),\n",
       " array([[ 2.14345327e-01,  7.05014654e-01],\n",
       "        [-5.69547806e-03,  6.59648508e-01],\n",
       "        [ 7.84884244e-04,  2.01394358e-03],\n",
       "        [-1.71085760e-07,  7.40729363e-07],\n",
       "        [ 9.76735438e-01, -1.50153907e-01],\n",
       "        [-3.29733746e-03,  2.12715242e-01],\n",
       "        [-1.94227654e-04, -4.48962836e-03],\n",
       "        [ 2.78031153e-08, -2.70175531e-06]])]"
      ]
     },
     "execution_count": 135,
     "metadata": {},
     "output_type": "execute_result"
    }
   ],
   "source": [
    "filters"
   ]
  },
  {
   "cell_type": "code",
   "execution_count": null,
   "id": "2f01eb06",
   "metadata": {},
   "outputs": [],
   "source": []
  }
 ],
 "metadata": {
  "kernelspec": {
   "display_name": "Python 3 (ipykernel)",
   "language": "python",
   "name": "python3"
  },
  "language_info": {
   "codemirror_mode": {
    "name": "ipython",
    "version": 3
   },
   "file_extension": ".py",
   "mimetype": "text/x-python",
   "name": "python",
   "nbconvert_exporter": "python",
   "pygments_lexer": "ipython3",
   "version": "3.9.7"
  }
 },
 "nbformat": 4,
 "nbformat_minor": 5
}
