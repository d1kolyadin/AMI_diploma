{
 "cells": [
  {
   "cell_type": "code",
   "execution_count": 1,
   "id": "07f9cdcc",
   "metadata": {},
   "outputs": [],
   "source": [
    "# %load robust-pca/r_pca.py\n",
    "from __future__ import division, print_function\n",
    "\n",
    "import numpy as np\n",
    "\n",
    "try:\n",
    "    from pylab import plt\n",
    "except ImportError:\n",
    "    print('Unable to import pylab. R_pca.plot_fit() will not work.')\n",
    "\n",
    "try:\n",
    "    # Python 2: 'xrange' is the iterative version\n",
    "    range = xrange\n",
    "except NameError:\n",
    "    # Python 3: 'range' is iterative - no need for 'xrange'\n",
    "    pass\n",
    "\n",
    "\n",
    "class R_pca:\n",
    "\n",
    "    def __init__(self, D, mu=None, lmbda=None):\n",
    "        self.D = D\n",
    "        self.S = np.zeros(self.D.shape)\n",
    "        self.Y = np.zeros(self.D.shape)\n",
    "\n",
    "        if mu:\n",
    "            self.mu = mu\n",
    "        else:\n",
    "            self.mu = np.prod(self.D.shape) / (4 * np.linalg.norm(self.D, ord=1))\n",
    "\n",
    "        self.mu_inv = 1 / self.mu\n",
    "\n",
    "        if lmbda:\n",
    "            self.lmbda = lmbda\n",
    "        else:\n",
    "            self.lmbda = 1 / np.sqrt(np.max(self.D.shape))\n",
    "\n",
    "    @staticmethod\n",
    "    def frobenius_norm(M):\n",
    "        return np.linalg.norm(M, ord='fro')\n",
    "\n",
    "    @staticmethod\n",
    "    def shrink(M, tau):\n",
    "        return np.sign(M) * np.maximum((np.abs(M) - tau), np.zeros(M.shape))\n",
    "\n",
    "    def svd_threshold(self, M, tau):\n",
    "        U, S, V = np.linalg.svd(M, full_matrices=False)\n",
    "        return np.dot(U, np.dot(np.diag(self.shrink(S, tau)), V))\n",
    "\n",
    "    def fit(self, tol=None, max_iter=1000, iter_print=100, verbose=True):\n",
    "        iter = 0\n",
    "        err = np.Inf\n",
    "        Sk = self.S\n",
    "        Yk = self.Y\n",
    "        Lk = np.zeros(self.D.shape)\n",
    "\n",
    "        if tol:\n",
    "            _tol = tol\n",
    "        else:\n",
    "            _tol = 1E-7 * self.frobenius_norm(self.D)\n",
    "\n",
    "        #this loop implements the principal component pursuit (PCP) algorithm\n",
    "        #located in the table on page 29 of https://arxiv.org/pdf/0912.3599.pdf\n",
    "        while (err > _tol) and iter < max_iter:\n",
    "            Lk = self.svd_threshold(\n",
    "                self.D - Sk + self.mu_inv * Yk, self.mu_inv)                            #this line implements step 3\n",
    "            Sk = self.shrink(\n",
    "                self.D - Lk + (self.mu_inv * Yk), self.mu_inv * self.lmbda)             #this line implements step 4\n",
    "            Yk = Yk + self.mu * (self.D - Lk - Sk)                                      #this line implements step 5\n",
    "            err = self.frobenius_norm(self.D - Lk - Sk)\n",
    "            iter += 1\n",
    "            if verbose and ((iter % iter_print) == 0 or iter == 1 or iter > max_iter or err <= _tol):\n",
    "                print('iteration: {0}, error: {1}'.format(iter, err))\n",
    "\n",
    "        self.L = Lk\n",
    "        self.S = Sk\n",
    "        return Lk, Sk\n",
    "\n",
    "    def plot_fit(self, size=None, tol=0.1, axis_on=True):\n",
    "\n",
    "        n, d = self.D.shape\n",
    "\n",
    "        if size:\n",
    "            nrows, ncols = size\n",
    "        else:\n",
    "            sq = np.ceil(np.sqrt(n))\n",
    "            nrows = int(sq)\n",
    "            ncols = int(sq)\n",
    "\n",
    "        ymin = np.nanmin(self.D)\n",
    "        ymax = np.nanmax(self.D)\n",
    "        print('ymin: {0}, ymax: {1}'.format(ymin, ymax))\n",
    "\n",
    "        numplots = np.min([n, nrows * ncols])\n",
    "        plt.figure()\n",
    "\n",
    "        for n in range(numplots):\n",
    "            plt.subplot(nrows, ncols, n + 1)\n",
    "            plt.ylim((ymin - tol, ymax + tol))\n",
    "            plt.plot(self.L[n, :] + self.S[n, :], 'r')\n",
    "            plt.plot(self.L[n, :], 'b')\n",
    "            if not axis_on:\n",
    "                plt.axis('off')\n"
   ]
  },
  {
   "cell_type": "code",
   "execution_count": 2,
   "id": "4f9228a0",
   "metadata": {},
   "outputs": [],
   "source": [
    "def values(func, left, right, n):\n",
    "    return func(np.linspace(left, right, n))\n",
    "\n",
    "def wtt_filter(input_vector, d, modes, ranks=None, eps=None, check_correctness=False):\n",
    "    assert ranks is not None or eps is not None\n",
    "    \n",
    "    filters = []\n",
    "    prod_modes = input_vector.size\n",
    "    \n",
    "    if check_correctness:\n",
    "        assert len(modes) == d\n",
    "        if ranks is not None:\n",
    "            assert len(ranks) == d - 1\n",
    "        if eps is not None:\n",
    "            assert 0 <= eps <= 1\n",
    "        assert prod_modes == np.prod(modes)\n",
    "        \n",
    "    true_ranks = []\n",
    "    \n",
    "    r_prev = 1\n",
    "    A = input_vector\n",
    "    for k in range(d):\n",
    "        A = A.reshape((r_prev * modes[k], prod_modes // modes[k]), order='F')\n",
    "        if A.shape[0] <= A.shape[1]:\n",
    "            u, sigmas, vt = np.linalg.svd(A, full_matrices=False)\n",
    "        else:\n",
    "            u, sigmas, vt = np.linalg.svd(A, full_matrices=True)\n",
    "            \n",
    "        r_given = None if ranks is None else (1 if k == d - 1 else ranks[k])\n",
    "        r_eps = None if eps is None else max(1, (sigmas > eps * sigmas[0]).sum())\n",
    "        if r_given is not None and r_eps is not None:\n",
    "            r_cur = min(r_given, r_eps)\n",
    "        elif r_given is not None:\n",
    "            r_cur = r_given\n",
    "        else:\n",
    "            r_cur = r_eps\n",
    "        \n",
    "        filters.append(u)\n",
    "\n",
    "        if check_correctness:\n",
    "            assert u.shape[0] == u.shape[1] == r_prev * modes[k]\n",
    "            if k < d - 1:\n",
    "                assert r_cur <= r_prev * modes[k]\n",
    "\n",
    "        if k < d - 1:\n",
    "            A = (u.T @ A)[:r_cur,:]\n",
    "            prod_modes //= modes[k]\n",
    "            true_ranks.append(r_cur)\n",
    "            r_prev = r_cur\n",
    "    \n",
    "    return filters, true_ranks\n",
    "\n",
    "def wtt_apply(input_vector, d, filters, modes, ranks, check_correctness=False):\n",
    "    prod_modes = input_vector.size\n",
    "    \n",
    "    if check_correctness:\n",
    "        assert len(filters) == d\n",
    "        assert len(modes) == d\n",
    "        assert len(ranks) == d - 1\n",
    "        assert prod_modes == np.prod(modes)\n",
    "        \n",
    "    tails = []\n",
    "    A = input_vector\n",
    "    r_prev = 1\n",
    "    for k in range(d):\n",
    "        A = A.reshape((r_prev * modes[k], prod_modes // modes[k]), order='F')\n",
    "        A = filters[k].T @ A\n",
    "\n",
    "        if check_correctness:\n",
    "            assert A.shape[0] == r_prev * modes[k]\n",
    "            if k < d - 1:\n",
    "                assert ranks[k] <= r_prev * modes[k]\n",
    "                \n",
    "        if k < d - 1:\n",
    "            tails.append(A[ranks[k]:,:])\n",
    "            A = A[:ranks[k],:]\n",
    "            prod_modes //= modes[k]\n",
    "            r_prev = ranks[k]\n",
    "        \n",
    "    result = A\n",
    "    for k in range(d - 2, -1, -1):        \n",
    "        result = np.vstack([\n",
    "            result.reshape((ranks[k], prod_modes), order='F'),\n",
    "            tails[k]\n",
    "        ])\n",
    "        prod_modes *= modes[k]\n",
    "    \n",
    "    return result.flatten(order='F')\n",
    "\n",
    "def iwtt_apply(input_vector, d, filters, modes, ranks, check_correctness=False):\n",
    "    prod_modes = input_vector.size\n",
    "    \n",
    "    if check_correctness:\n",
    "        assert len(filters) == d\n",
    "        assert len(modes) == d\n",
    "        assert len(ranks) == d - 1\n",
    "        assert prod_modes == np.prod(modes)\n",
    "        \n",
    "    tails = []\n",
    "    A = input_vector\n",
    "    r_prev = 1\n",
    "    for k in range(d):\n",
    "        A = A.reshape((r_prev * modes[k], prod_modes // modes[k]), order='F')\n",
    "\n",
    "        if check_correctness:\n",
    "            assert A.shape[0] == r_prev * modes[k]\n",
    "            if k < d - 1:\n",
    "                assert ranks[k] <= r_prev * modes[k]\n",
    "                \n",
    "        if k < d - 1:\n",
    "            tails.append(A[ranks[k]:,:])\n",
    "            A = A[:ranks[k],:]\n",
    "            prod_modes //= modes[k]\n",
    "            r_prev = ranks[k]\n",
    "        \n",
    "    #prod_modes == modes[-1] в конце\n",
    "    result = A\n",
    "    for k in range(d - 1, -1, -1):\n",
    "        \n",
    "        r_prev = 1 if k == 0 else ranks[k - 1]\n",
    "        if k == d - 1:\n",
    "            result = (filters[k] @ result).reshape((r_prev, prod_modes), order='F')\n",
    "        else:\n",
    "            result = (filters[k] @ np.vstack([\n",
    "                result,\n",
    "                tails[k]\n",
    "            ])).reshape((r_prev, prod_modes), order='F')\n",
    "        prod_modes *= modes[k]\n",
    "    \n",
    "    return result.flatten(order='F')\n",
    "\n",
    "def matrix_to_vector(A, d, modes, check_correctness=False):\n",
    "    if check_correctness is True:\n",
    "        assert A.shape[0] == A.shape[1] == np.prod(modes)\n",
    "        assert len(modes) == d\n",
    "    result = np.reshape(A, modes + modes, order='F')\n",
    "    axes_transpose = []\n",
    "    for i in range(d):\n",
    "        axes_transpose.append(i)\n",
    "        axes_transpose.append(d + i)\n",
    "    result = np.transpose(result, axes_transpose)\n",
    "    new_modes = [m ** 2 for m in modes]\n",
    "    result = np.reshape(result, new_modes, order='F')\n",
    "    return result.flatten(order='F'), new_modes\n",
    "\n",
    "def vector_to_matrix(v, d, modes, check_correctness=False):\n",
    "    if check_correctness is True:\n",
    "        assert v.size == np.prod(modes)\n",
    "        assert len(modes) == d\n",
    "    new_modes = [int(np.sqrt(m)) for m in modes]\n",
    "    if check_correctness is True:\n",
    "        assert np.all(modes == np.square(new_modes))\n",
    "    result = np.reshape(v, new_modes + new_modes, order='F')\n",
    "    axes_transpose = []\n",
    "    for i in range(d):\n",
    "        axes_transpose.append(2 * i)\n",
    "    for i in range(d):\n",
    "        axes_transpose.append(2 * i + 1)\n",
    "    result = np.transpose(result, axes_transpose)\n",
    "    result = np.reshape(result, (np.prod(new_modes), np.prod(new_modes)), order='F')\n",
    "    return result, new_modes"
   ]
  },
  {
   "cell_type": "code",
   "execution_count": 3,
   "id": "9e3346c6",
   "metadata": {},
   "outputs": [],
   "source": [
    "def wtt_rpca(\n",
    "    input_vector,\n",
    "    d,\n",
    "    modes,\n",
    "    ranks=None,\n",
    "    eps=None,\n",
    "    lambda_scale=1.0,\n",
    "    verbose=True,\n",
    "    check_correctness=False\n",
    "):\n",
    "    assert ranks is not None or eps is not None\n",
    "    \n",
    "    filters = []\n",
    "    prod_modes = input_vector.size\n",
    "    \n",
    "    if check_correctness:\n",
    "        assert len(modes) == d\n",
    "        if ranks is not None:\n",
    "            assert len(ranks) == d - 1\n",
    "        if eps is not None:\n",
    "            assert 0 <= eps <= 1\n",
    "        assert prod_modes == np.prod(modes)\n",
    "        \n",
    "    true_ranks = []\n",
    "    \n",
    "    r_prev = 1\n",
    "    A = input_vector\n",
    "    for k in range(d):\n",
    "        A = A.reshape((r_prev * modes[k], prod_modes // modes[k]), order='F')\n",
    "        \n",
    "        #делаем разложение A = L + S, L --- малоранговая, S --- разреженная\n",
    "        #затем: L = U Sigma V^T --- SVD для L. Ненулевых сингулярных чисел будет мало (надеемся)\n",
    "        #U^T A = Sigma V^T + U^T S. Старшие строки оставляем для дальнейшей работы.\n",
    "        #Надеемся, что младшие строки U^T S тоже будут разреженными...\n",
    "        \n",
    "        rpca = R_pca(A) \n",
    "        \n",
    "        rpca.lmbda = rpca.lmbda * lambda_scale #делаю уклон в сторону sparse'овости\n",
    "        \n",
    "        if verbose:\n",
    "            print(\"Step\", k, \"out of\", d)\n",
    "        \n",
    "        L, S = rpca.fit(\n",
    "            max_iter=4000,\n",
    "            iter_print=400,\n",
    "            verbose=verbose\n",
    "        )\n",
    "        \n",
    "        if A.shape[0] <= A.shape[1]:\n",
    "            u, sigmas, vt = np.linalg.svd(L, full_matrices=False)\n",
    "        else:\n",
    "            u, sigmas, vt = np.linalg.svd(L, full_matrices=True)\n",
    "            \n",
    "        r_given = None if ranks is None else (1 if k == d - 1 else ranks[k])\n",
    "        r_eps = None if eps is None else max(1, (sigmas > eps * sigmas[0]).sum())\n",
    "        if r_given is not None and r_eps is not None:\n",
    "            r_cur = min(r_given, r_eps)\n",
    "        elif r_given is not None:\n",
    "            r_cur = r_given\n",
    "        else:\n",
    "            r_cur = r_eps\n",
    "        \n",
    "        filters.append(u)\n",
    "        \n",
    "        if verbose:\n",
    "            \n",
    "            print(\n",
    "                \"Low-rank check:\",\n",
    "                \"r_cur = \", r_cur,\n",
    "                \"\\n#singular values = \", sigmas.size,\n",
    "                \"\\n#nnz singlular values = \", (sigmas > 1e-10).sum(),\n",
    "                sep=''\n",
    "            )\n",
    "\n",
    "            print(\n",
    "                \"Sparsity check:\",\n",
    "                \"S.size = \", S.size,\n",
    "                \"\\nnnz(S) = \", np.count_nonzero(S), #можно так, поскольку S-часть по-честному разреженная\n",
    "                \"\\nnnz(u.T @ S) = \", np.count_nonzero(u.T @ S),\n",
    "                sep=''\n",
    "            )\n",
    "\n",
    "        if check_correctness:\n",
    "            assert u.shape[0] == u.shape[1] == r_prev * modes[k]\n",
    "            if k < d - 1:\n",
    "                assert r_cur <= r_prev * modes[k]\n",
    "\n",
    "        if k < d - 1:\n",
    "            A = (u.T @ A)[:r_cur,:]\n",
    "            #A = (u.T @ (L + S))[:r_cur,:]\n",
    "            prod_modes //= modes[k]\n",
    "            true_ranks.append(r_cur)\n",
    "            r_prev = r_cur\n",
    "    \n",
    "    return filters, true_ranks"
   ]
  },
  {
   "cell_type": "code",
   "execution_count": 4,
   "id": "4a2af9a3",
   "metadata": {},
   "outputs": [],
   "source": [
    "import scipy.sparse"
   ]
  },
  {
   "cell_type": "code",
   "execution_count": 5,
   "id": "5a01db5c",
   "metadata": {},
   "outputs": [
    {
     "name": "stdout",
     "output_type": "stream",
     "text": [
      "  (0, 1)\t1\n",
      "  (0, 3)\t2\n",
      "  (1, 1)\t3\n",
      "  (2, 0)\t4\n",
      "  (2, 4)\t3\n"
     ]
    }
   ],
   "source": [
    "test = np.array([\n",
    "    [0,1,0,2,0],\n",
    "    [0,3,0,0,0],\n",
    "    [4,0,0,0,3]\n",
    "])\n",
    "test_s = scipy.sparse.csr_matrix(test)\n",
    "print(test_s)"
   ]
  },
  {
   "cell_type": "code",
   "execution_count": 6,
   "id": "0b3c6e1c",
   "metadata": {},
   "outputs": [
    {
     "data": {
      "text/plain": [
       "array([[1, 2, 1, 3, 1],\n",
       "       [1, 4, 1, 1, 1],\n",
       "       [5, 1, 1, 1, 4]])"
      ]
     },
     "execution_count": 6,
     "metadata": {},
     "output_type": "execute_result"
    }
   ],
   "source": [
    "test_2 = np.ones(test.shape, dtype=test.dtype)\n",
    "np.asarray(test_2 + test_s)"
   ]
  },
  {
   "cell_type": "markdown",
   "id": "baebaeed",
   "metadata": {},
   "source": [
    "Попробуем сохранять sparse-части и отдельно их вычитать."
   ]
  },
  {
   "cell_type": "code",
   "execution_count": 7,
   "id": "368977e7",
   "metadata": {},
   "outputs": [],
   "source": [
    "def wtt_rpca_v2(\n",
    "    input_vector,\n",
    "    d,\n",
    "    modes,\n",
    "    ranks=None,\n",
    "    eps=None,\n",
    "    lambda_scale=1.0,\n",
    "    verbose=True,\n",
    "    check_correctness=False\n",
    "):\n",
    "    assert ranks is not None or eps is not None\n",
    "    \n",
    "    filters = []\n",
    "    sparse_parts = []\n",
    "    prod_modes = input_vector.size\n",
    "    \n",
    "    if check_correctness:\n",
    "        assert len(modes) == d\n",
    "        if ranks is not None:\n",
    "            assert len(ranks) == d - 1\n",
    "        if eps is not None:\n",
    "            assert 0 <= eps <= 1\n",
    "        assert prod_modes == np.prod(modes)\n",
    "        \n",
    "    true_ranks = []\n",
    "    \n",
    "    r_prev = 1\n",
    "    A = input_vector\n",
    "    for k in range(d):\n",
    "        A = A.reshape((r_prev * modes[k], prod_modes // modes[k]), order='F')\n",
    "        \n",
    "        #делаем разложение A = L + S, L --- малоранговая, S --- разреженная\n",
    "        #затем: L = U Sigma V^T --- SVD для L. Ненулевых сингулярных чисел будет мало (надеемся)\n",
    "        #U^T A = Sigma V^T + U^T S. Старшие строки оставляем для дальнейшей работы.\n",
    "        #Надеемся, что младшие строки U^T S тоже будут разреженными...\n",
    "        \n",
    "        rpca = R_pca(A) \n",
    "        \n",
    "        rpca.lmbda = rpca.lmbda * lambda_scale #делаю уклон в сторону sparse'овости\n",
    "        \n",
    "        if verbose:\n",
    "            print(\"Step\", k, \"out of\", d)\n",
    "        \n",
    "        L, S = rpca.fit(\n",
    "            max_iter=4000,\n",
    "            iter_print=400,\n",
    "            verbose=verbose\n",
    "        )\n",
    "        \n",
    "        if A.shape[0] <= A.shape[1]:\n",
    "            u, sigmas, vt = np.linalg.svd(L, full_matrices=False)\n",
    "        else:\n",
    "            u, sigmas, vt = np.linalg.svd(L, full_matrices=True)\n",
    "            \n",
    "        r_given = None if ranks is None else (1 if k == d - 1 else ranks[k])\n",
    "        r_eps = None if eps is None else max(1, (sigmas > eps * sigmas[0]).sum())\n",
    "        if r_given is not None and r_eps is not None:\n",
    "            r_cur = min(r_given, r_eps)\n",
    "        elif r_given is not None:\n",
    "            r_cur = r_given\n",
    "        else:\n",
    "            r_cur = r_eps\n",
    "        \n",
    "        filters.append(u)\n",
    "        sparse_parts.append(scipy.sparse.csr_matrix(S))\n",
    "        #скорее всего, строк меньше, чем столбцов, так что csr\n",
    "        \n",
    "        if verbose:\n",
    "            print(\n",
    "                \"Low-rank check:\",\n",
    "                \"r_cur = \", r_cur,\n",
    "                \"\\n#singular values = \", sigmas.size,\n",
    "                \"\\n#nnz singlular values = \", (sigmas > 1e-10).sum(),\n",
    "                sep=''\n",
    "            )\n",
    "            print(\n",
    "                \"Sparsity check:\",\n",
    "                \"S.size = \", S.size,\n",
    "                \"\\nnnz(S) = \", np.count_nonzero(S), #можно так, поскольку S-часть по-честному разреженная\n",
    "                #\"\\nnnz(u.T @ S) = \", np.count_nonzero(u.T @ S),\n",
    "                sep=''\n",
    "            )\n",
    "\n",
    "        if check_correctness:\n",
    "            assert u.shape[0] == u.shape[1] == r_prev * modes[k]\n",
    "            if k < d - 1:\n",
    "                assert r_cur <= r_prev * modes[k]\n",
    "\n",
    "        if k < d - 1:\n",
    "            A = (u.T @ L)[:r_cur,:]\n",
    "            prod_modes //= modes[k]\n",
    "            true_ranks.append(r_cur)\n",
    "            r_prev = r_cur\n",
    "    \n",
    "    return filters, sparse_parts, true_ranks"
   ]
  },
  {
   "cell_type": "markdown",
   "id": "2be75be0",
   "metadata": {},
   "source": [
    "Теперь нужен новый алгоритм для применения:"
   ]
  },
  {
   "cell_type": "code",
   "execution_count": 8,
   "id": "156fe355",
   "metadata": {},
   "outputs": [],
   "source": [
    "def wtt_apply_rpca(input_vector, d, filters, sparse_parts, modes, ranks, check_correctness=False):\n",
    "    prod_modes = input_vector.size\n",
    "    \n",
    "    if check_correctness:\n",
    "        assert len(filters) == d\n",
    "        assert len(sparse_parts) == d\n",
    "        assert len(modes) == d\n",
    "        assert len(ranks) == d - 1\n",
    "        assert prod_modes == np.prod(modes)\n",
    "        \n",
    "    tails = []\n",
    "    A = input_vector\n",
    "    r_prev = 1\n",
    "    for k in range(d):\n",
    "        A = A.reshape((r_prev * modes[k], prod_modes // modes[k]), order='F')\n",
    "        A = np.asarray(A - sparse_parts[k])\n",
    "        A = filters[k].T @ A\n",
    "\n",
    "        if check_correctness:\n",
    "            assert A.shape[0] == r_prev * modes[k]\n",
    "            if k < d - 1:\n",
    "                assert ranks[k] <= r_prev * modes[k]\n",
    "                \n",
    "        if k < d - 1:\n",
    "            tails.append(A[ranks[k]:,:])\n",
    "            A = A[:ranks[k],:]\n",
    "            prod_modes //= modes[k]\n",
    "            r_prev = ranks[k]\n",
    "        \n",
    "    result = A\n",
    "    for k in range(d - 2, -1, -1):        \n",
    "        result = np.vstack([\n",
    "            result.reshape((ranks[k], prod_modes), order='F'),\n",
    "            tails[k]\n",
    "        ])\n",
    "        prod_modes *= modes[k]\n",
    "    \n",
    "    return result.flatten(order='F')"
   ]
  },
  {
   "cell_type": "code",
   "execution_count": 9,
   "id": "c6980e73",
   "metadata": {},
   "outputs": [],
   "source": [
    "def iwtt_apply_rpca(input_vector, d, filters, sparse_parts, modes, ranks, check_correctness=False):\n",
    "    prod_modes = input_vector.size\n",
    "    \n",
    "    if check_correctness:\n",
    "        assert len(filters) == d\n",
    "        assert len(sparse_parts) == d\n",
    "        assert len(modes) == d\n",
    "        assert len(ranks) == d - 1\n",
    "        assert prod_modes == np.prod(modes)\n",
    "        \n",
    "    tails = []\n",
    "    A = input_vector\n",
    "    r_prev = 1\n",
    "    for k in range(d):\n",
    "        A = A.reshape((r_prev * modes[k], prod_modes // modes[k]), order='F')\n",
    "\n",
    "        if check_correctness:\n",
    "            assert A.shape[0] == r_prev * modes[k]\n",
    "            if k < d - 1:\n",
    "                assert ranks[k] <= r_prev * modes[k]\n",
    "                \n",
    "        if k < d - 1:\n",
    "            tails.append(A[ranks[k]:,:])\n",
    "            A = A[:ranks[k],:]\n",
    "            prod_modes //= modes[k]\n",
    "            r_prev = ranks[k]\n",
    "        \n",
    "    #prod_modes == modes[-1] в конце\n",
    "    result = A\n",
    "    for k in range(d - 1, -1, -1):\n",
    "        r_prev = 1 if k == 0 else ranks[k - 1]\n",
    "        if k == d - 1:\n",
    "            result = (filters[k] @ result)\n",
    "        else:\n",
    "            result = (filters[k] @ np.vstack([\n",
    "                result,\n",
    "                tails[k]\n",
    "            ]))\n",
    "        result = np.asarray(result + sparse_parts[k])\n",
    "        result = result.reshape((r_prev, prod_modes), order='F')\n",
    "        prod_modes *= modes[k]\n",
    "    \n",
    "    return result.flatten(order='F')"
   ]
  },
  {
   "cell_type": "code",
   "execution_count": 10,
   "id": "cd758f69",
   "metadata": {},
   "outputs": [],
   "source": [
    "d = 10\n",
    "n = 2 ** d\n",
    "left = 0.\n",
    "right = 1.\n",
    "\n",
    "linspace = np.linspace(left, right, n)\n",
    "\n",
    "signal = values(lambda x: np.cos(100 * x ** 2) - np.sin(150 * x ** 2), left, right, n)\n",
    "\n",
    "modes = [2] * d\n",
    "ranks_est = [4] * (d - 1)"
   ]
  },
  {
   "cell_type": "code",
   "execution_count": 11,
   "id": "52a2b834",
   "metadata": {},
   "outputs": [
    {
     "data": {
      "text/plain": [
       "[<matplotlib.lines.Line2D at 0x26ef4305430>]"
      ]
     },
     "execution_count": 11,
     "metadata": {},
     "output_type": "execute_result"
    },
    {
     "data": {
      "image/png": "[encoded data removed]",
      "text/plain": [
       "<Figure size 432x288 with 1 Axes>"
      ]
     },
     "metadata": {
      "needs_background": "light"
     },
     "output_type": "display_data"
    }
   ],
   "source": [
    "plt.plot(linspace, signal)"
   ]
  },
  {
   "cell_type": "code",
   "execution_count": 12,
   "id": "8a99875a",
   "metadata": {},
   "outputs": [
    {
     "name": "stdout",
     "output_type": "stream",
     "text": [
      "[2, 4, 8, 11, 14, 16, 8, 4, 2]\n"
     ]
    }
   ],
   "source": [
    "ranks_est = [25] * (d - 1)\n",
    "eps = 1e-10\n",
    "\n",
    "filters, ranks = wtt_filter(\n",
    "    signal,\n",
    "    d,\n",
    "    modes,\n",
    "    ranks=ranks_est,\n",
    "    eps=eps,\n",
    "    check_correctness=True\n",
    ")\n",
    "wtt_res = wtt_apply(\n",
    "    signal,\n",
    "    d,\n",
    "    filters,\n",
    "    modes,\n",
    "    ranks,\n",
    "    True\n",
    ")\n",
    "print(ranks)"
   ]
  },
  {
   "cell_type": "code",
   "execution_count": 13,
   "id": "29c49b83",
   "metadata": {},
   "outputs": [
    {
     "name": "stdout",
     "output_type": "stream",
     "text": [
      "[1, 1, 1, 1, 1, 1, 2, 2, 2]\n"
     ]
    }
   ],
   "source": [
    "filters_rpca, ranks_rpca = wtt_rpca(\n",
    "    signal,\n",
    "    d,\n",
    "    modes,\n",
    "    ranks=ranks_est,\n",
    "    eps=eps,\n",
    "    lambda_scale=1,\n",
    "    verbose=False,\n",
    "    check_correctness=True\n",
    ")\n",
    "wtt_res_rpca_1 = wtt_apply(\n",
    "    signal,\n",
    "    d,\n",
    "    filters_rpca,\n",
    "    modes,\n",
    "    ranks_rpca,\n",
    "    True\n",
    ")\n",
    "print(ranks_rpca)"
   ]
  },
  {
   "cell_type": "code",
   "execution_count": 14,
   "id": "2d8fb9e2",
   "metadata": {},
   "outputs": [
    {
     "name": "stdout",
     "output_type": "stream",
     "text": [
      "[1, 1, 1, 1, 1, 2, 1, 2, 2]\n"
     ]
    }
   ],
   "source": [
    "filters_rpca_2, sparse_parts, ranks_rpca_2 = wtt_rpca_v2(\n",
    "    signal,\n",
    "    d,\n",
    "    modes,\n",
    "    ranks=ranks_est,\n",
    "    eps=eps,\n",
    "    lambda_scale=1, #уже необязательно увеличивать\n",
    "    verbose=False,\n",
    "    check_correctness=True\n",
    ")\n",
    "wtt_res_rpca_2 = wtt_apply_rpca(\n",
    "    signal,\n",
    "    d,\n",
    "    filters_rpca_2,\n",
    "    sparse_parts,\n",
    "    modes,\n",
    "    ranks_rpca_2,\n",
    "    True\n",
    ")\n",
    "print(ranks_rpca_2)"
   ]
  },
  {
   "cell_type": "code",
   "execution_count": 15,
   "id": "3b46bd17",
   "metadata": {},
   "outputs": [
    {
     "data": {
      "image/png": "[encoded data removed]",
      "text/plain": [
       "<Figure size 432x288 with 1 Axes>"
      ]
     },
     "metadata": {
      "needs_background": "light"
     },
     "output_type": "display_data"
    }
   ],
   "source": [
    "plt.plot(np.arange(wtt_res.size), np.flip(np.sort(np.abs(wtt_res))), label='wtt')\n",
    "plt.plot(np.arange(wtt_res.size), np.flip(np.sort(np.abs(wtt_res_rpca_1))), label='wtt rpca')\n",
    "plt.plot(np.arange(wtt_res.size), np.flip(np.sort(np.abs(wtt_res_rpca_2))), label='wtt rpca version 2')\n",
    "plt.yscale('log')\n",
    "plt.legend()\n",
    "plt.grid()\n",
    "plt.show()"
   ]
  },
  {
   "cell_type": "code",
   "execution_count": 28,
   "id": "6c4439f9",
   "metadata": {},
   "outputs": [
    {
     "name": "stdout",
     "output_type": "stream",
     "text": [
      "[2, 4, 5, 6, 9, 12, 8, 4, 2]\n"
     ]
    }
   ],
   "source": [
    "ranks_est = [25] * (d - 1)\n",
    "eps = 1e-4\n",
    "\n",
    "filters, ranks = wtt_filter(\n",
    "    signal,\n",
    "    d,\n",
    "    modes,\n",
    "    ranks=ranks_est,\n",
    "    eps=eps,\n",
    "    check_correctness=True\n",
    ")\n",
    "wtt_res = wtt_apply(\n",
    "    signal,\n",
    "    d,\n",
    "    filters,\n",
    "    modes,\n",
    "    ranks,\n",
    "    True\n",
    ")\n",
    "print(ranks)"
   ]
  },
  {
   "cell_type": "code",
   "execution_count": 29,
   "id": "c022884f",
   "metadata": {},
   "outputs": [
    {
     "name": "stdout",
     "output_type": "stream",
     "text": [
      "[1, 1, 1, 1, 1, 1, 2, 2, 2]\n"
     ]
    }
   ],
   "source": [
    "filters_rpca, ranks_rpca = wtt_rpca(\n",
    "    signal,\n",
    "    d,\n",
    "    modes,\n",
    "    ranks=ranks_est,\n",
    "    eps=eps,\n",
    "    lambda_scale=1,\n",
    "    verbose=False,\n",
    "    check_correctness=True\n",
    ")\n",
    "wtt_res_rpca_1 = wtt_apply(\n",
    "    signal,\n",
    "    d,\n",
    "    filters_rpca,\n",
    "    modes,\n",
    "    ranks_rpca,\n",
    "    True\n",
    ")\n",
    "print(ranks_rpca)"
   ]
  },
  {
   "cell_type": "code",
   "execution_count": 30,
   "id": "5f752e6a",
   "metadata": {},
   "outputs": [
    {
     "name": "stdout",
     "output_type": "stream",
     "text": [
      "[1, 1, 1, 1, 1, 2, 1, 2, 2]\n"
     ]
    }
   ],
   "source": [
    "filters_rpca_2, sparse_parts, ranks_rpca_2 = wtt_rpca_v2(\n",
    "    signal,\n",
    "    d,\n",
    "    modes,\n",
    "    ranks=ranks_est,\n",
    "    eps=eps,\n",
    "    lambda_scale=1, #уже необязательно увеличивать\n",
    "    verbose=False,\n",
    "    check_correctness=True\n",
    ")\n",
    "wtt_res_rpca_2 = wtt_apply_rpca(\n",
    "    signal,\n",
    "    d,\n",
    "    filters_rpca_2,\n",
    "    sparse_parts,\n",
    "    modes,\n",
    "    ranks_rpca_2,\n",
    "    True\n",
    ")\n",
    "print(ranks_rpca_2)"
   ]
  },
  {
   "cell_type": "code",
   "execution_count": 31,
   "id": "8eb9f447",
   "metadata": {},
   "outputs": [
    {
     "data": {
      "image/png": "[encoded data removed]",
      "text/plain": [
       "<Figure size 432x288 with 1 Axes>"
      ]
     },
     "metadata": {
      "needs_background": "light"
     },
     "output_type": "display_data"
    }
   ],
   "source": [
    "plt.plot(np.arange(wtt_res.size), np.flip(np.sort(np.abs(wtt_res))), label='wtt')\n",
    "plt.plot(np.arange(wtt_res.size), np.flip(np.sort(np.abs(wtt_res_rpca_1))), label='wtt rpca')\n",
    "plt.plot(np.arange(wtt_res.size), np.flip(np.sort(np.abs(wtt_res_rpca_2))), label='wtt rpca version 2')\n",
    "plt.yscale('log')\n",
    "plt.legend()\n",
    "plt.grid()\n",
    "plt.show()"
   ]
  },
  {
   "cell_type": "code",
   "execution_count": 16,
   "id": "49cb0ef0",
   "metadata": {},
   "outputs": [
    {
     "data": {
      "text/plain": [
       "8.008828117763436e-15"
      ]
     },
     "execution_count": 16,
     "metadata": {},
     "output_type": "execute_result"
    }
   ],
   "source": [
    "iwtt_res = iwtt_apply_rpca(\n",
    "    wtt_res_rpca_2,\n",
    "    d,\n",
    "    filters_rpca_2,\n",
    "    sparse_parts,\n",
    "    modes,\n",
    "    ranks_rpca_2,\n",
    "    True\n",
    ")\n",
    "np.linalg.norm(signal - iwtt_res)"
   ]
  },
  {
   "cell_type": "code",
   "execution_count": 17,
   "id": "284280b1",
   "metadata": {},
   "outputs": [
    {
     "name": "stdout",
     "output_type": "stream",
     "text": [
      "[ 1.19640923e-05 -5.06529117e-08 -6.49128454e-10 ... -1.56616890e-16\n",
      " -2.48389908e-16  7.59452305e-17]\n"
     ]
    }
   ],
   "source": [
    "print(wtt_res_rpca_2)"
   ]
  },
  {
   "cell_type": "markdown",
   "id": "f6e32c32",
   "metadata": {},
   "source": [
    "Внезапно теперь все коэффициенты относительно маленькие (однако убывание, увы, не может догнать обычное WTT с аналогичными параметрами $\\varepsilon$ и рангами)."
   ]
  },
  {
   "cell_type": "code",
   "execution_count": 18,
   "id": "a2e7b803",
   "metadata": {},
   "outputs": [
    {
     "data": {
      "text/plain": [
       "1.2850986583449228e-05"
      ]
     },
     "execution_count": 18,
     "metadata": {},
     "output_type": "execute_result"
    }
   ],
   "source": [
    "iwtt_res_2 = iwtt_apply_rpca(\n",
    "    np.zeros(wtt_res_rpca_2.size),\n",
    "    d,\n",
    "    filters_rpca_2,\n",
    "    sparse_parts,\n",
    "    modes,\n",
    "    ranks_rpca_2,\n",
    "    True\n",
    ")\n",
    "np.linalg.norm(signal - iwtt_res_2)"
   ]
  },
  {
   "cell_type": "markdown",
   "id": "dbf93b1b",
   "metadata": {},
   "source": [
    "Посчитаем затраты памяти:"
   ]
  },
  {
   "cell_type": "code",
   "execution_count": 19,
   "id": "9f63a167",
   "metadata": {},
   "outputs": [
    {
     "name": "stdout",
     "output_type": "stream",
     "text": [
      "76 1491\n"
     ]
    }
   ],
   "source": [
    "memcells_1 = 0\n",
    "for u in filters_rpca_2:\n",
    "    memcells_1 += u.size\n",
    "memcells_2 = 0\n",
    "for u in sparse_parts:\n",
    "    memcells_2 += u.data.size\n",
    "print(memcells_1, memcells_2)"
   ]
  },
  {
   "cell_type": "code",
   "execution_count": 20,
   "id": "cabc788d",
   "metadata": {},
   "outputs": [
    {
     "name": "stdout",
     "output_type": "stream",
     "text": [
      "2968\n"
     ]
    }
   ],
   "source": [
    "memcells_classic = 0\n",
    "for u in filters:\n",
    "    memcells_classic += u.size\n",
    "print(memcells_classic)"
   ]
  },
  {
   "cell_type": "markdown",
   "id": "41543b36",
   "metadata": {},
   "source": [
    "Теперь будем перебирать $\\lambda$ и считать затраты памяти."
   ]
  },
  {
   "cell_type": "code",
   "execution_count": 44,
   "id": "07fb7d8a",
   "metadata": {},
   "outputs": [],
   "source": [
    "d = 10\n",
    "n = 2 ** d\n",
    "left = 0.\n",
    "right = 1.\n",
    "\n",
    "linspace = np.linspace(left, right, n)\n",
    "\n",
    "signal = values(lambda x: np.cos(100 * x ** 2) - np.sin(150 * x ** 2), left, right, n)\n",
    "\n",
    "modes = [2] * d\n",
    "ranks_est = [25] * (d - 1)\n",
    "eps = 1e-2"
   ]
  },
  {
   "cell_type": "code",
   "execution_count": 45,
   "id": "920e4ee9",
   "metadata": {},
   "outputs": [],
   "source": [
    "scales = np.linspace(1, 5, 40)\n",
    "memory_wtt_rpca_1 = []\n",
    "memory_wtt_rpca_2 = []\n",
    "\n",
    "memory_wtt_rpca_2_onlysparse = []\n",
    "\n",
    "comp_ratios_rpca_1 = []\n",
    "comp_ratios_rpca_2 = []\n",
    "\n",
    "delta = 1e-10\n",
    "\n",
    "filters, ranks = wtt_filter(\n",
    "    signal,\n",
    "    d,\n",
    "    modes,\n",
    "    ranks=ranks_est,\n",
    "    eps=eps,\n",
    "    check_correctness=True\n",
    ")\n",
    "wtt_res = wtt_apply(\n",
    "    signal,\n",
    "    d,\n",
    "    filters,\n",
    "    modes,\n",
    "    ranks,\n",
    "    True\n",
    ")\n",
    "\n",
    "memory_wtt = 0\n",
    "for u in filters:\n",
    "    memory_wtt += u.size\n",
    "\n",
    "comp_ratio_wtt = (np.abs(wtt_res) < delta).sum() / wtt_res.size\n",
    "#чем выше к 1, тем лучше\n",
    "\n",
    "for s in scales:    \n",
    "    filters_rpca, ranks_rpca = wtt_rpca(\n",
    "        signal,\n",
    "        d,\n",
    "        modes,\n",
    "        ranks=ranks_est,\n",
    "        eps=eps,\n",
    "        lambda_scale=s,\n",
    "        verbose=False,\n",
    "        check_correctness=True\n",
    "    )\n",
    "    wtt_res_rpca_1 = wtt_apply(\n",
    "        signal,\n",
    "        d,\n",
    "        filters_rpca,\n",
    "        modes,\n",
    "        ranks_rpca,\n",
    "        True\n",
    "    )\n",
    "    \n",
    "    memcells_1 = 0\n",
    "    for u in filters_rpca_2:\n",
    "        memcells_1 += u.size\n",
    "    memory_wtt_rpca_1.append(memcells_1)\n",
    "    \n",
    "    ratio = (np.abs(wtt_res_rpca_1) < delta).sum() / wtt_res_rpca_1.size\n",
    "    comp_ratios_rpca_1.append(ratio)\n",
    "    \n",
    "    filters_rpca_2, sparse_parts, ranks_rpca_2 = wtt_rpca_v2(\n",
    "        signal,\n",
    "        d,\n",
    "        modes,\n",
    "        ranks=ranks_est,\n",
    "        eps=eps,\n",
    "        lambda_scale=s,\n",
    "        verbose=False,\n",
    "        check_correctness=True\n",
    "    )\n",
    "    wtt_res_rpca_2 = wtt_apply_rpca(\n",
    "        signal,\n",
    "        d,\n",
    "        filters_rpca_2,\n",
    "        sparse_parts,\n",
    "        modes,\n",
    "        ranks_rpca_2,\n",
    "        True\n",
    "    )\n",
    "    \n",
    "    memcells_1 = 0\n",
    "    for u in filters_rpca_2:\n",
    "        memcells_1 += u.size\n",
    "    memcells_2 = 0\n",
    "    for u in sparse_parts:\n",
    "        memcells_2 += u.data.size\n",
    "    memory_wtt_rpca_2.append(memcells_1 + memcells_2)\n",
    "    \n",
    "    memory_wtt_rpca_2_onlysparse.append(memcells_2)\n",
    "    \n",
    "    ratio = (np.abs(wtt_res_rpca_2) < delta).sum() / wtt_res_rpca_2.size\n",
    "    comp_ratios_rpca_2.append(ratio)"
   ]
  },
  {
   "cell_type": "code",
   "execution_count": 46,
   "id": "d7166d62",
   "metadata": {},
   "outputs": [
    {
     "data": {
      "image/png": "[encoded data removed]",
      "text/plain": [
       "<Figure size 432x288 with 1 Axes>"
      ]
     },
     "metadata": {
      "needs_background": "light"
     },
     "output_type": "display_data"
    }
   ],
   "source": [
    "plt.plot(scales, np.full(scales.shape, memory_wtt), label='WTT')\n",
    "plt.plot(scales, np.full(scales.shape, memory_wtt_rpca_1), label='RPCA first version')\n",
    "plt.plot(scales, np.full(scales.shape, memory_wtt_rpca_2), label='RPCA second version')\n",
    "plt.title(\"Memory consumption for filters for different lambda\")\n",
    "plt.legend()\n",
    "plt.grid()\n",
    "plt.show()"
   ]
  },
  {
   "cell_type": "code",
   "execution_count": 47,
   "id": "52b16faa",
   "metadata": {},
   "outputs": [
    {
     "data": {
      "image/png": "[encoded data removed]",
      "text/plain": [
       "<Figure size 432x288 with 1 Axes>"
      ]
     },
     "metadata": {
      "needs_background": "light"
     },
     "output_type": "display_data"
    }
   ],
   "source": [
    "plt.plot(scales, np.full(scales.shape, memory_wtt_rpca_2_onlysparse))\n",
    "plt.title(\"Sparsity check of wtt-rpca for different lambda, func=cos(150x^2) - sin(100x^2)\")\n",
    "plt.grid()\n",
    "plt.show()"
   ]
  },
  {
   "cell_type": "code",
   "execution_count": 35,
   "id": "1466a861",
   "metadata": {},
   "outputs": [
    {
     "data": {
      "image/png": "[encoded data removed]",
      "text/plain": [
       "<Figure size 432x288 with 1 Axes>"
      ]
     },
     "metadata": {
      "needs_background": "light"
     },
     "output_type": "display_data"
    }
   ],
   "source": [
    "plt.plot(scales, np.full(scales.shape, comp_ratio_wtt), label='WTT')\n",
    "plt.plot(scales, np.full(scales.shape, comp_ratios_rpca_1), label='RPCA first version')\n",
    "plt.plot(scales, np.full(scales.shape, comp_ratios_rpca_2), label='RPCA second version')\n",
    "plt.title(\"Compression ratio for different lambda\")\n",
    "plt.legend()\n",
    "plt.grid()\n",
    "plt.show()"
   ]
  },
  {
   "cell_type": "markdown",
   "id": "5cf70c45",
   "metadata": {},
   "source": [
    "О, сравнительно небольшие $\\varepsilon$ дают весомую разницу у второго варианта RPCA WTT!\n",
    "\n",
    "Попробуем сопоставить общее количество параметров, зафиксировав $\\lambda = 1$, но изменяя $\\varepsilon$ (чтобы классический WTT тоже активно сравнивался). Счёт: один за ненулевой коэффициент (больше $\\delta$ по модулю), один за одну ячейку памяти на фильтры, один за каждый ненулевой элемент в матрицах $S_k$ (во втором варианте RPCA WTT)."
   ]
  },
  {
   "cell_type": "code",
   "execution_count": 36,
   "id": "1e526278",
   "metadata": {},
   "outputs": [],
   "source": [
    "params_num_wtt_com = []\n",
    "params_num_wtt_mem = []\n",
    "\n",
    "params_num_wttrpca1_com = []\n",
    "params_num_wttrpca1_mem = []\n",
    "\n",
    "params_num_wttrpca2_com = []\n",
    "params_num_wttrpca2_mem = []\n",
    "\n",
    "filters_wtt = []\n",
    "filters_rpcawtt1 = []\n",
    "filters_rpcawtt2 = []\n",
    "\n",
    "epsilons = np.logspace(-12, -1, 60)\n",
    "\n",
    "delta = 1e-10\n",
    "#ranks_est = [25] * (d - 1) всё ещё\n",
    "\n",
    "for epsilon in epsilons:\n",
    "    filters, ranks = wtt_filter(\n",
    "        signal,\n",
    "        d,\n",
    "        modes,\n",
    "        ranks=ranks_est,\n",
    "        eps=epsilon,\n",
    "        check_correctness=True\n",
    "    )\n",
    "    wtt_res = wtt_apply(\n",
    "        signal,\n",
    "        d,\n",
    "        filters,\n",
    "        modes,\n",
    "        ranks,\n",
    "        True\n",
    "    )\n",
    "    count = 0\n",
    "    for u in filters:\n",
    "        count += u.size\n",
    "    params_num_wtt_mem.append(count)\n",
    "    params_num_wtt_com.append((np.abs(wtt_res) > delta).sum())\n",
    "    \n",
    "    filters_wtt.append(filters)\n",
    "    \n",
    "    filters_rpca, ranks_rpca = wtt_rpca(\n",
    "        signal,\n",
    "        d,\n",
    "        modes,\n",
    "        ranks=ranks_est,\n",
    "        eps=epsilon,\n",
    "        lambda_scale=3, #из прошлого эксперимента\n",
    "        verbose=False,\n",
    "        check_correctness=True\n",
    "    )\n",
    "    wtt_res_rpca_1 = wtt_apply(\n",
    "        signal,\n",
    "        d,\n",
    "        filters_rpca,\n",
    "        modes,\n",
    "        ranks_rpca,\n",
    "        True\n",
    "    )\n",
    "    count = 0\n",
    "    for u in filters_rpca:\n",
    "        count += u.size\n",
    "    params_num_wttrpca1_mem.append(count)\n",
    "    params_num_wttrpca1_com.append((np.abs(wtt_res_rpca_1) > delta).sum())\n",
    "    \n",
    "    filters_rpcawtt1.append(filters_rpca)\n",
    "    \n",
    "    filters_rpca_2, sparse_parts, ranks_rpca_2 = wtt_rpca_v2(\n",
    "        signal,\n",
    "        d,\n",
    "        modes,\n",
    "        ranks=ranks_est,\n",
    "        eps=epsilon,\n",
    "        lambda_scale=1, \n",
    "        verbose=False,\n",
    "        check_correctness=True\n",
    "    )\n",
    "    wtt_res_rpca_2 = wtt_apply_rpca(\n",
    "        signal,\n",
    "        d,\n",
    "        filters_rpca_2,\n",
    "        sparse_parts,\n",
    "        modes,\n",
    "        ranks_rpca_2,\n",
    "        True\n",
    "    )\n",
    "    count = 0\n",
    "    for u in filters_rpca_2:\n",
    "        count += u.size\n",
    "    for s in sparse_parts:\n",
    "        count += s.count_nonzero()\n",
    "        #count += s.nnz\n",
    "    params_num_wttrpca2_mem.append(count)\n",
    "    params_num_wttrpca2_com.append((np.abs(wtt_res_rpca_2) > delta).sum())\n",
    "    \n",
    "    filters_rpcawtt2.append((filters_rpca_2, sparse_parts))\n",
    "    \n",
    "params_num_wtt_com = np.array(params_num_wtt_com)\n",
    "params_num_wtt_mem = np.array(params_num_wtt_mem)\n",
    "params_num_wttrpca1_com = np.array(params_num_wttrpca1_com)\n",
    "params_num_wttrpca1_mem = np.array(params_num_wttrpca1_mem)\n",
    "params_num_wttrpca2_com = np.array(params_num_wttrpca2_com)\n",
    "params_num_wttrpca2_mem = np.array(params_num_wttrpca2_mem)"
   ]
  },
  {
   "cell_type": "code",
   "execution_count": 37,
   "id": "7b04ff5b",
   "metadata": {},
   "outputs": [
    {
     "data": {
      "image/png": "[encoded data removed]",
      "text/plain": [
       "<Figure size 432x288 with 1 Axes>"
      ]
     },
     "metadata": {
      "needs_background": "light"
     },
     "output_type": "display_data"
    }
   ],
   "source": [
    "plt.plot(epsilons, params_num_wtt_com + params_num_wtt_mem, label='WTT')\n",
    "plt.plot(epsilons, params_num_wttrpca1_com + params_num_wttrpca1_mem, label='RPCA WTT first version')\n",
    "plt.plot(epsilons, params_num_wttrpca2_com + params_num_wttrpca2_mem, label='RPCA WTT second version')\n",
    "plt.xscale('log')\n",
    "plt.title(\"Total number of params of WTT transform depending on epsilon\")\n",
    "plt.legend()\n",
    "plt.grid()\n",
    "plt.show()"
   ]
  },
  {
   "cell_type": "code",
   "execution_count": 38,
   "id": "8a6e66ff",
   "metadata": {},
   "outputs": [
    {
     "data": {
      "image/png": "[encoded data removed]",
      "text/plain": [
       "<Figure size 432x288 with 1 Axes>"
      ]
     },
     "metadata": {
      "needs_background": "light"
     },
     "output_type": "display_data"
    }
   ],
   "source": [
    "plt.plot(epsilons, params_num_wtt_mem, label='WTT')\n",
    "plt.plot(epsilons, params_num_wttrpca1_mem, label='RPCA WTT first version')\n",
    "plt.plot(epsilons, params_num_wttrpca2_mem, label='RPCA WTT second version')\n",
    "plt.xscale('log')\n",
    "plt.title(\"Number of params of WTT transform depending on epsilon (only memory)\")\n",
    "plt.legend()\n",
    "plt.grid()\n",
    "plt.show()"
   ]
  },
  {
   "cell_type": "code",
   "execution_count": 39,
   "id": "334e6e59",
   "metadata": {},
   "outputs": [
    {
     "data": {
      "image/png": "[encoded data removed]",
      "text/plain": [
       "<Figure size 432x288 with 1 Axes>"
      ]
     },
     "metadata": {
      "needs_background": "light"
     },
     "output_type": "display_data"
    }
   ],
   "source": [
    "plt.plot(epsilons, params_num_wtt_com, label='WTT')\n",
    "plt.plot(epsilons, params_num_wttrpca1_com, label='RPCA WTT first version')\n",
    "plt.plot(epsilons, params_num_wttrpca2_com, label='RPCA WTT second version')\n",
    "plt.xscale('log')\n",
    "plt.title(\"Number of params of WTT transform depending on epsilon (only compression)\")\n",
    "plt.legend()\n",
    "plt.grid()\n",
    "plt.show()"
   ]
  },
  {
   "cell_type": "code",
   "execution_count": 62,
   "id": "1bdd2513",
   "metadata": {},
   "outputs": [
    {
     "name": "stdout",
     "output_type": "stream",
     "text": [
      "[(2, 2), (4, 4), (8, 8), (16, 16), (24, 24), (32, 32), (32, 32), (16, 16), (8, 8), (4, 4)]\n"
     ]
    }
   ],
   "source": [
    "f = filters_wtt[0]\n",
    "print([u.shape for u in f])"
   ]
  },
  {
   "cell_type": "code",
   "execution_count": 63,
   "id": "8a782611",
   "metadata": {},
   "outputs": [
    {
     "name": "stdout",
     "output_type": "stream",
     "text": [
      "[(2, 2), (4, 4), (8, 8), (14, 14), (16, 16), (22, 22), (28, 28), (16, 16), (8, 8), (4, 4)]\n"
     ]
    }
   ],
   "source": [
    "f = filters_rpcawtt2[0][0]\n",
    "print([u.shape for u in f])"
   ]
  },
  {
   "cell_type": "code",
   "execution_count": 65,
   "id": "353140e9",
   "metadata": {},
   "outputs": [
    {
     "name": "stdout",
     "output_type": "stream",
     "text": [
      "[(2, 2), (4, 4), (8, 8), (14, 14), (16, 16), (20, 20), (28, 28), (16, 16), (8, 8), (4, 4)]\n"
     ]
    }
   ],
   "source": [
    "f = filters_rpcawtt1[0]\n",
    "print([u.shape for u in f])"
   ]
  },
  {
   "cell_type": "markdown",
   "id": "4b8a6af5",
   "metadata": {},
   "source": [
    "Как будто у второй версии RPCA WTT фильтры одинаковые получились для разных $\\varepsilon$...\n",
    "\n",
    "Попробуем установить, так ли это."
   ]
  },
  {
   "cell_type": "markdown",
   "id": "d6b81fe0",
   "metadata": {},
   "source": [
    "Последние 3 фильтра разные, все остальные совпадают."
   ]
  },
  {
   "cell_type": "markdown",
   "id": "ce8e3490",
   "metadata": {},
   "source": [
    "Ранги 1 и 2 (2 под конец где-то).\n",
    "\n",
    "Как видим, RPCA-WTT не так чувствителен к изменению $\\varepsilon$, и, в отличие от классики, ему не нужно делать $\\varepsilon$ очень маленьким, чтобы добиться маленьких по модулю коэффициентов (это происходит за счёт роста памяти). Конечно, если не наращивать $\\lambda$, приближая его к обычному WTT.\n",
    "\n",
    "Имеет смысл тестировать его, надо полагать..."
   ]
  },
  {
   "cell_type": "code",
   "execution_count": 57,
   "id": "5a3bffb4",
   "metadata": {},
   "outputs": [
    {
     "name": "stdout",
     "output_type": "stream",
     "text": [
      "[0, 1, 3, 1, 2, 0, 2, 0, 0, 0]\n",
      "[1024, 1024, 1024, 896, 512, 352, 224, 64, 16, 4]\n"
     ]
    }
   ],
   "source": [
    "f = filters_rpcawtt[0][1]\n",
    "print([u.data.size for u in f])\n",
    "print([u.shape[0] * u.shape[1] for u in f])"
   ]
  },
  {
   "cell_type": "code",
   "execution_count": null,
   "id": "1be6700d",
   "metadata": {},
   "outputs": [],
   "source": []
  }
 ],
 "metadata": {
  "kernelspec": {
   "display_name": "Python 3 (ipykernel)",
   "language": "python",
   "name": "python3"
  },
  "language_info": {
   "codemirror_mode": {
    "name": "ipython",
    "version": 3
   },
   "file_extension": ".py",
   "mimetype": "text/x-python",
   "name": "python",
   "nbconvert_exporter": "python",
   "pygments_lexer": "ipython3",
   "version": "3.9.7"
  }
 },
 "nbformat": 4,
 "nbformat_minor": 5
}
