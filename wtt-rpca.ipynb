{
 "cells": [
  {
   "cell_type": "markdown",
   "id": "c08c3a1c",
   "metadata": {},
   "source": [
    "RPCA из первой домашки по матвычислам:"
   ]
  },
  {
   "cell_type": "code",
   "execution_count": 1,
   "id": "9d637181",
   "metadata": {},
   "outputs": [],
   "source": [
    "# %load robust-pca/r_pca.py\n",
    "from __future__ import division, print_function\n",
    "\n",
    "import numpy as np\n",
    "\n",
    "try:\n",
    "    from pylab import plt\n",
    "except ImportError:\n",
    "    print('Unable to import pylab. R_pca.plot_fit() will not work.')\n",
    "\n",
    "try:\n",
    "    # Python 2: 'xrange' is the iterative version\n",
    "    range = xrange\n",
    "except NameError:\n",
    "    # Python 3: 'range' is iterative - no need for 'xrange'\n",
    "    pass\n",
    "\n",
    "\n",
    "class R_pca:\n",
    "\n",
    "    def __init__(self, D, mu=None, lmbda=None):\n",
    "        self.D = D\n",
    "        self.S = np.zeros(self.D.shape)\n",
    "        self.Y = np.zeros(self.D.shape)\n",
    "\n",
    "        if mu:\n",
    "            self.mu = mu\n",
    "        else:\n",
    "            self.mu = np.prod(self.D.shape) / (4 * np.linalg.norm(self.D, ord=1))\n",
    "\n",
    "        self.mu_inv = 1 / self.mu\n",
    "\n",
    "        if lmbda:\n",
    "            self.lmbda = lmbda\n",
    "        else:\n",
    "            self.lmbda = 1 / np.sqrt(np.max(self.D.shape))\n",
    "\n",
    "    @staticmethod\n",
    "    def frobenius_norm(M):\n",
    "        return np.linalg.norm(M, ord='fro')\n",
    "\n",
    "    @staticmethod\n",
    "    def shrink(M, tau):\n",
    "        return np.sign(M) * np.maximum((np.abs(M) - tau), np.zeros(M.shape))\n",
    "\n",
    "    def svd_threshold(self, M, tau):\n",
    "        U, S, V = np.linalg.svd(M, full_matrices=False)\n",
    "        return np.dot(U, np.dot(np.diag(self.shrink(S, tau)), V))\n",
    "\n",
    "    def fit(self, tol=None, max_iter=1000, iter_print=100):\n",
    "        iter = 0\n",
    "        err = np.Inf\n",
    "        Sk = self.S\n",
    "        Yk = self.Y\n",
    "        Lk = np.zeros(self.D.shape)\n",
    "\n",
    "        if tol:\n",
    "            _tol = tol\n",
    "        else:\n",
    "            _tol = 1E-7 * self.frobenius_norm(self.D)\n",
    "\n",
    "        #this loop implements the principal component pursuit (PCP) algorithm\n",
    "        #located in the table on page 29 of https://arxiv.org/pdf/0912.3599.pdf\n",
    "        while (err > _tol) and iter < max_iter:\n",
    "            Lk = self.svd_threshold(\n",
    "                self.D - Sk + self.mu_inv * Yk, self.mu_inv)                            #this line implements step 3\n",
    "            Sk = self.shrink(\n",
    "                self.D - Lk + (self.mu_inv * Yk), self.mu_inv * self.lmbda)             #this line implements step 4\n",
    "            Yk = Yk + self.mu * (self.D - Lk - Sk)                                      #this line implements step 5\n",
    "            err = self.frobenius_norm(self.D - Lk - Sk)\n",
    "            iter += 1\n",
    "            if (iter % iter_print) == 0 or iter == 1 or iter > max_iter or err <= _tol:\n",
    "                print('iteration: {0}, error: {1}'.format(iter, err))\n",
    "\n",
    "        self.L = Lk\n",
    "        self.S = Sk\n",
    "        return Lk, Sk\n",
    "\n",
    "    def plot_fit(self, size=None, tol=0.1, axis_on=True):\n",
    "\n",
    "        n, d = self.D.shape\n",
    "\n",
    "        if size:\n",
    "            nrows, ncols = size\n",
    "        else:\n",
    "            sq = np.ceil(np.sqrt(n))\n",
    "            nrows = int(sq)\n",
    "            ncols = int(sq)\n",
    "\n",
    "        ymin = np.nanmin(self.D)\n",
    "        ymax = np.nanmax(self.D)\n",
    "        print('ymin: {0}, ymax: {1}'.format(ymin, ymax))\n",
    "\n",
    "        numplots = np.min([n, nrows * ncols])\n",
    "        plt.figure()\n",
    "\n",
    "        for n in range(numplots):\n",
    "            plt.subplot(nrows, ncols, n + 1)\n",
    "            plt.ylim((ymin - tol, ymax + tol))\n",
    "            plt.plot(self.L[n, :] + self.S[n, :], 'r')\n",
    "            plt.plot(self.L[n, :], 'b')\n",
    "            if not axis_on:\n",
    "                plt.axis('off')\n"
   ]
  },
  {
   "cell_type": "code",
   "execution_count": 102,
   "id": "3ab92ac7",
   "metadata": {},
   "outputs": [
    {
     "name": "stdout",
     "output_type": "stream",
     "text": [
      "iteration: 1, error: 0.1748107183530333\n",
      "iteration: 500, error: 0.00024886999944231724\n",
      "iteration: 1000, error: 7.519550426081771e-05\n",
      "iteration: 1500, error: 7.80732302594476e-06\n",
      "iteration: 1656, error: 5.71102863403782e-06\n"
     ]
    }
   ],
   "source": [
    "test_arr = np.random.rand(100, 100)\n",
    "test_rpca = R_pca(test_arr)\n",
    "test_l, test_r = test_rpca.fit(max_iter=4000, iter_print=500)"
   ]
  },
  {
   "cell_type": "code",
   "execution_count": 106,
   "id": "9ba31bfc",
   "metadata": {},
   "outputs": [
    {
     "name": "stdout",
     "output_type": "stream",
     "text": [
      "161.81014149989701\n",
      "57\n",
      "100\n"
     ]
    }
   ],
   "source": [
    "sigmas = np.linalg.svd(test_l, compute_uv = False)\n",
    "print(sigmas.sum())\n",
    "print((sigmas > 1e-14).sum())\n",
    "print((sigmas > 0).sum())"
   ]
  },
  {
   "cell_type": "code",
   "execution_count": 108,
   "id": "ff96e06e",
   "metadata": {},
   "outputs": [
    {
     "name": "stdout",
     "output_type": "stream",
     "text": [
      "5580\n",
      "5580\n"
     ]
    }
   ],
   "source": [
    "print((np.abs(test_r) > 1e-14).sum())\n",
    "print((np.abs(test_r) > 0).sum())"
   ]
  },
  {
   "cell_type": "code",
   "execution_count": 109,
   "id": "b2e1cf24",
   "metadata": {},
   "outputs": [
    {
     "name": "stdout",
     "output_type": "stream",
     "text": [
      "5.71102863403782e-06\n"
     ]
    }
   ],
   "source": [
    "print(np.linalg.norm(test_l + test_r - test_arr))"
   ]
  },
  {
   "cell_type": "markdown",
   "id": "ca3a771b",
   "metadata": {},
   "source": [
    "Мой код:"
   ]
  },
  {
   "cell_type": "code",
   "execution_count": 37,
   "id": "8de6e2ef",
   "metadata": {},
   "outputs": [],
   "source": [
    "def values(func, left, right, n):\n",
    "    return func(np.linspace(left, right, n))\n",
    "\n",
    "def wtt_filter(input_vector, d, modes, ranks=None, eps=None, check_correctness=False):\n",
    "    assert ranks is not None or eps is not None\n",
    "    \n",
    "    filters = []\n",
    "    prod_modes = input_vector.size\n",
    "    \n",
    "    if check_correctness:\n",
    "        assert len(modes) == d\n",
    "        if ranks is not None:\n",
    "            assert len(ranks) == d - 1\n",
    "        if eps is not None:\n",
    "            assert 0 <= eps <= 1\n",
    "        assert prod_modes == np.prod(modes)\n",
    "        \n",
    "    true_ranks = []\n",
    "    \n",
    "    r_prev = 1\n",
    "    A = input_vector\n",
    "    for k in range(d):\n",
    "        A = A.reshape((r_prev * modes[k], prod_modes // modes[k]), order='F')\n",
    "        if A.shape[0] <= A.shape[1]:\n",
    "            u, sigmas, vt = np.linalg.svd(A, full_matrices=False)\n",
    "        else:\n",
    "            u, sigmas, vt = np.linalg.svd(A, full_matrices=True)\n",
    "            \n",
    "        r_given = None if ranks is None else (1 if k == d - 1 else ranks[k])\n",
    "        r_eps = None if eps is None else max(1, (sigmas > eps * sigmas[0]).sum())\n",
    "        if r_given is not None and r_eps is not None:\n",
    "            r_cur = min(r_given, r_eps)\n",
    "        elif r_given is not None:\n",
    "            r_cur = r_given\n",
    "        else:\n",
    "            r_cur = r_eps\n",
    "        \n",
    "        filters.append(u)\n",
    "\n",
    "        if check_correctness:\n",
    "            assert u.shape[0] == u.shape[1] == r_prev * modes[k]\n",
    "            if k < d - 1:\n",
    "                assert r_cur <= r_prev * modes[k]\n",
    "\n",
    "        if k < d - 1:\n",
    "            A = (u.T @ A)[:r_cur,:]\n",
    "            prod_modes //= modes[k]\n",
    "            true_ranks.append(r_cur)\n",
    "            r_prev = r_cur\n",
    "    \n",
    "    return filters, true_ranks\n",
    "\n",
    "def wtt_apply(input_vector, d, filters, modes, ranks, check_correctness=False):\n",
    "    prod_modes = input_vector.size\n",
    "    \n",
    "    if check_correctness:\n",
    "        assert len(filters) == d\n",
    "        assert len(modes) == d\n",
    "        assert len(ranks) == d - 1\n",
    "        assert prod_modes == np.prod(modes)\n",
    "        \n",
    "    tails = []\n",
    "    A = input_vector\n",
    "    r_prev = 1\n",
    "    for k in range(d):\n",
    "        A = A.reshape((r_prev * modes[k], prod_modes // modes[k]), order='F')\n",
    "        A = filters[k].T @ A\n",
    "\n",
    "        if check_correctness:\n",
    "            assert A.shape[0] == r_prev * modes[k]\n",
    "            if k < d - 1:\n",
    "                assert ranks[k] <= r_prev * modes[k]\n",
    "                \n",
    "        if k < d - 1:\n",
    "            tails.append(A[ranks[k]:,:])\n",
    "            A = A[:ranks[k],:]\n",
    "            prod_modes //= modes[k]\n",
    "            r_prev = ranks[k]\n",
    "        \n",
    "    result = A\n",
    "    for k in range(d - 2, -1, -1):        \n",
    "        result = np.vstack([\n",
    "            result.reshape((ranks[k], prod_modes), order='F'),\n",
    "            tails[k]\n",
    "        ])\n",
    "        prod_modes *= modes[k]\n",
    "    \n",
    "    return result.flatten(order='F')\n",
    "\n",
    "def iwtt_apply(input_vector, d, filters, modes, ranks, check_correctness=False):\n",
    "    prod_modes = input_vector.size\n",
    "    \n",
    "    if check_correctness:\n",
    "        assert len(filters) == d\n",
    "        assert len(modes) == d\n",
    "        assert len(ranks) == d - 1\n",
    "        assert prod_modes == np.prod(modes)\n",
    "        \n",
    "    tails = []\n",
    "    A = input_vector\n",
    "    r_prev = 1\n",
    "    for k in range(d):\n",
    "        A = A.reshape((r_prev * modes[k], prod_modes // modes[k]), order='F')\n",
    "\n",
    "        if check_correctness:\n",
    "            assert A.shape[0] == r_prev * modes[k]\n",
    "            if k < d - 1:\n",
    "                assert ranks[k] <= r_prev * modes[k]\n",
    "                \n",
    "        if k < d - 1:\n",
    "            tails.append(A[ranks[k]:,:])\n",
    "            A = A[:ranks[k],:]\n",
    "            prod_modes //= modes[k]\n",
    "            r_prev = ranks[k]\n",
    "        \n",
    "    #prod_modes == modes[-1] в конце\n",
    "    result = A\n",
    "    for k in range(d - 1, -1, -1):\n",
    "        \n",
    "        r_prev = 1 if k == 0 else ranks[k - 1]\n",
    "        if k == d - 1:\n",
    "            result = (filters[k] @ result).reshape((r_prev, prod_modes), order='F')\n",
    "        else:\n",
    "            result = (filters[k] @ np.vstack([\n",
    "                result,\n",
    "                tails[k]\n",
    "            ])).reshape((r_prev, prod_modes), order='F')\n",
    "        prod_modes *= modes[k]\n",
    "    \n",
    "    return result.flatten(order='F')\n",
    "\n",
    "def matrix_to_vector(A, d, modes, check_correctness=False):\n",
    "    if check_correctness is True:\n",
    "        assert A.shape[0] == A.shape[1] == np.prod(modes)\n",
    "        assert len(modes) == d\n",
    "    result = np.reshape(A, modes + modes, order='F')\n",
    "    axes_transpose = []\n",
    "    for i in range(d):\n",
    "        axes_transpose.append(i)\n",
    "        axes_transpose.append(d + i)\n",
    "    result = np.transpose(result, axes_transpose)\n",
    "    new_modes = [m ** 2 for m in modes]\n",
    "    result = np.reshape(result, new_modes, order='F')\n",
    "    return result.flatten(order='F'), new_modes\n",
    "\n",
    "def vector_to_matrix(v, d, modes, check_correctness=False):\n",
    "    if check_correctness is True:\n",
    "        assert v.size == np.prod(modes)\n",
    "        assert len(modes) == d\n",
    "    new_modes = [int(np.sqrt(m)) for m in modes]\n",
    "    if check_correctness is True:\n",
    "        assert np.all(modes == np.square(new_modes))\n",
    "    result = np.reshape(v, new_modes + new_modes, order='F')\n",
    "    axes_transpose = []\n",
    "    for i in range(d):\n",
    "        axes_transpose.append(2 * i)\n",
    "    for i in range(d):\n",
    "        axes_transpose.append(2 * i + 1)\n",
    "    result = np.transpose(result, axes_transpose)\n",
    "    result = np.reshape(result, (np.prod(new_modes), np.prod(new_modes)), order='F')\n",
    "    return result, new_modes"
   ]
  },
  {
   "cell_type": "markdown",
   "id": "aab5948f",
   "metadata": {},
   "source": [
    "Попробуем внедрить RPCA явно в качестве замены для SVD."
   ]
  },
  {
   "cell_type": "code",
   "execution_count": 110,
   "id": "72c778c0",
   "metadata": {},
   "outputs": [],
   "source": [
    "def wtt_rpca(input_vector, d, modes, ranks=None, eps=None, check_correctness=False):\n",
    "    assert ranks is not None or eps is not None\n",
    "    \n",
    "    filters = []\n",
    "    prod_modes = input_vector.size\n",
    "    \n",
    "    if check_correctness:\n",
    "        assert len(modes) == d\n",
    "        if ranks is not None:\n",
    "            assert len(ranks) == d - 1\n",
    "        if eps is not None:\n",
    "            assert 0 <= eps <= 1\n",
    "        assert prod_modes == np.prod(modes)\n",
    "        \n",
    "    true_ranks = []\n",
    "    \n",
    "    r_prev = 1\n",
    "    A = input_vector\n",
    "    for k in range(d):\n",
    "        A = A.reshape((r_prev * modes[k], prod_modes // modes[k]), order='F')\n",
    "        \n",
    "        #делаем разложение A = L + S, L --- малоранговая, S --- разреженная\n",
    "        #затем: L = U Sigma V^T --- SVD для L. Ненулевых сингулярных чисел будет мало (надеемся)\n",
    "        #U^T A = Sigma V^T + U^T S. Старшие строки оставляем для дальнейшей работы.\n",
    "        #Надеемся, что младшие строки U^T S тоже будут разреженными...\n",
    "        \n",
    "        rpca = R_pca(A) \n",
    "        L, S = rpca.fit(\n",
    "            max_iter=4000,\n",
    "            iter_print=1000\n",
    "        )\n",
    "        \n",
    "        if A.shape[0] <= A.shape[1]:\n",
    "            u, sigmas, vt = np.linalg.svd(L, full_matrices=False)\n",
    "        else:\n",
    "            u, sigmas, vt = np.linalg.svd(L, full_matrices=True)\n",
    "            \n",
    "        r_given = None if ranks is None else (1 if k == d - 1 else ranks[k])\n",
    "        r_eps = None if eps is None else max(1, (sigmas > eps * sigmas[0]).sum())\n",
    "        if r_given is not None and r_eps is not None:\n",
    "            r_cur = min(r_given, r_eps)\n",
    "        elif r_given is not None:\n",
    "            r_cur = r_given\n",
    "        else:\n",
    "            r_cur = r_eps\n",
    "        \n",
    "        filters.append(u)\n",
    "\n",
    "        if check_correctness:\n",
    "            assert u.shape[0] == u.shape[1] == r_prev * modes[k]\n",
    "            if k < d - 1:\n",
    "                assert r_cur <= r_prev * modes[k]\n",
    "\n",
    "        if k < d - 1:\n",
    "            #A = (u.T @ A)[:r_cur,:]\n",
    "            A = (u.T @ (L + S))[:r_cur,:]\n",
    "            prod_modes //= modes[k]\n",
    "            true_ranks.append(r_cur)\n",
    "            r_prev = r_cur\n",
    "    \n",
    "    return filters, true_ranks"
   ]
  },
  {
   "cell_type": "code",
   "execution_count": 111,
   "id": "2e9532d6",
   "metadata": {},
   "outputs": [
    {
     "name": "stdout",
     "output_type": "stream",
     "text": [
      "[2, 4, 4, 4, 4, 4, 4, 4, 2]\n"
     ]
    }
   ],
   "source": [
    "d = 10\n",
    "n = 2 ** d\n",
    "left = 0.\n",
    "right = 1.\n",
    "\n",
    "linspace = np.linspace(left, right, n)\n",
    "\n",
    "sqrt_x_values = values(lambda x: np.sqrt(x), left, right, n)\n",
    "\n",
    "modes = [2] * d\n",
    "ranks = [4] * (d - 1)\n",
    "\n",
    "filters, ranks = wtt_filter(\n",
    "    sin_sq_values,\n",
    "    d,\n",
    "    modes,\n",
    "    ranks=ranks,\n",
    "    eps=0,\n",
    "    check_correctness=True\n",
    ")\n",
    "wtt_res = wtt_apply(\n",
    "    sqrt_x_values,\n",
    "    d,\n",
    "    filters,\n",
    "    modes,\n",
    "    ranks,\n",
    "    True\n",
    ")\n",
    "print(ranks)"
   ]
  },
  {
   "cell_type": "code",
   "execution_count": 112,
   "id": "0a3034bc",
   "metadata": {},
   "outputs": [
    {
     "data": {
      "image/png": "[encoded data removed]",
      "text/plain": [
       "<Figure size 432x288 with 1 Axes>"
      ]
     },
     "metadata": {
      "needs_background": "light"
     },
     "output_type": "display_data"
    }
   ],
   "source": [
    "thresholds = np.logspace(-8, -2, 30)\n",
    "nnzs = [(np.abs(wtt_res) < t).sum() for t in thresholds]\n",
    "\n",
    "plt.plot(thresholds, nnzs)\n",
    "plt.xscale('log')\n",
    "plt.show()"
   ]
  },
  {
   "cell_type": "markdown",
   "id": "48fb7df9",
   "metadata": {},
   "source": [
    "По горизонтали --- $\\delta$, по вертикали --- количество элементов, которые по модулю меньше $\\delta$.\n",
    "\n",
    "Попробуем теперь обучить rpca-фильтры."
   ]
  },
  {
   "cell_type": "code",
   "execution_count": 113,
   "id": "0fc52b5a",
   "metadata": {},
   "outputs": [
    {
     "name": "stdout",
     "output_type": "stream",
     "text": [
      "iteration: 1, error: 0.008912992614624719\n",
      "iteration: 2, error: 1.6590207967226576e-06\n",
      "iteration: 1, error: 0.017529606220128675\n",
      "iteration: 1000, error: 9.83414997343143e-05\n",
      "iteration: 1468, error: 1.4786521844232237e-06\n",
      "iteration: 1, error: 0.03776271978490709\n",
      "iteration: 1000, error: 4.137265921142181e-05\n",
      "iteration: 2000, error: 1.1517317796141675e-05\n",
      "iteration: 3000, error: 6.7848631123908626e-06\n",
      "iteration: 4000, error: 5.045218463395819e-06\n",
      "iteration: 1, error: 0.15715025349064352\n",
      "iteration: 1000, error: 0.00038623886602603665\n",
      "iteration: 2000, error: 6.708841040145559e-06\n",
      "iteration: 2439, error: 2.2062405841059837e-06\n",
      "iteration: 1, error: 0.342485973351192\n",
      "iteration: 1000, error: 3.3955045513934303e-06\n",
      "iteration: 1098, error: 1.8553151349272024e-06\n",
      "iteration: 1, error: 0.8750440548651606\n",
      "iteration: 620, error: 1.450953213201784e-06\n",
      "iteration: 1, error: 1.7737965441125703\n",
      "iteration: 607, error: 1.137066196113527e-06\n",
      "iteration: 1, error: 2.300479751795083\n",
      "iteration: 138, error: 9.569540313932735e-07\n",
      "iteration: 1, error: 4.546384468125598\n",
      "iteration: 133, error: 5.22875925229454e-07\n",
      "iteration: 1, error: 4.072284542793516\n",
      "iteration: 39, error: 4.744904746134193e-16\n",
      "[2, 4, 4, 4, 4, 4, 4, 4, 2]\n"
     ]
    }
   ],
   "source": [
    "ranks_est = [4] * (d - 1)\n",
    "filters_rpca, ranks_rpca = wtt_rpca(\n",
    "    sin_sq_values,\n",
    "    d,\n",
    "    modes,\n",
    "    ranks=ranks_est,\n",
    "    eps=0,\n",
    "    check_correctness=True\n",
    ")\n",
    "wtt_res_rpca = wtt_apply(\n",
    "    sqrt_x_values,\n",
    "    d,\n",
    "    filters_rpca,\n",
    "    modes,\n",
    "    ranks_rpca,\n",
    "    True\n",
    ")\n",
    "print(ranks_rpca)"
   ]
  },
  {
   "cell_type": "code",
   "execution_count": 114,
   "id": "31c6200a",
   "metadata": {},
   "outputs": [
    {
     "data": {
      "image/png": "[encoded data removed]",
      "text/plain": [
       "<Figure size 432x288 with 1 Axes>"
      ]
     },
     "metadata": {
      "needs_background": "light"
     },
     "output_type": "display_data"
    }
   ],
   "source": [
    "nnzs_rpca = [(np.abs(wtt_res_rpca) < t).sum() for t in thresholds]\n",
    "\n",
    "plt.plot(thresholds, nnzs, label='WTT')\n",
    "plt.plot(thresholds, nnzs_rpca, label='WTT-RPCA')\n",
    "plt.title(\"Number of elements whose absolute value is smaller than x, for x in [1e-8, 1e-2]\")\n",
    "plt.xscale('log')\n",
    "plt.legend()\n",
    "plt.show()"
   ]
  },
  {
   "cell_type": "markdown",
   "id": "5382bcd4",
   "metadata": {},
   "source": [
    "Как будто с RPCA хуже...\n",
    "Давайте ещё такой график отрисуем, для наглядности."
   ]
  },
  {
   "cell_type": "code",
   "execution_count": 115,
   "id": "a23e104b",
   "metadata": {},
   "outputs": [
    {
     "data": {
      "image/png": "[encoded data removed]",
      "text/plain": [
       "<Figure size 432x288 with 1 Axes>"
      ]
     },
     "metadata": {
      "needs_background": "light"
     },
     "output_type": "display_data"
    }
   ],
   "source": [
    "plt.plot(np.arange(wtt_res.size), np.flip(np.sort(np.abs(wtt_res))), label='WTT')\n",
    "plt.plot(np.arange(wtt_res_rpca.size), np.flip(np.sort(np.abs(wtt_res_rpca))), label='WTT-RPCA')\n",
    "plt.yscale('log')\n",
    "plt.legend()\n",
    "plt.show()"
   ]
  },
  {
   "cell_type": "markdown",
   "id": "7ee6a0d5",
   "metadata": {},
   "source": [
    "Действительно, коэффициенты оказались больше.\n",
    "\n",
    "Но мы попробуем дать больше рангов."
   ]
  },
  {
   "cell_type": "code",
   "execution_count": 116,
   "id": "93b42e0e",
   "metadata": {},
   "outputs": [
    {
     "name": "stdout",
     "output_type": "stream",
     "text": [
      "[2, 4, 8, 16, 30, 16, 8, 4, 2]\n"
     ]
    }
   ],
   "source": [
    "ranks_est = [30] * (d - 1)\n",
    "\n",
    "filters, ranks = wtt_filter(\n",
    "    sin_sq_values,\n",
    "    d,\n",
    "    modes,\n",
    "    ranks=ranks_est,\n",
    "    eps=0,\n",
    "    check_correctness=True\n",
    ")\n",
    "wtt_res = wtt_apply(\n",
    "    sqrt_x_values,\n",
    "    d,\n",
    "    filters,\n",
    "    modes,\n",
    "    ranks,\n",
    "    True\n",
    ")\n",
    "print(ranks)"
   ]
  },
  {
   "cell_type": "code",
   "execution_count": 117,
   "id": "24cb29f5",
   "metadata": {},
   "outputs": [],
   "source": [
    "thresholds = np.logspace(-8, -2, 30)\n",
    "nnzs = [(np.abs(wtt_res) < t).sum() for t in thresholds]"
   ]
  },
  {
   "cell_type": "code",
   "execution_count": 118,
   "id": "840de35d",
   "metadata": {},
   "outputs": [
    {
     "name": "stdout",
     "output_type": "stream",
     "text": [
      "iteration: 1, error: 0.008912992614624719\n",
      "iteration: 2, error: 1.6590207967226576e-06\n",
      "iteration: 1, error: 0.017529606220128675\n",
      "iteration: 1000, error: 9.83414997343143e-05\n",
      "iteration: 1468, error: 1.4786521844232237e-06\n",
      "iteration: 1, error: 0.03776271978490709\n",
      "iteration: 1000, error: 4.137265921142181e-05\n",
      "iteration: 2000, error: 1.1517317796141675e-05\n",
      "iteration: 3000, error: 6.7848631123908626e-06\n",
      "iteration: 4000, error: 5.045218463395819e-06\n",
      "iteration: 1, error: 0.10677025182489742\n",
      "iteration: 1000, error: 0.00012493513453890227\n",
      "iteration: 2000, error: 2.7400955399934854e-05\n",
      "iteration: 3000, error: 8.113814705117473e-06\n",
      "iteration: 3882, error: 2.236703163219992e-06\n",
      "iteration: 1, error: 0.2193854591997378\n",
      "iteration: 1000, error: 5.157087866652506e-05\n",
      "iteration: 1821, error: 2.232526902397851e-06\n",
      "iteration: 1, error: 0.2769410367348508\n",
      "iteration: 548, error: 2.1957448816157934e-06\n",
      "iteration: 1, error: 0.8559523734712209\n",
      "iteration: 412, error: 1.5965286042548052e-06\n",
      "iteration: 1, error: 1.5470336476351867\n",
      "iteration: 112, error: 9.778212057821466e-07\n",
      "iteration: 1, error: 3.697255156996345\n",
      "iteration: 304, error: 7.930309090588252e-07\n",
      "iteration: 1, error: 5.340398231069288\n",
      "iteration: 7, error: 9.155133597044475e-16\n",
      "[2, 4, 8, 16, 30, 16, 8, 4, 2]\n"
     ]
    }
   ],
   "source": [
    "filters_rpca, ranks_rpca = wtt_rpca(\n",
    "    sin_sq_values,\n",
    "    d,\n",
    "    modes,\n",
    "    ranks=ranks_est,\n",
    "    eps=0,\n",
    "    check_correctness=True\n",
    ")\n",
    "wtt_res_rpca = wtt_apply(\n",
    "    sqrt_x_values,\n",
    "    d,\n",
    "    filters_rpca,\n",
    "    modes,\n",
    "    ranks_rpca,\n",
    "    True\n",
    ")\n",
    "print(ranks_rpca)"
   ]
  },
  {
   "cell_type": "code",
   "execution_count": 119,
   "id": "f5e3df84",
   "metadata": {},
   "outputs": [
    {
     "data": {
      "image/png": "[encoded data removed]",
      "text/plain": [
       "<Figure size 432x288 with 1 Axes>"
      ]
     },
     "metadata": {
      "needs_background": "light"
     },
     "output_type": "display_data"
    }
   ],
   "source": [
    "nnzs_rpca = [(np.abs(wtt_res_rpca) < t).sum() for t in thresholds]\n",
    "\n",
    "plt.plot(thresholds, nnzs, label='WTT')\n",
    "plt.plot(thresholds, nnzs_rpca, label='WTT-RPCA')\n",
    "plt.title(\"Number of elements whose absolute value is smaller than x, for x in [1e-8, 1e-2]\")\n",
    "plt.xscale('log')\n",
    "plt.legend()\n",
    "plt.show()"
   ]
  },
  {
   "cell_type": "code",
   "execution_count": 120,
   "id": "d9e378df",
   "metadata": {},
   "outputs": [
    {
     "data": {
      "image/png": "[encoded data removed]",
      "text/plain": [
       "<Figure size 432x288 with 1 Axes>"
      ]
     },
     "metadata": {
      "needs_background": "light"
     },
     "output_type": "display_data"
    }
   ],
   "source": [
    "plt.plot(np.arange(wtt_res.size), np.flip(np.sort(np.abs(wtt_res))), label='WTT')\n",
    "plt.plot(np.arange(wtt_res_rpca.size), np.flip(np.sort(np.abs(wtt_res_rpca))), label='WTT-RPCA')\n",
    "plt.yscale('log')\n",
    "plt.legend()\n",
    "plt.show()"
   ]
  },
  {
   "cell_type": "code",
   "execution_count": 121,
   "id": "d4e32b33",
   "metadata": {},
   "outputs": [],
   "source": [
    "iwtt_result = iwtt_apply(\n",
    "    wtt_res,\n",
    "    d,\n",
    "    filters,\n",
    "    modes,\n",
    "    ranks,\n",
    "    True\n",
    ")\n",
    "iwtt_result_rpca = iwtt_apply(\n",
    "    wtt_res_rpca,\n",
    "    d,\n",
    "    filters_rpca,\n",
    "    modes,\n",
    "    ranks_rpca,\n",
    "    True\n",
    ")"
   ]
  },
  {
   "cell_type": "code",
   "execution_count": 122,
   "id": "f3554e9f",
   "metadata": {},
   "outputs": [
    {
     "name": "stdout",
     "output_type": "stream",
     "text": [
      "6.483229259128888e-14\n",
      "3.482596148816006e-14\n"
     ]
    }
   ],
   "source": [
    "print(np.linalg.norm(sqrt_x_values - iwtt_result))\n",
    "print(np.linalg.norm(sqrt_x_values - iwtt_result_rpca))"
   ]
  },
  {
   "cell_type": "markdown",
   "id": "cc9a51db",
   "metadata": {},
   "source": [
    "Почему-то в текущем режиме RPCA не может у образующихся матриц найти разложение, у которого малоранговая компонента была бы действительно малоранговой."
   ]
  },
  {
   "cell_type": "code",
   "execution_count": null,
   "id": "a7a9bc88",
   "metadata": {},
   "outputs": [],
   "source": []
  }
 ],
 "metadata": {
  "kernelspec": {
   "display_name": "Python 3 (ipykernel)",
   "language": "python",
   "name": "python3"
  },
  "language_info": {
   "codemirror_mode": {
    "name": "ipython",
    "version": 3
   },
   "file_extension": ".py",
   "mimetype": "text/x-python",
   "name": "python",
   "nbconvert_exporter": "python",
   "pygments_lexer": "ipython3",
   "version": "3.9.7"
  }
 },
 "nbformat": 4,
 "nbformat_minor": 5
}
