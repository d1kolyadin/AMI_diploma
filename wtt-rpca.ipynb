{
 "cells": [
  {
   "cell_type": "markdown",
   "id": "c08c3a1c",
   "metadata": {},
   "source": [
    "RPCA из первой домашки по матвычислам:"
   ]
  },
  {
   "cell_type": "code",
   "execution_count": 1,
   "id": "9d637181",
   "metadata": {},
   "outputs": [],
   "source": [
    "# %load robust-pca/r_pca.py\n",
    "from __future__ import division, print_function\n",
    "\n",
    "import numpy as np\n",
    "\n",
    "try:\n",
    "    from pylab import plt\n",
    "except ImportError:\n",
    "    print('Unable to import pylab. R_pca.plot_fit() will not work.')\n",
    "\n",
    "try:\n",
    "    # Python 2: 'xrange' is the iterative version\n",
    "    range = xrange\n",
    "except NameError:\n",
    "    # Python 3: 'range' is iterative - no need for 'xrange'\n",
    "    pass\n",
    "\n",
    "\n",
    "class R_pca:\n",
    "\n",
    "    def __init__(self, D, mu=None, lmbda=None):\n",
    "        self.D = D\n",
    "        self.S = np.zeros(self.D.shape)\n",
    "        self.Y = np.zeros(self.D.shape)\n",
    "\n",
    "        if mu:\n",
    "            self.mu = mu\n",
    "        else:\n",
    "            self.mu = np.prod(self.D.shape) / (4 * np.linalg.norm(self.D, ord=1))\n",
    "\n",
    "        self.mu_inv = 1 / self.mu\n",
    "\n",
    "        if lmbda:\n",
    "            self.lmbda = lmbda\n",
    "        else:\n",
    "            self.lmbda = 1 / np.sqrt(np.max(self.D.shape))\n",
    "\n",
    "    @staticmethod\n",
    "    def frobenius_norm(M):\n",
    "        return np.linalg.norm(M, ord='fro')\n",
    "\n",
    "    @staticmethod\n",
    "    def shrink(M, tau):\n",
    "        return np.sign(M) * np.maximum((np.abs(M) - tau), np.zeros(M.shape))\n",
    "\n",
    "    def svd_threshold(self, M, tau):\n",
    "        U, S, V = np.linalg.svd(M, full_matrices=False)\n",
    "        return np.dot(U, np.dot(np.diag(self.shrink(S, tau)), V))\n",
    "\n",
    "    def fit(self, tol=None, max_iter=1000, iter_print=100):\n",
    "        iter = 0\n",
    "        err = np.Inf\n",
    "        Sk = self.S\n",
    "        Yk = self.Y\n",
    "        Lk = np.zeros(self.D.shape)\n",
    "\n",
    "        if tol:\n",
    "            _tol = tol\n",
    "        else:\n",
    "            _tol = 1E-7 * self.frobenius_norm(self.D)\n",
    "\n",
    "        #this loop implements the principal component pursuit (PCP) algorithm\n",
    "        #located in the table on page 29 of https://arxiv.org/pdf/0912.3599.pdf\n",
    "        while (err > _tol) and iter < max_iter:\n",
    "            Lk = self.svd_threshold(\n",
    "                self.D - Sk + self.mu_inv * Yk, self.mu_inv)                            #this line implements step 3\n",
    "            Sk = self.shrink(\n",
    "                self.D - Lk + (self.mu_inv * Yk), self.mu_inv * self.lmbda)             #this line implements step 4\n",
    "            Yk = Yk + self.mu * (self.D - Lk - Sk)                                      #this line implements step 5\n",
    "            err = self.frobenius_norm(self.D - Lk - Sk)\n",
    "            iter += 1\n",
    "            if (iter % iter_print) == 0 or iter == 1 or iter > max_iter or err <= _tol:\n",
    "                print('iteration: {0}, error: {1}'.format(iter, err))\n",
    "\n",
    "        self.L = Lk\n",
    "        self.S = Sk\n",
    "        return Lk, Sk\n",
    "\n",
    "    def plot_fit(self, size=None, tol=0.1, axis_on=True):\n",
    "\n",
    "        n, d = self.D.shape\n",
    "\n",
    "        if size:\n",
    "            nrows, ncols = size\n",
    "        else:\n",
    "            sq = np.ceil(np.sqrt(n))\n",
    "            nrows = int(sq)\n",
    "            ncols = int(sq)\n",
    "\n",
    "        ymin = np.nanmin(self.D)\n",
    "        ymax = np.nanmax(self.D)\n",
    "        print('ymin: {0}, ymax: {1}'.format(ymin, ymax))\n",
    "\n",
    "        numplots = np.min([n, nrows * ncols])\n",
    "        plt.figure()\n",
    "\n",
    "        for n in range(numplots):\n",
    "            plt.subplot(nrows, ncols, n + 1)\n",
    "            plt.ylim((ymin - tol, ymax + tol))\n",
    "            plt.plot(self.L[n, :] + self.S[n, :], 'r')\n",
    "            plt.plot(self.L[n, :], 'b')\n",
    "            if not axis_on:\n",
    "                plt.axis('off')\n"
   ]
  },
  {
   "cell_type": "code",
   "execution_count": 2,
   "id": "3ab92ac7",
   "metadata": {},
   "outputs": [
    {
     "name": "stdout",
     "output_type": "stream",
     "text": [
      "iteration: 1, error: 0.17029176934203077\n",
      "iteration: 500, error: 8.980125856707089e-05\n",
      "iteration: 1000, error: 2.3633567298211956e-05\n",
      "iteration: 1500, error: 2.0098403500929317e-05\n",
      "iteration: 1624, error: 5.7530861926022336e-06\n"
     ]
    }
   ],
   "source": [
    "test_arr = np.random.rand(100, 100)\n",
    "test_rpca = R_pca(test_arr)\n",
    "test_l, test_r = test_rpca.fit(max_iter=4000, iter_print=500)"
   ]
  },
  {
   "cell_type": "code",
   "execution_count": 3,
   "id": "9ba31bfc",
   "metadata": {},
   "outputs": [
    {
     "name": "stdout",
     "output_type": "stream",
     "text": [
      "163.29265627194175\n",
      "57\n",
      "100\n",
      "[4.46490889e-16 3.88038691e-16 3.46703565e-16 3.31636015e-16\n",
      " 3.18792250e-16 2.19616166e-16 1.77632932e-16 1.44043335e-16\n",
      " 9.36682742e-17 7.07648262e-17]\n"
     ]
    }
   ],
   "source": [
    "sigmas = np.linalg.svd(test_l, compute_uv = False)\n",
    "print(sigmas.sum())\n",
    "print((sigmas > 1e-14).sum()) #ощутимо меньше 100\n",
    "print((sigmas > 0).sum()) #100\n",
    "print(sigmas[-10:])"
   ]
  },
  {
   "cell_type": "code",
   "execution_count": 4,
   "id": "ff96e06e",
   "metadata": {},
   "outputs": [
    {
     "name": "stdout",
     "output_type": "stream",
     "text": [
      "5508\n",
      "5508\n"
     ]
    }
   ],
   "source": [
    "print((np.abs(test_r) > 1e-14).sum())\n",
    "print((np.abs(test_r) > 0).sum())"
   ]
  },
  {
   "cell_type": "code",
   "execution_count": 5,
   "id": "b2e1cf24",
   "metadata": {},
   "outputs": [
    {
     "name": "stdout",
     "output_type": "stream",
     "text": [
      "5.7530861926022336e-06\n"
     ]
    }
   ],
   "source": [
    "print(np.linalg.norm(test_l + test_r - test_arr))\n",
    "#надо думать, та ошибка, которую последней выдаёт в своём логе test_rpca.fit()"
   ]
  },
  {
   "cell_type": "markdown",
   "id": "ca3a771b",
   "metadata": {},
   "source": [
    "Мой код:"
   ]
  },
  {
   "cell_type": "code",
   "execution_count": 6,
   "id": "8de6e2ef",
   "metadata": {},
   "outputs": [],
   "source": [
    "def values(func, left, right, n):\n",
    "    return func(np.linspace(left, right, n))\n",
    "\n",
    "def wtt_filter(input_vector, d, modes, ranks=None, eps=None, check_correctness=False):\n",
    "    assert ranks is not None or eps is not None\n",
    "    \n",
    "    filters = []\n",
    "    prod_modes = input_vector.size\n",
    "    \n",
    "    if check_correctness:\n",
    "        assert len(modes) == d\n",
    "        if ranks is not None:\n",
    "            assert len(ranks) == d - 1\n",
    "        if eps is not None:\n",
    "            assert 0 <= eps <= 1\n",
    "        assert prod_modes == np.prod(modes)\n",
    "        \n",
    "    true_ranks = []\n",
    "    \n",
    "    r_prev = 1\n",
    "    A = input_vector\n",
    "    for k in range(d):\n",
    "        A = A.reshape((r_prev * modes[k], prod_modes // modes[k]), order='F')\n",
    "        if A.shape[0] <= A.shape[1]:\n",
    "            u, sigmas, vt = np.linalg.svd(A, full_matrices=False)\n",
    "        else:\n",
    "            u, sigmas, vt = np.linalg.svd(A, full_matrices=True)\n",
    "            \n",
    "        r_given = None if ranks is None else (1 if k == d - 1 else ranks[k])\n",
    "        r_eps = None if eps is None else max(1, (sigmas > eps * sigmas[0]).sum())\n",
    "        if r_given is not None and r_eps is not None:\n",
    "            r_cur = min(r_given, r_eps)\n",
    "        elif r_given is not None:\n",
    "            r_cur = r_given\n",
    "        else:\n",
    "            r_cur = r_eps\n",
    "        \n",
    "        filters.append(u)\n",
    "\n",
    "        if check_correctness:\n",
    "            assert u.shape[0] == u.shape[1] == r_prev * modes[k]\n",
    "            if k < d - 1:\n",
    "                assert r_cur <= r_prev * modes[k]\n",
    "\n",
    "        if k < d - 1:\n",
    "            A = (u.T @ A)[:r_cur,:]\n",
    "            prod_modes //= modes[k]\n",
    "            true_ranks.append(r_cur)\n",
    "            r_prev = r_cur\n",
    "    \n",
    "    return filters, true_ranks\n",
    "\n",
    "def wtt_apply(input_vector, d, filters, modes, ranks, check_correctness=False):\n",
    "    prod_modes = input_vector.size\n",
    "    \n",
    "    if check_correctness:\n",
    "        assert len(filters) == d\n",
    "        assert len(modes) == d\n",
    "        assert len(ranks) == d - 1\n",
    "        assert prod_modes == np.prod(modes)\n",
    "        \n",
    "    tails = []\n",
    "    A = input_vector\n",
    "    r_prev = 1\n",
    "    for k in range(d):\n",
    "        A = A.reshape((r_prev * modes[k], prod_modes // modes[k]), order='F')\n",
    "        A = filters[k].T @ A\n",
    "\n",
    "        if check_correctness:\n",
    "            assert A.shape[0] == r_prev * modes[k]\n",
    "            if k < d - 1:\n",
    "                assert ranks[k] <= r_prev * modes[k]\n",
    "                \n",
    "        if k < d - 1:\n",
    "            tails.append(A[ranks[k]:,:])\n",
    "            A = A[:ranks[k],:]\n",
    "            prod_modes //= modes[k]\n",
    "            r_prev = ranks[k]\n",
    "        \n",
    "    result = A\n",
    "    for k in range(d - 2, -1, -1):        \n",
    "        result = np.vstack([\n",
    "            result.reshape((ranks[k], prod_modes), order='F'),\n",
    "            tails[k]\n",
    "        ])\n",
    "        prod_modes *= modes[k]\n",
    "    \n",
    "    return result.flatten(order='F')\n",
    "\n",
    "def iwtt_apply(input_vector, d, filters, modes, ranks, check_correctness=False):\n",
    "    prod_modes = input_vector.size\n",
    "    \n",
    "    if check_correctness:\n",
    "        assert len(filters) == d\n",
    "        assert len(modes) == d\n",
    "        assert len(ranks) == d - 1\n",
    "        assert prod_modes == np.prod(modes)\n",
    "        \n",
    "    tails = []\n",
    "    A = input_vector\n",
    "    r_prev = 1\n",
    "    for k in range(d):\n",
    "        A = A.reshape((r_prev * modes[k], prod_modes // modes[k]), order='F')\n",
    "\n",
    "        if check_correctness:\n",
    "            assert A.shape[0] == r_prev * modes[k]\n",
    "            if k < d - 1:\n",
    "                assert ranks[k] <= r_prev * modes[k]\n",
    "                \n",
    "        if k < d - 1:\n",
    "            tails.append(A[ranks[k]:,:])\n",
    "            A = A[:ranks[k],:]\n",
    "            prod_modes //= modes[k]\n",
    "            r_prev = ranks[k]\n",
    "        \n",
    "    #prod_modes == modes[-1] в конце\n",
    "    result = A\n",
    "    for k in range(d - 1, -1, -1):\n",
    "        \n",
    "        r_prev = 1 if k == 0 else ranks[k - 1]\n",
    "        if k == d - 1:\n",
    "            result = (filters[k] @ result).reshape((r_prev, prod_modes), order='F')\n",
    "        else:\n",
    "            result = (filters[k] @ np.vstack([\n",
    "                result,\n",
    "                tails[k]\n",
    "            ])).reshape((r_prev, prod_modes), order='F')\n",
    "        prod_modes *= modes[k]\n",
    "    \n",
    "    return result.flatten(order='F')\n",
    "\n",
    "def matrix_to_vector(A, d, modes, check_correctness=False):\n",
    "    if check_correctness is True:\n",
    "        assert A.shape[0] == A.shape[1] == np.prod(modes)\n",
    "        assert len(modes) == d\n",
    "    result = np.reshape(A, modes + modes, order='F')\n",
    "    axes_transpose = []\n",
    "    for i in range(d):\n",
    "        axes_transpose.append(i)\n",
    "        axes_transpose.append(d + i)\n",
    "    result = np.transpose(result, axes_transpose)\n",
    "    new_modes = [m ** 2 for m in modes]\n",
    "    result = np.reshape(result, new_modes, order='F')\n",
    "    return result.flatten(order='F'), new_modes\n",
    "\n",
    "def vector_to_matrix(v, d, modes, check_correctness=False):\n",
    "    if check_correctness is True:\n",
    "        assert v.size == np.prod(modes)\n",
    "        assert len(modes) == d\n",
    "    new_modes = [int(np.sqrt(m)) for m in modes]\n",
    "    if check_correctness is True:\n",
    "        assert np.all(modes == np.square(new_modes))\n",
    "    result = np.reshape(v, new_modes + new_modes, order='F')\n",
    "    axes_transpose = []\n",
    "    for i in range(d):\n",
    "        axes_transpose.append(2 * i)\n",
    "    for i in range(d):\n",
    "        axes_transpose.append(2 * i + 1)\n",
    "    result = np.transpose(result, axes_transpose)\n",
    "    result = np.reshape(result, (np.prod(new_modes), np.prod(new_modes)), order='F')\n",
    "    return result, new_modes"
   ]
  },
  {
   "cell_type": "markdown",
   "id": "aab5948f",
   "metadata": {},
   "source": [
    "Попробуем внедрить RPCA явно в качестве замены для SVD."
   ]
  },
  {
   "cell_type": "code",
   "execution_count": 16,
   "id": "72c778c0",
   "metadata": {},
   "outputs": [],
   "source": [
    "def wtt_rpca(input_vector, d, modes, ranks=None, eps=None, check_correctness=False):\n",
    "    assert ranks is not None or eps is not None\n",
    "    \n",
    "    filters = []\n",
    "    prod_modes = input_vector.size\n",
    "    \n",
    "    if check_correctness:\n",
    "        assert len(modes) == d\n",
    "        if ranks is not None:\n",
    "            assert len(ranks) == d - 1\n",
    "        if eps is not None:\n",
    "            assert 0 <= eps <= 1\n",
    "        assert prod_modes == np.prod(modes)\n",
    "        \n",
    "    true_ranks = []\n",
    "    \n",
    "    r_prev = 1\n",
    "    A = input_vector\n",
    "    for k in range(d):\n",
    "        A = A.reshape((r_prev * modes[k], prod_modes // modes[k]), order='F')\n",
    "        \n",
    "        #делаем разложение A = L + S, L --- малоранговая, S --- разреженная\n",
    "        #затем: L = U Sigma V^T --- SVD для L. Ненулевых сингулярных чисел будет мало (надеемся)\n",
    "        #U^T A = Sigma V^T + U^T S. Старшие строки оставляем для дальнейшей работы.\n",
    "        #Надеемся, что младшие строки U^T S тоже будут разреженными...\n",
    "        \n",
    "        rpca = R_pca(A) \n",
    "        L, S = rpca.fit(\n",
    "            max_iter=4000,\n",
    "            iter_print=4001\n",
    "        )\n",
    "        \n",
    "        if A.shape[0] <= A.shape[1]:\n",
    "            u, sigmas, vt = np.linalg.svd(L, full_matrices=False)\n",
    "        else:\n",
    "            u, sigmas, vt = np.linalg.svd(L, full_matrices=True)\n",
    "            \n",
    "        r_given = None if ranks is None else (1 if k == d - 1 else ranks[k])\n",
    "        r_eps = None if eps is None else max(1, (sigmas > eps * sigmas[0]).sum())\n",
    "        if r_given is not None and r_eps is not None:\n",
    "            r_cur = min(r_given, r_eps)\n",
    "        elif r_given is not None:\n",
    "            r_cur = r_given\n",
    "        else:\n",
    "            r_cur = r_eps\n",
    "        \n",
    "        filters.append(u)\n",
    "        \n",
    "        print(\n",
    "            S.size,\n",
    "            np.count_nonzero(S), #можно так, поскольку S-часть по-честному разреженная\n",
    "            np.count_nonzero(u.T @ S),\n",
    "            (np.abs(u.T @ S) > 1e-10).sum()\n",
    "        )\n",
    "\n",
    "        if check_correctness:\n",
    "            assert u.shape[0] == u.shape[1] == r_prev * modes[k]\n",
    "            if k < d - 1:\n",
    "                assert r_cur <= r_prev * modes[k]\n",
    "\n",
    "        if k < d - 1:\n",
    "            A = (u.T @ A)[:r_cur,:]\n",
    "            #A = (u.T @ (L + S))[:r_cur,:]\n",
    "            prod_modes //= modes[k]\n",
    "            true_ranks.append(r_cur)\n",
    "            r_prev = r_cur\n",
    "    \n",
    "    return filters, true_ranks"
   ]
  },
  {
   "cell_type": "code",
   "execution_count": 17,
   "id": "2e9532d6",
   "metadata": {},
   "outputs": [
    {
     "name": "stdout",
     "output_type": "stream",
     "text": [
      "[2, 4, 4, 4, 4, 4, 4, 4, 2]\n"
     ]
    }
   ],
   "source": [
    "d = 10\n",
    "n = 2 ** d\n",
    "left = 0.\n",
    "right = 1.\n",
    "\n",
    "linspace = np.linspace(left, right, n)\n",
    "\n",
    "sqrt_x_values = values(lambda x: np.sqrt(x), left, right, n)\n",
    "\n",
    "modes = [2] * d\n",
    "ranks_est = [4] * (d - 1)\n",
    "\n",
    "filters, ranks = wtt_filter(\n",
    "    sqrt_x_values,\n",
    "    d,\n",
    "    modes,\n",
    "    ranks=ranks_est,\n",
    "    eps=0,\n",
    "    check_correctness=True\n",
    ")\n",
    "wtt_res = wtt_apply(\n",
    "    sqrt_x_values,\n",
    "    d,\n",
    "    filters,\n",
    "    modes,\n",
    "    ranks,\n",
    "    True\n",
    ")\n",
    "print(ranks)"
   ]
  },
  {
   "cell_type": "code",
   "execution_count": 18,
   "id": "0a3034bc",
   "metadata": {},
   "outputs": [
    {
     "data": {
      "image/png": "[encoded data removed]",
      "text/plain": [
       "<Figure size 432x288 with 1 Axes>"
      ]
     },
     "metadata": {
      "needs_background": "light"
     },
     "output_type": "display_data"
    }
   ],
   "source": [
    "thresholds = np.logspace(-8, -2, 30)\n",
    "nnzs = [(np.abs(wtt_res) < t).sum() for t in thresholds]\n",
    "\n",
    "plt.plot(thresholds, nnzs)\n",
    "plt.xscale('log')\n",
    "plt.show()"
   ]
  },
  {
   "cell_type": "markdown",
   "id": "48fb7df9",
   "metadata": {},
   "source": [
    "По горизонтали --- $\\delta$, по вертикали --- количество элементов, которые по модулю меньше $\\delta$.\n",
    "\n",
    "Попробуем теперь обучить rpca-фильтры."
   ]
  },
  {
   "cell_type": "code",
   "execution_count": 19,
   "id": "0fc52b5a",
   "metadata": {},
   "outputs": [
    {
     "name": "stdout",
     "output_type": "stream",
     "text": [
      "iteration: 1, error: 0.008316051948933754\n",
      "iteration: 206, error: 2.2573375633197257e-06\n",
      "1024 513 1020 1020\n",
      "iteration: 1, error: 0.012508857643218393\n",
      "iteration: 138, error: 2.1215588619174903e-06\n",
      "1024 367 1020 1020\n",
      "iteration: 1, error: 0.018985451504706704\n",
      "iteration: 2767, error: 2.262680266157458e-06\n",
      "1024 322 1016 1010\n",
      "iteration: 1, error: 0.05173942939392837\n",
      "512 185 512 511\n",
      "iteration: 1, error: 0.14717587852070677\n",
      "256 98 256 256\n",
      "iteration: 1, error: 0.4184910831558781\n",
      "128 49 128 128\n",
      "iteration: 1, error: 1.2080434599791305\n",
      "64 23 64 64\n",
      "iteration: 1, error: 2.6093298156327127\n",
      "32 19 32 32\n",
      "iteration: 1, error: 4.774696832431641\n",
      "iteration: 66, error: 2.030821147014044e-15\n",
      "16 16 16 16\n",
      "iteration: 1, error: 14.863312638702313\n",
      "iteration: 76, error: 3.60875855162776e-15\n",
      "4 4 4 4\n",
      "[2, 4, 4, 4, 4, 4, 4, 4, 2]\n"
     ]
    }
   ],
   "source": [
    "filters_rpca, ranks_rpca = wtt_rpca(\n",
    "    sqrt_x_values,\n",
    "    d,\n",
    "    modes,\n",
    "    ranks=ranks_est,\n",
    "    eps=0,\n",
    "    check_correctness=True\n",
    ")\n",
    "wtt_res_rpca = wtt_apply(\n",
    "    sqrt_x_values,\n",
    "    d,\n",
    "    filters_rpca,\n",
    "    modes,\n",
    "    ranks_rpca,\n",
    "    True\n",
    ")\n",
    "print(ranks_rpca)"
   ]
  },
  {
   "cell_type": "code",
   "execution_count": 20,
   "id": "31c6200a",
   "metadata": {},
   "outputs": [
    {
     "data": {
      "image/png": "[encoded data removed]",
      "text/plain": [
       "<Figure size 432x288 with 1 Axes>"
      ]
     },
     "metadata": {
      "needs_background": "light"
     },
     "output_type": "display_data"
    }
   ],
   "source": [
    "nnzs_rpca = [(np.abs(wtt_res_rpca) < t).sum() for t in thresholds]\n",
    "\n",
    "plt.plot(thresholds, nnzs, label='WTT')\n",
    "plt.plot(thresholds, nnzs_rpca, label='WTT-RPCA')\n",
    "plt.title(\"Number of elements whose absolute value is smaller than x, for x in [1e-8, 1e-2]\")\n",
    "plt.xscale('log')\n",
    "plt.legend()\n",
    "plt.show()"
   ]
  },
  {
   "cell_type": "markdown",
   "id": "5382bcd4",
   "metadata": {},
   "source": [
    "Как будто с RPCA хуже...\n",
    "Давайте ещё такой график отрисуем, для наглядности."
   ]
  },
  {
   "cell_type": "code",
   "execution_count": 21,
   "id": "a23e104b",
   "metadata": {},
   "outputs": [
    {
     "data": {
      "image/png": "[encoded data removed]",
      "text/plain": [
       "<Figure size 432x288 with 1 Axes>"
      ]
     },
     "metadata": {
      "needs_background": "light"
     },
     "output_type": "display_data"
    }
   ],
   "source": [
    "plt.plot(np.arange(wtt_res.size), np.flip(np.sort(np.abs(wtt_res))), label='WTT')\n",
    "plt.plot(np.arange(wtt_res_rpca.size), np.flip(np.sort(np.abs(wtt_res_rpca))), label='WTT-RPCA')\n",
    "plt.yscale('log')\n",
    "plt.legend()\n",
    "plt.show()"
   ]
  },
  {
   "cell_type": "markdown",
   "id": "7ee6a0d5",
   "metadata": {},
   "source": [
    "Действительно, коэффициенты оказались больше.\n",
    "\n",
    "Но мы попробуем дать больше рангов."
   ]
  },
  {
   "cell_type": "code",
   "execution_count": 22,
   "id": "93b42e0e",
   "metadata": {},
   "outputs": [
    {
     "name": "stdout",
     "output_type": "stream",
     "text": [
      "[2, 4, 8, 16, 30, 16, 8, 4, 2]\n"
     ]
    }
   ],
   "source": [
    "ranks_est = [30] * (d - 1)\n",
    "\n",
    "filters, ranks = wtt_filter(\n",
    "    sqrt_x_values,\n",
    "    d,\n",
    "    modes,\n",
    "    ranks=ranks_est,\n",
    "    eps=0,\n",
    "    check_correctness=True\n",
    ")\n",
    "wtt_res = wtt_apply(\n",
    "    sqrt_x_values,\n",
    "    d,\n",
    "    filters,\n",
    "    modes,\n",
    "    ranks,\n",
    "    True\n",
    ")\n",
    "print(ranks)"
   ]
  },
  {
   "cell_type": "code",
   "execution_count": 23,
   "id": "24cb29f5",
   "metadata": {},
   "outputs": [],
   "source": [
    "thresholds = np.logspace(-8, -2, 30)\n",
    "nnzs = [(np.abs(wtt_res) < t).sum() for t in thresholds]"
   ]
  },
  {
   "cell_type": "code",
   "execution_count": 24,
   "id": "840de35d",
   "metadata": {},
   "outputs": [
    {
     "name": "stdout",
     "output_type": "stream",
     "text": [
      "iteration: 1, error: 0.008316051948933754\n",
      "iteration: 206, error: 2.2573375633197257e-06\n",
      "1024 513 1020 1020\n",
      "iteration: 1, error: 0.012508857643218393\n",
      "iteration: 138, error: 2.1215588619174903e-06\n",
      "1024 367 1020 1020\n",
      "iteration: 1, error: 0.018985451504706704\n",
      "iteration: 2767, error: 2.262680266157458e-06\n",
      "1024 322 1016 1010\n",
      "iteration: 1, error: 0.028642268764497218\n",
      "1024 247 1024 968\n",
      "iteration: 1, error: 0.04296761555173621\n",
      "1024 165 1024 1022\n",
      "iteration: 1, error: 0.04734908440454665\n",
      "960 274 960 960\n",
      "iteration: 1, error: 0.78192052850235\n",
      "256 127 256 256\n",
      "iteration: 1, error: 1.177980669117939\n",
      "64 40 64 64\n",
      "iteration: 1, error: 7.851010232385371\n",
      "iteration: 87, error: 1.6627443730453179e-06\n",
      "16 9 16 16\n",
      "iteration: 1, error: 17.628513886656854\n",
      "iteration: 13, error: 3.210061615366513e-15\n",
      "4 4 4 4\n",
      "[2, 4, 8, 16, 30, 16, 8, 4, 2]\n"
     ]
    }
   ],
   "source": [
    "filters_rpca, ranks_rpca = wtt_rpca(\n",
    "    sqrt_x_values,\n",
    "    d,\n",
    "    modes,\n",
    "    ranks=ranks_est,\n",
    "    eps=0,\n",
    "    check_correctness=True\n",
    ")\n",
    "wtt_res_rpca = wtt_apply(\n",
    "    sqrt_x_values,\n",
    "    d,\n",
    "    filters_rpca,\n",
    "    modes,\n",
    "    ranks_rpca,\n",
    "    True\n",
    ")\n",
    "print(ranks_rpca)"
   ]
  },
  {
   "cell_type": "code",
   "execution_count": 25,
   "id": "f5e3df84",
   "metadata": {},
   "outputs": [
    {
     "data": {
      "image/png": "[encoded data removed]",
      "text/plain": [
       "<Figure size 432x288 with 1 Axes>"
      ]
     },
     "metadata": {
      "needs_background": "light"
     },
     "output_type": "display_data"
    }
   ],
   "source": [
    "nnzs_rpca = [(np.abs(wtt_res_rpca) < t).sum() for t in thresholds]\n",
    "\n",
    "plt.plot(thresholds, nnzs, label='WTT')\n",
    "plt.plot(thresholds, nnzs_rpca, label='WTT-RPCA')\n",
    "plt.title(\"Number of elements whose absolute value is smaller than x, for x in [1e-8, 1e-2]\")\n",
    "plt.xscale('log')\n",
    "plt.legend()\n",
    "plt.show()"
   ]
  },
  {
   "cell_type": "code",
   "execution_count": 26,
   "id": "d9e378df",
   "metadata": {},
   "outputs": [
    {
     "data": {
      "image/png": "[encoded data removed]",
      "text/plain": [
       "<Figure size 432x288 with 1 Axes>"
      ]
     },
     "metadata": {
      "needs_background": "light"
     },
     "output_type": "display_data"
    }
   ],
   "source": [
    "plt.plot(np.arange(wtt_res.size), np.flip(np.sort(np.abs(wtt_res))), label='WTT')\n",
    "plt.plot(np.arange(wtt_res_rpca.size), np.flip(np.sort(np.abs(wtt_res_rpca))), label='WTT-RPCA')\n",
    "plt.yscale('log')\n",
    "plt.legend()\n",
    "plt.show()"
   ]
  },
  {
   "cell_type": "code",
   "execution_count": 27,
   "id": "d4e32b33",
   "metadata": {},
   "outputs": [],
   "source": [
    "iwtt_result = iwtt_apply(\n",
    "    wtt_res,\n",
    "    d,\n",
    "    filters,\n",
    "    modes,\n",
    "    ranks,\n",
    "    True\n",
    ")\n",
    "iwtt_result_rpca = iwtt_apply(\n",
    "    wtt_res_rpca,\n",
    "    d,\n",
    "    filters_rpca,\n",
    "    modes,\n",
    "    ranks_rpca,\n",
    "    True\n",
    ")"
   ]
  },
  {
   "cell_type": "code",
   "execution_count": 28,
   "id": "f3554e9f",
   "metadata": {},
   "outputs": [
    {
     "name": "stdout",
     "output_type": "stream",
     "text": [
      "2.8047988518786123e-14\n",
      "4.884824638624431e-14\n"
     ]
    }
   ],
   "source": [
    "print(np.linalg.norm(sqrt_x_values - iwtt_result))\n",
    "print(np.linalg.norm(sqrt_x_values - iwtt_result_rpca))"
   ]
  },
  {
   "cell_type": "markdown",
   "id": "cc9a51db",
   "metadata": {},
   "source": [
    "Почему-то в текущем режиме RPCA не может у образующихся матриц найти разложение, у которого малоранговая компонента была бы действительно малоранговой.\n",
    "\n",
    "Скорее всего, дело в том, что она оказывается приближённо малоранговой (последние сингулярные числа очень маленькие, но не 0 всё-таки!)\n",
    "\n",
    "$\\varepsilon = 0$ не годится..."
   ]
  },
  {
   "cell_type": "code",
   "execution_count": 29,
   "id": "a7a9bc88",
   "metadata": {},
   "outputs": [
    {
     "name": "stdout",
     "output_type": "stream",
     "text": [
      "[2, 4, 4, 4, 4, 4, 4, 4, 2]\n"
     ]
    }
   ],
   "source": [
    "ranks_est = [4] * (d - 1)\n",
    "\n",
    "filters, ranks = wtt_filter(\n",
    "    sqrt_x_values,\n",
    "    d,\n",
    "    modes,\n",
    "    ranks=ranks_est,\n",
    "    eps=1e-7,\n",
    "    check_correctness=True\n",
    ")\n",
    "wtt_res = wtt_apply(\n",
    "    sqrt_x_values,\n",
    "    d,\n",
    "    filters,\n",
    "    modes,\n",
    "    ranks,\n",
    "    True\n",
    ")\n",
    "print(ranks)"
   ]
  },
  {
   "cell_type": "code",
   "execution_count": 30,
   "id": "51a09f75",
   "metadata": {},
   "outputs": [
    {
     "name": "stdout",
     "output_type": "stream",
     "text": [
      "iteration: 1, error: 0.008316051948933754\n",
      "iteration: 206, error: 2.2573375633197257e-06\n",
      "1024 513 1020 1020\n",
      "iteration: 1, error: 0.023806457293641895\n",
      "iteration: 155, error: 1.9438515185933155e-06\n",
      "512 256 510 510\n",
      "iteration: 1, error: 0.06782726107144042\n",
      "iteration: 134, error: 1.171107195453881e-06\n",
      "256 128 254 254\n",
      "iteration: 1, error: 0.19029563642500835\n",
      "iteration: 189, error: 1.2579505807033784e-06\n",
      "128 63 126 126\n",
      "iteration: 1, error: 0.5256984621664208\n",
      "iteration: 306, error: 2.2523875688149385e-06\n",
      "64 31 62 62\n",
      "iteration: 1, error: 1.4510941654299672\n",
      "iteration: 219, error: 7.75656809262727e-07\n",
      "32 15 30 30\n",
      "iteration: 1, error: 3.9404158715941175\n",
      "iteration: 127, error: 1.3268216560119253e-06\n",
      "16 7 14 14\n",
      "iteration: 1, error: 10.656474701261368\n",
      "iteration: 84, error: 1.3327366639184385e-06\n",
      "8 3 6 6\n",
      "iteration: 1, error: 22.56437419306462\n",
      "iteration: 53, error: 2.2490472625448905e-06\n",
      "4 2 4 4\n",
      "iteration: 1, error: 22.349674508973564\n",
      "iteration: 6, error: 5.617333549722722e-15\n",
      "2 2 2 2\n",
      "[1, 1, 1, 1, 1, 1, 1, 1, 1]\n"
     ]
    }
   ],
   "source": [
    "filters_rpca, ranks_rpca = wtt_rpca(\n",
    "    sqrt_x_values,\n",
    "    d,\n",
    "    modes,\n",
    "    ranks=ranks_est,\n",
    "    eps=1e-7,\n",
    "    check_correctness=True\n",
    ")\n",
    "wtt_res_rpca = wtt_apply(\n",
    "    sqrt_x_values,\n",
    "    d,\n",
    "    filters_rpca,\n",
    "    modes,\n",
    "    ranks_rpca,\n",
    "    True\n",
    ")\n",
    "print(ranks_rpca)"
   ]
  },
  {
   "cell_type": "code",
   "execution_count": 31,
   "id": "b99ebb86",
   "metadata": {},
   "outputs": [
    {
     "data": {
      "image/png": "[encoded data removed]",
      "text/plain": [
       "<Figure size 432x288 with 1 Axes>"
      ]
     },
     "metadata": {
      "needs_background": "light"
     },
     "output_type": "display_data"
    }
   ],
   "source": [
    "thresholds = np.logspace(-8, -2, 30)\n",
    "nnzs = [(np.abs(wtt_res) < t).sum() for t in thresholds]\n",
    "nnzs_rpca = [(np.abs(wtt_res_rpca) < t).sum() for t in thresholds]\n",
    "\n",
    "plt.plot(thresholds, nnzs, label='WTT')\n",
    "plt.plot(thresholds, nnzs_rpca, label='WTT-RPCA')\n",
    "plt.title(\"Number of elements whose absolute value is smaller than x, for x in [1e-8, 1e-2]\")\n",
    "plt.xscale('log')\n",
    "plt.legend()\n",
    "plt.show()"
   ]
  },
  {
   "cell_type": "code",
   "execution_count": 32,
   "id": "ac605404",
   "metadata": {},
   "outputs": [
    {
     "data": {
      "image/png": "[encoded data removed]",
      "text/plain": [
       "<Figure size 432x288 with 1 Axes>"
      ]
     },
     "metadata": {
      "needs_background": "light"
     },
     "output_type": "display_data"
    }
   ],
   "source": [
    "plt.plot(np.arange(wtt_res.size), np.flip(np.sort(np.abs(wtt_res))), label='WTT')\n",
    "plt.plot(np.arange(wtt_res_rpca.size), np.flip(np.sort(np.abs(wtt_res_rpca))), label='WTT-RPCA')\n",
    "plt.yscale('log')\n",
    "plt.title(\"Decay of wavelet coefficients\")\n",
    "plt.legend()\n",
    "plt.show()"
   ]
  },
  {
   "cell_type": "code",
   "execution_count": 33,
   "id": "5c1b57a5",
   "metadata": {},
   "outputs": [
    {
     "name": "stdout",
     "output_type": "stream",
     "text": [
      "2.2250564945860346e-14\n",
      "9.971287181300717e-15\n"
     ]
    }
   ],
   "source": [
    "iwtt_result = iwtt_apply(\n",
    "    wtt_res,\n",
    "    d,\n",
    "    filters,\n",
    "    modes,\n",
    "    ranks,\n",
    "    True\n",
    ")\n",
    "iwtt_result_rpca = iwtt_apply(\n",
    "    wtt_res_rpca,\n",
    "    d,\n",
    "    filters_rpca,\n",
    "    modes,\n",
    "    ranks_rpca,\n",
    "    True\n",
    ")\n",
    "\n",
    "print(np.linalg.norm(sqrt_x_values - iwtt_result))\n",
    "print(np.linalg.norm(sqrt_x_values - iwtt_result_rpca))"
   ]
  },
  {
   "cell_type": "markdown",
   "id": "793638fc",
   "metadata": {},
   "source": [
    "Больше рангов:"
   ]
  },
  {
   "cell_type": "code",
   "execution_count": 34,
   "id": "a5999e12",
   "metadata": {},
   "outputs": [
    {
     "name": "stdout",
     "output_type": "stream",
     "text": [
      "[2, 4, 8, 10, 10, 10, 8, 4, 2]\n"
     ]
    }
   ],
   "source": [
    "ranks_est = [30] * (d - 1)\n",
    "\n",
    "filters, ranks = wtt_filter(\n",
    "    sqrt_x_values,\n",
    "    d,\n",
    "    modes,\n",
    "    ranks=ranks_est,\n",
    "    eps=1e-16,\n",
    "    check_correctness=True\n",
    ")\n",
    "wtt_res = wtt_apply(\n",
    "    sqrt_x_values,\n",
    "    d,\n",
    "    filters,\n",
    "    modes,\n",
    "    ranks,\n",
    "    True\n",
    ")\n",
    "print(ranks)"
   ]
  },
  {
   "cell_type": "code",
   "execution_count": 35,
   "id": "4bdabba7",
   "metadata": {},
   "outputs": [
    {
     "name": "stdout",
     "output_type": "stream",
     "text": [
      "iteration: 1, error: 0.008316051948933754\n",
      "iteration: 206, error: 2.2573375633197257e-06\n",
      "1024 513 1020 1020\n",
      "iteration: 1, error: 0.012508857643218393\n",
      "iteration: 138, error: 2.1215588619174903e-06\n",
      "1024 367 1020 1020\n",
      "iteration: 1, error: 0.03498355976041227\n",
      "iteration: 3410, error: 2.2578754712789695e-06\n",
      "512 206 508 508\n",
      "iteration: 1, error: 0.0676998544010583\n",
      "384 136 378 378\n",
      "iteration: 1, error: 0.19224835097532453\n",
      "192 84 192 192\n",
      "iteration: 1, error: 0.4184453744373847\n",
      "128 46 128 128\n",
      "iteration: 1, error: 1.5142783306861582\n",
      "48 21 48 48\n",
      "iteration: 1, error: 3.6942168222482614\n",
      "24 13 24 24\n",
      "iteration: 1, error: 12.246362534316125\n",
      "iteration: 38, error: 2.030524765902695e-15\n",
      "8 8 8 8\n",
      "iteration: 1, error: 19.03578475573535\n",
      "iteration: 198, error: 2.0787054681284703e-15\n",
      "4 4 4 4\n",
      "[2, 2, 3, 3, 4, 3, 3, 2, 2]\n"
     ]
    }
   ],
   "source": [
    "filters_rpca, ranks_rpca = wtt_rpca(\n",
    "    sqrt_x_values,\n",
    "    d,\n",
    "    modes,\n",
    "    ranks=ranks_est,\n",
    "    eps=1e-16,\n",
    "    check_correctness=True\n",
    ")\n",
    "wtt_res_rpca = wtt_apply(\n",
    "    sqrt_x_values,\n",
    "    d,\n",
    "    filters_rpca,\n",
    "    modes,\n",
    "    ranks_rpca,\n",
    "    True\n",
    ")\n",
    "print(ranks_rpca)"
   ]
  },
  {
   "cell_type": "markdown",
   "id": "0a746145",
   "metadata": {},
   "source": [
    "Теперь хорошо просматривается разница в рангах..."
   ]
  },
  {
   "cell_type": "code",
   "execution_count": 36,
   "id": "c603ef4c",
   "metadata": {},
   "outputs": [
    {
     "data": {
      "image/png": "[encoded data removed]",
      "text/plain": [
       "<Figure size 432x288 with 1 Axes>"
      ]
     },
     "metadata": {
      "needs_background": "light"
     },
     "output_type": "display_data"
    }
   ],
   "source": [
    "nnzs = [(np.abs(wtt_res) < t).sum() for t in thresholds]\n",
    "nnzs_rpca = [(np.abs(wtt_res_rpca) < t).sum() for t in thresholds]\n",
    "\n",
    "plt.plot(thresholds, nnzs, label='WTT')\n",
    "plt.plot(thresholds, nnzs_rpca, label='WTT-RPCA')\n",
    "plt.title(\"Number of elements whose absolute value is smaller than x, for x in [1e-8, 1e-2]\")\n",
    "plt.xscale('log')\n",
    "plt.legend()\n",
    "plt.show()"
   ]
  },
  {
   "cell_type": "code",
   "execution_count": 37,
   "id": "fff14d9c",
   "metadata": {},
   "outputs": [
    {
     "data": {
      "image/png": "[encoded data removed]",
      "text/plain": [
       "<Figure size 432x288 with 1 Axes>"
      ]
     },
     "metadata": {
      "needs_background": "light"
     },
     "output_type": "display_data"
    }
   ],
   "source": [
    "plt.plot(np.arange(wtt_res.size), np.flip(np.sort(np.abs(wtt_res))), label='WTT')\n",
    "plt.plot(np.arange(wtt_res_rpca.size), np.flip(np.sort(np.abs(wtt_res_rpca))), label='WTT-RPCA')\n",
    "plt.yscale('log')\n",
    "plt.title(\"Decay of wavelet coefficients\")\n",
    "plt.legend()\n",
    "plt.show()"
   ]
  },
  {
   "cell_type": "markdown",
   "id": "b4dd2c5b",
   "metadata": {},
   "source": [
    "Попробуем испортить сигнал в одной точке."
   ]
  },
  {
   "cell_type": "code",
   "execution_count": 39,
   "id": "b0a65763",
   "metadata": {},
   "outputs": [],
   "source": [
    "noisy_signal = sqrt_x_values.copy()\n",
    "noisy_signal[600] = 2625"
   ]
  },
  {
   "cell_type": "code",
   "execution_count": 40,
   "id": "bbe60c8b",
   "metadata": {},
   "outputs": [],
   "source": [
    "wtt_res = wtt_apply(\n",
    "    sqrt_x_values,\n",
    "    d,\n",
    "    filters,\n",
    "    modes,\n",
    "    ranks,\n",
    "    True\n",
    ")\n",
    "wtt_res_rpca = wtt_apply(\n",
    "    sqrt_x_values,\n",
    "    d,\n",
    "    filters_rpca,\n",
    "    modes,\n",
    "    ranks_rpca,\n",
    "    True\n",
    ")"
   ]
  },
  {
   "cell_type": "code",
   "execution_count": 42,
   "id": "f6142d25",
   "metadata": {},
   "outputs": [
    {
     "data": {
      "image/png": "[encoded data removed]",
      "text/plain": [
       "<Figure size 432x288 with 1 Axes>"
      ]
     },
     "metadata": {
      "needs_background": "light"
     },
     "output_type": "display_data"
    }
   ],
   "source": [
    "nnzs = [(np.abs(wtt_res) < t).sum() for t in thresholds]\n",
    "nnzs_rpca = [(np.abs(wtt_res_rpca) < t).sum() for t in thresholds]\n",
    "\n",
    "plt.plot(thresholds, nnzs, label='WTT')\n",
    "plt.plot(thresholds, nnzs_rpca, label='WTT-RPCA')\n",
    "plt.title(\"Number of elements whose absolute value is smaller than x, for x in [1e-8, 1e-2]\")\n",
    "plt.xscale('log')\n",
    "plt.legend()\n",
    "plt.show()"
   ]
  },
  {
   "cell_type": "code",
   "execution_count": 43,
   "id": "8ae9d94c",
   "metadata": {},
   "outputs": [
    {
     "data": {
      "image/png": "[encoded data removed]",
      "text/plain": [
       "<Figure size 432x288 with 1 Axes>"
      ]
     },
     "metadata": {
      "needs_background": "light"
     },
     "output_type": "display_data"
    }
   ],
   "source": [
    "plt.plot(np.arange(wtt_res.size), np.flip(np.sort(np.abs(wtt_res))), label='WTT')\n",
    "plt.plot(np.arange(wtt_res_rpca.size), np.flip(np.sort(np.abs(wtt_res_rpca))), label='WTT-RPCA')\n",
    "plt.yscale('log')\n",
    "plt.title(\"Decay of wavelet coefficients\")\n",
    "plt.legend()\n",
    "plt.show()"
   ]
  },
  {
   "cell_type": "markdown",
   "id": "4e57ffd8",
   "metadata": {},
   "source": [
    "Глобально ситуация не изменилась...\n",
    "\n",
    "А что, если на испорченном сигнале обучить фильтры?"
   ]
  },
  {
   "cell_type": "code",
   "execution_count": 46,
   "id": "8a3ef189",
   "metadata": {},
   "outputs": [
    {
     "data": {
      "text/plain": [
       "[2, 4, 8, 9, 9, 9, 8, 4, 2]"
      ]
     },
     "execution_count": 46,
     "metadata": {},
     "output_type": "execute_result"
    }
   ],
   "source": [
    "ranks_est = [20] * (d - 1)\n",
    "\n",
    "filters, ranks = wtt_filter(\n",
    "    noisy_signal,\n",
    "    d,\n",
    "    modes,\n",
    "    ranks=ranks_est,\n",
    "    eps=1e-15,\n",
    "    check_correctness=True\n",
    ")\n",
    "ranks"
   ]
  },
  {
   "cell_type": "code",
   "execution_count": 47,
   "id": "ac8a41de",
   "metadata": {},
   "outputs": [
    {
     "name": "stdout",
     "output_type": "stream",
     "text": [
      "iteration: 1, error: 8.886478271268112\n",
      "iteration: 3490, error: 0.0002583153478379947\n",
      "1024 468 934 934\n",
      "iteration: 1, error: 12.573893796359561\n",
      "512 242 484 484\n",
      "iteration: 1, error: 15.785867501806997\n",
      "256 123 246 246\n",
      "iteration: 1, error: 16.169184305904324\n",
      "128 62 124 124\n",
      "iteration: 1, error: 17.173293085021346\n",
      "iteration: 1974, error: 6.528552604172405e-05\n",
      "64 31 62 62\n",
      "iteration: 1, error: 21.595905852539616\n",
      "iteration: 842, error: 4.693138269013949e-05\n",
      "32 15 30 30\n",
      "iteration: 1, error: 33.209190403312704\n",
      "iteration: 600, error: 3.2672192266968265e-05\n",
      "16 7 14 14\n",
      "iteration: 1, error: 66.69546170056145\n",
      "iteration: 263, error: 2.481358039769633e-05\n",
      "8 3 6 6\n",
      "iteration: 1, error: 130.97207218367066\n",
      "iteration: 286, error: 1.6889977805367295e-05\n",
      "4 2 4 4\n",
      "iteration: 1, error: 100.61554086737692\n",
      "iteration: 16, error: 3.499017183300205e-14\n",
      "2 2 2 2\n"
     ]
    },
    {
     "data": {
      "text/plain": [
       "[1, 1, 1, 1, 1, 1, 1, 1, 1]"
      ]
     },
     "execution_count": 47,
     "metadata": {},
     "output_type": "execute_result"
    }
   ],
   "source": [
    "filters_rpca, ranks_rpca = wtt_rpca(\n",
    "    noisy_signal,\n",
    "    d,\n",
    "    modes,\n",
    "    ranks=ranks_est,\n",
    "    eps=1e-15,\n",
    "    check_correctness=True\n",
    ")\n",
    "ranks_rpca"
   ]
  },
  {
   "cell_type": "markdown",
   "id": "edf43f0a",
   "metadata": {},
   "source": [
    "Применяем к исходному графику:"
   ]
  },
  {
   "cell_type": "code",
   "execution_count": 48,
   "id": "20fc8d81",
   "metadata": {},
   "outputs": [],
   "source": [
    "wtt_res = wtt_apply(\n",
    "    sqrt_x_values,\n",
    "    d,\n",
    "    filters,\n",
    "    modes,\n",
    "    ranks,\n",
    "    True\n",
    ")\n",
    "wtt_res_rpca = wtt_apply(\n",
    "    sqrt_x_values,\n",
    "    d,\n",
    "    filters_rpca,\n",
    "    modes,\n",
    "    ranks_rpca,\n",
    "    True\n",
    ")"
   ]
  },
  {
   "cell_type": "code",
   "execution_count": 49,
   "id": "e8366d34",
   "metadata": {},
   "outputs": [
    {
     "data": {
      "image/png": "[encoded data removed]",
      "text/plain": [
       "<Figure size 432x288 with 1 Axes>"
      ]
     },
     "metadata": {
      "needs_background": "light"
     },
     "output_type": "display_data"
    }
   ],
   "source": [
    "nnzs = [(np.abs(wtt_res) < t).sum() for t in thresholds]\n",
    "nnzs_rpca = [(np.abs(wtt_res_rpca) < t).sum() for t in thresholds]\n",
    "\n",
    "plt.plot(thresholds, nnzs, label='WTT')\n",
    "plt.plot(thresholds, nnzs_rpca, label='WTT-RPCA')\n",
    "plt.title(\"Number of elements whose absolute value is smaller than x, for x in [1e-8, 1e-2]\")\n",
    "plt.xscale('log')\n",
    "plt.legend()\n",
    "plt.show()"
   ]
  },
  {
   "cell_type": "code",
   "execution_count": 50,
   "id": "bd145d25",
   "metadata": {},
   "outputs": [
    {
     "data": {
      "image/png": "[encoded data removed]",
      "text/plain": [
       "<Figure size 432x288 with 1 Axes>"
      ]
     },
     "metadata": {
      "needs_background": "light"
     },
     "output_type": "display_data"
    }
   ],
   "source": [
    "plt.plot(np.arange(wtt_res.size), np.flip(np.sort(np.abs(wtt_res))), label='WTT')\n",
    "plt.plot(np.arange(wtt_res_rpca.size), np.flip(np.sort(np.abs(wtt_res_rpca))), label='WTT-RPCA')\n",
    "plt.yscale('log')\n",
    "plt.title(\"Decay of wavelet coefficients\")\n",
    "plt.legend()\n",
    "plt.show()"
   ]
  },
  {
   "cell_type": "code",
   "execution_count": 51,
   "id": "10f58e1a",
   "metadata": {},
   "outputs": [
    {
     "name": "stdout",
     "output_type": "stream",
     "text": [
      "4.410655975816674e-14\n",
      "4.7295385769813356e-14\n"
     ]
    }
   ],
   "source": [
    "iwtt_result = iwtt_apply(\n",
    "    wtt_res,\n",
    "    d,\n",
    "    filters,\n",
    "    modes,\n",
    "    ranks,\n",
    "    True\n",
    ")\n",
    "iwtt_result_rpca = iwtt_apply(\n",
    "    wtt_res_rpca,\n",
    "    d,\n",
    "    filters_rpca,\n",
    "    modes,\n",
    "    ranks_rpca,\n",
    "    True\n",
    ")\n",
    "\n",
    "print(np.linalg.norm(sqrt_x_values - iwtt_result))\n",
    "print(np.linalg.norm(sqrt_x_values - iwtt_result_rpca))"
   ]
  },
  {
   "cell_type": "markdown",
   "id": "9a94d217",
   "metadata": {},
   "source": [
    "Вновь глобальных изменений нет...\n",
    "\n",
    "Вообще, можно попробовать нашу задачу $\\|L\\|_{*} + \\lambda \\|S\\|_1 \\to \\min$ подкрутить за счёт увеличения $\\lambda$ (чтобы было более важно сделать разреженную компоненту)."
   ]
  },
  {
   "cell_type": "code",
   "execution_count": null,
   "id": "7defdb99",
   "metadata": {},
   "outputs": [],
   "source": []
  }
 ],
 "metadata": {
  "kernelspec": {
   "display_name": "Python 3 (ipykernel)",
   "language": "python",
   "name": "python3"
  },
  "language_info": {
   "codemirror_mode": {
    "name": "ipython",
    "version": 3
   },
   "file_extension": ".py",
   "mimetype": "text/x-python",
   "name": "python",
   "nbconvert_exporter": "python",
   "pygments_lexer": "ipython3",
   "version": "3.9.7"
  }
 },
 "nbformat": 4,
 "nbformat_minor": 5
}
