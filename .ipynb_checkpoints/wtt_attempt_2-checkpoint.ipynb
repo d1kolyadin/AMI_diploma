{
 "cells": [
  {
   "cell_type": "code",
   "execution_count": 1,
   "id": "15c72d41",
   "metadata": {},
   "outputs": [],
   "source": [
    "import numpy as np"
   ]
  },
  {
   "cell_type": "markdown",
   "id": "468caae6",
   "metadata": {},
   "source": [
    "Функция для TT-SVD (копирую из домашки):"
   ]
  },
  {
   "cell_type": "code",
   "execution_count": 2,
   "id": "c0c5e27e",
   "metadata": {},
   "outputs": [],
   "source": [
    "def tt_svd(tensor, eps, max_rank):\n",
    "    \"\"\"\n",
    "    Input\n",
    "        tensor: np array\n",
    "        eps: desired difference in frobenius norm between tensor and TT approximation\n",
    "        max_rank: upper hard limit on each TT rank (it has priority over eps)\n",
    "\n",
    "    Output\n",
    "        carriages: list of cores that give TT decomposition of tensor\n",
    "    \"\"\"\n",
    "\n",
    "    remaining = tensor\n",
    "    d = len(tensor.shape)\n",
    "    N = tensor.size\n",
    "    r = 1\n",
    "\n",
    "    eps = eps / np.sqrt(d - 1) #потому что ошибка в tt_svd составляет\n",
    "    #sqrt(sum_{k <= d - 1} квадрат ошибки в svd для A_k) = sqrt(d - 1) * ошибка в каждом svd\n",
    "\n",
    "    carriages = []\n",
    "\n",
    "    for k in range(d - 1):\n",
    "        matrix_to_svd = remaining.reshape((r * tensor.shape[k], N // tensor.shape[k]), order='F')\n",
    "        u, sigmas, vt = np.linalg.svd(matrix_to_svd, full_matrices=False)\n",
    "\n",
    "        curr_r = min(sigmas.size, max_rank)\n",
    "        error_squared = np.sum(np.square(sigmas[curr_r:]))\n",
    "        while curr_r >= 1 and error_squared + np.square(sigmas[curr_r - 1]) < np.square(eps):\n",
    "            error_squared = error_squared + np.square(sigmas[curr_r - 1])\n",
    "            curr_r -= 1\n",
    "\n",
    "        carriages.append(u[:,:curr_r].reshape((r, tensor.shape[k], curr_r), order='F'))\n",
    "        remaining = np.diag(sigmas[:curr_r]) @ vt[:curr_r,:]\n",
    "        N = N // tensor.shape[k]\n",
    "        r = curr_r\n",
    "\n",
    "    carriages.append(remaining.reshape((r, tensor.shape[-1], 1), order='F'))\n",
    "\n",
    "    return carriages"
   ]
  },
  {
   "cell_type": "code",
   "execution_count": 13,
   "id": "91fd87c4",
   "metadata": {},
   "outputs": [],
   "source": [
    "def wtt_filter(input_vector, d, modes, ranks, check_correctness=False):\n",
    "    \n",
    "    filters = []\n",
    "    prod_modes = input_vector.size\n",
    "    \n",
    "    if check_correctness:\n",
    "        assert len(modes) == d\n",
    "        assert len(ranks) == d - 1\n",
    "        prod_modes_manual = 1\n",
    "        for mode in modes:\n",
    "            prod_modes_manual *= mode\n",
    "        assert prod_modes == prod_modes_manual\n",
    "    \n",
    "    r_prev = 1\n",
    "    A = input_vector\n",
    "    for k in range(d - 1):\n",
    "        A = A.reshape((r_prev * modes[k], prod_modes // modes[k]), order='F')\n",
    "        u, sigmas, vt = np.linalg.svd(A, full_matrices=False)\n",
    "        if check_correctness:\n",
    "            assert u.shape[0] == u.shape[1] == r_prev * modes[k]\n",
    "            assert ranks[k] <= r_prev * modes[k]\n",
    "        filters.append(u)\n",
    "        \n",
    "        A = (u.T @ A)[:ranks[k],:]\n",
    "        prod_modes //= modes[k]\n",
    "        r_prev = ranks[k]\n",
    "    \n",
    "    return filters"
   ]
  },
  {
   "cell_type": "markdown",
   "id": "b090a099",
   "metadata": {},
   "source": [
    "Вектор из всех единиц:"
   ]
  },
  {
   "cell_type": "code",
   "execution_count": 14,
   "id": "7a4f2aba",
   "metadata": {},
   "outputs": [],
   "source": [
    "d = 8\n",
    "ones_vector = np.ones(2 ** d)\n",
    "modes = [2] * d\n",
    "ranks = [1] * (d - 1)\n",
    "filters = wtt_filter(ones_vector, d, modes, ranks, True)"
   ]
  },
  {
   "cell_type": "code",
   "execution_count": 15,
   "id": "2e97ae37",
   "metadata": {},
   "outputs": [
    {
     "data": {
      "text/plain": [
       "[array([[-0.70710678, -0.70710678],\n",
       "        [-0.70710678,  0.70710678]]),\n",
       " array([[-0.70710678, -0.70710678],\n",
       "        [-0.70710678,  0.70710678]]),\n",
       " array([[-0.70710678,  0.70710678],\n",
       "        [-0.70710678, -0.70710678]]),\n",
       " array([[ 0.70710678, -0.70710678],\n",
       "        [ 0.70710678,  0.70710678]]),\n",
       " array([[ 0.70710678, -0.70710678],\n",
       "        [ 0.70710678,  0.70710678]]),\n",
       " array([[ 0.70710678, -0.70710678],\n",
       "        [ 0.70710678,  0.70710678]]),\n",
       " array([[-0.70710678, -0.70710678],\n",
       "        [-0.70710678,  0.70710678]])]"
      ]
     },
     "execution_count": 15,
     "metadata": {},
     "output_type": "execute_result"
    }
   ],
   "source": [
    "filters"
   ]
  },
  {
   "cell_type": "code",
   "execution_count": 16,
   "id": "3aa850df",
   "metadata": {},
   "outputs": [
    {
     "data": {
      "text/plain": [
       "[array([[-1., -1.],\n",
       "        [-1.,  1.]]),\n",
       " array([[-1., -1.],\n",
       "        [-1.,  1.]]),\n",
       " array([[-1.,  1.],\n",
       "        [-1., -1.]]),\n",
       " array([[ 1., -1.],\n",
       "        [ 1.,  1.]]),\n",
       " array([[ 1., -1.],\n",
       "        [ 1.,  1.]]),\n",
       " array([[ 1., -1.],\n",
       "        [ 1.,  1.]]),\n",
       " array([[-1., -1.],\n",
       "        [-1.,  1.]])]"
      ]
     },
     "execution_count": 16,
     "metadata": {},
     "output_type": "execute_result"
    }
   ],
   "source": [
    "[np.sqrt(2) * f for f in filters]"
   ]
  },
  {
   "cell_type": "markdown",
   "id": "e89b5b05",
   "metadata": {},
   "source": [
    "Почему-то не все матрицы равны\n",
    "$$\n",
    "\\frac{1}{\\sqrt{2}}\n",
    "\\begin{pmatrix}\n",
    "1 & 1 \\\\ 1 & -1\n",
    "\\end{pmatrix}\n",
    "$$\n",
    "как сказано в статье."
   ]
  },
  {
   "cell_type": "code",
   "execution_count": 17,
   "id": "76437440",
   "metadata": {},
   "outputs": [],
   "source": [
    "ones_2x8 = np.ones((2,8))\n",
    "u, s, vt = np.linalg.svd(ones_2x8, full_matrices=False)"
   ]
  },
  {
   "cell_type": "code",
   "execution_count": 18,
   "id": "eb4dd546",
   "metadata": {},
   "outputs": [
    {
     "data": {
      "text/plain": [
       "array([[-0.70710678,  0.70710678],\n",
       "       [-0.70710678, -0.70710678]])"
      ]
     },
     "execution_count": 18,
     "metadata": {},
     "output_type": "execute_result"
    }
   ],
   "source": [
    "u"
   ]
  },
  {
   "cell_type": "code",
   "execution_count": 19,
   "id": "9565f55b",
   "metadata": {},
   "outputs": [
    {
     "data": {
      "text/plain": [
       "array([4.0000000e+00, 2.5577254e-16])"
      ]
     },
     "execution_count": 19,
     "metadata": {},
     "output_type": "execute_result"
    }
   ],
   "source": [
    "s"
   ]
  },
  {
   "cell_type": "code",
   "execution_count": 20,
   "id": "b302686d",
   "metadata": {},
   "outputs": [
    {
     "data": {
      "text/plain": [
       "array([[-0.35355339, -0.35355339, -0.35355339, -0.35355339, -0.35355339,\n",
       "        -0.35355339, -0.35355339, -0.35355339],\n",
       "       [-0.93541435,  0.13363062,  0.13363062,  0.13363062,  0.13363062,\n",
       "         0.13363062,  0.13363062,  0.13363062]])"
      ]
     },
     "execution_count": 20,
     "metadata": {},
     "output_type": "execute_result"
    }
   ],
   "source": [
    "vt"
   ]
  },
  {
   "cell_type": "markdown",
   "id": "aeb7277c",
   "metadata": {},
   "source": [
    "Видимо, дело в относительной свободе выбора собственных векторов и значений (с точностью до знака можно векторы выбирать, например).\n",
    "\n",
    "А ещё фильтров должно быть $d - 1$, а не $d$ (кажется)."
   ]
  },
  {
   "cell_type": "code",
   "execution_count": 21,
   "id": "88b0838b",
   "metadata": {},
   "outputs": [
    {
     "data": {
      "text/plain": [
       "array([[ 1,  2,  3],\n",
       "       [ 4,  5,  6],\n",
       "       [ 7,  8,  9],\n",
       "       [10, 11, 12]])"
      ]
     },
     "execution_count": 21,
     "metadata": {},
     "output_type": "execute_result"
    }
   ],
   "source": [
    "test_1 = np.array([\n",
    "    [1,2,3],\n",
    "    [4,5,6]\n",
    "])\n",
    "test_2 = np.array([\n",
    "    [7,8,9],\n",
    "    [10,11,12]\n",
    "])\n",
    "np.vstack([test_1, test_2])"
   ]
  },
  {
   "cell_type": "code",
   "execution_count": 23,
   "id": "e8382102",
   "metadata": {},
   "outputs": [],
   "source": [
    "def wtt_apply(input_vector, d, filters, modes, ranks, check_correctness=False):\n",
    "    prod_modes = input_vector.size\n",
    "    \n",
    "    if check_correctness:\n",
    "        assert len(filters) == d - 1\n",
    "        assert len(modes) == d\n",
    "        assert len(ranks) == d - 1\n",
    "        prod_modes_manual = 1\n",
    "        for mode in modes:\n",
    "            prod_modes_manual *= mode\n",
    "        assert prod_modes == prod_modes_manual\n",
    "        \n",
    "    tails = []\n",
    "    A = input_vector\n",
    "    r_prev = 1\n",
    "    for k in range(d - 1):\n",
    "        A = A.reshape((r_prev * modes[k], prod_modes // modes[k]), order='F')\n",
    "        A = filters[k].T @ A\n",
    "        if check_correctness:\n",
    "            assert A.shape[0] == r_prev * modes[k]\n",
    "            assert ranks[k] <= r_prev * modes[k]\n",
    "        tails.append(A[ranks[k]:,:])\n",
    "        A = A[:ranks[k],:]\n",
    "        prod_modes //= modes[k]\n",
    "        r_prev = ranks[k]\n",
    "        \n",
    "    result = A\n",
    "    for k in range(d - 2, -1, -1):\n",
    "        result = np.vstack([result, tails[k]])\n",
    "        prod_modes *= modes[k]\n",
    "        r = 1 if k == 0 else ranks[k - 1]\n",
    "        result = result.reshape((r, prod_modes), order='F')\n",
    "    \n",
    "    return result.flatten(order='F')"
   ]
  },
  {
   "cell_type": "code",
   "execution_count": 24,
   "id": "1555969a",
   "metadata": {},
   "outputs": [
    {
     "data": {
      "text/plain": [
       "array([ 1.13137085e+01,  1.11022302e-16, -1.44328993e-15,  1.11022302e-16,\n",
       "        1.11022302e-15,  1.11022302e-16, -1.44328993e-15,  1.11022302e-16,\n",
       "        8.88178420e-16,  1.11022302e-16, -1.44328993e-15,  1.11022302e-16,\n",
       "        1.11022302e-15,  1.11022302e-16, -1.44328993e-15,  1.11022302e-16,\n",
       "        4.44089210e-16,  1.11022302e-16, -1.44328993e-15,  1.11022302e-16,\n",
       "        1.11022302e-15,  1.11022302e-16, -1.44328993e-15,  1.11022302e-16,\n",
       "        8.88178420e-16,  1.11022302e-16, -1.44328993e-15,  1.11022302e-16,\n",
       "        1.11022302e-15,  1.11022302e-16, -1.44328993e-15,  1.11022302e-16,\n",
       "        0.00000000e+00,  1.11022302e-16, -1.44328993e-15,  1.11022302e-16,\n",
       "        1.11022302e-15,  1.11022302e-16, -1.44328993e-15,  1.11022302e-16,\n",
       "        8.88178420e-16,  1.11022302e-16, -1.44328993e-15,  1.11022302e-16,\n",
       "        1.11022302e-15,  1.11022302e-16, -1.44328993e-15,  1.11022302e-16,\n",
       "        4.44089210e-16,  1.11022302e-16, -1.44328993e-15,  1.11022302e-16,\n",
       "        1.11022302e-15,  1.11022302e-16, -1.44328993e-15,  1.11022302e-16,\n",
       "        8.88178420e-16,  1.11022302e-16, -1.44328993e-15,  1.11022302e-16,\n",
       "        1.11022302e-15,  1.11022302e-16, -1.44328993e-15,  1.11022302e-16,\n",
       "       -8.88178420e-16,  1.11022302e-16, -1.44328993e-15,  1.11022302e-16,\n",
       "        1.11022302e-15,  1.11022302e-16, -1.44328993e-15,  1.11022302e-16,\n",
       "        8.88178420e-16,  1.11022302e-16, -1.44328993e-15,  1.11022302e-16,\n",
       "        1.11022302e-15,  1.11022302e-16, -1.44328993e-15,  1.11022302e-16,\n",
       "        4.44089210e-16,  1.11022302e-16, -1.44328993e-15,  1.11022302e-16,\n",
       "        1.11022302e-15,  1.11022302e-16, -1.44328993e-15,  1.11022302e-16,\n",
       "        8.88178420e-16,  1.11022302e-16, -1.44328993e-15,  1.11022302e-16,\n",
       "        1.11022302e-15,  1.11022302e-16, -1.44328993e-15,  1.11022302e-16,\n",
       "        0.00000000e+00,  1.11022302e-16, -1.44328993e-15,  1.11022302e-16,\n",
       "        1.11022302e-15,  1.11022302e-16, -1.44328993e-15,  1.11022302e-16,\n",
       "        8.88178420e-16,  1.11022302e-16, -1.44328993e-15,  1.11022302e-16,\n",
       "        1.11022302e-15,  1.11022302e-16, -1.44328993e-15,  1.11022302e-16,\n",
       "        4.44089210e-16,  1.11022302e-16, -1.44328993e-15,  1.11022302e-16,\n",
       "        1.11022302e-15,  1.11022302e-16, -1.44328993e-15,  1.11022302e-16,\n",
       "        8.88178420e-16,  1.11022302e-16, -1.44328993e-15,  1.11022302e-16,\n",
       "        1.11022302e-15,  1.11022302e-16, -1.44328993e-15,  1.11022302e-16,\n",
       "        1.13137085e+01,  1.11022302e-16, -1.44328993e-15,  1.11022302e-16,\n",
       "        1.11022302e-15,  1.11022302e-16, -1.44328993e-15,  1.11022302e-16,\n",
       "        8.88178420e-16,  1.11022302e-16, -1.44328993e-15,  1.11022302e-16,\n",
       "        1.11022302e-15,  1.11022302e-16, -1.44328993e-15,  1.11022302e-16,\n",
       "        4.44089210e-16,  1.11022302e-16, -1.44328993e-15,  1.11022302e-16,\n",
       "        1.11022302e-15,  1.11022302e-16, -1.44328993e-15,  1.11022302e-16,\n",
       "        8.88178420e-16,  1.11022302e-16, -1.44328993e-15,  1.11022302e-16,\n",
       "        1.11022302e-15,  1.11022302e-16, -1.44328993e-15,  1.11022302e-16,\n",
       "        0.00000000e+00,  1.11022302e-16, -1.44328993e-15,  1.11022302e-16,\n",
       "        1.11022302e-15,  1.11022302e-16, -1.44328993e-15,  1.11022302e-16,\n",
       "        8.88178420e-16,  1.11022302e-16, -1.44328993e-15,  1.11022302e-16,\n",
       "        1.11022302e-15,  1.11022302e-16, -1.44328993e-15,  1.11022302e-16,\n",
       "        4.44089210e-16,  1.11022302e-16, -1.44328993e-15,  1.11022302e-16,\n",
       "        1.11022302e-15,  1.11022302e-16, -1.44328993e-15,  1.11022302e-16,\n",
       "        8.88178420e-16,  1.11022302e-16, -1.44328993e-15,  1.11022302e-16,\n",
       "        1.11022302e-15,  1.11022302e-16, -1.44328993e-15,  1.11022302e-16,\n",
       "       -8.88178420e-16,  1.11022302e-16, -1.44328993e-15,  1.11022302e-16,\n",
       "        1.11022302e-15,  1.11022302e-16, -1.44328993e-15,  1.11022302e-16,\n",
       "        8.88178420e-16,  1.11022302e-16, -1.44328993e-15,  1.11022302e-16,\n",
       "        1.11022302e-15,  1.11022302e-16, -1.44328993e-15,  1.11022302e-16,\n",
       "        4.44089210e-16,  1.11022302e-16, -1.44328993e-15,  1.11022302e-16,\n",
       "        1.11022302e-15,  1.11022302e-16, -1.44328993e-15,  1.11022302e-16,\n",
       "        8.88178420e-16,  1.11022302e-16, -1.44328993e-15,  1.11022302e-16,\n",
       "        1.11022302e-15,  1.11022302e-16, -1.44328993e-15,  1.11022302e-16,\n",
       "        0.00000000e+00,  1.11022302e-16, -1.44328993e-15,  1.11022302e-16,\n",
       "        1.11022302e-15,  1.11022302e-16, -1.44328993e-15,  1.11022302e-16,\n",
       "        8.88178420e-16,  1.11022302e-16, -1.44328993e-15,  1.11022302e-16,\n",
       "        1.11022302e-15,  1.11022302e-16, -1.44328993e-15,  1.11022302e-16,\n",
       "        4.44089210e-16,  1.11022302e-16, -1.44328993e-15,  1.11022302e-16,\n",
       "        1.11022302e-15,  1.11022302e-16, -1.44328993e-15,  1.11022302e-16,\n",
       "        8.88178420e-16,  1.11022302e-16, -1.44328993e-15,  1.11022302e-16,\n",
       "        1.11022302e-15,  1.11022302e-16, -1.44328993e-15,  1.11022302e-16])"
      ]
     },
     "execution_count": 24,
     "metadata": {},
     "output_type": "execute_result"
    }
   ],
   "source": [
    "wtt_apply(ones_vector, d, filters, modes, ranks, True)"
   ]
  },
  {
   "cell_type": "markdown",
   "id": "96f08d9c",
   "metadata": {},
   "source": [
    "Один ненулевой элемент, всё остальное --- нули."
   ]
  },
  {
   "cell_type": "code",
   "execution_count": null,
   "id": "bbbe6506",
   "metadata": {},
   "outputs": [],
   "source": [
    "def values(func, left, right, n):\n",
    "    return func(np.linspace(left, right, n))"
   ]
  }
 ],
 "metadata": {
  "kernelspec": {
   "display_name": "Python 3 (ipykernel)",
   "language": "python",
   "name": "python3"
  },
  "language_info": {
   "codemirror_mode": {
    "name": "ipython",
    "version": 3
   },
   "file_extension": ".py",
   "mimetype": "text/x-python",
   "name": "python",
   "nbconvert_exporter": "python",
   "pygments_lexer": "ipython3",
   "version": "3.9.7"
  }
 },
 "nbformat": 4,
 "nbformat_minor": 5
}
